{
 "cells": [
  {
   "cell_type": "code",
   "execution_count": 2,
   "metadata": {},
   "outputs": [
    {
     "name": "stdout",
     "output_type": "stream",
     "text": [
      "'Associated words.xlsx'     'Text mining word list test 200823.xlsx'\r\n",
      " cordis-h2020projects.xlsx   topics_300_SYinput_LW.csv\r\n"
     ]
    }
   ],
   "source": [
    "!ls ../data"
   ]
  },
  {
   "cell_type": "code",
   "execution_count": 3,
   "metadata": {},
   "outputs": [],
   "source": [
    "import sys\n",
    "sys.path.append(\"../\")\n",
    "\n",
    "%load_ext autoreload\n",
    "%autoreload 2"
   ]
  },
  {
   "cell_type": "markdown",
   "metadata": {},
   "source": [
    "## Imports"
   ]
  },
  {
   "cell_type": "code",
   "execution_count": 4,
   "metadata": {},
   "outputs": [],
   "source": [
    "import pandas as pd\n",
    "from random import sample, shuffle\n",
    "import pickle\n",
    "\n",
    "from gensim.models.wrappers import ldamallet\n",
    "\n",
    "import matplotlib.pyplot as plt\n",
    "%matplotlib inline"
   ]
  },
  {
   "cell_type": "code",
   "execution_count": 5,
   "metadata": {},
   "outputs": [
    {
     "name": "stderr",
     "output_type": "stream",
     "text": [
      "[nltk_data] Downloading package wordnet to /home/kohkb/nltk_data...\n",
      "[nltk_data]   Package wordnet is already up-to-date!\n"
     ]
    }
   ],
   "source": [
    "from src.gensim_helper import create_dictionary, get_coherence\n",
    "from src.train import train_lda_single_core, train_lda_multi_core, train_lda_mallet\n",
    "from src.process_data import process_data\n",
    "from src.visualize import generate_ldavis\n",
    "from src.artefacts_helper import save_model, load_model, load_mallet_model\n",
    "from src.predict import predict_and_format_topics, get_topic_most_dominant_document, get_topics_distribution\n",
    "from src.predict import get_term_topics, format_term_search_results, get_all_topics"
   ]
  },
  {
   "cell_type": "markdown",
   "metadata": {},
   "source": [
    "## Import data"
   ]
  },
  {
   "cell_type": "code",
   "execution_count": 6,
   "metadata": {},
   "outputs": [],
   "source": [
    "sheets_dict = pd.read_excel('../data/cordis-h2020projects.xlsx', None)\n",
    "df = sheets_dict['cordis-h2020projects']"
   ]
  },
  {
   "cell_type": "code",
   "execution_count": 7,
   "metadata": {
    "scrolled": true
   },
   "outputs": [
    {
     "data": {
      "text/plain": [
       "(30084, 21)"
      ]
     },
     "execution_count": 7,
     "metadata": {},
     "output_type": "execute_result"
    }
   ],
   "source": [
    "df.shape"
   ]
  },
  {
   "cell_type": "code",
   "execution_count": 8,
   "metadata": {},
   "outputs": [
    {
     "data": {
      "text/html": [
       "<div>\n",
       "<style scoped>\n",
       "    .dataframe tbody tr th:only-of-type {\n",
       "        vertical-align: middle;\n",
       "    }\n",
       "\n",
       "    .dataframe tbody tr th {\n",
       "        vertical-align: top;\n",
       "    }\n",
       "\n",
       "    .dataframe thead th {\n",
       "        text-align: right;\n",
       "    }\n",
       "</style>\n",
       "<table border=\"1\" class=\"dataframe\">\n",
       "  <thead>\n",
       "    <tr style=\"text-align: right;\">\n",
       "      <th></th>\n",
       "      <th>rcn</th>\n",
       "      <th>id</th>\n",
       "      <th>acronym</th>\n",
       "      <th>status</th>\n",
       "      <th>programme</th>\n",
       "      <th>topics</th>\n",
       "      <th>frameworkProgramme</th>\n",
       "      <th>title</th>\n",
       "      <th>startDate</th>\n",
       "      <th>endDate</th>\n",
       "      <th>...</th>\n",
       "      <th>objective</th>\n",
       "      <th>totalCost</th>\n",
       "      <th>ecMaxContribution</th>\n",
       "      <th>call</th>\n",
       "      <th>fundingScheme</th>\n",
       "      <th>coordinator</th>\n",
       "      <th>coordinatorCountry</th>\n",
       "      <th>participants</th>\n",
       "      <th>participantCountries</th>\n",
       "      <th>subjects</th>\n",
       "    </tr>\n",
       "  </thead>\n",
       "  <tbody>\n",
       "    <tr>\n",
       "      <th>0</th>\n",
       "      <td>207037</td>\n",
       "      <td>734211</td>\n",
       "      <td>INTERACT</td>\n",
       "      <td>SIGNED</td>\n",
       "      <td>H2020-EU.1.3.3.</td>\n",
       "      <td>MSCA-RISE-2016</td>\n",
       "      <td>H2020</td>\n",
       "      <td>The INTERnAtional network on Crisis Translation</td>\n",
       "      <td>2017-04-01</td>\n",
       "      <td>2020-03-31</td>\n",
       "      <td>...</td>\n",
       "      <td>We propose to establish an interdisciplinary, ...</td>\n",
       "      <td>279000.00</td>\n",
       "      <td>229500.00</td>\n",
       "      <td>H2020-MSCA-RISE-2016</td>\n",
       "      <td>MSCA-RISE</td>\n",
       "      <td>DUBLIN CITY UNIVERSITY</td>\n",
       "      <td>IE</td>\n",
       "      <td>THE COCHRANE COLLABORATION;UNIVERSITY COLLEGE ...</td>\n",
       "      <td>UK;PT</td>\n",
       "      <td>NaN</td>\n",
       "    </tr>\n",
       "    <tr>\n",
       "      <th>1</th>\n",
       "      <td>199028</td>\n",
       "      <td>686987</td>\n",
       "      <td>BrainHack</td>\n",
       "      <td>SIGNED</td>\n",
       "      <td>H2020-EU.1.2.1.</td>\n",
       "      <td>FETOPEN-CSA-FETEXCHANGE-2015</td>\n",
       "      <td>H2020</td>\n",
       "      <td>BrainHack: Bringing the arts and sciences of b...</td>\n",
       "      <td>2016-01-01</td>\n",
       "      <td>2017-12-31</td>\n",
       "      <td>...</td>\n",
       "      <td>We witness a rapid development of Brain/Neural...</td>\n",
       "      <td>567352.50</td>\n",
       "      <td>549727.00</td>\n",
       "      <td>H2020-FETOPEN-2015-CSA</td>\n",
       "      <td>CSA</td>\n",
       "      <td>TECHNISCHE UNIVERSITEIT DELFT</td>\n",
       "      <td>NL</td>\n",
       "      <td>THE PROVOST, FELLOWS, FOUNDATION SCHOLARS &amp; TH...</td>\n",
       "      <td>IE;PT;CZ;NL;IT;EE</td>\n",
       "      <td>NaN</td>\n",
       "    </tr>\n",
       "    <tr>\n",
       "      <th>2</th>\n",
       "      <td>207221</td>\n",
       "      <td>733174</td>\n",
       "      <td>IMPACT TB</td>\n",
       "      <td>SIGNED</td>\n",
       "      <td>H2020-EU.3.1.6.</td>\n",
       "      <td>SC1-PM-21-2016</td>\n",
       "      <td>H2020</td>\n",
       "      <td>IMPACT TB: Implementing proven community-based...</td>\n",
       "      <td>2017-01-01</td>\n",
       "      <td>2019-12-31</td>\n",
       "      <td>...</td>\n",
       "      <td>The aim of this project is to assess the facil...</td>\n",
       "      <td>4912423.75</td>\n",
       "      <td>4912423.75</td>\n",
       "      <td>H2020-SC1-2016-RTD</td>\n",
       "      <td>RIA</td>\n",
       "      <td>LIVERPOOL SCHOOL OF TROPICAL MEDICINE</td>\n",
       "      <td>UK</td>\n",
       "      <td>KONINKLIJKE NEDERLANDSE CENTRALE VERENIGING TO...</td>\n",
       "      <td>NL;NP;SE;DE</td>\n",
       "      <td>NaN</td>\n",
       "    </tr>\n",
       "    <tr>\n",
       "      <th>3</th>\n",
       "      <td>207786</td>\n",
       "      <td>700512</td>\n",
       "      <td>CortIMod</td>\n",
       "      <td>CLOSED</td>\n",
       "      <td>H2020-EU.1.3.2.</td>\n",
       "      <td>MSCA-IF-2015-EF</td>\n",
       "      <td>H2020</td>\n",
       "      <td>Implementation and Preliminary Validation of a...</td>\n",
       "      <td>2016-11-01</td>\n",
       "      <td>2018-11-27</td>\n",
       "      <td>...</td>\n",
       "      <td>Stroke is a leading cause of adult chronic dis...</td>\n",
       "      <td>195454.80</td>\n",
       "      <td>195454.80</td>\n",
       "      <td>H2020-MSCA-IF-2015</td>\n",
       "      <td>MSCA-IF-EF-ST</td>\n",
       "      <td>UNIVERSITY COLLEGE LONDON</td>\n",
       "      <td>UK</td>\n",
       "      <td>NaN</td>\n",
       "      <td>NaN</td>\n",
       "      <td>NaN</td>\n",
       "    </tr>\n",
       "    <tr>\n",
       "      <th>4</th>\n",
       "      <td>198320</td>\n",
       "      <td>676144</td>\n",
       "      <td>SyDAD</td>\n",
       "      <td>SIGNED</td>\n",
       "      <td>H2020-EU.1.3.1.</td>\n",
       "      <td>MSCA-ITN-2015-ETN</td>\n",
       "      <td>H2020</td>\n",
       "      <td>Synaptic Dysfunction in Alzheimer Disease</td>\n",
       "      <td>2015-11-01</td>\n",
       "      <td>2019-10-31</td>\n",
       "      <td>...</td>\n",
       "      <td>Given an overwhelming increase of dementia cos...</td>\n",
       "      <td>3846736.44</td>\n",
       "      <td>3846736.44</td>\n",
       "      <td>H2020-MSCA-ITN-2015</td>\n",
       "      <td>MSCA-ITN-ETN</td>\n",
       "      <td>KAROLINSKA INSTITUTET</td>\n",
       "      <td>SE</td>\n",
       "      <td>AXON NEUROSCIENCE SE;DEUTSCHES ZENTRUM FUR NEU...</td>\n",
       "      <td>SK;DE;FR;IT;BE</td>\n",
       "      <td>NaN</td>\n",
       "    </tr>\n",
       "  </tbody>\n",
       "</table>\n",
       "<p>5 rows × 21 columns</p>\n",
       "</div>"
      ],
      "text/plain": [
       "      rcn      id    acronym  status        programme  \\\n",
       "0  207037  734211   INTERACT  SIGNED  H2020-EU.1.3.3.   \n",
       "1  199028  686987  BrainHack  SIGNED  H2020-EU.1.2.1.   \n",
       "2  207221  733174  IMPACT TB  SIGNED  H2020-EU.3.1.6.   \n",
       "3  207786  700512   CortIMod  CLOSED  H2020-EU.1.3.2.   \n",
       "4  198320  676144      SyDAD  SIGNED  H2020-EU.1.3.1.   \n",
       "\n",
       "                         topics frameworkProgramme  \\\n",
       "0                MSCA-RISE-2016              H2020   \n",
       "1  FETOPEN-CSA-FETEXCHANGE-2015              H2020   \n",
       "2                SC1-PM-21-2016              H2020   \n",
       "3               MSCA-IF-2015-EF              H2020   \n",
       "4             MSCA-ITN-2015-ETN              H2020   \n",
       "\n",
       "                                               title   startDate     endDate  \\\n",
       "0    The INTERnAtional network on Crisis Translation  2017-04-01  2020-03-31   \n",
       "1  BrainHack: Bringing the arts and sciences of b...  2016-01-01  2017-12-31   \n",
       "2  IMPACT TB: Implementing proven community-based...  2017-01-01  2019-12-31   \n",
       "3  Implementation and Preliminary Validation of a...  2016-11-01  2018-11-27   \n",
       "4          Synaptic Dysfunction in Alzheimer Disease  2015-11-01  2019-10-31   \n",
       "\n",
       "   ...                                          objective   totalCost  \\\n",
       "0  ...  We propose to establish an interdisciplinary, ...   279000.00   \n",
       "1  ...  We witness a rapid development of Brain/Neural...   567352.50   \n",
       "2  ...  The aim of this project is to assess the facil...  4912423.75   \n",
       "3  ...  Stroke is a leading cause of adult chronic dis...   195454.80   \n",
       "4  ...  Given an overwhelming increase of dementia cos...  3846736.44   \n",
       "\n",
       "   ecMaxContribution                    call  fundingScheme  \\\n",
       "0          229500.00    H2020-MSCA-RISE-2016      MSCA-RISE   \n",
       "1          549727.00  H2020-FETOPEN-2015-CSA            CSA   \n",
       "2         4912423.75      H2020-SC1-2016-RTD            RIA   \n",
       "3          195454.80      H2020-MSCA-IF-2015  MSCA-IF-EF-ST   \n",
       "4         3846736.44     H2020-MSCA-ITN-2015   MSCA-ITN-ETN   \n",
       "\n",
       "                             coordinator coordinatorCountry  \\\n",
       "0                 DUBLIN CITY UNIVERSITY                 IE   \n",
       "1          TECHNISCHE UNIVERSITEIT DELFT                 NL   \n",
       "2  LIVERPOOL SCHOOL OF TROPICAL MEDICINE                 UK   \n",
       "3              UNIVERSITY COLLEGE LONDON                 UK   \n",
       "4                  KAROLINSKA INSTITUTET                 SE   \n",
       "\n",
       "                                        participants participantCountries  \\\n",
       "0  THE COCHRANE COLLABORATION;UNIVERSITY COLLEGE ...                UK;PT   \n",
       "1  THE PROVOST, FELLOWS, FOUNDATION SCHOLARS & TH...    IE;PT;CZ;NL;IT;EE   \n",
       "2  KONINKLIJKE NEDERLANDSE CENTRALE VERENIGING TO...          NL;NP;SE;DE   \n",
       "3                                                NaN                  NaN   \n",
       "4  AXON NEUROSCIENCE SE;DEUTSCHES ZENTRUM FUR NEU...       SK;DE;FR;IT;BE   \n",
       "\n",
       "  subjects  \n",
       "0      NaN  \n",
       "1      NaN  \n",
       "2      NaN  \n",
       "3      NaN  \n",
       "4      NaN  \n",
       "\n",
       "[5 rows x 21 columns]"
      ]
     },
     "execution_count": 8,
     "metadata": {},
     "output_type": "execute_result"
    }
   ],
   "source": [
    "df.head()"
   ]
  },
  {
   "cell_type": "markdown",
   "metadata": {},
   "source": [
    "We are only interested in the `title` and `objective` fields for topic modelling"
   ]
  },
  {
   "cell_type": "code",
   "execution_count": 9,
   "metadata": {},
   "outputs": [],
   "source": [
    "# combine title and objective\n",
    "data = (df['title'] + ' ' + df['objective']).values.tolist()"
   ]
  },
  {
   "cell_type": "code",
   "execution_count": 10,
   "metadata": {},
   "outputs": [
    {
     "data": {
      "text/plain": [
       "30084"
      ]
     },
     "execution_count": 10,
     "metadata": {},
     "output_type": "execute_result"
    }
   ],
   "source": [
    "len(data)"
   ]
  },
  {
   "cell_type": "code",
   "execution_count": 11,
   "metadata": {
    "scrolled": true
   },
   "outputs": [
    {
     "data": {
      "text/plain": [
       "'The INTERnAtional network on Crisis Translation We propose to establish an interdisciplinary, intersectoral and international research and innovation network in Crisis Translation, called INTERACT. Crisis Translation is understood here as the translation of written information from one linguistic and cultural system to another in the context of a crisis scenario, with a view to enabling affected communities and responders to be prepared for crises, improve resilience and reduce the loss of lives. Due to the transboundary nature of modern day crises, crisis communication must be multilingual and multilingual crisis communication is enabled through translation. Multilingual information access through translation addresses work programme aims such as social fairness and democratic access to essential information for all. The primary focus of INTERACT is on health-related crisis content. The main objectives of the project are 1) to make meaningful and effective contributions to knowledge, policies, expertise, training and technology that enable accurate and timely translation-enabled crisis communication, with a particular focus on health-related content; 2) to improve outcomes for crisis-affected and at-risk communities by contributing to translation-enabled communication to, with and from those communities; 3) to enhance human skills, competences and cross-sectoral collaboration across academic, humanitarian, and industrial sectors involved in crisis translation. This will be achieved by focusing on five main topics: crisis communication policy, comprehension in limited proficiency communities, crisis machine translation, citizen translator education, and ethics and through collaboration across academic, SME, NGO, and Multinational partners. The contribution of INTERACT will be a much broader, better informed, innovative, much more impactful perspective on the challenges of crisis communication and the role of translation.'"
      ]
     },
     "execution_count": 11,
     "metadata": {},
     "output_type": "execute_result"
    }
   ],
   "source": [
    "data[0]"
   ]
  },
  {
   "cell_type": "markdown",
   "metadata": {},
   "source": [
    "## Processing"
   ]
  },
  {
   "cell_type": "code",
   "execution_count": 22,
   "metadata": {},
   "outputs": [],
   "source": [
    "docs = process_data(data)"
   ]
  },
  {
   "cell_type": "code",
   "execution_count": 23,
   "metadata": {},
   "outputs": [
    {
     "data": {
      "text/plain": [
       "['international', 'network', 'crisis', 'translation', 'propose']"
      ]
     },
     "execution_count": 23,
     "metadata": {},
     "output_type": "execute_result"
    }
   ],
   "source": [
    "docs[0][:5]"
   ]
  },
  {
   "cell_type": "code",
   "execution_count": 24,
   "metadata": {},
   "outputs": [],
   "source": [
    "dictionary = create_dictionary(docs)"
   ]
  },
  {
   "cell_type": "code",
   "execution_count": 25,
   "metadata": {},
   "outputs": [
    {
     "data": {
      "text/plain": [
       "[55, 73, 23, 106, 86]"
      ]
     },
     "execution_count": 25,
     "metadata": {},
     "output_type": "execute_result"
    }
   ],
   "source": [
    "dictionary.doc2idx(docs[0])[:5]"
   ]
  },
  {
   "cell_type": "code",
   "execution_count": 26,
   "metadata": {},
   "outputs": [
    {
     "data": {
      "text/plain": [
       "['international', 'network', 'crisis', 'translation', 'propose']"
      ]
     },
     "execution_count": 26,
     "metadata": {},
     "output_type": "execute_result"
    }
   ],
   "source": [
    "# showing how to translate back from id to doc\n",
    "[dictionary[i] for i in dictionary.doc2idx(docs[0])[:5]]"
   ]
  },
  {
   "cell_type": "code",
   "execution_count": 27,
   "metadata": {},
   "outputs": [],
   "source": [
    "# Bag-of-words representation of the documents.\n",
    "corpus = [dictionary.doc2bow(doc) for doc in docs]"
   ]
  },
  {
   "cell_type": "code",
   "execution_count": 28,
   "metadata": {},
   "outputs": [
    {
     "data": {
      "text/plain": [
       "[(0, 2), (1, 2), (2, 1), (3, 1), (4, 2)]"
      ]
     },
     "execution_count": 28,
     "metadata": {},
     "output_type": "execute_result"
    }
   ],
   "source": [
    "corpus[0][:5]"
   ]
  },
  {
   "cell_type": "code",
   "execution_count": 29,
   "metadata": {},
   "outputs": [
    {
     "name": "stdout",
     "output_type": "stream",
     "text": [
      "Number of unique tokens: 22552\n",
      "Number of documents: 30084\n"
     ]
    }
   ],
   "source": [
    "print('Number of unique tokens: %d' % len(dictionary))\n",
    "print('Number of documents: %d' % len(corpus))"
   ]
  },
  {
   "cell_type": "markdown",
   "metadata": {
    "heading_collapsed": true
   },
   "source": [
    "## Training"
   ]
  },
  {
   "cell_type": "code",
   "execution_count": 24,
   "metadata": {
    "hidden": true
   },
   "outputs": [
    {
     "name": "stdout",
     "output_type": "stream",
     "text": [
      "CPU times: user 6min, sys: 39.6 ms, total: 6min\n",
      "Wall time: 6min\n"
     ]
    }
   ],
   "source": [
    "%%time \n",
    "\n",
    "model = train_lda_single_core(corpus, dictionary, 10, params={})"
   ]
  },
  {
   "cell_type": "code",
   "execution_count": 26,
   "metadata": {
    "hidden": true
   },
   "outputs": [
    {
     "data": {
      "text/plain": [
       "0.5068668673180966"
      ]
     },
     "execution_count": 26,
     "metadata": {},
     "output_type": "execute_result"
    }
   ],
   "source": [
    "get_coherence(model, docs, dictionary)"
   ]
  },
  {
   "cell_type": "code",
   "execution_count": 19,
   "metadata": {
    "hidden": true
   },
   "outputs": [
    {
     "name": "stdout",
     "output_type": "stream",
     "text": [
      "CPU times: user 3min 48s, sys: 48 s, total: 4min 36s\n",
      "Wall time: 3min 51s\n"
     ]
    }
   ],
   "source": [
    "%%time \n",
    "model = train_lda_multi_core(corpus, dictionary, 10, params={})"
   ]
  },
  {
   "cell_type": "code",
   "execution_count": 20,
   "metadata": {
    "hidden": true
   },
   "outputs": [
    {
     "data": {
      "text/plain": [
       "0.47056989952123873"
      ]
     },
     "execution_count": 20,
     "metadata": {},
     "output_type": "execute_result"
    }
   ],
   "source": [
    "get_coherence(model, docs, dictionary)"
   ]
  },
  {
   "cell_type": "code",
   "execution_count": 24,
   "metadata": {
    "hidden": true
   },
   "outputs": [
    {
     "name": "stdout",
     "output_type": "stream",
     "text": [
      "CPU times: user 16.5 s, sys: 137 ms, total: 16.6 s\n",
      "Wall time: 2min 15s\n"
     ]
    }
   ],
   "source": [
    "%%time \n",
    "\n",
    "model = train_lda_mallet(corpus, dictionary, 300, \n",
    "                         params={\n",
    "                             'mallet_path': '../mallet-2.0.8/bin/mallet',\n",
    "                             'prefix_path': '../artefacts/mallet_tmp/',\n",
    "                             'prefix': '300_topics_mallet_alpha_50'\n",
    "                         })"
   ]
  },
  {
   "cell_type": "code",
   "execution_count": 25,
   "metadata": {
    "hidden": true
   },
   "outputs": [
    {
     "data": {
      "text/plain": [
       "0.5301726081250121"
      ]
     },
     "execution_count": 25,
     "metadata": {},
     "output_type": "execute_result"
    }
   ],
   "source": [
    "get_coherence(model, docs, dictionary)"
   ]
  },
  {
   "cell_type": "markdown",
   "metadata": {
    "heading_collapsed": true
   },
   "source": [
    "## pyLDAvis Visualization"
   ]
  },
  {
   "cell_type": "code",
   "execution_count": 21,
   "metadata": {
    "hidden": true
   },
   "outputs": [
    {
     "name": "stdout",
     "output_type": "stream",
     "text": [
      "vis generated to ../references/10_topics.html\n"
     ]
    }
   ],
   "source": [
    "generate_ldavis(model, corpus, dictionary, '10_topics')"
   ]
  },
  {
   "cell_type": "markdown",
   "metadata": {
    "heading_collapsed": true
   },
   "source": [
    "## Save Model and Dictionary"
   ]
  },
  {
   "cell_type": "code",
   "execution_count": 39,
   "metadata": {
    "hidden": true
   },
   "outputs": [],
   "source": [
    "save_model(model, suffix='200_topics')"
   ]
  },
  {
   "cell_type": "code",
   "execution_count": 26,
   "metadata": {
    "hidden": true
   },
   "outputs": [],
   "source": [
    "# other artefacts\n",
    "dictionary.save('../artefacts/dictionary')"
   ]
  },
  {
   "cell_type": "code",
   "execution_count": 73,
   "metadata": {
    "hidden": true
   },
   "outputs": [],
   "source": [
    "with open('../artefacts/corpus.pkl', 'wb') as f:\n",
    "    pickle.dump(corpus, f)\n",
    "    \n",
    "with open('../artefacts/docs.pkl', 'wb') as f:\n",
    "    pickle.dump(docs, f)"
   ]
  },
  {
   "cell_type": "markdown",
   "metadata": {},
   "source": [
    "## Load "
   ]
  },
  {
   "cell_type": "code",
   "execution_count": 24,
   "metadata": {},
   "outputs": [],
   "source": [
    "lda_model = load_model(suffix='200_topics')"
   ]
  },
  {
   "cell_type": "code",
   "execution_count": 18,
   "metadata": {},
   "outputs": [],
   "source": [
    "model = load_mallet_model(artefacts_path='../artefacts', suffix='300_topics_mallet_alpha_50')"
   ]
  },
  {
   "cell_type": "code",
   "execution_count": 19,
   "metadata": {},
   "outputs": [],
   "source": [
    "model.mallet_path = '../mallet-2.0.8/bin/mallet'\n",
    "model.prefix = '../artefacts/mallet_tmp/'"
   ]
  },
  {
   "cell_type": "code",
   "execution_count": 22,
   "metadata": {},
   "outputs": [
    {
     "data": {
      "text/plain": [
       "0.5301726081250121"
      ]
     },
     "execution_count": 22,
     "metadata": {},
     "output_type": "execute_result"
    }
   ],
   "source": [
    "# for reproducibility: 0.5301726081250121\n",
    "get_coherence(model, docs, dictionary)"
   ]
  },
  {
   "cell_type": "code",
   "execution_count": 20,
   "metadata": {},
   "outputs": [
    {
     "data": {
      "text/html": [
       "<div>\n",
       "<style scoped>\n",
       "    .dataframe tbody tr th:only-of-type {\n",
       "        vertical-align: middle;\n",
       "    }\n",
       "\n",
       "    .dataframe tbody tr th {\n",
       "        vertical-align: top;\n",
       "    }\n",
       "\n",
       "    .dataframe thead th {\n",
       "        text-align: right;\n",
       "    }\n",
       "</style>\n",
       "<table border=\"1\" class=\"dataframe\">\n",
       "  <thead>\n",
       "    <tr style=\"text-align: right;\">\n",
       "      <th></th>\n",
       "      <th>Topic_Id</th>\n",
       "      <th>Topic_Keywords</th>\n",
       "    </tr>\n",
       "  </thead>\n",
       "  <tbody>\n",
       "    <tr>\n",
       "      <th>0</th>\n",
       "      <td>0</td>\n",
       "      <td>political, study, social, politics, discourse,...</td>\n",
       "    </tr>\n",
       "    <tr>\n",
       "      <th>1</th>\n",
       "      <td>1</td>\n",
       "      <td>disease, inflammatory, inflammation, therapeut...</td>\n",
       "    </tr>\n",
       "    <tr>\n",
       "      <th>2</th>\n",
       "      <td>2</td>\n",
       "      <td>delivery, release, deliver, based, develop, oa...</td>\n",
       "    </tr>\n",
       "    <tr>\n",
       "      <th>3</th>\n",
       "      <td>3</td>\n",
       "      <td>emission, fuel, gas, co2, carbon, reduction, c...</td>\n",
       "    </tr>\n",
       "    <tr>\n",
       "      <th>4</th>\n",
       "      <td>4</td>\n",
       "      <td>liver, development, sport, aim, major, event, ...</td>\n",
       "    </tr>\n",
       "  </tbody>\n",
       "</table>\n",
       "</div>"
      ],
      "text/plain": [
       "   Topic_Id                                     Topic_Keywords\n",
       "0         0  political, study, social, politics, discourse,...\n",
       "1         1  disease, inflammatory, inflammation, therapeut...\n",
       "2         2  delivery, release, deliver, based, develop, oa...\n",
       "3         3  emission, fuel, gas, co2, carbon, reduction, c...\n",
       "4         4  liver, development, sport, aim, major, event, ..."
      ]
     },
     "execution_count": 20,
     "metadata": {},
     "output_type": "execute_result"
    }
   ],
   "source": [
    "get_all_topics(model).head()"
   ]
  },
  {
   "cell_type": "markdown",
   "metadata": {
    "heading_collapsed": true
   },
   "source": [
    "## Predict and Format"
   ]
  },
  {
   "cell_type": "code",
   "execution_count": 27,
   "metadata": {
    "collapsed": true,
    "hidden": true
   },
   "outputs": [
    {
     "data": {
      "text/plain": [
       "[(280, 0.13007478632478592),\n",
       " (139, 0.09054487179487151),\n",
       " (15, 0.065438034188034),\n",
       " (8, 0.03018162393162383),\n",
       " (19, 0.027510683760683673),\n",
       " (66, 0.026976495726495638),\n",
       " (39, 0.022702991452991383),\n",
       " (63, 0.014155982905982864),\n",
       " (247, 0.013087606837606798),\n",
       " (299, 0.010950854700854669)]"
      ]
     },
     "execution_count": 27,
     "metadata": {},
     "output_type": "execute_result"
    }
   ],
   "source": [
    "# prediction of 1 document and sorting the topics by their distribution\n",
    "sorted(model[corpus[0]], key=lambda x: x[1], reverse=True)[:10]"
   ]
  },
  {
   "cell_type": "code",
   "execution_count": 41,
   "metadata": {
    "hidden": true,
    "scrolled": true
   },
   "outputs": [],
   "source": [
    "predict_df = predict_and_format_topics(ldamodel=model, corpus=corpus, texts=data)"
   ]
  },
  {
   "cell_type": "code",
   "execution_count": 45,
   "metadata": {
    "hidden": true
   },
   "outputs": [],
   "source": [
    "df.loc[:,'Topic_Id'] = predict_df['Dominant_Topic']\n",
    "df.loc[:,'Topic_Prob'] = predict_df['Topic_Prob']\n",
    "df.loc[:,'Topic_Keywords'] = predict_df['Topic_Keywords']"
   ]
  },
  {
   "cell_type": "code",
   "execution_count": 46,
   "metadata": {
    "collapsed": true,
    "hidden": true
   },
   "outputs": [
    {
     "data": {
      "text/html": [
       "<div>\n",
       "<style scoped>\n",
       "    .dataframe tbody tr th:only-of-type {\n",
       "        vertical-align: middle;\n",
       "    }\n",
       "\n",
       "    .dataframe tbody tr th {\n",
       "        vertical-align: top;\n",
       "    }\n",
       "\n",
       "    .dataframe thead th {\n",
       "        text-align: right;\n",
       "    }\n",
       "</style>\n",
       "<table border=\"1\" class=\"dataframe\">\n",
       "  <thead>\n",
       "    <tr style=\"text-align: right;\">\n",
       "      <th></th>\n",
       "      <th>rcn</th>\n",
       "      <th>id</th>\n",
       "      <th>acronym</th>\n",
       "      <th>status</th>\n",
       "      <th>programme</th>\n",
       "      <th>topics</th>\n",
       "      <th>frameworkProgramme</th>\n",
       "      <th>title</th>\n",
       "      <th>startDate</th>\n",
       "      <th>endDate</th>\n",
       "      <th>...</th>\n",
       "      <th>call</th>\n",
       "      <th>fundingScheme</th>\n",
       "      <th>coordinator</th>\n",
       "      <th>coordinatorCountry</th>\n",
       "      <th>participants</th>\n",
       "      <th>participantCountries</th>\n",
       "      <th>subjects</th>\n",
       "      <th>Topic_Id</th>\n",
       "      <th>Topic_Prob</th>\n",
       "      <th>Topic_Keywords</th>\n",
       "    </tr>\n",
       "  </thead>\n",
       "  <tbody>\n",
       "    <tr>\n",
       "      <th>0</th>\n",
       "      <td>207037</td>\n",
       "      <td>734211</td>\n",
       "      <td>INTERACT</td>\n",
       "      <td>SIGNED</td>\n",
       "      <td>H2020-EU.1.3.3.</td>\n",
       "      <td>MSCA-RISE-2016</td>\n",
       "      <td>H2020</td>\n",
       "      <td>The INTERnAtional network on Crisis Translation</td>\n",
       "      <td>2017-04-01</td>\n",
       "      <td>2020-03-31</td>\n",
       "      <td>...</td>\n",
       "      <td>H2020-MSCA-RISE-2016</td>\n",
       "      <td>MSCA-RISE</td>\n",
       "      <td>DUBLIN CITY UNIVERSITY</td>\n",
       "      <td>IE</td>\n",
       "      <td>THE COCHRANE COLLABORATION;UNIVERSITY COLLEGE ...</td>\n",
       "      <td>UK;PT</td>\n",
       "      <td>NaN</td>\n",
       "      <td>280.0</td>\n",
       "      <td>0.1301</td>\n",
       "      <td>language, speech, linguistic, word, natural, m...</td>\n",
       "    </tr>\n",
       "    <tr>\n",
       "      <th>1</th>\n",
       "      <td>199028</td>\n",
       "      <td>686987</td>\n",
       "      <td>BrainHack</td>\n",
       "      <td>SIGNED</td>\n",
       "      <td>H2020-EU.1.2.1.</td>\n",
       "      <td>FETOPEN-CSA-FETEXCHANGE-2015</td>\n",
       "      <td>H2020</td>\n",
       "      <td>BrainHack: Bringing the arts and sciences of b...</td>\n",
       "      <td>2016-01-01</td>\n",
       "      <td>2017-12-31</td>\n",
       "      <td>...</td>\n",
       "      <td>H2020-FETOPEN-2015-CSA</td>\n",
       "      <td>CSA</td>\n",
       "      <td>TECHNISCHE UNIVERSITEIT DELFT</td>\n",
       "      <td>NL</td>\n",
       "      <td>THE PROVOST, FELLOWS, FOUNDATION SCHOLARS &amp; TH...</td>\n",
       "      <td>IE;PT;CZ;NL;IT;EE</td>\n",
       "      <td>NaN</td>\n",
       "      <td>183.0</td>\n",
       "      <td>0.1108</td>\n",
       "      <td>science, research, scientific, conference, sci...</td>\n",
       "    </tr>\n",
       "    <tr>\n",
       "      <th>2</th>\n",
       "      <td>207221</td>\n",
       "      <td>733174</td>\n",
       "      <td>IMPACT TB</td>\n",
       "      <td>SIGNED</td>\n",
       "      <td>H2020-EU.3.1.6.</td>\n",
       "      <td>SC1-PM-21-2016</td>\n",
       "      <td>H2020</td>\n",
       "      <td>IMPACT TB: Implementing proven community-based...</td>\n",
       "      <td>2017-01-01</td>\n",
       "      <td>2019-12-31</td>\n",
       "      <td>...</td>\n",
       "      <td>H2020-SC1-2016-RTD</td>\n",
       "      <td>RIA</td>\n",
       "      <td>LIVERPOOL SCHOOL OF TROPICAL MEDICINE</td>\n",
       "      <td>UK</td>\n",
       "      <td>KONINKLIJKE NEDERLANDSE CENTRALE VERENIGING TO...</td>\n",
       "      <td>NL;NP;SE;DE</td>\n",
       "      <td>NaN</td>\n",
       "      <td>63.0</td>\n",
       "      <td>0.1312</td>\n",
       "      <td>health, intervention, care, mental, evidence, ...</td>\n",
       "    </tr>\n",
       "    <tr>\n",
       "      <th>3</th>\n",
       "      <td>207786</td>\n",
       "      <td>700512</td>\n",
       "      <td>CortIMod</td>\n",
       "      <td>CLOSED</td>\n",
       "      <td>H2020-EU.1.3.2.</td>\n",
       "      <td>MSCA-IF-2015-EF</td>\n",
       "      <td>H2020</td>\n",
       "      <td>Implementation and Preliminary Validation of a...</td>\n",
       "      <td>2016-11-01</td>\n",
       "      <td>2018-11-27</td>\n",
       "      <td>...</td>\n",
       "      <td>H2020-MSCA-IF-2015</td>\n",
       "      <td>MSCA-IF-EF-ST</td>\n",
       "      <td>UNIVERSITY COLLEGE LONDON</td>\n",
       "      <td>UK</td>\n",
       "      <td>NaN</td>\n",
       "      <td>NaN</td>\n",
       "      <td>NaN</td>\n",
       "      <td>150.0</td>\n",
       "      <td>0.0991</td>\n",
       "      <td>brain, cognitive, disorder, neural, neuroscien...</td>\n",
       "    </tr>\n",
       "    <tr>\n",
       "      <th>4</th>\n",
       "      <td>198320</td>\n",
       "      <td>676144</td>\n",
       "      <td>SyDAD</td>\n",
       "      <td>SIGNED</td>\n",
       "      <td>H2020-EU.1.3.1.</td>\n",
       "      <td>MSCA-ITN-2015-ETN</td>\n",
       "      <td>H2020</td>\n",
       "      <td>Synaptic Dysfunction in Alzheimer Disease</td>\n",
       "      <td>2015-11-01</td>\n",
       "      <td>2019-10-31</td>\n",
       "      <td>...</td>\n",
       "      <td>H2020-MSCA-ITN-2015</td>\n",
       "      <td>MSCA-ITN-ETN</td>\n",
       "      <td>KAROLINSKA INSTITUTET</td>\n",
       "      <td>SE</td>\n",
       "      <td>AXON NEUROSCIENCE SE;DEUTSCHES ZENTRUM FUR NEU...</td>\n",
       "      <td>SK;DE;FR;IT;BE</td>\n",
       "      <td>NaN</td>\n",
       "      <td>15.0</td>\n",
       "      <td>0.1909</td>\n",
       "      <td>training, research, academic, researcher, esr,...</td>\n",
       "    </tr>\n",
       "  </tbody>\n",
       "</table>\n",
       "<p>5 rows × 24 columns</p>\n",
       "</div>"
      ],
      "text/plain": [
       "      rcn      id    acronym  status        programme  \\\n",
       "0  207037  734211   INTERACT  SIGNED  H2020-EU.1.3.3.   \n",
       "1  199028  686987  BrainHack  SIGNED  H2020-EU.1.2.1.   \n",
       "2  207221  733174  IMPACT TB  SIGNED  H2020-EU.3.1.6.   \n",
       "3  207786  700512   CortIMod  CLOSED  H2020-EU.1.3.2.   \n",
       "4  198320  676144      SyDAD  SIGNED  H2020-EU.1.3.1.   \n",
       "\n",
       "                         topics frameworkProgramme  \\\n",
       "0                MSCA-RISE-2016              H2020   \n",
       "1  FETOPEN-CSA-FETEXCHANGE-2015              H2020   \n",
       "2                SC1-PM-21-2016              H2020   \n",
       "3               MSCA-IF-2015-EF              H2020   \n",
       "4             MSCA-ITN-2015-ETN              H2020   \n",
       "\n",
       "                                               title   startDate     endDate  \\\n",
       "0    The INTERnAtional network on Crisis Translation  2017-04-01  2020-03-31   \n",
       "1  BrainHack: Bringing the arts and sciences of b...  2016-01-01  2017-12-31   \n",
       "2  IMPACT TB: Implementing proven community-based...  2017-01-01  2019-12-31   \n",
       "3  Implementation and Preliminary Validation of a...  2016-11-01  2018-11-27   \n",
       "4          Synaptic Dysfunction in Alzheimer Disease  2015-11-01  2019-10-31   \n",
       "\n",
       "   ...                    call  fundingScheme  \\\n",
       "0  ...    H2020-MSCA-RISE-2016      MSCA-RISE   \n",
       "1  ...  H2020-FETOPEN-2015-CSA            CSA   \n",
       "2  ...      H2020-SC1-2016-RTD            RIA   \n",
       "3  ...      H2020-MSCA-IF-2015  MSCA-IF-EF-ST   \n",
       "4  ...     H2020-MSCA-ITN-2015   MSCA-ITN-ETN   \n",
       "\n",
       "                             coordinator  coordinatorCountry  \\\n",
       "0                 DUBLIN CITY UNIVERSITY                  IE   \n",
       "1          TECHNISCHE UNIVERSITEIT DELFT                  NL   \n",
       "2  LIVERPOOL SCHOOL OF TROPICAL MEDICINE                  UK   \n",
       "3              UNIVERSITY COLLEGE LONDON                  UK   \n",
       "4                  KAROLINSKA INSTITUTET                  SE   \n",
       "\n",
       "                                        participants participantCountries  \\\n",
       "0  THE COCHRANE COLLABORATION;UNIVERSITY COLLEGE ...                UK;PT   \n",
       "1  THE PROVOST, FELLOWS, FOUNDATION SCHOLARS & TH...    IE;PT;CZ;NL;IT;EE   \n",
       "2  KONINKLIJKE NEDERLANDSE CENTRALE VERENIGING TO...          NL;NP;SE;DE   \n",
       "3                                                NaN                  NaN   \n",
       "4  AXON NEUROSCIENCE SE;DEUTSCHES ZENTRUM FUR NEU...       SK;DE;FR;IT;BE   \n",
       "\n",
       "  subjects Topic_Id Topic_Prob  \\\n",
       "0      NaN    280.0     0.1301   \n",
       "1      NaN    183.0     0.1108   \n",
       "2      NaN     63.0     0.1312   \n",
       "3      NaN    150.0     0.0991   \n",
       "4      NaN     15.0     0.1909   \n",
       "\n",
       "                                      Topic_Keywords  \n",
       "0  language, speech, linguistic, word, natural, m...  \n",
       "1  science, research, scientific, conference, sci...  \n",
       "2  health, intervention, care, mental, evidence, ...  \n",
       "3  brain, cognitive, disorder, neural, neuroscien...  \n",
       "4  training, research, academic, researcher, esr,...  \n",
       "\n",
       "[5 rows x 24 columns]"
      ]
     },
     "execution_count": 46,
     "metadata": {},
     "output_type": "execute_result"
    }
   ],
   "source": [
    "df.head()"
   ]
  },
  {
   "cell_type": "code",
   "execution_count": 47,
   "metadata": {
    "hidden": true
   },
   "outputs": [],
   "source": [
    "# df.to_csv('../output/cordis-h2020projects_with_topics.csv', index=False)"
   ]
  },
  {
   "cell_type": "code",
   "execution_count": 48,
   "metadata": {
    "collapsed": true,
    "hidden": true
   },
   "outputs": [
    {
     "data": {
      "text/html": [
       "<div>\n",
       "<style scoped>\n",
       "    .dataframe tbody tr th:only-of-type {\n",
       "        vertical-align: middle;\n",
       "    }\n",
       "\n",
       "    .dataframe tbody tr th {\n",
       "        vertical-align: top;\n",
       "    }\n",
       "\n",
       "    .dataframe thead th {\n",
       "        text-align: right;\n",
       "    }\n",
       "</style>\n",
       "<table border=\"1\" class=\"dataframe\">\n",
       "  <thead>\n",
       "    <tr style=\"text-align: right;\">\n",
       "      <th></th>\n",
       "      <th>Topic_Num</th>\n",
       "      <th>Document_No</th>\n",
       "      <th>Topic_Prob</th>\n",
       "      <th>Topic_Keywords</th>\n",
       "      <th>Text</th>\n",
       "    </tr>\n",
       "  </thead>\n",
       "  <tbody>\n",
       "    <tr>\n",
       "      <th>0</th>\n",
       "      <td>0.0</td>\n",
       "      <td>30013</td>\n",
       "      <td>0.4259</td>\n",
       "      <td>political, study, social, politics, discourse,...</td>\n",
       "      <td>Protest and Order. Democratic theory, contenti...</td>\n",
       "    </tr>\n",
       "    <tr>\n",
       "      <th>1</th>\n",
       "      <td>1.0</td>\n",
       "      <td>6696</td>\n",
       "      <td>0.3239</td>\n",
       "      <td>disease, inflammatory, inflammation, therapeut...</td>\n",
       "      <td>Mechanisms and regulation of inflammasome-asso...</td>\n",
       "    </tr>\n",
       "    <tr>\n",
       "      <th>2</th>\n",
       "      <td>2.0</td>\n",
       "      <td>7298</td>\n",
       "      <td>0.2369</td>\n",
       "      <td>delivery, release, deliver, based, develop, oa...</td>\n",
       "      <td>Biocompatible nanoparticles for T cell targete...</td>\n",
       "    </tr>\n",
       "    <tr>\n",
       "      <th>3</th>\n",
       "      <td>3.0</td>\n",
       "      <td>21361</td>\n",
       "      <td>0.3374</td>\n",
       "      <td>emission, fuel, gas, co2, carbon, reduction, c...</td>\n",
       "      <td>Heavy Duty Gas Engines integrated into Vehicle...</td>\n",
       "    </tr>\n",
       "    <tr>\n",
       "      <th>4</th>\n",
       "      <td>4.0</td>\n",
       "      <td>17184</td>\n",
       "      <td>0.3280</td>\n",
       "      <td>liver, development, sport, aim, major, event, ...</td>\n",
       "      <td>EXercise as a regulator of hepatic NAD metabol...</td>\n",
       "    </tr>\n",
       "  </tbody>\n",
       "</table>\n",
       "</div>"
      ],
      "text/plain": [
       "   Topic_Num  Document_No  Topic_Prob  \\\n",
       "0        0.0        30013      0.4259   \n",
       "1        1.0         6696      0.3239   \n",
       "2        2.0         7298      0.2369   \n",
       "3        3.0        21361      0.3374   \n",
       "4        4.0        17184      0.3280   \n",
       "\n",
       "                                      Topic_Keywords  \\\n",
       "0  political, study, social, politics, discourse,...   \n",
       "1  disease, inflammatory, inflammation, therapeut...   \n",
       "2  delivery, release, deliver, based, develop, oa...   \n",
       "3  emission, fuel, gas, co2, carbon, reduction, c...   \n",
       "4  liver, development, sport, aim, major, event, ...   \n",
       "\n",
       "                                                Text  \n",
       "0  Protest and Order. Democratic theory, contenti...  \n",
       "1  Mechanisms and regulation of inflammasome-asso...  \n",
       "2  Biocompatible nanoparticles for T cell targete...  \n",
       "3  Heavy Duty Gas Engines integrated into Vehicle...  \n",
       "4  EXercise as a regulator of hepatic NAD metabol...  "
      ]
     },
     "execution_count": 48,
     "metadata": {},
     "output_type": "execute_result"
    }
   ],
   "source": [
    "get_topic_most_dominant_document(predict_df).head()"
   ]
  },
  {
   "cell_type": "code",
   "execution_count": 49,
   "metadata": {
    "collapsed": true,
    "hidden": true
   },
   "outputs": [
    {
     "data": {
      "text/html": [
       "<div>\n",
       "<style scoped>\n",
       "    .dataframe tbody tr th:only-of-type {\n",
       "        vertical-align: middle;\n",
       "    }\n",
       "\n",
       "    .dataframe tbody tr th {\n",
       "        vertical-align: top;\n",
       "    }\n",
       "\n",
       "    .dataframe thead th {\n",
       "        text-align: right;\n",
       "    }\n",
       "</style>\n",
       "<table border=\"1\" class=\"dataframe\">\n",
       "  <thead>\n",
       "    <tr style=\"text-align: right;\">\n",
       "      <th></th>\n",
       "      <th>Dominant_Topic</th>\n",
       "      <th>Topic_Keywords</th>\n",
       "      <th>Num_Documents</th>\n",
       "      <th>Perc_Documents</th>\n",
       "    </tr>\n",
       "  </thead>\n",
       "  <tbody>\n",
       "    <tr>\n",
       "      <th>0</th>\n",
       "      <td>0.0</td>\n",
       "      <td>political, study, social, politics, discourse,...</td>\n",
       "      <td>249</td>\n",
       "      <td>0.0083</td>\n",
       "    </tr>\n",
       "    <tr>\n",
       "      <th>1</th>\n",
       "      <td>1.0</td>\n",
       "      <td>disease, inflammatory, inflammation, therapeut...</td>\n",
       "      <td>122</td>\n",
       "      <td>0.0041</td>\n",
       "    </tr>\n",
       "    <tr>\n",
       "      <th>2</th>\n",
       "      <td>2.0</td>\n",
       "      <td>delivery, release, deliver, based, develop, oa...</td>\n",
       "      <td>55</td>\n",
       "      <td>0.0018</td>\n",
       "    </tr>\n",
       "    <tr>\n",
       "      <th>3</th>\n",
       "      <td>3.0</td>\n",
       "      <td>emission, fuel, gas, co2, carbon, reduction, c...</td>\n",
       "      <td>211</td>\n",
       "      <td>0.0070</td>\n",
       "    </tr>\n",
       "    <tr>\n",
       "      <th>4</th>\n",
       "      <td>4.0</td>\n",
       "      <td>liver, development, sport, aim, major, event, ...</td>\n",
       "      <td>47</td>\n",
       "      <td>0.0016</td>\n",
       "    </tr>\n",
       "  </tbody>\n",
       "</table>\n",
       "</div>"
      ],
      "text/plain": [
       "   Dominant_Topic                                     Topic_Keywords  \\\n",
       "0             0.0  political, study, social, politics, discourse,...   \n",
       "1             1.0  disease, inflammatory, inflammation, therapeut...   \n",
       "2             2.0  delivery, release, deliver, based, develop, oa...   \n",
       "3             3.0  emission, fuel, gas, co2, carbon, reduction, c...   \n",
       "4             4.0  liver, development, sport, aim, major, event, ...   \n",
       "\n",
       "   Num_Documents  Perc_Documents  \n",
       "0            249          0.0083  \n",
       "1            122          0.0041  \n",
       "2             55          0.0018  \n",
       "3            211          0.0070  \n",
       "4             47          0.0016  "
      ]
     },
     "execution_count": 49,
     "metadata": {},
     "output_type": "execute_result"
    }
   ],
   "source": [
    "get_topics_distribution(predict_df).head()"
   ]
  },
  {
   "cell_type": "code",
   "execution_count": 50,
   "metadata": {
    "hidden": true
   },
   "outputs": [
    {
     "name": "stdout",
     "output_type": "stream",
     "text": [
      "[13, 65, 135, 158]\n"
     ]
    }
   ],
   "source": [
    "_ = get_topics_distribution(predict_df)['Dominant_Topic'].values.tolist()\n",
    "\n",
    "print([i for i in range(300) if i not in _])"
   ]
  },
  {
   "cell_type": "code",
   "execution_count": 51,
   "metadata": {
    "hidden": true
   },
   "outputs": [
    {
     "data": {
      "text/html": [
       "<div>\n",
       "<style scoped>\n",
       "    .dataframe tbody tr th:only-of-type {\n",
       "        vertical-align: middle;\n",
       "    }\n",
       "\n",
       "    .dataframe tbody tr th {\n",
       "        vertical-align: top;\n",
       "    }\n",
       "\n",
       "    .dataframe thead th {\n",
       "        text-align: right;\n",
       "    }\n",
       "</style>\n",
       "<table border=\"1\" class=\"dataframe\">\n",
       "  <thead>\n",
       "    <tr style=\"text-align: right;\">\n",
       "      <th></th>\n",
       "      <th>0</th>\n",
       "      <th>1</th>\n",
       "      <th>2</th>\n",
       "      <th>3</th>\n",
       "      <th>4</th>\n",
       "      <th>5</th>\n",
       "      <th>6</th>\n",
       "      <th>7</th>\n",
       "      <th>8</th>\n",
       "      <th>9</th>\n",
       "      <th>...</th>\n",
       "      <th>290</th>\n",
       "      <th>291</th>\n",
       "      <th>292</th>\n",
       "      <th>293</th>\n",
       "      <th>294</th>\n",
       "      <th>295</th>\n",
       "      <th>296</th>\n",
       "      <th>297</th>\n",
       "      <th>298</th>\n",
       "      <th>299</th>\n",
       "    </tr>\n",
       "  </thead>\n",
       "  <tbody>\n",
       "    <tr>\n",
       "      <th>Topic_Id</th>\n",
       "      <td>0</td>\n",
       "      <td>1</td>\n",
       "      <td>2</td>\n",
       "      <td>3</td>\n",
       "      <td>4</td>\n",
       "      <td>5</td>\n",
       "      <td>6</td>\n",
       "      <td>7</td>\n",
       "      <td>8</td>\n",
       "      <td>9</td>\n",
       "      <td>...</td>\n",
       "      <td>290</td>\n",
       "      <td>291</td>\n",
       "      <td>292</td>\n",
       "      <td>293</td>\n",
       "      <td>294</td>\n",
       "      <td>295</td>\n",
       "      <td>296</td>\n",
       "      <td>297</td>\n",
       "      <td>298</td>\n",
       "      <td>299</td>\n",
       "    </tr>\n",
       "    <tr>\n",
       "      <th>Topic_Keywords</th>\n",
       "      <td>political, study, social, politics, discourse,...</td>\n",
       "      <td>disease, inflammatory, inflammation, therapeut...</td>\n",
       "      <td>delivery, release, deliver, based, develop, oa...</td>\n",
       "      <td>emission, fuel, gas, co2, carbon, reduction, c...</td>\n",
       "      <td>liver, development, sport, aim, major, event, ...</td>\n",
       "      <td>movement, home, people, rehabilitation, life, ...</td>\n",
       "      <td>chain, supply, business, market, sector, deman...</td>\n",
       "      <td>receptor, signalling, signaling, role, signal,...</td>\n",
       "      <td>public, citizen, community, engagement, privat...</td>\n",
       "      <td>ocean, marine, sea, ice, coastal, atlantic, sh...</td>\n",
       "      <td>...</td>\n",
       "      <td>approach, diversity, understanding, diverse, r...</td>\n",
       "      <td>skin, pain, regeneration, wound, healing, inju...</td>\n",
       "      <td>oil, friendly, eco, industry, innovative, envi...</td>\n",
       "      <td>strategy, needed, target, anti, effective, ide...</td>\n",
       "      <td>data, database, information, web, tool, open, ...</td>\n",
       "      <td>primary, mining, secondary, rare, critical, ex...</td>\n",
       "      <td>magnetic, field, spin, magnet, resonance, elec...</td>\n",
       "      <td>virus, vaccine, disease, infection, viral, vec...</td>\n",
       "      <td>light, led, shed, lighting, colour, display, o...</td>\n",
       "      <td>research, science, philosophy, practice, relat...</td>\n",
       "    </tr>\n",
       "  </tbody>\n",
       "</table>\n",
       "<p>2 rows × 300 columns</p>\n",
       "</div>"
      ],
      "text/plain": [
       "                                                              0    \\\n",
       "Topic_Id                                                        0   \n",
       "Topic_Keywords  political, study, social, politics, discourse,...   \n",
       "\n",
       "                                                              1    \\\n",
       "Topic_Id                                                        1   \n",
       "Topic_Keywords  disease, inflammatory, inflammation, therapeut...   \n",
       "\n",
       "                                                              2    \\\n",
       "Topic_Id                                                        2   \n",
       "Topic_Keywords  delivery, release, deliver, based, develop, oa...   \n",
       "\n",
       "                                                              3    \\\n",
       "Topic_Id                                                        3   \n",
       "Topic_Keywords  emission, fuel, gas, co2, carbon, reduction, c...   \n",
       "\n",
       "                                                              4    \\\n",
       "Topic_Id                                                        4   \n",
       "Topic_Keywords  liver, development, sport, aim, major, event, ...   \n",
       "\n",
       "                                                              5    \\\n",
       "Topic_Id                                                        5   \n",
       "Topic_Keywords  movement, home, people, rehabilitation, life, ...   \n",
       "\n",
       "                                                              6    \\\n",
       "Topic_Id                                                        6   \n",
       "Topic_Keywords  chain, supply, business, market, sector, deman...   \n",
       "\n",
       "                                                              7    \\\n",
       "Topic_Id                                                        7   \n",
       "Topic_Keywords  receptor, signalling, signaling, role, signal,...   \n",
       "\n",
       "                                                              8    \\\n",
       "Topic_Id                                                        8   \n",
       "Topic_Keywords  public, citizen, community, engagement, privat...   \n",
       "\n",
       "                                                              9    ...  \\\n",
       "Topic_Id                                                        9  ...   \n",
       "Topic_Keywords  ocean, marine, sea, ice, coastal, atlantic, sh...  ...   \n",
       "\n",
       "                                                              290  \\\n",
       "Topic_Id                                                      290   \n",
       "Topic_Keywords  approach, diversity, understanding, diverse, r...   \n",
       "\n",
       "                                                              291  \\\n",
       "Topic_Id                                                      291   \n",
       "Topic_Keywords  skin, pain, regeneration, wound, healing, inju...   \n",
       "\n",
       "                                                              292  \\\n",
       "Topic_Id                                                      292   \n",
       "Topic_Keywords  oil, friendly, eco, industry, innovative, envi...   \n",
       "\n",
       "                                                              293  \\\n",
       "Topic_Id                                                      293   \n",
       "Topic_Keywords  strategy, needed, target, anti, effective, ide...   \n",
       "\n",
       "                                                              294  \\\n",
       "Topic_Id                                                      294   \n",
       "Topic_Keywords  data, database, information, web, tool, open, ...   \n",
       "\n",
       "                                                              295  \\\n",
       "Topic_Id                                                      295   \n",
       "Topic_Keywords  primary, mining, secondary, rare, critical, ex...   \n",
       "\n",
       "                                                              296  \\\n",
       "Topic_Id                                                      296   \n",
       "Topic_Keywords  magnetic, field, spin, magnet, resonance, elec...   \n",
       "\n",
       "                                                              297  \\\n",
       "Topic_Id                                                      297   \n",
       "Topic_Keywords  virus, vaccine, disease, infection, viral, vec...   \n",
       "\n",
       "                                                              298  \\\n",
       "Topic_Id                                                      298   \n",
       "Topic_Keywords  light, led, shed, lighting, colour, display, o...   \n",
       "\n",
       "                                                              299  \n",
       "Topic_Id                                                      299  \n",
       "Topic_Keywords  research, science, philosophy, practice, relat...  \n",
       "\n",
       "[2 rows x 300 columns]"
      ]
     },
     "execution_count": 51,
     "metadata": {},
     "output_type": "execute_result"
    }
   ],
   "source": [
    "get_all_topics(model).T"
   ]
  },
  {
   "cell_type": "code",
   "execution_count": 52,
   "metadata": {
    "hidden": true
   },
   "outputs": [],
   "source": [
    "topics_df = get_all_topics(model)\n",
    "dist_df = get_topics_distribution(predict_df)[['Dominant_Topic', 'Num_Documents', 'Perc_Documents']]\n",
    "topics_df = topics_df.merge(dist_df, how='left', left_on='Topic_Id', right_on='Dominant_Topic').drop(columns='Dominant_Topic')"
   ]
  },
  {
   "cell_type": "code",
   "execution_count": 53,
   "metadata": {
    "hidden": true
   },
   "outputs": [
    {
     "data": {
      "text/html": [
       "<div>\n",
       "<style scoped>\n",
       "    .dataframe tbody tr th:only-of-type {\n",
       "        vertical-align: middle;\n",
       "    }\n",
       "\n",
       "    .dataframe tbody tr th {\n",
       "        vertical-align: top;\n",
       "    }\n",
       "\n",
       "    .dataframe thead th {\n",
       "        text-align: right;\n",
       "    }\n",
       "</style>\n",
       "<table border=\"1\" class=\"dataframe\">\n",
       "  <thead>\n",
       "    <tr style=\"text-align: right;\">\n",
       "      <th></th>\n",
       "      <th>0</th>\n",
       "      <th>1</th>\n",
       "      <th>2</th>\n",
       "      <th>3</th>\n",
       "      <th>4</th>\n",
       "      <th>5</th>\n",
       "      <th>6</th>\n",
       "      <th>7</th>\n",
       "      <th>8</th>\n",
       "      <th>9</th>\n",
       "      <th>...</th>\n",
       "      <th>290</th>\n",
       "      <th>291</th>\n",
       "      <th>292</th>\n",
       "      <th>293</th>\n",
       "      <th>294</th>\n",
       "      <th>295</th>\n",
       "      <th>296</th>\n",
       "      <th>297</th>\n",
       "      <th>298</th>\n",
       "      <th>299</th>\n",
       "    </tr>\n",
       "  </thead>\n",
       "  <tbody>\n",
       "    <tr>\n",
       "      <th>Topic_Id</th>\n",
       "      <td>0</td>\n",
       "      <td>1</td>\n",
       "      <td>2</td>\n",
       "      <td>3</td>\n",
       "      <td>4</td>\n",
       "      <td>5</td>\n",
       "      <td>6</td>\n",
       "      <td>7</td>\n",
       "      <td>8</td>\n",
       "      <td>9</td>\n",
       "      <td>...</td>\n",
       "      <td>290</td>\n",
       "      <td>291</td>\n",
       "      <td>292</td>\n",
       "      <td>293</td>\n",
       "      <td>294</td>\n",
       "      <td>295</td>\n",
       "      <td>296</td>\n",
       "      <td>297</td>\n",
       "      <td>298</td>\n",
       "      <td>299</td>\n",
       "    </tr>\n",
       "    <tr>\n",
       "      <th>Topic_Keywords</th>\n",
       "      <td>political, study, social, politics, discourse,...</td>\n",
       "      <td>disease, inflammatory, inflammation, therapeut...</td>\n",
       "      <td>delivery, release, deliver, based, develop, oa...</td>\n",
       "      <td>emission, fuel, gas, co2, carbon, reduction, c...</td>\n",
       "      <td>liver, development, sport, aim, major, event, ...</td>\n",
       "      <td>movement, home, people, rehabilitation, life, ...</td>\n",
       "      <td>chain, supply, business, market, sector, deman...</td>\n",
       "      <td>receptor, signalling, signaling, role, signal,...</td>\n",
       "      <td>public, citizen, community, engagement, privat...</td>\n",
       "      <td>ocean, marine, sea, ice, coastal, atlantic, sh...</td>\n",
       "      <td>...</td>\n",
       "      <td>approach, diversity, understanding, diverse, r...</td>\n",
       "      <td>skin, pain, regeneration, wound, healing, inju...</td>\n",
       "      <td>oil, friendly, eco, industry, innovative, envi...</td>\n",
       "      <td>strategy, needed, target, anti, effective, ide...</td>\n",
       "      <td>data, database, information, web, tool, open, ...</td>\n",
       "      <td>primary, mining, secondary, rare, critical, ex...</td>\n",
       "      <td>magnetic, field, spin, magnet, resonance, elec...</td>\n",
       "      <td>virus, vaccine, disease, infection, viral, vec...</td>\n",
       "      <td>light, led, shed, lighting, colour, display, o...</td>\n",
       "      <td>research, science, philosophy, practice, relat...</td>\n",
       "    </tr>\n",
       "    <tr>\n",
       "      <th>Num_Documents</th>\n",
       "      <td>249</td>\n",
       "      <td>122</td>\n",
       "      <td>55</td>\n",
       "      <td>211</td>\n",
       "      <td>47</td>\n",
       "      <td>139</td>\n",
       "      <td>58</td>\n",
       "      <td>126</td>\n",
       "      <td>103</td>\n",
       "      <td>151</td>\n",
       "      <td>...</td>\n",
       "      <td>6</td>\n",
       "      <td>98</td>\n",
       "      <td>42</td>\n",
       "      <td>22</td>\n",
       "      <td>88</td>\n",
       "      <td>55</td>\n",
       "      <td>138</td>\n",
       "      <td>226</td>\n",
       "      <td>76</td>\n",
       "      <td>100</td>\n",
       "    </tr>\n",
       "    <tr>\n",
       "      <th>Perc_Documents</th>\n",
       "      <td>0.0083</td>\n",
       "      <td>0.0041</td>\n",
       "      <td>0.0018</td>\n",
       "      <td>0.007</td>\n",
       "      <td>0.0016</td>\n",
       "      <td>0.0046</td>\n",
       "      <td>0.0019</td>\n",
       "      <td>0.0042</td>\n",
       "      <td>0.0034</td>\n",
       "      <td>0.005</td>\n",
       "      <td>...</td>\n",
       "      <td>0.0002</td>\n",
       "      <td>0.0033</td>\n",
       "      <td>0.0014</td>\n",
       "      <td>0.0007</td>\n",
       "      <td>0.0029</td>\n",
       "      <td>0.0018</td>\n",
       "      <td>0.0046</td>\n",
       "      <td>0.0075</td>\n",
       "      <td>0.0025</td>\n",
       "      <td>0.0033</td>\n",
       "    </tr>\n",
       "  </tbody>\n",
       "</table>\n",
       "<p>4 rows × 300 columns</p>\n",
       "</div>"
      ],
      "text/plain": [
       "                                                              0    \\\n",
       "Topic_Id                                                        0   \n",
       "Topic_Keywords  political, study, social, politics, discourse,...   \n",
       "Num_Documents                                                 249   \n",
       "Perc_Documents                                             0.0083   \n",
       "\n",
       "                                                              1    \\\n",
       "Topic_Id                                                        1   \n",
       "Topic_Keywords  disease, inflammatory, inflammation, therapeut...   \n",
       "Num_Documents                                                 122   \n",
       "Perc_Documents                                             0.0041   \n",
       "\n",
       "                                                              2    \\\n",
       "Topic_Id                                                        2   \n",
       "Topic_Keywords  delivery, release, deliver, based, develop, oa...   \n",
       "Num_Documents                                                  55   \n",
       "Perc_Documents                                             0.0018   \n",
       "\n",
       "                                                              3    \\\n",
       "Topic_Id                                                        3   \n",
       "Topic_Keywords  emission, fuel, gas, co2, carbon, reduction, c...   \n",
       "Num_Documents                                                 211   \n",
       "Perc_Documents                                              0.007   \n",
       "\n",
       "                                                              4    \\\n",
       "Topic_Id                                                        4   \n",
       "Topic_Keywords  liver, development, sport, aim, major, event, ...   \n",
       "Num_Documents                                                  47   \n",
       "Perc_Documents                                             0.0016   \n",
       "\n",
       "                                                              5    \\\n",
       "Topic_Id                                                        5   \n",
       "Topic_Keywords  movement, home, people, rehabilitation, life, ...   \n",
       "Num_Documents                                                 139   \n",
       "Perc_Documents                                             0.0046   \n",
       "\n",
       "                                                              6    \\\n",
       "Topic_Id                                                        6   \n",
       "Topic_Keywords  chain, supply, business, market, sector, deman...   \n",
       "Num_Documents                                                  58   \n",
       "Perc_Documents                                             0.0019   \n",
       "\n",
       "                                                              7    \\\n",
       "Topic_Id                                                        7   \n",
       "Topic_Keywords  receptor, signalling, signaling, role, signal,...   \n",
       "Num_Documents                                                 126   \n",
       "Perc_Documents                                             0.0042   \n",
       "\n",
       "                                                              8    \\\n",
       "Topic_Id                                                        8   \n",
       "Topic_Keywords  public, citizen, community, engagement, privat...   \n",
       "Num_Documents                                                 103   \n",
       "Perc_Documents                                             0.0034   \n",
       "\n",
       "                                                              9    ...  \\\n",
       "Topic_Id                                                        9  ...   \n",
       "Topic_Keywords  ocean, marine, sea, ice, coastal, atlantic, sh...  ...   \n",
       "Num_Documents                                                 151  ...   \n",
       "Perc_Documents                                              0.005  ...   \n",
       "\n",
       "                                                              290  \\\n",
       "Topic_Id                                                      290   \n",
       "Topic_Keywords  approach, diversity, understanding, diverse, r...   \n",
       "Num_Documents                                                   6   \n",
       "Perc_Documents                                             0.0002   \n",
       "\n",
       "                                                              291  \\\n",
       "Topic_Id                                                      291   \n",
       "Topic_Keywords  skin, pain, regeneration, wound, healing, inju...   \n",
       "Num_Documents                                                  98   \n",
       "Perc_Documents                                             0.0033   \n",
       "\n",
       "                                                              292  \\\n",
       "Topic_Id                                                      292   \n",
       "Topic_Keywords  oil, friendly, eco, industry, innovative, envi...   \n",
       "Num_Documents                                                  42   \n",
       "Perc_Documents                                             0.0014   \n",
       "\n",
       "                                                              293  \\\n",
       "Topic_Id                                                      293   \n",
       "Topic_Keywords  strategy, needed, target, anti, effective, ide...   \n",
       "Num_Documents                                                  22   \n",
       "Perc_Documents                                             0.0007   \n",
       "\n",
       "                                                              294  \\\n",
       "Topic_Id                                                      294   \n",
       "Topic_Keywords  data, database, information, web, tool, open, ...   \n",
       "Num_Documents                                                  88   \n",
       "Perc_Documents                                             0.0029   \n",
       "\n",
       "                                                              295  \\\n",
       "Topic_Id                                                      295   \n",
       "Topic_Keywords  primary, mining, secondary, rare, critical, ex...   \n",
       "Num_Documents                                                  55   \n",
       "Perc_Documents                                             0.0018   \n",
       "\n",
       "                                                              296  \\\n",
       "Topic_Id                                                      296   \n",
       "Topic_Keywords  magnetic, field, spin, magnet, resonance, elec...   \n",
       "Num_Documents                                                 138   \n",
       "Perc_Documents                                             0.0046   \n",
       "\n",
       "                                                              297  \\\n",
       "Topic_Id                                                      297   \n",
       "Topic_Keywords  virus, vaccine, disease, infection, viral, vec...   \n",
       "Num_Documents                                                 226   \n",
       "Perc_Documents                                             0.0075   \n",
       "\n",
       "                                                              298  \\\n",
       "Topic_Id                                                      298   \n",
       "Topic_Keywords  light, led, shed, lighting, colour, display, o...   \n",
       "Num_Documents                                                  76   \n",
       "Perc_Documents                                             0.0025   \n",
       "\n",
       "                                                              299  \n",
       "Topic_Id                                                      299  \n",
       "Topic_Keywords  research, science, philosophy, practice, relat...  \n",
       "Num_Documents                                                 100  \n",
       "Perc_Documents                                             0.0033  \n",
       "\n",
       "[4 rows x 300 columns]"
      ]
     },
     "execution_count": 53,
     "metadata": {},
     "output_type": "execute_result"
    }
   ],
   "source": [
    "topics_df.T"
   ]
  },
  {
   "cell_type": "code",
   "execution_count": 166,
   "metadata": {
    "hidden": true
   },
   "outputs": [],
   "source": [
    "# topics_df.to_csv('../output/topics_300.csv', index=False)"
   ]
  },
  {
   "cell_type": "markdown",
   "metadata": {},
   "source": [
    "## Search Terms"
   ]
  },
  {
   "cell_type": "code",
   "execution_count": 56,
   "metadata": {},
   "outputs": [],
   "source": [
    "sheets_dict = pd.read_excel('../data/Text mining word list test 200823.xlsx', None, header=None)\n",
    "search_terms = sheets_dict['Sheet2']\n",
    "search_terms = search_terms.values.flatten().tolist()"
   ]
  },
  {
   "cell_type": "code",
   "execution_count": 58,
   "metadata": {},
   "outputs": [
    {
     "data": {
      "text/plain": [
       "632"
      ]
     },
     "execution_count": 58,
     "metadata": {},
     "output_type": "execute_result"
    }
   ],
   "source": [
    "len(search_terms)"
   ]
  },
  {
   "cell_type": "code",
   "execution_count": 59,
   "metadata": {},
   "outputs": [
    {
     "name": "stdout",
     "output_type": "stream",
     "text": [
      "['gene regulatory', 'microbial', 'newborns', 'endonuclease', 'lymphoblastic leukemia', 'hemorrhage', 'mast cell', 'cardiac', 'autoimmune', 'medical device']\n"
     ]
    }
   ],
   "source": [
    "print(sample(search_terms, 10))"
   ]
  },
  {
   "cell_type": "code",
   "execution_count": 60,
   "metadata": {},
   "outputs": [
    {
     "data": {
      "text/plain": [
       "[['3d'], ['3d', 'genome'], ['3d', 'bioprinting'], ['acne'], ['acne', 'skin']]"
      ]
     },
     "execution_count": 60,
     "metadata": {},
     "output_type": "execute_result"
    }
   ],
   "source": [
    "search_docs = process_data(search_terms)\n",
    "search_docs[:5]"
   ]
  },
  {
   "cell_type": "code",
   "execution_count": 61,
   "metadata": {},
   "outputs": [],
   "source": [
    "# use list of vocabs as input to a dictionary\n",
    "search_dict = create_dictionary(search_docs, filter_extreme=False)"
   ]
  },
  {
   "cell_type": "code",
   "execution_count": 62,
   "metadata": {},
   "outputs": [
    {
     "data": {
      "text/plain": [
       "{'adipogenesis',\n",
       " 'amnesic',\n",
       " 'analgesia',\n",
       " 'autoinflammation',\n",
       " 'colo',\n",
       " 'exonuclease',\n",
       " 'flagellin',\n",
       " 'funtional',\n",
       " 'gluconeogenesis',\n",
       " 'jaundice',\n",
       " 'mait',\n",
       " 'micropeptides',\n",
       " 'multiomics',\n",
       " 'muscoloskeletal',\n",
       " 'myeloablation',\n",
       " 'neuromotor',\n",
       " 'nutrigenomics',\n",
       " 'postpartum',\n",
       " 'psychomotor',\n",
       " 'rheumatic'}"
      ]
     },
     "execution_count": 62,
     "metadata": {},
     "output_type": "execute_result"
    }
   ],
   "source": [
    "# examining intersection between dictionary and search_dictionary\n",
    "# terms in search_dict that are not in dictionary\n",
    "set(search_dict.values()) - set(dictionary.values()).intersection(set(search_dict.values()))"
   ]
  },
  {
   "cell_type": "code",
   "execution_count": 63,
   "metadata": {},
   "outputs": [
    {
     "data": {
      "text/plain": [
       "20"
      ]
     },
     "execution_count": 63,
     "metadata": {},
     "output_type": "execute_result"
    }
   ],
   "source": [
    "len(set(search_dict.values()) - set(dictionary.values()).intersection(set(search_dict.values())))"
   ]
  },
  {
   "cell_type": "code",
   "execution_count": 64,
   "metadata": {},
   "outputs": [
    {
     "data": {
      "text/plain": [
       "[-1]"
      ]
     },
     "execution_count": 64,
     "metadata": {},
     "output_type": "execute_result"
    }
   ],
   "source": [
    "dictionary.doc2idx(['amnesic'])"
   ]
  },
  {
   "cell_type": "markdown",
   "metadata": {},
   "source": [
    "### Examining topics extracted from searching words in dictionary"
   ]
  },
  {
   "cell_type": "code",
   "execution_count": 66,
   "metadata": {},
   "outputs": [],
   "source": [
    "# examining topics extracted from searching words in dictionary\n",
    "search_term_predictions = {}\n",
    "temp_model = ldamallet.malletmodel2ldamodel(model)\n",
    "for i in search_dict.values():\n",
    "    results = get_term_topics(temp_model, dictionary, i)\n",
    "    if results:    # also removes empty results\n",
    "        search_term_predictions[i] = results"
   ]
  },
  {
   "cell_type": "code",
   "execution_count": 67,
   "metadata": {},
   "outputs": [
    {
     "data": {
      "text/plain": [
       "269"
      ]
     },
     "execution_count": 67,
     "metadata": {},
     "output_type": "execute_result"
    }
   ],
   "source": [
    "len(search_term_predictions)"
   ]
  },
  {
   "cell_type": "code",
   "execution_count": 68,
   "metadata": {
    "scrolled": true
   },
   "outputs": [
    {
     "data": {
      "text/plain": [
       "0.4727592267135325"
      ]
     },
     "execution_count": 68,
     "metadata": {},
     "output_type": "execute_result"
    }
   ],
   "source": [
    "# 269 out of 569 search tokens (569 - 20 tokens in search_dict that are not in dictionary) return a topic from the model\n",
    "len(search_term_predictions) / len(search_dict)"
   ]
  },
  {
   "cell_type": "markdown",
   "metadata": {},
   "source": [
    "__Get topics and key words__"
   ]
  },
  {
   "cell_type": "code",
   "execution_count": 69,
   "metadata": {},
   "outputs": [
    {
     "data": {
      "text/html": [
       "<div>\n",
       "<style scoped>\n",
       "    .dataframe tbody tr th:only-of-type {\n",
       "        vertical-align: middle;\n",
       "    }\n",
       "\n",
       "    .dataframe tbody tr th {\n",
       "        vertical-align: top;\n",
       "    }\n",
       "\n",
       "    .dataframe thead th {\n",
       "        text-align: right;\n",
       "    }\n",
       "</style>\n",
       "<table border=\"1\" class=\"dataframe\">\n",
       "  <thead>\n",
       "    <tr style=\"text-align: right;\">\n",
       "      <th></th>\n",
       "      <th>Search_Term</th>\n",
       "      <th>Topic_ID</th>\n",
       "      <th>Topic_Prob</th>\n",
       "      <th>Topic_Keywords</th>\n",
       "    </tr>\n",
       "  </thead>\n",
       "  <tbody>\n",
       "    <tr>\n",
       "      <th>0</th>\n",
       "      <td>3d</td>\n",
       "      <td>44</td>\n",
       "      <td>0.257112</td>\n",
       "      <td>3d, printing, technology, printed, based, ink,...</td>\n",
       "    </tr>\n",
       "    <tr>\n",
       "      <th>1</th>\n",
       "      <td>genome</td>\n",
       "      <td>54</td>\n",
       "      <td>0.052382</td>\n",
       "      <td>gene, genetic, genome, expression, mutation, m...</td>\n",
       "    </tr>\n",
       "    <tr>\n",
       "      <th>2</th>\n",
       "      <td>genome</td>\n",
       "      <td>103</td>\n",
       "      <td>0.030095</td>\n",
       "      <td>dna, epigenetic, chromatin, replication, genom...</td>\n",
       "    </tr>\n",
       "    <tr>\n",
       "      <th>3</th>\n",
       "      <td>skin</td>\n",
       "      <td>291</td>\n",
       "      <td>0.063733</td>\n",
       "      <td>skin, pain, regeneration, wound, healing, inju...</td>\n",
       "    </tr>\n",
       "    <tr>\n",
       "      <th>4</th>\n",
       "      <td>acoustic</td>\n",
       "      <td>226</td>\n",
       "      <td>0.051384</td>\n",
       "      <td>sound, music, acoustic, performance, creative,...</td>\n",
       "    </tr>\n",
       "    <tr>\n",
       "      <th>5</th>\n",
       "      <td>biomaterials</td>\n",
       "      <td>111</td>\n",
       "      <td>0.015502</td>\n",
       "      <td>bone, implant, joint, tissue, cartilage, bioma...</td>\n",
       "    </tr>\n",
       "    <tr>\n",
       "      <th>6</th>\n",
       "      <td>active</td>\n",
       "      <td>101</td>\n",
       "      <td>0.200965</td>\n",
       "      <td>active, based, aim, passive, develop, proposed...</td>\n",
       "    </tr>\n",
       "    <tr>\n",
       "      <th>7</th>\n",
       "      <td>ageing</td>\n",
       "      <td>266</td>\n",
       "      <td>0.066623</td>\n",
       "      <td>life, ageing, people, age, population, aging, ...</td>\n",
       "    </tr>\n",
       "    <tr>\n",
       "      <th>8</th>\n",
       "      <td>adverse</td>\n",
       "      <td>86</td>\n",
       "      <td>0.010158</td>\n",
       "      <td>effect, impact, side, study, affect, outcome, ...</td>\n",
       "    </tr>\n",
       "    <tr>\n",
       "      <th>9</th>\n",
       "      <td>effect</td>\n",
       "      <td>86</td>\n",
       "      <td>0.305103</td>\n",
       "      <td>effect, impact, side, study, affect, outcome, ...</td>\n",
       "    </tr>\n",
       "  </tbody>\n",
       "</table>\n",
       "</div>"
      ],
      "text/plain": [
       "    Search_Term  Topic_ID  Topic_Prob  \\\n",
       "0            3d        44    0.257112   \n",
       "1        genome        54    0.052382   \n",
       "2        genome       103    0.030095   \n",
       "3          skin       291    0.063733   \n",
       "4      acoustic       226    0.051384   \n",
       "5  biomaterials       111    0.015502   \n",
       "6        active       101    0.200965   \n",
       "7        ageing       266    0.066623   \n",
       "8       adverse        86    0.010158   \n",
       "9        effect        86    0.305103   \n",
       "\n",
       "                                      Topic_Keywords  \n",
       "0  3d, printing, technology, printed, based, ink,...  \n",
       "1  gene, genetic, genome, expression, mutation, m...  \n",
       "2  dna, epigenetic, chromatin, replication, genom...  \n",
       "3  skin, pain, regeneration, wound, healing, inju...  \n",
       "4  sound, music, acoustic, performance, creative,...  \n",
       "5  bone, implant, joint, tissue, cartilage, bioma...  \n",
       "6  active, based, aim, passive, develop, proposed...  \n",
       "7  life, ageing, people, age, population, aging, ...  \n",
       "8  effect, impact, side, study, affect, outcome, ...  \n",
       "9  effect, impact, side, study, affect, outcome, ...  "
      ]
     },
     "execution_count": 69,
     "metadata": {},
     "output_type": "execute_result"
    }
   ],
   "source": [
    "search_terms_topic_df = format_term_search_results(model, search_term_predictions)\n",
    "search_terms_topic_df.head(10)"
   ]
  },
  {
   "cell_type": "code",
   "execution_count": 165,
   "metadata": {},
   "outputs": [],
   "source": [
    "search_terms_topic_df.to_csv('../output/search_terms_to_topic.csv', index=False)"
   ]
  },
  {
   "cell_type": "markdown",
   "metadata": {},
   "source": [
    "__More important keywords highlighted by Wenyu__"
   ]
  },
  {
   "cell_type": "code",
   "execution_count": 70,
   "metadata": {},
   "outputs": [
    {
     "data": {
      "text/plain": [
       "121"
      ]
     },
     "execution_count": 70,
     "metadata": {},
     "output_type": "execute_result"
    }
   ],
   "source": [
    "search_dict.token2id['crispr']"
   ]
  },
  {
   "cell_type": "code",
   "execution_count": 71,
   "metadata": {},
   "outputs": [
    {
     "data": {
      "text/plain": [
       "125"
      ]
     },
     "execution_count": 71,
     "metadata": {},
     "output_type": "execute_result"
    }
   ],
   "source": [
    "search_dict.token2id['rna']"
   ]
  },
  {
   "cell_type": "code",
   "execution_count": 72,
   "metadata": {},
   "outputs": [
    {
     "data": {
      "text/html": [
       "<div>\n",
       "<style scoped>\n",
       "    .dataframe tbody tr th:only-of-type {\n",
       "        vertical-align: middle;\n",
       "    }\n",
       "\n",
       "    .dataframe tbody tr th {\n",
       "        vertical-align: top;\n",
       "    }\n",
       "\n",
       "    .dataframe thead th {\n",
       "        text-align: right;\n",
       "    }\n",
       "</style>\n",
       "<table border=\"1\" class=\"dataframe\">\n",
       "  <thead>\n",
       "    <tr style=\"text-align: right;\">\n",
       "      <th></th>\n",
       "      <th>Search_Term</th>\n",
       "      <th>Topic_ID</th>\n",
       "      <th>Topic_Prob</th>\n",
       "      <th>Topic_Keywords</th>\n",
       "    </tr>\n",
       "  </thead>\n",
       "  <tbody>\n",
       "    <tr>\n",
       "      <th>129</th>\n",
       "      <td>crispr</td>\n",
       "      <td>54</td>\n",
       "      <td>0.017155</td>\n",
       "      <td>gene, genetic, genome, expression, mutation, m...</td>\n",
       "    </tr>\n",
       "  </tbody>\n",
       "</table>\n",
       "</div>"
      ],
      "text/plain": [
       "    Search_Term  Topic_ID  Topic_Prob  \\\n",
       "129      crispr        54    0.017155   \n",
       "\n",
       "                                        Topic_Keywords  \n",
       "129  gene, genetic, genome, expression, mutation, m...  "
      ]
     },
     "execution_count": 72,
     "metadata": {},
     "output_type": "execute_result"
    }
   ],
   "source": [
    "search_terms_topic_df[search_terms_topic_df['Search_Term'] == 'crispr']"
   ]
  },
  {
   "cell_type": "code",
   "execution_count": 73,
   "metadata": {},
   "outputs": [
    {
     "data": {
      "text/html": [
       "<div>\n",
       "<style scoped>\n",
       "    .dataframe tbody tr th:only-of-type {\n",
       "        vertical-align: middle;\n",
       "    }\n",
       "\n",
       "    .dataframe tbody tr th {\n",
       "        vertical-align: top;\n",
       "    }\n",
       "\n",
       "    .dataframe thead th {\n",
       "        text-align: right;\n",
       "    }\n",
       "</style>\n",
       "<table border=\"1\" class=\"dataframe\">\n",
       "  <thead>\n",
       "    <tr style=\"text-align: right;\">\n",
       "      <th></th>\n",
       "      <th>Search_Term</th>\n",
       "      <th>Topic_ID</th>\n",
       "      <th>Topic_Prob</th>\n",
       "      <th>Topic_Keywords</th>\n",
       "    </tr>\n",
       "  </thead>\n",
       "  <tbody>\n",
       "    <tr>\n",
       "      <th>133</th>\n",
       "      <td>rna</td>\n",
       "      <td>189</td>\n",
       "      <td>0.077636</td>\n",
       "      <td>protein, rna, mrna, function, gene, expression...</td>\n",
       "    </tr>\n",
       "  </tbody>\n",
       "</table>\n",
       "</div>"
      ],
      "text/plain": [
       "    Search_Term  Topic_ID  Topic_Prob  \\\n",
       "133         rna       189    0.077636   \n",
       "\n",
       "                                        Topic_Keywords  \n",
       "133  protein, rna, mrna, function, gene, expression...  "
      ]
     },
     "execution_count": 73,
     "metadata": {},
     "output_type": "execute_result"
    }
   ],
   "source": [
    "search_terms_topic_df[search_terms_topic_df['Search_Term'] == 'rna']"
   ]
  },
  {
   "cell_type": "code",
   "execution_count": 74,
   "metadata": {},
   "outputs": [
    {
     "data": {
      "text/plain": [
       "[('protein', 0.1646944316377235),\n",
       " ('rna', 0.07765995594487987),\n",
       " ('mrna', 0.02110547615388556),\n",
       " ('function', 0.021054249270016905),\n",
       " ('gene', 0.01946621587008862),\n",
       " ('expression', 0.019005173915270734),\n",
       " ('modification', 0.01849290507658419),\n",
       " ('cell', 0.01654628348957533),\n",
       " ('translation', 0.016034014650888787),\n",
       " ('cellular', 0.014343527483223196)]"
      ]
     },
     "execution_count": 74,
     "metadata": {},
     "output_type": "execute_result"
    }
   ],
   "source": [
    "model.show_topic(189)"
   ]
  },
  {
   "cell_type": "code",
   "execution_count": 76,
   "metadata": {},
   "outputs": [
    {
     "data": {
      "text/plain": [
       "[('gene', 0.12105997210599721),\n",
       " ('genetic', 0.06606893803546524),\n",
       " ('genome', 0.05240087666865909),\n",
       " ('expression', 0.036182506475393506),\n",
       " ('mutation', 0.02976688583383144),\n",
       " ('molecular', 0.02327156804144252),\n",
       " ('genomic', 0.020800956365809923),\n",
       " ('crispr', 0.017174736003187887),\n",
       " ('identify', 0.01701534170153417),\n",
       " ('sequencing', 0.016497310221159595)]"
      ]
     },
     "execution_count": 76,
     "metadata": {},
     "output_type": "execute_result"
    }
   ],
   "source": [
    "model.show_topic(54)"
   ]
  },
  {
   "cell_type": "markdown",
   "metadata": {
    "heading_collapsed": true
   },
   "source": [
    "### Search terms"
   ]
  },
  {
   "cell_type": "code",
   "execution_count": 53,
   "metadata": {
    "hidden": true
   },
   "outputs": [],
   "source": [
    "sheets_dict = pd.read_excel('../data/Text mining word list test 200823.xlsx', None, header=None)\n",
    "search_terms = sheets_dict['Sheet2']\n",
    "search_terms = search_terms.values.flatten().tolist()\n",
    "search_docs = process_data(search_terms)\n",
    "\n",
    "# use list of vocabs as input to a dictionary\n",
    "search_dict = create_dictionary(search_docs, filter_extreme=False)"
   ]
  },
  {
   "cell_type": "code",
   "execution_count": 58,
   "metadata": {
    "hidden": true
   },
   "outputs": [],
   "source": [
    "# examining topics extracted from searching words in dictionary\n",
    "search_term_predictions = {}\n",
    "temp_model = ldamallet.malletmodel2ldamodel(model)\n",
    "for i in search_dict.values():\n",
    "    results = get_term_topics(temp_model, filtered_dict, i)\n",
    "    if results:    # also removes empty results\n",
    "        search_term_predictions[i] = results"
   ]
  },
  {
   "cell_type": "code",
   "execution_count": 60,
   "metadata": {
    "hidden": true
   },
   "outputs": [
    {
     "name": "stdout",
     "output_type": "stream",
     "text": [
      "326\n"
     ]
    },
    {
     "data": {
      "text/plain": [
       "0.5729349736379613"
      ]
     },
     "execution_count": 60,
     "metadata": {},
     "output_type": "execute_result"
    }
   ],
   "source": [
    "print(len(search_term_predictions))\n",
    "\n",
    "# 269 out of 569 search tokens (569 - 20 tokens in search_dict that are not in dictionary) return a topic from the model\n",
    "len(search_term_predictions) / len(search_dict)"
   ]
  },
  {
   "cell_type": "code",
   "execution_count": 56,
   "metadata": {
    "hidden": true
   },
   "outputs": [
    {
     "name": "stdout",
     "output_type": "stream",
     "text": [
      "[(111, 0.1469877343272862)]\n",
      "['rna, mrna, translation, coding, function, regulation, expression, small, mirnas, protein']\n"
     ]
    }
   ],
   "source": [
    "print(get_term_topics(temp_model, filtered_dict, 'rna'))\n",
    "print(topics_df[topics_df['Topic_Id'] == 111]['Topic_Keywords'].values)"
   ]
  },
  {
   "cell_type": "code",
   "execution_count": 57,
   "metadata": {
    "hidden": true
   },
   "outputs": [
    {
     "name": "stdout",
     "output_type": "stream",
     "text": [
      "[(40, 0.02971713213547371)]\n",
      "['gene, genome, expression, genetic, mutation, crispr, editing, functional, identify, cas9']\n"
     ]
    }
   ],
   "source": [
    "print(get_term_topics(temp_model, filtered_dict, 'crispr'))\n",
    "print(topics_df[topics_df['Topic_Id'] == 40]['Topic_Keywords'].values)"
   ]
  },
  {
   "cell_type": "code",
   "execution_count": 63,
   "metadata": {
    "hidden": true,
    "scrolled": true
   },
   "outputs": [
    {
     "name": "stdout",
     "output_type": "stream",
     "text": [
      "[(144, 0.2478588130163367), (293, 0.016329431336412268)]\n",
      "['3d, image, object, camera, vision, computer, 2d, dimensional, reconstruction, capture']\n",
      "['tissue, regeneration, cell, regenerative, scaffold, vitro, biomaterials, oa, engineering, repair']\n"
     ]
    }
   ],
   "source": [
    "print(get_term_topics(temp_model, filtered_dict, '3d'))\n",
    "print(topics_df[topics_df['Topic_Id'] == 144]['Topic_Keywords'].values)\n",
    "print(topics_df[topics_df['Topic_Id'] == 293]['Topic_Keywords'].values)"
   ]
  },
  {
   "cell_type": "code",
   "execution_count": null,
   "metadata": {
    "hidden": true
   },
   "outputs": [],
   "source": [
    "# sample words not found\n",
    "search_term_predictions = {}\n",
    "temp_model = ldamallet.malletmodel2ldamodel(model)\n",
    "for i in search_dict.values():\n",
    "    results = get_term_topics(temp_model, filtered_dict, i)\n",
    "    if results:    # also removes empty results\n",
    "        search_term_predictions[i] = results"
   ]
  },
  {
   "cell_type": "code",
   "execution_count": 68,
   "metadata": {
    "hidden": true
   },
   "outputs": [
    {
     "data": {
      "text/plain": [
       "243"
      ]
     },
     "execution_count": 68,
     "metadata": {},
     "output_type": "execute_result"
    }
   ],
   "source": [
    "len([i for i in search_dict.values() if i not in search_term_predictions.keys()])"
   ]
  },
  {
   "cell_type": "code",
   "execution_count": 73,
   "metadata": {
    "hidden": true
   },
   "outputs": [
    {
     "name": "stdout",
     "output_type": "stream",
     "text": [
      "['mesenchymal', 'neurotransmitter', 'myopia', 'noncoding', 'neuromotor', 'flu', 'dendritic', 'borne', 'endonuclease', 'biomanufacturing', 'amnesic', 'organoid', 'activated', 'micropeptides', 'cardiometabolic', 'neoplasm', 'bowel', 'hypoxic', 'reticulum', 'allogeneic']\n"
     ]
    }
   ],
   "source": [
    "print(sample([i for i in search_dict.values() if i not in search_term_predictions.keys()], 20))"
   ]
  },
  {
   "cell_type": "code",
   "execution_count": 77,
   "metadata": {
    "hidden": true
   },
   "outputs": [],
   "source": [
    "_ = pd.read_csv('../output/cordis-h2020projects_with_topics.csv')\n",
    "old_topics_df = pd.read_csv('../output/topics_300.csv')"
   ]
  },
  {
   "cell_type": "code",
   "execution_count": 102,
   "metadata": {
    "hidden": true
   },
   "outputs": [
    {
     "data": {
      "text/html": [
       "<div>\n",
       "<style scoped>\n",
       "    .dataframe tbody tr th:only-of-type {\n",
       "        vertical-align: middle;\n",
       "    }\n",
       "\n",
       "    .dataframe tbody tr th {\n",
       "        vertical-align: top;\n",
       "    }\n",
       "\n",
       "    .dataframe thead th {\n",
       "        text-align: right;\n",
       "    }\n",
       "</style>\n",
       "<table border=\"1\" class=\"dataframe\">\n",
       "  <thead>\n",
       "    <tr style=\"text-align: right;\">\n",
       "      <th></th>\n",
       "      <th>Topic_Id</th>\n",
       "      <th>Topic_Keywords</th>\n",
       "      <th>Num_Documents</th>\n",
       "      <th>Perc_Documents</th>\n",
       "    </tr>\n",
       "  </thead>\n",
       "  <tbody>\n",
       "    <tr>\n",
       "      <th>54</th>\n",
       "      <td>54</td>\n",
       "      <td>gene, genetic, genome, expression, mutation, m...</td>\n",
       "      <td>179.0</td>\n",
       "      <td>0.006</td>\n",
       "    </tr>\n",
       "  </tbody>\n",
       "</table>\n",
       "</div>"
      ],
      "text/plain": [
       "    Topic_Id                                     Topic_Keywords  \\\n",
       "54        54  gene, genetic, genome, expression, mutation, m...   \n",
       "\n",
       "    Num_Documents  Perc_Documents  \n",
       "54          179.0           0.006  "
      ]
     },
     "execution_count": 102,
     "metadata": {},
     "output_type": "execute_result"
    }
   ],
   "source": [
    "old_topics_df.loc[[54]]"
   ]
  },
  {
   "cell_type": "code",
   "execution_count": 100,
   "metadata": {
    "hidden": true
   },
   "outputs": [
    {
     "data": {
      "text/plain": [
       "179"
      ]
     },
     "execution_count": 100,
     "metadata": {},
     "output_type": "execute_result"
    }
   ],
   "source": [
    "len(_.loc[['crispr' in i for i in _['Topic_Keywords']]])"
   ]
  },
  {
   "cell_type": "code",
   "execution_count": 112,
   "metadata": {
    "hidden": true,
    "scrolled": true
   },
   "outputs": [
    {
     "data": {
      "text/plain": [
       "{15,\n",
       " 162,\n",
       " 290,\n",
       " 444,\n",
       " 457,\n",
       " 869,\n",
       " 946,\n",
       " 994,\n",
       " 995,\n",
       " 1001,\n",
       " 1005,\n",
       " 1007,\n",
       " 1008,\n",
       " 1017,\n",
       " 1093,\n",
       " 1224,\n",
       " 1225,\n",
       " 1392,\n",
       " 1625,\n",
       " 1878,\n",
       " 1879,\n",
       " 1976,\n",
       " 3626,\n",
       " 3916,\n",
       " 4247,\n",
       " 4263,\n",
       " 4380,\n",
       " 4505,\n",
       " 4514,\n",
       " 4515,\n",
       " 5137,\n",
       " 5161,\n",
       " 5189,\n",
       " 5657,\n",
       " 5832,\n",
       " 6427,\n",
       " 6432,\n",
       " 6436,\n",
       " 6562,\n",
       " 6567,\n",
       " 6570,\n",
       " 6574,\n",
       " 6576,\n",
       " 6583,\n",
       " 6588,\n",
       " 6597,\n",
       " 6598,\n",
       " 6619,\n",
       " 6689,\n",
       " 6854,\n",
       " 6870,\n",
       " 6886,\n",
       " 6891,\n",
       " 7131,\n",
       " 7316,\n",
       " 7500,\n",
       " 7595,\n",
       " 7669,\n",
       " 8493,\n",
       " 8650,\n",
       " 9060,\n",
       " 9062,\n",
       " 9071,\n",
       " 9075,\n",
       " 9076,\n",
       " 9085,\n",
       " 9088,\n",
       " 9089,\n",
       " 9091,\n",
       " 9107,\n",
       " 9363,\n",
       " 9418,\n",
       " 9666,\n",
       " 9848,\n",
       " 10004,\n",
       " 10014,\n",
       " 10015,\n",
       " 10017,\n",
       " 10023,\n",
       " 10034,\n",
       " 10374,\n",
       " 10390,\n",
       " 10507,\n",
       " 10515,\n",
       " 10601,\n",
       " 10618,\n",
       " 10669,\n",
       " 10738,\n",
       " 10743,\n",
       " 10826,\n",
       " 11066,\n",
       " 11514,\n",
       " 11682,\n",
       " 11737,\n",
       " 11804,\n",
       " 11823,\n",
       " 12179,\n",
       " 13482,\n",
       " 13563,\n",
       " 15009,\n",
       " 15040,\n",
       " 15552,\n",
       " 15627,\n",
       " 15693,\n",
       " 15818,\n",
       " 16664,\n",
       " 16706,\n",
       " 17521,\n",
       " 18168,\n",
       " 18288,\n",
       " 18370,\n",
       " 18378,\n",
       " 18600,\n",
       " 18671,\n",
       " 19143,\n",
       " 19144,\n",
       " 19159,\n",
       " 19162,\n",
       " 19382,\n",
       " 19385,\n",
       " 19940,\n",
       " 20001,\n",
       " 20179,\n",
       " 20517,\n",
       " 20627,\n",
       " 20786,\n",
       " 21316,\n",
       " 21602,\n",
       " 21694,\n",
       " 22367,\n",
       " 22368,\n",
       " 22428,\n",
       " 22454,\n",
       " 22461,\n",
       " 22462,\n",
       " 22463,\n",
       " 22613,\n",
       " 23236,\n",
       " 23257,\n",
       " 23671,\n",
       " 23828,\n",
       " 23904,\n",
       " 23917,\n",
       " 24594,\n",
       " 25234,\n",
       " 25246,\n",
       " 25252,\n",
       " 25256,\n",
       " 25260,\n",
       " 25262,\n",
       " 25264,\n",
       " 25276,\n",
       " 25277,\n",
       " 25284,\n",
       " 25287,\n",
       " 25290,\n",
       " 25323,\n",
       " 25916,\n",
       " 26014,\n",
       " 26068,\n",
       " 26178,\n",
       " 26483,\n",
       " 26579,\n",
       " 26598,\n",
       " 26651,\n",
       " 26760,\n",
       " 26832,\n",
       " 27094,\n",
       " 27849,\n",
       " 28320,\n",
       " 28334,\n",
       " 28374,\n",
       " 28446,\n",
       " 28890,\n",
       " 29007,\n",
       " 29240,\n",
       " 29300,\n",
       " 29448,\n",
       " 29712}"
      ]
     },
     "execution_count": 112,
     "metadata": {},
     "output_type": "execute_result"
    }
   ],
   "source": [
    "set(_.loc[['crispr' in i for i in _['Topic_Keywords']]].index.values)"
   ]
  },
  {
   "cell_type": "code",
   "execution_count": 113,
   "metadata": {
    "collapsed": true,
    "hidden": true
   },
   "outputs": [
    {
     "data": {
      "text/html": [
       "<div>\n",
       "<style scoped>\n",
       "    .dataframe tbody tr th:only-of-type {\n",
       "        vertical-align: middle;\n",
       "    }\n",
       "\n",
       "    .dataframe tbody tr th {\n",
       "        vertical-align: top;\n",
       "    }\n",
       "\n",
       "    .dataframe thead th {\n",
       "        text-align: right;\n",
       "    }\n",
       "</style>\n",
       "<table border=\"1\" class=\"dataframe\">\n",
       "  <thead>\n",
       "    <tr style=\"text-align: right;\">\n",
       "      <th></th>\n",
       "      <th>rcn</th>\n",
       "      <th>id</th>\n",
       "      <th>acronym</th>\n",
       "      <th>status</th>\n",
       "      <th>programme</th>\n",
       "      <th>topics</th>\n",
       "      <th>frameworkProgramme</th>\n",
       "      <th>title</th>\n",
       "      <th>startDate</th>\n",
       "      <th>endDate</th>\n",
       "      <th>...</th>\n",
       "      <th>call</th>\n",
       "      <th>fundingScheme</th>\n",
       "      <th>coordinator</th>\n",
       "      <th>coordinatorCountry</th>\n",
       "      <th>participants</th>\n",
       "      <th>participantCountries</th>\n",
       "      <th>subjects</th>\n",
       "      <th>Topic_Id</th>\n",
       "      <th>Topic_Prob</th>\n",
       "      <th>Topic_Keywords</th>\n",
       "    </tr>\n",
       "  </thead>\n",
       "  <tbody>\n",
       "    <tr>\n",
       "      <th>0</th>\n",
       "      <td>207037</td>\n",
       "      <td>734211</td>\n",
       "      <td>INTERACT</td>\n",
       "      <td>SIGNED</td>\n",
       "      <td>H2020-EU.1.3.3.</td>\n",
       "      <td>MSCA-RISE-2016</td>\n",
       "      <td>H2020</td>\n",
       "      <td>The INTERnAtional network on Crisis Translation</td>\n",
       "      <td>2017-04-01</td>\n",
       "      <td>2020-03-31</td>\n",
       "      <td>...</td>\n",
       "      <td>H2020-MSCA-RISE-2016</td>\n",
       "      <td>MSCA-RISE</td>\n",
       "      <td>DUBLIN CITY UNIVERSITY</td>\n",
       "      <td>IE</td>\n",
       "      <td>THE COCHRANE COLLABORATION;UNIVERSITY COLLEGE ...</td>\n",
       "      <td>UK;PT</td>\n",
       "      <td>NaN</td>\n",
       "      <td>280.0</td>\n",
       "      <td>0.1301</td>\n",
       "      <td>language, speech, linguistic, word, natural, m...</td>\n",
       "    </tr>\n",
       "    <tr>\n",
       "      <th>1</th>\n",
       "      <td>199028</td>\n",
       "      <td>686987</td>\n",
       "      <td>BrainHack</td>\n",
       "      <td>SIGNED</td>\n",
       "      <td>H2020-EU.1.2.1.</td>\n",
       "      <td>FETOPEN-CSA-FETEXCHANGE-2015</td>\n",
       "      <td>H2020</td>\n",
       "      <td>BrainHack: Bringing the arts and sciences of b...</td>\n",
       "      <td>2016-01-01</td>\n",
       "      <td>2017-12-31</td>\n",
       "      <td>...</td>\n",
       "      <td>H2020-FETOPEN-2015-CSA</td>\n",
       "      <td>CSA</td>\n",
       "      <td>TECHNISCHE UNIVERSITEIT DELFT</td>\n",
       "      <td>NL</td>\n",
       "      <td>THE PROVOST, FELLOWS, FOUNDATION SCHOLARS &amp; TH...</td>\n",
       "      <td>IE;PT;CZ;NL;IT;EE</td>\n",
       "      <td>NaN</td>\n",
       "      <td>183.0</td>\n",
       "      <td>0.1108</td>\n",
       "      <td>science, research, scientific, conference, sci...</td>\n",
       "    </tr>\n",
       "    <tr>\n",
       "      <th>2</th>\n",
       "      <td>207221</td>\n",
       "      <td>733174</td>\n",
       "      <td>IMPACT TB</td>\n",
       "      <td>SIGNED</td>\n",
       "      <td>H2020-EU.3.1.6.</td>\n",
       "      <td>SC1-PM-21-2016</td>\n",
       "      <td>H2020</td>\n",
       "      <td>IMPACT TB: Implementing proven community-based...</td>\n",
       "      <td>2017-01-01</td>\n",
       "      <td>2019-12-31</td>\n",
       "      <td>...</td>\n",
       "      <td>H2020-SC1-2016-RTD</td>\n",
       "      <td>RIA</td>\n",
       "      <td>LIVERPOOL SCHOOL OF TROPICAL MEDICINE</td>\n",
       "      <td>UK</td>\n",
       "      <td>KONINKLIJKE NEDERLANDSE CENTRALE VERENIGING TO...</td>\n",
       "      <td>NL;NP;SE;DE</td>\n",
       "      <td>NaN</td>\n",
       "      <td>63.0</td>\n",
       "      <td>0.1312</td>\n",
       "      <td>health, intervention, care, mental, evidence, ...</td>\n",
       "    </tr>\n",
       "    <tr>\n",
       "      <th>3</th>\n",
       "      <td>207786</td>\n",
       "      <td>700512</td>\n",
       "      <td>CortIMod</td>\n",
       "      <td>CLOSED</td>\n",
       "      <td>H2020-EU.1.3.2.</td>\n",
       "      <td>MSCA-IF-2015-EF</td>\n",
       "      <td>H2020</td>\n",
       "      <td>Implementation and Preliminary Validation of a...</td>\n",
       "      <td>2016-11-01</td>\n",
       "      <td>2018-11-27</td>\n",
       "      <td>...</td>\n",
       "      <td>H2020-MSCA-IF-2015</td>\n",
       "      <td>MSCA-IF-EF-ST</td>\n",
       "      <td>UNIVERSITY COLLEGE LONDON</td>\n",
       "      <td>UK</td>\n",
       "      <td>NaN</td>\n",
       "      <td>NaN</td>\n",
       "      <td>NaN</td>\n",
       "      <td>150.0</td>\n",
       "      <td>0.0991</td>\n",
       "      <td>brain, cognitive, disorder, neural, neuroscien...</td>\n",
       "    </tr>\n",
       "    <tr>\n",
       "      <th>4</th>\n",
       "      <td>198320</td>\n",
       "      <td>676144</td>\n",
       "      <td>SyDAD</td>\n",
       "      <td>SIGNED</td>\n",
       "      <td>H2020-EU.1.3.1.</td>\n",
       "      <td>MSCA-ITN-2015-ETN</td>\n",
       "      <td>H2020</td>\n",
       "      <td>Synaptic Dysfunction in Alzheimer Disease</td>\n",
       "      <td>2015-11-01</td>\n",
       "      <td>2019-10-31</td>\n",
       "      <td>...</td>\n",
       "      <td>H2020-MSCA-ITN-2015</td>\n",
       "      <td>MSCA-ITN-ETN</td>\n",
       "      <td>KAROLINSKA INSTITUTET</td>\n",
       "      <td>SE</td>\n",
       "      <td>AXON NEUROSCIENCE SE;DEUTSCHES ZENTRUM FUR NEU...</td>\n",
       "      <td>SK;DE;FR;IT;BE</td>\n",
       "      <td>NaN</td>\n",
       "      <td>15.0</td>\n",
       "      <td>0.1909</td>\n",
       "      <td>training, research, academic, researcher, esr,...</td>\n",
       "    </tr>\n",
       "  </tbody>\n",
       "</table>\n",
       "<p>5 rows × 24 columns</p>\n",
       "</div>"
      ],
      "text/plain": [
       "      rcn      id    acronym  status        programme  \\\n",
       "0  207037  734211   INTERACT  SIGNED  H2020-EU.1.3.3.   \n",
       "1  199028  686987  BrainHack  SIGNED  H2020-EU.1.2.1.   \n",
       "2  207221  733174  IMPACT TB  SIGNED  H2020-EU.3.1.6.   \n",
       "3  207786  700512   CortIMod  CLOSED  H2020-EU.1.3.2.   \n",
       "4  198320  676144      SyDAD  SIGNED  H2020-EU.1.3.1.   \n",
       "\n",
       "                         topics frameworkProgramme  \\\n",
       "0                MSCA-RISE-2016              H2020   \n",
       "1  FETOPEN-CSA-FETEXCHANGE-2015              H2020   \n",
       "2                SC1-PM-21-2016              H2020   \n",
       "3               MSCA-IF-2015-EF              H2020   \n",
       "4             MSCA-ITN-2015-ETN              H2020   \n",
       "\n",
       "                                               title   startDate     endDate  \\\n",
       "0    The INTERnAtional network on Crisis Translation  2017-04-01  2020-03-31   \n",
       "1  BrainHack: Bringing the arts and sciences of b...  2016-01-01  2017-12-31   \n",
       "2  IMPACT TB: Implementing proven community-based...  2017-01-01  2019-12-31   \n",
       "3  Implementation and Preliminary Validation of a...  2016-11-01  2018-11-27   \n",
       "4          Synaptic Dysfunction in Alzheimer Disease  2015-11-01  2019-10-31   \n",
       "\n",
       "   ...                    call  fundingScheme  \\\n",
       "0  ...    H2020-MSCA-RISE-2016      MSCA-RISE   \n",
       "1  ...  H2020-FETOPEN-2015-CSA            CSA   \n",
       "2  ...      H2020-SC1-2016-RTD            RIA   \n",
       "3  ...      H2020-MSCA-IF-2015  MSCA-IF-EF-ST   \n",
       "4  ...     H2020-MSCA-ITN-2015   MSCA-ITN-ETN   \n",
       "\n",
       "                             coordinator  coordinatorCountry  \\\n",
       "0                 DUBLIN CITY UNIVERSITY                  IE   \n",
       "1          TECHNISCHE UNIVERSITEIT DELFT                  NL   \n",
       "2  LIVERPOOL SCHOOL OF TROPICAL MEDICINE                  UK   \n",
       "3              UNIVERSITY COLLEGE LONDON                  UK   \n",
       "4                  KAROLINSKA INSTITUTET                  SE   \n",
       "\n",
       "                                        participants participantCountries  \\\n",
       "0  THE COCHRANE COLLABORATION;UNIVERSITY COLLEGE ...                UK;PT   \n",
       "1  THE PROVOST, FELLOWS, FOUNDATION SCHOLARS & TH...    IE;PT;CZ;NL;IT;EE   \n",
       "2  KONINKLIJKE NEDERLANDSE CENTRALE VERENIGING TO...          NL;NP;SE;DE   \n",
       "3                                                NaN                  NaN   \n",
       "4  AXON NEUROSCIENCE SE;DEUTSCHES ZENTRUM FUR NEU...       SK;DE;FR;IT;BE   \n",
       "\n",
       "  subjects Topic_Id Topic_Prob  \\\n",
       "0      NaN    280.0     0.1301   \n",
       "1      NaN    183.0     0.1108   \n",
       "2      NaN     63.0     0.1312   \n",
       "3      NaN    150.0     0.0991   \n",
       "4      NaN     15.0     0.1909   \n",
       "\n",
       "                                      Topic_Keywords  \n",
       "0  language, speech, linguistic, word, natural, m...  \n",
       "1  science, research, scientific, conference, sci...  \n",
       "2  health, intervention, care, mental, evidence, ...  \n",
       "3  brain, cognitive, disorder, neural, neuroscien...  \n",
       "4  training, research, academic, researcher, esr,...  \n",
       "\n",
       "[5 rows x 24 columns]"
      ]
     },
     "execution_count": 113,
     "metadata": {},
     "output_type": "execute_result"
    }
   ],
   "source": [
    "_.head()"
   ]
  },
  {
   "cell_type": "code",
   "execution_count": 127,
   "metadata": {
    "hidden": true
   },
   "outputs": [
    {
     "data": {
      "text/plain": [
       "'Revealing Allele-level Regulation and Dynamics using Single-cell Gene Expression Analyses As diploid organisms inherit one gene copy from each parent, a gene can be expressed from both alleles (biallelic) or from only one allele (monoallelic). Although transcription from both alleles is detected for most genes in cell population experiments, little is known about allele-specific expression in single cells and its phenotypic consequences. To answer fundamental questions about allelic transcription heterogeneity in single cells, this research program will focus on single-cell transcriptome analyses with allelic-origin resolution. To this end, we will investigate both clonally stable and dynamic random monoallelic expression across a large number of cell types, including cells from embryonic and adult stages. This research program will be accomplished with the novel single-cell RNA-seq method developed within my lab to obtain quantitative, genome-wide gene expression measurement. To distinguish between mitotically stable and dynamic patterns of allelic expression, we will analyze large numbers a clonally related cells per cell type, from both primary cultures (in vitro) and using transgenic models to obtain clonally related cells in vivo.\\n\\nThe biological significance of the research program is first an understanding of allelic transcription, including the nature and extent of random monoallelic expression across in vivo tissues and cell types. These novel insights into allelic transcription will be important for an improved understanding of how variable phenotypes (e.g. incomplete penetrance and variable expressivity) can arise in genetically identical individuals. Additionally, the single-cell transcriptome analyses of clonally related cells in vivo will provide unique insights into the clonality of gene expression per se.'"
      ]
     },
     "execution_count": 127,
     "metadata": {},
     "output_type": "execute_result"
    }
   ],
   "source": [
    "data[15]"
   ]
  },
  {
   "cell_type": "code",
   "execution_count": 136,
   "metadata": {
    "hidden": true
   },
   "outputs": [
    {
     "data": {
      "text/html": [
       "<div>\n",
       "<style scoped>\n",
       "    .dataframe tbody tr th:only-of-type {\n",
       "        vertical-align: middle;\n",
       "    }\n",
       "\n",
       "    .dataframe tbody tr th {\n",
       "        vertical-align: top;\n",
       "    }\n",
       "\n",
       "    .dataframe thead th {\n",
       "        text-align: right;\n",
       "    }\n",
       "</style>\n",
       "<table border=\"1\" class=\"dataframe\">\n",
       "  <thead>\n",
       "    <tr style=\"text-align: right;\">\n",
       "      <th></th>\n",
       "      <th>Topic_Id</th>\n",
       "      <th>Topic_Keywords</th>\n",
       "    </tr>\n",
       "  </thead>\n",
       "  <tbody>\n",
       "    <tr>\n",
       "      <th>40</th>\n",
       "      <td>40</td>\n",
       "      <td>gene, genome, expression, genetic, mutation, c...</td>\n",
       "    </tr>\n",
       "  </tbody>\n",
       "</table>\n",
       "</div>"
      ],
      "text/plain": [
       "    Topic_Id                                     Topic_Keywords\n",
       "40        40  gene, genome, expression, genetic, mutation, c..."
      ]
     },
     "execution_count": 136,
     "metadata": {},
     "output_type": "execute_result"
    }
   ],
   "source": [
    "get_all_topics(model)[['crispr' in i for i in get_all_topics(model)['Topic_Keywords']]]"
   ]
  },
  {
   "cell_type": "code",
   "execution_count": 114,
   "metadata": {
    "hidden": true,
    "scrolled": true
   },
   "outputs": [
    {
     "data": {
      "text/html": [
       "<div>\n",
       "<style scoped>\n",
       "    .dataframe tbody tr th:only-of-type {\n",
       "        vertical-align: middle;\n",
       "    }\n",
       "\n",
       "    .dataframe tbody tr th {\n",
       "        vertical-align: top;\n",
       "    }\n",
       "\n",
       "    .dataframe thead th {\n",
       "        text-align: right;\n",
       "    }\n",
       "</style>\n",
       "<table border=\"1\" class=\"dataframe\">\n",
       "  <thead>\n",
       "    <tr style=\"text-align: right;\">\n",
       "      <th></th>\n",
       "      <th>Document_No</th>\n",
       "      <th>Dominant_Topic</th>\n",
       "      <th>Topic_Prob</th>\n",
       "      <th>Topic_Keywords</th>\n",
       "      <th>Text</th>\n",
       "    </tr>\n",
       "  </thead>\n",
       "  <tbody>\n",
       "    <tr>\n",
       "      <th>0</th>\n",
       "      <td>0</td>\n",
       "      <td>154.0</td>\n",
       "      <td>0.1402</td>\n",
       "      <td>web, knowledge, search, translation, informati...</td>\n",
       "      <td>The INTERnAtional network on Crisis Translatio...</td>\n",
       "    </tr>\n",
       "    <tr>\n",
       "      <th>1</th>\n",
       "      <td>1</td>\n",
       "      <td>297.0</td>\n",
       "      <td>0.3003</td>\n",
       "      <td>intervention, country, implementation, effecti...</td>\n",
       "      <td>IMPACT TB: Implementing proven community-based...</td>\n",
       "    </tr>\n",
       "    <tr>\n",
       "      <th>2</th>\n",
       "      <td>2</td>\n",
       "      <td>219.0</td>\n",
       "      <td>0.1155</td>\n",
       "      <td>motor, movement, muscle, rehabilitation, recov...</td>\n",
       "      <td>Implementation and Preliminary Validation of a...</td>\n",
       "    </tr>\n",
       "    <tr>\n",
       "      <th>3</th>\n",
       "      <td>3</td>\n",
       "      <td>215.0</td>\n",
       "      <td>0.1571</td>\n",
       "      <td>training, research, researcher, esr, skill, pr...</td>\n",
       "      <td>Synaptic Dysfunction in Alzheimer Disease Give...</td>\n",
       "    </tr>\n",
       "    <tr>\n",
       "      <th>4</th>\n",
       "      <td>4</td>\n",
       "      <td>11.0</td>\n",
       "      <td>0.1028</td>\n",
       "      <td>epigenetic, chromatin, methylation, modificati...</td>\n",
       "      <td>Reversing the epigenetic state of oligodendroc...</td>\n",
       "    </tr>\n",
       "  </tbody>\n",
       "</table>\n",
       "</div>"
      ],
      "text/plain": [
       "   Document_No  Dominant_Topic  Topic_Prob  \\\n",
       "0            0           154.0      0.1402   \n",
       "1            1           297.0      0.3003   \n",
       "2            2           219.0      0.1155   \n",
       "3            3           215.0      0.1571   \n",
       "4            4            11.0      0.1028   \n",
       "\n",
       "                                      Topic_Keywords  \\\n",
       "0  web, knowledge, search, translation, informati...   \n",
       "1  intervention, country, implementation, effecti...   \n",
       "2  motor, movement, muscle, rehabilitation, recov...   \n",
       "3  training, research, researcher, esr, skill, pr...   \n",
       "4  epigenetic, chromatin, methylation, modificati...   \n",
       "\n",
       "                                                Text  \n",
       "0  The INTERnAtional network on Crisis Translatio...  \n",
       "1  IMPACT TB: Implementing proven community-based...  \n",
       "2  Implementation and Preliminary Validation of a...  \n",
       "3  Synaptic Dysfunction in Alzheimer Disease Give...  \n",
       "4  Reversing the epigenetic state of oligodendroc...  "
      ]
     },
     "execution_count": 114,
     "metadata": {},
     "output_type": "execute_result"
    }
   ],
   "source": [
    "predict_df.head()"
   ]
  },
  {
   "cell_type": "code",
   "execution_count": 139,
   "metadata": {
    "hidden": true,
    "scrolled": true
   },
   "outputs": [
    {
     "data": {
      "text/plain": [
       "{15,\n",
       " 290,\n",
       " 910,\n",
       " 988,\n",
       " 995,\n",
       " 1008,\n",
       " 1017,\n",
       " 1093,\n",
       " 1224,\n",
       " 1392,\n",
       " 1879,\n",
       " 3831,\n",
       " 3916,\n",
       " 4515,\n",
       " 5657,\n",
       " 5832,\n",
       " 6432,\n",
       " 6514,\n",
       " 6566,\n",
       " 6567,\n",
       " 6570,\n",
       " 6574,\n",
       " 6597,\n",
       " 6619,\n",
       " 6854,\n",
       " 6891,\n",
       " 7316,\n",
       " 7500,\n",
       " 7595,\n",
       " 8493,\n",
       " 9062,\n",
       " 9070,\n",
       " 9071,\n",
       " 9076,\n",
       " 9091,\n",
       " 9097,\n",
       " 9109,\n",
       " 9358,\n",
       " 9363,\n",
       " 10515,\n",
       " 10601,\n",
       " 10669,\n",
       " 10738,\n",
       " 11823,\n",
       " 12166,\n",
       " 13358,\n",
       " 15552,\n",
       " 15818,\n",
       " 16316,\n",
       " 16343,\n",
       " 16664,\n",
       " 16706,\n",
       " 17521,\n",
       " 18288,\n",
       " 18381,\n",
       " 19385,\n",
       " 20371,\n",
       " 20627,\n",
       " 22367,\n",
       " 22372,\n",
       " 22447,\n",
       " 22461,\n",
       " 22462,\n",
       " 22525,\n",
       " 22613,\n",
       " 23236,\n",
       " 23257,\n",
       " 23777,\n",
       " 23828,\n",
       " 25245,\n",
       " 25246,\n",
       " 25252,\n",
       " 25262,\n",
       " 25276,\n",
       " 25293,\n",
       " 25298,\n",
       " 25299,\n",
       " 25323,\n",
       " 25916,\n",
       " 26068,\n",
       " 26598,\n",
       " 26651,\n",
       " 26760,\n",
       " 27302,\n",
       " 27323,\n",
       " 27379,\n",
       " 28320,\n",
       " 28334,\n",
       " 28374,\n",
       " 28377,\n",
       " 28446,\n",
       " 29007,\n",
       " 29300,\n",
       " 29307,\n",
       " 29712}"
      ]
     },
     "execution_count": 139,
     "metadata": {},
     "output_type": "execute_result"
    }
   ],
   "source": [
    "set(predict_df.loc[['crispr' in i for i in predict_df['Topic_Keywords']]]['Document_No'].values)"
   ]
  },
  {
   "cell_type": "code",
   "execution_count": 140,
   "metadata": {
    "hidden": true
   },
   "outputs": [
    {
     "data": {
      "text/plain": [
       "[(7, 0.08553355335533581),\n",
       " (183, 0.07398239823982422),\n",
       " (190, 0.05583058305830603),\n",
       " (36, 0.044829482948294974),\n",
       " (122, 0.03382838283828393),\n",
       " (251, 0.02502750275027511),\n",
       " (15, 0.025027502750275106),\n",
       " (220, 0.0228272827282729),\n",
       " (109, 0.021727172717271797),\n",
       " (175, 0.021177117711771252),\n",
       " (267, 0.019526952695269592),\n",
       " (81, 0.017876787678767936),\n",
       " (297, 0.017326732673267384),\n",
       " (56, 0.016776677667766835),\n",
       " (75, 0.016226622662266283),\n",
       " (153, 0.016226622662266283),\n",
       " (129, 0.014576457645764627),\n",
       " (40, 0.01017601760176021),\n",
       " (171, 0.008525852585258552),\n",
       " (159, 0.007975797579758002),\n",
       " (166, 0.007975797579758002),\n",
       " (2, 0.007975797579758),\n",
       " (254, 0.00742574257425745),\n",
       " (52, 0.006875687568756898),\n",
       " (103, 0.006875687568756898),\n",
       " (147, 0.005775577557755794),\n",
       " (198, 0.005225522552255242),\n",
       " (48, 0.005225522552255241),\n",
       " (141, 0.005225522552255241),\n",
       " (258, 0.005225522552255241),\n",
       " (208, 0.004675467546754691),\n",
       " (13, 0.004675467546754689),\n",
       " (127, 0.004675467546754689),\n",
       " (257, 0.00412541254125414),\n",
       " (11, 0.003575357535753588),\n",
       " (199, 0.003575357535753588),\n",
       " (240, 0.003575357535753588),\n",
       " (79, 0.0035753575357535873),\n",
       " (101, 0.0035753575357535873),\n",
       " (232, 0.0035753575357535873),\n",
       " (33, 0.003575357535753587),\n",
       " (19, 0.003025302530253036),\n",
       " (146, 0.003025302530253036),\n",
       " (226, 0.003025302530253036),\n",
       " (285, 0.003025302530253036),\n",
       " (31, 0.0030253025302530356),\n",
       " (98, 0.0030253025302530356),\n",
       " (170, 0.003025302530253035),\n",
       " (57, 0.0024752475247524835),\n",
       " (106, 0.0024752475247524835),\n",
       " (132, 0.0024752475247524835),\n",
       " (168, 0.0024752475247524835),\n",
       " (176, 0.0024752475247524835),\n",
       " (180, 0.0024752475247524835),\n",
       " (255, 0.0024752475247524835),\n",
       " (3, 0.002475247524752483),\n",
       " (58, 0.002475247524752483),\n",
       " (77, 0.002475247524752483),\n",
       " (96, 0.002475247524752483),\n",
       " (173, 0.002475247524752483),\n",
       " (193, 0.002475247524752483),\n",
       " (203, 0.002475247524752483),\n",
       " (210, 0.002475247524752483),\n",
       " (211, 0.002475247524752483),\n",
       " (221, 0.002475247524752483),\n",
       " (231, 0.002475247524752483),\n",
       " (233, 0.002475247524752483),\n",
       " (263, 0.002475247524752483),\n",
       " (288, 0.002475247524752483),\n",
       " (292, 0.002475247524752483),\n",
       " (17, 0.0024752475247524827),\n",
       " (191, 0.0024752475247524827),\n",
       " (274, 0.0019251925192519319),\n",
       " (45, 0.0019251925192519316),\n",
       " (135, 0.0019251925192519316),\n",
       " (148, 0.0019251925192519316),\n",
       " (163, 0.0019251925192519316),\n",
       " (172, 0.0019251925192519316),\n",
       " (174, 0.0019251925192519316),\n",
       " (206, 0.0019251925192519316),\n",
       " (234, 0.0019251925192519316),\n",
       " (238, 0.0019251925192519316),\n",
       " (273, 0.0019251925192519316),\n",
       " (16, 0.0019251925192519314),\n",
       " (41, 0.0019251925192519314),\n",
       " (49, 0.0019251925192519314),\n",
       " (74, 0.0019251925192519314),\n",
       " (111, 0.0019251925192519314),\n",
       " (178, 0.0019251925192519314),\n",
       " (223, 0.0019251925192519314),\n",
       " (269, 0.0019251925192519314),\n",
       " (39, 0.0019251925192519312),\n",
       " (107, 0.0019251925192519312),\n",
       " (125, 0.0019251925192519312),\n",
       " (177, 0.0019251925192519312),\n",
       " (201, 0.0019251925192519312),\n",
       " (205, 0.0019251925192519312),\n",
       " (241, 0.0019251925192519312),\n",
       " (10, 0.001925192519251931),\n",
       " (286, 0.001925192519251931),\n",
       " (5, 0.0013751375137513798),\n",
       " (6, 0.0013751375137513798),\n",
       " (25, 0.0013751375137513798),\n",
       " (35, 0.0013751375137513798),\n",
       " (54, 0.0013751375137513798),\n",
       " (55, 0.0013751375137513798),\n",
       " (62, 0.0013751375137513798),\n",
       " (80, 0.0013751375137513798),\n",
       " (113, 0.0013751375137513798),\n",
       " (124, 0.0013751375137513798),\n",
       " (126, 0.0013751375137513798),\n",
       " (137, 0.0013751375137513798),\n",
       " (138, 0.0013751375137513798),\n",
       " (151, 0.0013751375137513798),\n",
       " (158, 0.0013751375137513798),\n",
       " (182, 0.0013751375137513798),\n",
       " (202, 0.0013751375137513798),\n",
       " (242, 0.0013751375137513798),\n",
       " (248, 0.0013751375137513798),\n",
       " (250, 0.0013751375137513798),\n",
       " (256, 0.0013751375137513798),\n",
       " (275, 0.0013751375137513798),\n",
       " (287, 0.0013751375137513798),\n",
       " (294, 0.0013751375137513798),\n",
       " (296, 0.0013751375137513798),\n",
       " (0, 0.0013751375137513796),\n",
       " (14, 0.0013751375137513796),\n",
       " (38, 0.0013751375137513796),\n",
       " (46, 0.0013751375137513796),\n",
       " (47, 0.0013751375137513796),\n",
       " (65, 0.0013751375137513796),\n",
       " (66, 0.0013751375137513796),\n",
       " (69, 0.0013751375137513796),\n",
       " (70, 0.0013751375137513796),\n",
       " (78, 0.0013751375137513796),\n",
       " (82, 0.0013751375137513796),\n",
       " (85, 0.0013751375137513796),\n",
       " (89, 0.0013751375137513796),\n",
       " (90, 0.0013751375137513796),\n",
       " (91, 0.0013751375137513796),\n",
       " (95, 0.0013751375137513796),\n",
       " (115, 0.0013751375137513796),\n",
       " (118, 0.0013751375137513796),\n",
       " (119, 0.0013751375137513796),\n",
       " (121, 0.0013751375137513796),\n",
       " (123, 0.0013751375137513796),\n",
       " (131, 0.0013751375137513796),\n",
       " (134, 0.0013751375137513796),\n",
       " (139, 0.0013751375137513796),\n",
       " (143, 0.0013751375137513796),\n",
       " (155, 0.0013751375137513796),\n",
       " (160, 0.0013751375137513796),\n",
       " (162, 0.0013751375137513796),\n",
       " (167, 0.0013751375137513796),\n",
       " (181, 0.0013751375137513796),\n",
       " (184, 0.0013751375137513796),\n",
       " (185, 0.0013751375137513796),\n",
       " (212, 0.0013751375137513796),\n",
       " (224, 0.0013751375137513796),\n",
       " (236, 0.0013751375137513796),\n",
       " (237, 0.0013751375137513796),\n",
       " (239, 0.0013751375137513796),\n",
       " (243, 0.0013751375137513796),\n",
       " (245, 0.0013751375137513796),\n",
       " (261, 0.0013751375137513796),\n",
       " (264, 0.0013751375137513796),\n",
       " (265, 0.0013751375137513796),\n",
       " (266, 0.0013751375137513796),\n",
       " (277, 0.0013751375137513796),\n",
       " (284, 0.0013751375137513796),\n",
       " (1, 0.0008250825082508278),\n",
       " (4, 0.0008250825082508278),\n",
       " (8, 0.0008250825082508278),\n",
       " (9, 0.0008250825082508278),\n",
       " (12, 0.0008250825082508278),\n",
       " (18, 0.0008250825082508278),\n",
       " (20, 0.0008250825082508278),\n",
       " (21, 0.0008250825082508278),\n",
       " (22, 0.0008250825082508278),\n",
       " (23, 0.0008250825082508278),\n",
       " (24, 0.0008250825082508278),\n",
       " (26, 0.0008250825082508278),\n",
       " (27, 0.0008250825082508278),\n",
       " (28, 0.0008250825082508278),\n",
       " (29, 0.0008250825082508278),\n",
       " (30, 0.0008250825082508278),\n",
       " (32, 0.0008250825082508278),\n",
       " (34, 0.0008250825082508278),\n",
       " (37, 0.0008250825082508278),\n",
       " (42, 0.0008250825082508278),\n",
       " (43, 0.0008250825082508278),\n",
       " (44, 0.0008250825082508278),\n",
       " (50, 0.0008250825082508278),\n",
       " (51, 0.0008250825082508278),\n",
       " (53, 0.0008250825082508278),\n",
       " (59, 0.0008250825082508278),\n",
       " (60, 0.0008250825082508278),\n",
       " (61, 0.0008250825082508278),\n",
       " (63, 0.0008250825082508278),\n",
       " (64, 0.0008250825082508278),\n",
       " (67, 0.0008250825082508278),\n",
       " (68, 0.0008250825082508278),\n",
       " (71, 0.0008250825082508278),\n",
       " (72, 0.0008250825082508278),\n",
       " (73, 0.0008250825082508278),\n",
       " (76, 0.0008250825082508278),\n",
       " (83, 0.0008250825082508278),\n",
       " (84, 0.0008250825082508278),\n",
       " (86, 0.0008250825082508278),\n",
       " (87, 0.0008250825082508278),\n",
       " (88, 0.0008250825082508278),\n",
       " (92, 0.0008250825082508278),\n",
       " (93, 0.0008250825082508278),\n",
       " (94, 0.0008250825082508278),\n",
       " (97, 0.0008250825082508278),\n",
       " (99, 0.0008250825082508278),\n",
       " (100, 0.0008250825082508278),\n",
       " (102, 0.0008250825082508278),\n",
       " (104, 0.0008250825082508278),\n",
       " (105, 0.0008250825082508278),\n",
       " (108, 0.0008250825082508278),\n",
       " (110, 0.0008250825082508278),\n",
       " (112, 0.0008250825082508278),\n",
       " (114, 0.0008250825082508278),\n",
       " (116, 0.0008250825082508278),\n",
       " (117, 0.0008250825082508278),\n",
       " (120, 0.0008250825082508278),\n",
       " (128, 0.0008250825082508278),\n",
       " (130, 0.0008250825082508278),\n",
       " (133, 0.0008250825082508278),\n",
       " (136, 0.0008250825082508278),\n",
       " (140, 0.0008250825082508278),\n",
       " (142, 0.0008250825082508278),\n",
       " (144, 0.0008250825082508278),\n",
       " (145, 0.0008250825082508278),\n",
       " (149, 0.0008250825082508278),\n",
       " (150, 0.0008250825082508278),\n",
       " (152, 0.0008250825082508278),\n",
       " (154, 0.0008250825082508278),\n",
       " (156, 0.0008250825082508278),\n",
       " (157, 0.0008250825082508278),\n",
       " (161, 0.0008250825082508278),\n",
       " (164, 0.0008250825082508278),\n",
       " (165, 0.0008250825082508278),\n",
       " (169, 0.0008250825082508278),\n",
       " (179, 0.0008250825082508278),\n",
       " (186, 0.0008250825082508278),\n",
       " (187, 0.0008250825082508278),\n",
       " (188, 0.0008250825082508278),\n",
       " (189, 0.0008250825082508278),\n",
       " (192, 0.0008250825082508278),\n",
       " (194, 0.0008250825082508278),\n",
       " (195, 0.0008250825082508278),\n",
       " (196, 0.0008250825082508278),\n",
       " (197, 0.0008250825082508278),\n",
       " (200, 0.0008250825082508278),\n",
       " (204, 0.0008250825082508278),\n",
       " (207, 0.0008250825082508278),\n",
       " (209, 0.0008250825082508278),\n",
       " (213, 0.0008250825082508278),\n",
       " (214, 0.0008250825082508278),\n",
       " (215, 0.0008250825082508278),\n",
       " (216, 0.0008250825082508278),\n",
       " (217, 0.0008250825082508278),\n",
       " (218, 0.0008250825082508278),\n",
       " (219, 0.0008250825082508278),\n",
       " (222, 0.0008250825082508278),\n",
       " (225, 0.0008250825082508278),\n",
       " (227, 0.0008250825082508278),\n",
       " (228, 0.0008250825082508278),\n",
       " (229, 0.0008250825082508278),\n",
       " (230, 0.0008250825082508278),\n",
       " (235, 0.0008250825082508278),\n",
       " (244, 0.0008250825082508278),\n",
       " (246, 0.0008250825082508278),\n",
       " (247, 0.0008250825082508278),\n",
       " (249, 0.0008250825082508278),\n",
       " (252, 0.0008250825082508278),\n",
       " (253, 0.0008250825082508278),\n",
       " (259, 0.0008250825082508278),\n",
       " (260, 0.0008250825082508278),\n",
       " (262, 0.0008250825082508278),\n",
       " (268, 0.0008250825082508278),\n",
       " (270, 0.0008250825082508278),\n",
       " (271, 0.0008250825082508278),\n",
       " (272, 0.0008250825082508278),\n",
       " (276, 0.0008250825082508278),\n",
       " (278, 0.0008250825082508278),\n",
       " (279, 0.0008250825082508278),\n",
       " (280, 0.0008250825082508278),\n",
       " (281, 0.0008250825082508278),\n",
       " (282, 0.0008250825082508278),\n",
       " (283, 0.0008250825082508278),\n",
       " (289, 0.0008250825082508278),\n",
       " (290, 0.0008250825082508278),\n",
       " (291, 0.0008250825082508278),\n",
       " (293, 0.0008250825082508278),\n",
       " (295, 0.0008250825082508278),\n",
       " (298, 0.0008250825082508278),\n",
       " (299, 0.0008250825082508278)]"
      ]
     },
     "execution_count": 140,
     "metadata": {},
     "output_type": "execute_result"
    }
   ],
   "source": [
    "sorted(model[filtered_dict.doc2bow(docs[162])], key=lambda x: x[1], reverse=True)"
   ]
  },
  {
   "cell_type": "code",
   "execution_count": 141,
   "metadata": {
    "hidden": true
   },
   "outputs": [
    {
     "data": {
      "text/plain": [
       "'Molecular epidemiology of Bacillus anthracis: novel data and techniques for local surveillance in Tanzania Anthrax is described by the World Health Organization as a disease that “perpetuates poverty by attacking not only people’s health but also their livelihoods.” In the Serengeti region of Tanzania, where income is largely based on agriculture and tourism, regular outbreaks of anthrax in both livestock and wildlife have devastating impacts. Understanding and controlling the spread of Bacillus anthracis, the bacterial agent causing anthrax, in this environment is currently impeded by a lack of data on the genetic diversity and appropriate typing schemes to resolve fine-scale genetic differences. I propose to quantify the genomic diversity of B. anthracis in the Serengeti region of Tanzania and to use these data to develop molecular diagnostic and genotyping tools that can be implemented locally to facilitate surveillance. First, whole-genome sequencing will be performed on isolates obtained from wildlife and livestock carcasses and environmental samples collected through passive surveillance. Bioinformatic analyses will enable single nucleotide polymorphisms (SNPs) to be identified that can distinguish among locally-circulating B. anthracis strains and test for epidemiological links between outbreaks. Based on these SNPs, a multi-locus typing scheme will be developed. To further support local laboratory capacity, I will apply recently developed techniques to obtain high quality genomic DNA from environmental samples without the need for bacterial culture, thus greatly reducing the biosafety risks associated with anthrax surveillance in low-biocontainment facilities. This project will generate important baseline information on the diversity and transmission of B. anthracis in the Serengeti. Additionally, facilitating the local implementation of molecular surveillance will eventually allow us to determine the circulation patterns of B. anthracis at the wildlife-livestock interface in Tanzania, providing essential information for anthrax management in sub-Saharan Africa.'"
      ]
     },
     "execution_count": 141,
     "metadata": {},
     "output_type": "execute_result"
    }
   ],
   "source": [
    "data[162]"
   ]
  }
 ],
 "metadata": {
  "kernelspec": {
   "display_name": "Python 3",
   "language": "python",
   "name": "python3"
  },
  "language_info": {
   "codemirror_mode": {
    "name": "ipython",
    "version": 3
   },
   "file_extension": ".py",
   "mimetype": "text/x-python",
   "name": "python",
   "nbconvert_exporter": "python",
   "pygments_lexer": "ipython3",
   "version": "3.6.10"
  },
  "toc": {
   "base_numbering": 1,
   "nav_menu": {},
   "number_sections": true,
   "sideBar": true,
   "skip_h1_title": false,
   "title_cell": "Table of Contents",
   "title_sidebar": "Contents",
   "toc_cell": false,
   "toc_position": {
    "height": "calc(100% - 180px)",
    "left": "10px",
    "top": "150px",
    "width": "247px"
   },
   "toc_section_display": true,
   "toc_window_display": true
  }
 },
 "nbformat": 4,
 "nbformat_minor": 4
}
