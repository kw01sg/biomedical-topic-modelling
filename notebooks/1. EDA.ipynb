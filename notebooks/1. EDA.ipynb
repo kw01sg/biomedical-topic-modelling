{
 "cells": [
  {
   "cell_type": "markdown",
   "metadata": {},
   "source": [
    "## Summary\n",
    "\n",
    "Objective: Topic extraction and text mining on biomedical projects report\n",
    "\n",
    "### Key Points\n",
    "\n",
    "1. Projects report already been stored in Excel file with following important feature: title, objective, totalCost\n",
    "1. Topic extraction and text mining will focus on title and objective parts\n",
    "1. BMRC side have numbers of different files which want to achieve following goals (project, patent, pdf), but they agreed to do the project file first\n",
    "1. Potential models can help with this problem:\n",
    "    * Topic extraction: LDA (Latent Dirichlet Allocation) \n",
    "    * Word weight ranking: TF-IDF\n",
    "1. Since no expert specializes in biomedical text mining, we will use normal natural language process technique\n",
    "\n",
    "### Goals:\n",
    "\n",
    "1. summarize key words or topics for each project through title and objectives\n",
    "1. search function by topic: scientists can use key words or topic to find corresponding articles\n",
    "1. rank hot topics by features, e.g. funding (totalcost column in report), number of appearance etc.\n",
    "\n"
   ]
  },
  {
   "cell_type": "code",
   "execution_count": 1,
   "metadata": {},
   "outputs": [
    {
     "name": "stdout",
     "output_type": "stream",
     "text": [
      "cordis-h2020projects.xlsx  Notebooks\r\n"
     ]
    }
   ],
   "source": [
    "!ls .."
   ]
  },
  {
   "cell_type": "code",
   "execution_count": 16,
   "metadata": {},
   "outputs": [],
   "source": [
    "import pandas as pd\n",
    "import numpy as np\n",
    "\n",
    "import matplotlib.pyplot as plt\n",
    "%matplotlib inline"
   ]
  },
  {
   "cell_type": "code",
   "execution_count": 3,
   "metadata": {},
   "outputs": [],
   "source": [
    "sheets_dict = pd.read_excel('../cordis-h2020projects.xlsx', None)"
   ]
  },
  {
   "cell_type": "code",
   "execution_count": 4,
   "metadata": {},
   "outputs": [
    {
     "data": {
      "text/plain": [
       "dict_keys(['cordis-h2020projects'])"
      ]
     },
     "execution_count": 4,
     "metadata": {},
     "output_type": "execute_result"
    }
   ],
   "source": [
    "sheets_dict.keys()"
   ]
  },
  {
   "cell_type": "code",
   "execution_count": 5,
   "metadata": {},
   "outputs": [],
   "source": [
    "df = sheets_dict['cordis-h2020projects']"
   ]
  },
  {
   "cell_type": "code",
   "execution_count": 8,
   "metadata": {},
   "outputs": [
    {
     "data": {
      "text/plain": [
       "(30084, 21)"
      ]
     },
     "execution_count": 8,
     "metadata": {},
     "output_type": "execute_result"
    }
   ],
   "source": [
    "df.shape"
   ]
  },
  {
   "cell_type": "code",
   "execution_count": 6,
   "metadata": {
    "scrolled": true
   },
   "outputs": [
    {
     "data": {
      "text/html": [
       "<div>\n",
       "<style scoped>\n",
       "    .dataframe tbody tr th:only-of-type {\n",
       "        vertical-align: middle;\n",
       "    }\n",
       "\n",
       "    .dataframe tbody tr th {\n",
       "        vertical-align: top;\n",
       "    }\n",
       "\n",
       "    .dataframe thead th {\n",
       "        text-align: right;\n",
       "    }\n",
       "</style>\n",
       "<table border=\"1\" class=\"dataframe\">\n",
       "  <thead>\n",
       "    <tr style=\"text-align: right;\">\n",
       "      <th></th>\n",
       "      <th>0</th>\n",
       "      <th>1</th>\n",
       "      <th>2</th>\n",
       "      <th>3</th>\n",
       "      <th>4</th>\n",
       "    </tr>\n",
       "  </thead>\n",
       "  <tbody>\n",
       "    <tr>\n",
       "      <th>rcn</th>\n",
       "      <td>207037</td>\n",
       "      <td>199028</td>\n",
       "      <td>207221</td>\n",
       "      <td>207786</td>\n",
       "      <td>198320</td>\n",
       "    </tr>\n",
       "    <tr>\n",
       "      <th>id</th>\n",
       "      <td>734211</td>\n",
       "      <td>686987</td>\n",
       "      <td>733174</td>\n",
       "      <td>700512</td>\n",
       "      <td>676144</td>\n",
       "    </tr>\n",
       "    <tr>\n",
       "      <th>acronym</th>\n",
       "      <td>INTERACT</td>\n",
       "      <td>BrainHack</td>\n",
       "      <td>IMPACT TB</td>\n",
       "      <td>CortIMod</td>\n",
       "      <td>SyDAD</td>\n",
       "    </tr>\n",
       "    <tr>\n",
       "      <th>status</th>\n",
       "      <td>SIGNED</td>\n",
       "      <td>SIGNED</td>\n",
       "      <td>SIGNED</td>\n",
       "      <td>CLOSED</td>\n",
       "      <td>SIGNED</td>\n",
       "    </tr>\n",
       "    <tr>\n",
       "      <th>programme</th>\n",
       "      <td>H2020-EU.1.3.3.</td>\n",
       "      <td>H2020-EU.1.2.1.</td>\n",
       "      <td>H2020-EU.3.1.6.</td>\n",
       "      <td>H2020-EU.1.3.2.</td>\n",
       "      <td>H2020-EU.1.3.1.</td>\n",
       "    </tr>\n",
       "    <tr>\n",
       "      <th>topics</th>\n",
       "      <td>MSCA-RISE-2016</td>\n",
       "      <td>FETOPEN-CSA-FETEXCHANGE-2015</td>\n",
       "      <td>SC1-PM-21-2016</td>\n",
       "      <td>MSCA-IF-2015-EF</td>\n",
       "      <td>MSCA-ITN-2015-ETN</td>\n",
       "    </tr>\n",
       "    <tr>\n",
       "      <th>frameworkProgramme</th>\n",
       "      <td>H2020</td>\n",
       "      <td>H2020</td>\n",
       "      <td>H2020</td>\n",
       "      <td>H2020</td>\n",
       "      <td>H2020</td>\n",
       "    </tr>\n",
       "    <tr>\n",
       "      <th>title</th>\n",
       "      <td>The INTERnAtional network on Crisis Translation</td>\n",
       "      <td>BrainHack: Bringing the arts and sciences of b...</td>\n",
       "      <td>IMPACT TB: Implementing proven community-based...</td>\n",
       "      <td>Implementation and Preliminary Validation of a...</td>\n",
       "      <td>Synaptic Dysfunction in Alzheimer Disease</td>\n",
       "    </tr>\n",
       "    <tr>\n",
       "      <th>startDate</th>\n",
       "      <td>2017-04-01</td>\n",
       "      <td>2016-01-01</td>\n",
       "      <td>2017-01-01</td>\n",
       "      <td>2016-11-01</td>\n",
       "      <td>2015-11-01</td>\n",
       "    </tr>\n",
       "    <tr>\n",
       "      <th>endDate</th>\n",
       "      <td>2020-03-31</td>\n",
       "      <td>2017-12-31</td>\n",
       "      <td>2019-12-31</td>\n",
       "      <td>2018-11-27</td>\n",
       "      <td>2019-10-31</td>\n",
       "    </tr>\n",
       "    <tr>\n",
       "      <th>projectUrl</th>\n",
       "      <td>https://sites.google.com/view/crisistranslatio...</td>\n",
       "      <td>http://www.hackthebrain-hub.com.</td>\n",
       "      <td>http://www.impacttbproject.org</td>\n",
       "      <td>https://jaimeibanez.wixsite.com/jaimeibanez</td>\n",
       "      <td>http://www.sydad.eu</td>\n",
       "    </tr>\n",
       "    <tr>\n",
       "      <th>objective</th>\n",
       "      <td>We propose to establish an interdisciplinary, ...</td>\n",
       "      <td>We witness a rapid development of Brain/Neural...</td>\n",
       "      <td>The aim of this project is to assess the facil...</td>\n",
       "      <td>Stroke is a leading cause of adult chronic dis...</td>\n",
       "      <td>Given an overwhelming increase of dementia cos...</td>\n",
       "    </tr>\n",
       "    <tr>\n",
       "      <th>totalCost</th>\n",
       "      <td>279000</td>\n",
       "      <td>567352</td>\n",
       "      <td>4.91242e+06</td>\n",
       "      <td>195455</td>\n",
       "      <td>3.84674e+06</td>\n",
       "    </tr>\n",
       "    <tr>\n",
       "      <th>ecMaxContribution</th>\n",
       "      <td>229500</td>\n",
       "      <td>549727</td>\n",
       "      <td>4.91242e+06</td>\n",
       "      <td>195455</td>\n",
       "      <td>3.84674e+06</td>\n",
       "    </tr>\n",
       "    <tr>\n",
       "      <th>call</th>\n",
       "      <td>H2020-MSCA-RISE-2016</td>\n",
       "      <td>H2020-FETOPEN-2015-CSA</td>\n",
       "      <td>H2020-SC1-2016-RTD</td>\n",
       "      <td>H2020-MSCA-IF-2015</td>\n",
       "      <td>H2020-MSCA-ITN-2015</td>\n",
       "    </tr>\n",
       "    <tr>\n",
       "      <th>fundingScheme</th>\n",
       "      <td>MSCA-RISE</td>\n",
       "      <td>CSA</td>\n",
       "      <td>RIA</td>\n",
       "      <td>MSCA-IF-EF-ST</td>\n",
       "      <td>MSCA-ITN-ETN</td>\n",
       "    </tr>\n",
       "    <tr>\n",
       "      <th>coordinator</th>\n",
       "      <td>DUBLIN CITY UNIVERSITY</td>\n",
       "      <td>TECHNISCHE UNIVERSITEIT DELFT</td>\n",
       "      <td>LIVERPOOL SCHOOL OF TROPICAL MEDICINE</td>\n",
       "      <td>UNIVERSITY COLLEGE LONDON</td>\n",
       "      <td>KAROLINSKA INSTITUTET</td>\n",
       "    </tr>\n",
       "    <tr>\n",
       "      <th>coordinatorCountry</th>\n",
       "      <td>IE</td>\n",
       "      <td>NL</td>\n",
       "      <td>UK</td>\n",
       "      <td>UK</td>\n",
       "      <td>SE</td>\n",
       "    </tr>\n",
       "    <tr>\n",
       "      <th>participants</th>\n",
       "      <td>THE COCHRANE COLLABORATION;UNIVERSITY COLLEGE ...</td>\n",
       "      <td>THE PROVOST, FELLOWS, FOUNDATION SCHOLARS &amp; TH...</td>\n",
       "      <td>KONINKLIJKE NEDERLANDSE CENTRALE VERENIGING TO...</td>\n",
       "      <td>NaN</td>\n",
       "      <td>AXON NEUROSCIENCE SE;DEUTSCHES ZENTRUM FUR NEU...</td>\n",
       "    </tr>\n",
       "    <tr>\n",
       "      <th>participantCountries</th>\n",
       "      <td>UK;PT</td>\n",
       "      <td>IE;PT;CZ;NL;IT;EE</td>\n",
       "      <td>NL;NP;SE;DE</td>\n",
       "      <td>NaN</td>\n",
       "      <td>SK;DE;FR;IT;BE</td>\n",
       "    </tr>\n",
       "    <tr>\n",
       "      <th>subjects</th>\n",
       "      <td>NaN</td>\n",
       "      <td>NaN</td>\n",
       "      <td>NaN</td>\n",
       "      <td>NaN</td>\n",
       "      <td>NaN</td>\n",
       "    </tr>\n",
       "  </tbody>\n",
       "</table>\n",
       "</div>"
      ],
      "text/plain": [
       "                                                                      0  \\\n",
       "rcn                                                              207037   \n",
       "id                                                               734211   \n",
       "acronym                                                        INTERACT   \n",
       "status                                                           SIGNED   \n",
       "programme                                               H2020-EU.1.3.3.   \n",
       "topics                                                   MSCA-RISE-2016   \n",
       "frameworkProgramme                                                H2020   \n",
       "title                   The INTERnAtional network on Crisis Translation   \n",
       "startDate                                                    2017-04-01   \n",
       "endDate                                                      2020-03-31   \n",
       "projectUrl            https://sites.google.com/view/crisistranslatio...   \n",
       "objective             We propose to establish an interdisciplinary, ...   \n",
       "totalCost                                                        279000   \n",
       "ecMaxContribution                                                229500   \n",
       "call                                               H2020-MSCA-RISE-2016   \n",
       "fundingScheme                                                 MSCA-RISE   \n",
       "coordinator                                      DUBLIN CITY UNIVERSITY   \n",
       "coordinatorCountry                                                   IE   \n",
       "participants          THE COCHRANE COLLABORATION;UNIVERSITY COLLEGE ...   \n",
       "participantCountries                                              UK;PT   \n",
       "subjects                                                            NaN   \n",
       "\n",
       "                                                                      1  \\\n",
       "rcn                                                              199028   \n",
       "id                                                               686987   \n",
       "acronym                                                       BrainHack   \n",
       "status                                                           SIGNED   \n",
       "programme                                               H2020-EU.1.2.1.   \n",
       "topics                                     FETOPEN-CSA-FETEXCHANGE-2015   \n",
       "frameworkProgramme                                                H2020   \n",
       "title                 BrainHack: Bringing the arts and sciences of b...   \n",
       "startDate                                                    2016-01-01   \n",
       "endDate                                                      2017-12-31   \n",
       "projectUrl                             http://www.hackthebrain-hub.com.   \n",
       "objective             We witness a rapid development of Brain/Neural...   \n",
       "totalCost                                                        567352   \n",
       "ecMaxContribution                                                549727   \n",
       "call                                             H2020-FETOPEN-2015-CSA   \n",
       "fundingScheme                                                       CSA   \n",
       "coordinator                               TECHNISCHE UNIVERSITEIT DELFT   \n",
       "coordinatorCountry                                                   NL   \n",
       "participants          THE PROVOST, FELLOWS, FOUNDATION SCHOLARS & TH...   \n",
       "participantCountries                                  IE;PT;CZ;NL;IT;EE   \n",
       "subjects                                                            NaN   \n",
       "\n",
       "                                                                      2  \\\n",
       "rcn                                                              207221   \n",
       "id                                                               733174   \n",
       "acronym                                                       IMPACT TB   \n",
       "status                                                           SIGNED   \n",
       "programme                                               H2020-EU.3.1.6.   \n",
       "topics                                                   SC1-PM-21-2016   \n",
       "frameworkProgramme                                                H2020   \n",
       "title                 IMPACT TB: Implementing proven community-based...   \n",
       "startDate                                                    2017-01-01   \n",
       "endDate                                                      2019-12-31   \n",
       "projectUrl                               http://www.impacttbproject.org   \n",
       "objective             The aim of this project is to assess the facil...   \n",
       "totalCost                                                   4.91242e+06   \n",
       "ecMaxContribution                                           4.91242e+06   \n",
       "call                                                 H2020-SC1-2016-RTD   \n",
       "fundingScheme                                                       RIA   \n",
       "coordinator                       LIVERPOOL SCHOOL OF TROPICAL MEDICINE   \n",
       "coordinatorCountry                                                   UK   \n",
       "participants          KONINKLIJKE NEDERLANDSE CENTRALE VERENIGING TO...   \n",
       "participantCountries                                        NL;NP;SE;DE   \n",
       "subjects                                                            NaN   \n",
       "\n",
       "                                                                      3  \\\n",
       "rcn                                                              207786   \n",
       "id                                                               700512   \n",
       "acronym                                                        CortIMod   \n",
       "status                                                           CLOSED   \n",
       "programme                                               H2020-EU.1.3.2.   \n",
       "topics                                                  MSCA-IF-2015-EF   \n",
       "frameworkProgramme                                                H2020   \n",
       "title                 Implementation and Preliminary Validation of a...   \n",
       "startDate                                                    2016-11-01   \n",
       "endDate                                                      2018-11-27   \n",
       "projectUrl                  https://jaimeibanez.wixsite.com/jaimeibanez   \n",
       "objective             Stroke is a leading cause of adult chronic dis...   \n",
       "totalCost                                                        195455   \n",
       "ecMaxContribution                                                195455   \n",
       "call                                                 H2020-MSCA-IF-2015   \n",
       "fundingScheme                                             MSCA-IF-EF-ST   \n",
       "coordinator                                   UNIVERSITY COLLEGE LONDON   \n",
       "coordinatorCountry                                                   UK   \n",
       "participants                                                        NaN   \n",
       "participantCountries                                                NaN   \n",
       "subjects                                                            NaN   \n",
       "\n",
       "                                                                      4  \n",
       "rcn                                                              198320  \n",
       "id                                                               676144  \n",
       "acronym                                                           SyDAD  \n",
       "status                                                           SIGNED  \n",
       "programme                                               H2020-EU.1.3.1.  \n",
       "topics                                                MSCA-ITN-2015-ETN  \n",
       "frameworkProgramme                                                H2020  \n",
       "title                         Synaptic Dysfunction in Alzheimer Disease  \n",
       "startDate                                                    2015-11-01  \n",
       "endDate                                                      2019-10-31  \n",
       "projectUrl                                          http://www.sydad.eu  \n",
       "objective             Given an overwhelming increase of dementia cos...  \n",
       "totalCost                                                   3.84674e+06  \n",
       "ecMaxContribution                                           3.84674e+06  \n",
       "call                                                H2020-MSCA-ITN-2015  \n",
       "fundingScheme                                              MSCA-ITN-ETN  \n",
       "coordinator                                       KAROLINSKA INSTITUTET  \n",
       "coordinatorCountry                                                   SE  \n",
       "participants          AXON NEUROSCIENCE SE;DEUTSCHES ZENTRUM FUR NEU...  \n",
       "participantCountries                                     SK;DE;FR;IT;BE  \n",
       "subjects                                                            NaN  "
      ]
     },
     "execution_count": 6,
     "metadata": {},
     "output_type": "execute_result"
    }
   ],
   "source": [
    "df.head().T"
   ]
  },
  {
   "cell_type": "code",
   "execution_count": 11,
   "metadata": {},
   "outputs": [
    {
     "data": {
      "text/plain": [
       "array(['The INTERnAtional network on Crisis Translation',\n",
       "       'BrainHack: Bringing the arts and sciences of brain and neural computer interface together',\n",
       "       'IMPACT TB: Implementing proven community-based active case finding interventions in Vietnam and Nepal',\n",
       "       'Implementation and Preliminary Validation of a Novel Noninvasive Neuromodulation Technique to Restore Hand Movement and Promote Recovery after Stroke',\n",
       "       'Synaptic Dysfunction in Alzheimer Disease'], dtype=object)"
      ]
     },
     "execution_count": 11,
     "metadata": {},
     "output_type": "execute_result"
    }
   ],
   "source": [
    "df['title'].head().values"
   ]
  },
  {
   "cell_type": "code",
   "execution_count": 13,
   "metadata": {
    "scrolled": true
   },
   "outputs": [
    {
     "data": {
      "text/plain": [
       "array(['We propose to establish an interdisciplinary, intersectoral and international research and innovation network in Crisis Translation, called INTERACT. Crisis Translation is understood here as the translation of written information from one linguistic and cultural system to another in the context of a crisis scenario, with a view to enabling affected communities and responders to be prepared for crises, improve resilience and reduce the loss of lives. Due to the transboundary nature of modern day crises, crisis communication must be multilingual and multilingual crisis communication is enabled through translation. Multilingual information access through translation addresses work programme aims such as social fairness and democratic access to essential information for all. The primary focus of INTERACT is on health-related crisis content. The main objectives of the project are 1) to make meaningful and effective contributions to knowledge, policies, expertise, training and technology that enable accurate and timely translation-enabled crisis communication, with a particular focus on health-related content; 2) to improve outcomes for crisis-affected and at-risk communities by contributing to translation-enabled communication to, with and from those communities; 3) to enhance human skills, competences and cross-sectoral collaboration across academic, humanitarian, and industrial sectors involved in crisis translation. This will be achieved by focusing on five main topics: crisis communication policy, comprehension in limited proficiency communities, crisis machine translation, citizen translator education, and ethics and through collaboration across academic, SME, NGO, and Multinational partners. The contribution of INTERACT will be a much broader, better informed, innovative, much more impactful perspective on the challenges of crisis communication and the role of translation.',\n",
       "       \"We witness a rapid development of Brain/Neural Computer Interaction (BNCI) research including hyperscanning and collaborative BNCIs. Several recent BNCI community driven CSAs have addressed this topic (Future BNCI, BNCI Horizon 2020 ) with the BCI Society being in progress of establishing. At the same time, a growing community of international artists is exploring the boundaries of brain physiology based interaction in cinema, theatre and interactive installations. Artists address questions of BNCI ethics and aesthetics which are often overlooked by scientists but which spur general public discussion. \\nSimultaneously we here the voices of BCI research community, especially young researchers, reasoning for collaboration with technologically oriented artists, which is not meeting proper response from institutions.\\nOur project's objective is to organize the international artistic community experimenting with BNCI technologies and link it to the BNCI scientific community. We will center our activities around a series of enhanced hackathons with incubation support programme for young researchers. – Hackathons will be used as a platform to stimulate learning and exchange between artists, scientists and BNCI technology providers. The tangible outcomes of these workshops will be 1) new Spinal Projects of young creative with potential for further development; 2) wide media coverage of these events; 3) new application ideas and technological requirements for BNCI technology providers (e.g. open source software), 4) new scientific insights, and 5) ethical reflection on (artistic) applications of BNCI. \\nOur project will bring the nascent artistic BNCI exploration to a new level of scientific and technological awareness, in turn raising public awareness of new neuroscientific tools and pushing the technology for exploring new applications inspired by artistic projections.\"],\n",
       "      dtype=object)"
      ]
     },
     "execution_count": 13,
     "metadata": {},
     "output_type": "execute_result"
    }
   ],
   "source": [
    "df['objective'].head(2).values"
   ]
  },
  {
   "cell_type": "code",
   "execution_count": 7,
   "metadata": {},
   "outputs": [
    {
     "data": {
      "text/plain": [
       "EIC-SMEInst-2018-2020    2347\n",
       "MSCA-IF-2019             1412\n",
       "MSCA-IF-2018             1372\n",
       "MSCA-IF-2017             1367\n",
       "MSCA-IF-2016             1253\n",
       "                         ... \n",
       "SC5-13b-2014                1\n",
       "S2R-OC-CCA-01-2015          1\n",
       "S2R-CFM-IP1-02-2016         1\n",
       "BBI-2016-D08                1\n",
       "INNOSUP-7-2015              1\n",
       "Name: topics, Length: 2986, dtype: int64"
      ]
     },
     "execution_count": 7,
     "metadata": {},
     "output_type": "execute_result"
    }
   ],
   "source": [
    "df['topics'].value_counts()"
   ]
  },
  {
   "cell_type": "code",
   "execution_count": 30,
   "metadata": {},
   "outputs": [],
   "source": [
    "query = df.query(\"topics == 'EIC-SMEInst-2018-2020'\")"
   ]
  },
  {
   "cell_type": "code",
   "execution_count": 31,
   "metadata": {},
   "outputs": [
    {
     "data": {
      "text/plain": [
       "(2347, 21)"
      ]
     },
     "execution_count": 31,
     "metadata": {},
     "output_type": "execute_result"
    }
   ],
   "source": [
    "query.shape"
   ]
  },
  {
   "cell_type": "code",
   "execution_count": 32,
   "metadata": {
    "collapsed": true
   },
   "outputs": [
    {
     "data": {
      "text/html": [
       "<div>\n",
       "<style scoped>\n",
       "    .dataframe tbody tr th:only-of-type {\n",
       "        vertical-align: middle;\n",
       "    }\n",
       "\n",
       "    .dataframe tbody tr th {\n",
       "        vertical-align: top;\n",
       "    }\n",
       "\n",
       "    .dataframe thead th {\n",
       "        text-align: right;\n",
       "    }\n",
       "</style>\n",
       "<table border=\"1\" class=\"dataframe\">\n",
       "  <thead>\n",
       "    <tr style=\"text-align: right;\">\n",
       "      <th></th>\n",
       "      <th>93</th>\n",
       "      <th>203</th>\n",
       "      <th>239</th>\n",
       "    </tr>\n",
       "  </thead>\n",
       "  <tbody>\n",
       "    <tr>\n",
       "      <th>rcn</th>\n",
       "      <td>221407</td>\n",
       "      <td>218653</td>\n",
       "      <td>217853</td>\n",
       "    </tr>\n",
       "    <tr>\n",
       "      <th>id</th>\n",
       "      <td>836347</td>\n",
       "      <td>830294</td>\n",
       "      <td>823614</td>\n",
       "    </tr>\n",
       "    <tr>\n",
       "      <th>acronym</th>\n",
       "      <td>LEWIATH</td>\n",
       "      <td>PCSCT</td>\n",
       "      <td>ONCOSMART</td>\n",
       "    </tr>\n",
       "    <tr>\n",
       "      <th>status</th>\n",
       "      <td>SIGNED</td>\n",
       "      <td>SIGNED</td>\n",
       "      <td>SIGNED</td>\n",
       "    </tr>\n",
       "    <tr>\n",
       "      <th>programme</th>\n",
       "      <td>H2020-EU.3.;H2020-EU.2.3.;H2020-EU.2.1.</td>\n",
       "      <td>H2020-EU.3.;H2020-EU.2.3.;H2020-EU.2.1.</td>\n",
       "      <td>H2020-EU.3.;H2020-EU.2.3.;H2020-EU.2.1.</td>\n",
       "    </tr>\n",
       "    <tr>\n",
       "      <th>topics</th>\n",
       "      <td>EIC-SMEInst-2018-2020</td>\n",
       "      <td>EIC-SMEInst-2018-2020</td>\n",
       "      <td>EIC-SMEInst-2018-2020</td>\n",
       "    </tr>\n",
       "    <tr>\n",
       "      <th>frameworkProgramme</th>\n",
       "      <td>H2020</td>\n",
       "      <td>H2020</td>\n",
       "      <td>H2020</td>\n",
       "    </tr>\n",
       "    <tr>\n",
       "      <th>title</th>\n",
       "      <td>LEveraging WInd-Assisted THrust</td>\n",
       "      <td>Photon Counting Spectral Computed Tomography</td>\n",
       "      <td>ONCOlogic patient profiling and personalized t...</td>\n",
       "    </tr>\n",
       "    <tr>\n",
       "      <th>startDate</th>\n",
       "      <td>2019-01-01</td>\n",
       "      <td>2018-10-01</td>\n",
       "      <td>2018-09-01</td>\n",
       "    </tr>\n",
       "    <tr>\n",
       "      <th>endDate</th>\n",
       "      <td>2019-04-30</td>\n",
       "      <td>2020-09-30</td>\n",
       "      <td>2021-02-28</td>\n",
       "    </tr>\n",
       "    <tr>\n",
       "      <th>projectUrl</th>\n",
       "      <td>https://www.linkedin.com/company/cws-morel/</td>\n",
       "      <td>http://www.prismatic.se/</td>\n",
       "      <td>https://cellply.com/horizon-2020/</td>\n",
       "    </tr>\n",
       "    <tr>\n",
       "      <th>objective</th>\n",
       "      <td>Maritime transport dominates global freight tr...</td>\n",
       "      <td>Due to its speed, accuracy and availability Co...</td>\n",
       "      <td>ONCOSMART is the first In-Vitro Diagnostic (IV...</td>\n",
       "    </tr>\n",
       "    <tr>\n",
       "      <th>totalCost</th>\n",
       "      <td>71429</td>\n",
       "      <td>3.44175e+06</td>\n",
       "      <td>3.3485e+06</td>\n",
       "    </tr>\n",
       "    <tr>\n",
       "      <th>ecMaxContribution</th>\n",
       "      <td>50000</td>\n",
       "      <td>2.40922e+06</td>\n",
       "      <td>2.34395e+06</td>\n",
       "    </tr>\n",
       "    <tr>\n",
       "      <th>call</th>\n",
       "      <td>H2020-SMEInst-2018-2020-1</td>\n",
       "      <td>H2020-SMEInst-2018-2020-2</td>\n",
       "      <td>H2020-SMEInst-2018-2020-2</td>\n",
       "    </tr>\n",
       "    <tr>\n",
       "      <th>fundingScheme</th>\n",
       "      <td>SME-1</td>\n",
       "      <td>SME-2</td>\n",
       "      <td>SME-2</td>\n",
       "    </tr>\n",
       "    <tr>\n",
       "      <th>coordinator</th>\n",
       "      <td>CWS MOREL</td>\n",
       "      <td>PRISMATIC SENSORS AB</td>\n",
       "      <td>CELLPLY SRL</td>\n",
       "    </tr>\n",
       "    <tr>\n",
       "      <th>coordinatorCountry</th>\n",
       "      <td>FR</td>\n",
       "      <td>SE</td>\n",
       "      <td>IT</td>\n",
       "    </tr>\n",
       "    <tr>\n",
       "      <th>participants</th>\n",
       "      <td>NaN</td>\n",
       "      <td>NaN</td>\n",
       "      <td>NaN</td>\n",
       "    </tr>\n",
       "    <tr>\n",
       "      <th>participantCountries</th>\n",
       "      <td>NaN</td>\n",
       "      <td>NaN</td>\n",
       "      <td>NaN</td>\n",
       "    </tr>\n",
       "    <tr>\n",
       "      <th>subjects</th>\n",
       "      <td>NaN</td>\n",
       "      <td>NaN</td>\n",
       "      <td>NaN</td>\n",
       "    </tr>\n",
       "  </tbody>\n",
       "</table>\n",
       "</div>"
      ],
      "text/plain": [
       "                                                                    93   \\\n",
       "rcn                                                              221407   \n",
       "id                                                               836347   \n",
       "acronym                                                         LEWIATH   \n",
       "status                                                           SIGNED   \n",
       "programme                       H2020-EU.3.;H2020-EU.2.3.;H2020-EU.2.1.   \n",
       "topics                                            EIC-SMEInst-2018-2020   \n",
       "frameworkProgramme                                                H2020   \n",
       "title                                   LEveraging WInd-Assisted THrust   \n",
       "startDate                                                    2019-01-01   \n",
       "endDate                                                      2019-04-30   \n",
       "projectUrl                  https://www.linkedin.com/company/cws-morel/   \n",
       "objective             Maritime transport dominates global freight tr...   \n",
       "totalCost                                                         71429   \n",
       "ecMaxContribution                                                 50000   \n",
       "call                                          H2020-SMEInst-2018-2020-1   \n",
       "fundingScheme                                                     SME-1   \n",
       "coordinator                                                   CWS MOREL   \n",
       "coordinatorCountry                                                   FR   \n",
       "participants                                                        NaN   \n",
       "participantCountries                                                NaN   \n",
       "subjects                                                            NaN   \n",
       "\n",
       "                                                                    203  \\\n",
       "rcn                                                              218653   \n",
       "id                                                               830294   \n",
       "acronym                                                           PCSCT   \n",
       "status                                                           SIGNED   \n",
       "programme                       H2020-EU.3.;H2020-EU.2.3.;H2020-EU.2.1.   \n",
       "topics                                            EIC-SMEInst-2018-2020   \n",
       "frameworkProgramme                                                H2020   \n",
       "title                      Photon Counting Spectral Computed Tomography   \n",
       "startDate                                                    2018-10-01   \n",
       "endDate                                                      2020-09-30   \n",
       "projectUrl                                     http://www.prismatic.se/   \n",
       "objective             Due to its speed, accuracy and availability Co...   \n",
       "totalCost                                                   3.44175e+06   \n",
       "ecMaxContribution                                           2.40922e+06   \n",
       "call                                          H2020-SMEInst-2018-2020-2   \n",
       "fundingScheme                                                     SME-2   \n",
       "coordinator                                        PRISMATIC SENSORS AB   \n",
       "coordinatorCountry                                                   SE   \n",
       "participants                                                        NaN   \n",
       "participantCountries                                                NaN   \n",
       "subjects                                                            NaN   \n",
       "\n",
       "                                                                    239  \n",
       "rcn                                                              217853  \n",
       "id                                                               823614  \n",
       "acronym                                                       ONCOSMART  \n",
       "status                                                           SIGNED  \n",
       "programme                       H2020-EU.3.;H2020-EU.2.3.;H2020-EU.2.1.  \n",
       "topics                                            EIC-SMEInst-2018-2020  \n",
       "frameworkProgramme                                                H2020  \n",
       "title                 ONCOlogic patient profiling and personalized t...  \n",
       "startDate                                                    2018-09-01  \n",
       "endDate                                                      2021-02-28  \n",
       "projectUrl                            https://cellply.com/horizon-2020/  \n",
       "objective             ONCOSMART is the first In-Vitro Diagnostic (IV...  \n",
       "totalCost                                                    3.3485e+06  \n",
       "ecMaxContribution                                           2.34395e+06  \n",
       "call                                          H2020-SMEInst-2018-2020-2  \n",
       "fundingScheme                                                     SME-2  \n",
       "coordinator                                                 CELLPLY SRL  \n",
       "coordinatorCountry                                                   IT  \n",
       "participants                                                        NaN  \n",
       "participantCountries                                                NaN  \n",
       "subjects                                                            NaN  "
      ]
     },
     "execution_count": 32,
     "metadata": {},
     "output_type": "execute_result"
    }
   ],
   "source": [
    "query.head(3).T"
   ]
  },
  {
   "cell_type": "code",
   "execution_count": 34,
   "metadata": {
    "scrolled": true
   },
   "outputs": [
    {
     "data": {
      "text/plain": [
       "array(['Maritime transport dominates global freight transportation with 58,500 vessels totaling covering 90% of global goods trade. Marine propulsion market is expected to grow at a CAGR worth 4.3% to reach $18 Billion by 2026. Climate change imperatives and rising environmental awareness force governments to tighten legislation and set pressure on shipyards and shipowners to develop greener alternatives. Therefore, market potential for wind propulsion technologies for shipping vessels is estimated to reach between 3,700 and 10,700 deployed systems between 2020 and 2030 for both retrofit and installation on newbuild vessels.\\n\\nCWS is a family story which was incorporated in 2016 to revive commercial sailing. CWS relies on sail automation, mechanical processes miniaturization and IT technologies to fix disadvantages which led to disappearance of commercial sailing vessels one century ago. Our patented technology is inspired by aeronautics and combines (1) Reversible rigs, (2) Telescopic and free-rotating masts and (3) Wing-sail automation.\\n\\nOur technology pays itself back in 4 years only at current bunker fuel price (≈ €570 / ton) and would generate a yearly €570,000 savings on fuel consumption per wing-sail. Global Sulphur Cap 2020, GHG emission reductions set by the International Maritime Organization and future eco-friendly dis/incentives measures will entice shipping industry using less polluting and more expansive fuels (Biodiesel, LNG, Fuel cell Hydrogen, Battery) and therefore, RoI associated with our wind-based technology will constantly increase over time. Moreover, 300 wing-sail systems are deployed on a scale of 100 vessels would reduce CO2 emission by 1 million tons a year.\\n\\nSMEI Phase 1 aims at: carrying out aerodynamics studies, finalizing mechanical engineering of Prototype V3, extend geographical coverage of IPR, and carrying out a market study. We are already supported by leading shipowners worldwide to have our technology test in full scale by 2020.',\n",
       "       \"Due to its speed, accuracy and availability Computed Tomography (CT) is a routine tool for imaging of cardiovascular disease, stroke, cancer and trauma injuries; every year over 100 million patients are examined using CT, making it one of the most common medical imaging procedures. Despite a significant development, current CT detectors are unable to obtain sufficient spectral information and have a limited spatial resolution. This leads to image artefacts and limited visualization of important details. Healthcare providers are thus forced to use more expensive and slower modalities like MRI and PET, translating in increased healthcare costs and risk since time to treatment is prolonged. Our solution is a novel photon counting spectrally resolved detector, developed and fully owned by the SME Prismatic Sensors. The technology offers a factor two higher spatial resolution, elimination of artefacts and increased dose-efficiency compared to state-of-the-art clinical CT scanners. \\nMillions of people around the world would benefit from our technology through improved diagnostics and speed of care. In addition, radiation dose and the associated risk is dramatically reduced. The project will result in a fully tested and validated photon counting spectral CT detector ready for commercialization. The technology and the added clinical value will be validated and compared with state-of-the art in a clinical trial by radiologists at the Karolinska University Hospital. As an outcome, Prismatic Sensors expects the new patented detector technology to be the future choice for some or all the major global vendors. This will support Europe's position as a world-leader in medical innovation and healthcare technology, as well as improve hospital efficiency and save healthcare costs. Most importantly, it will have a positive impact for the survival odds for a large number of patients worldwide.\",\n",
       "       'ONCOSMART is the first In-Vitro Diagnostic (IVD) system that determines the effectiveness of anticancer drugs for a specific patient, testing live cell response to one or multiple cancer drugs. ONCOSMART analyses bone marrow or blood samples from a specific cancer patient, providing the results within 24-48 hours. This “functional profiling” approach has shown superior performance in non-automated systems to current molecular/genomic methods in predicting individual patient’s response to anticancer treatments.\\nONCOSMART is a fully-automated and standardised functional profiling platform that is made available to doctors and researchers to identify the most suitable cancer therapy for individual patients and also aid patient selection in clinical trials. \\nThe innovative platform analyses the interactions between anticancer drugs and live tumor cells contained in 2 mL of blood or bone marrow samples. \\nCellply has freedom to operate and protected ONCOSMART with 2 patent families issued in EU, US and China, 1 issued in EU, 1 pending PCT application, 2 pending Italian applications. Additional value is captured by 4 patent applications to be submitted in 2018-2019. \\nONCOSMART can test anticancer drugs including targeted, chemo and immunotherapies alone or in combination. The test results guide the selection of: 1) the appropriate therapy for a specific patient; 2) cancer patients for specific clinical studies; 3) cancer patients for novel therapies in clinical development. \\nThe platform has been fully-engineered and tested on leukemia patients (AML), proving its predictive power, and is extended to other hematologic and solid tumors in future developments. Within this project, CellPly has the goal to industrialise the platform, validate its analytical and clinical performance and support the first commercialisation activities releasing the platform for research first, then for clinical use. \\nSeal of Excellence certificate obtained on November 2017.',\n",
       "       'Makersite helps to solve the Compliance – Cost – Sustainability problem for products and their supply chains in a single integrated platform. It creates “digital twins” of products and automatically connects both internal and external data to it. These include live cost, supplier, regulation & environmental data sources, making the platform the largest product information repository of its kind. The digital twins serve as comprehensive and live models that teams can collaborate around. Product teams can use the data and the applications to quickly explore and improve the performance of different product configurations by leveraging millions of data points. This allows teams to instantly analyze the impacts and risks of any change to the product.',\n",
       "       'Myotonic Dystrophy type 1 (DM1) is the most common and multisystemic neuromuscular rare disease affecting 1 million people worldwide, 100,000 EU citizens, who still have no cure or treatment available. \\nIn the light of the ´Leave No-one Behind´ commitment behind Sustainable Development Goals and particularly, the dietary management approach may provide a unique option for rare disease patients through Foods for special medical purposes (FSMP), foods (not drugs) intended for the dietary management of individuals who suffer from certain diseases. The main goal of the present project is to compile in human evidences that MYODM’s food for special medical purposes is a unique approach to improve DM1 patients’ Quality of Life through a pilot clinical trial for foods and supplements sponsored by Myogem and leaded by Dr. Adolfo López de Munain, a worldwide neurologist specialized in DM1.\\nMYOGEM is the current licensee of the patents WO2016075288 A1 and WO2016075285 A1, which disclosed the effects of some methylxanthines on DM1. Owning the Intellectual Property Rights over the present solution is one of the main competitive advantages of MYOGEM.  MYOGEM is the first and unique company worldwide who launched a food supplement for a rare disease in May 2017. However, as food supplement MYODM faces the problem that DM1 community, either neurologists and patient associations, claim for in human data in order to broadly prescribe and consume the product. To overcome this barrier, and gain market confidence, MYOGEM aims to perform a Feasibility pilot clinical trial to demonstrate MYODM’s effect on a small cohort of 10-15 DM1 patients in order to commercially upgrade our current product “food supplement” to “food for special medical purpose”, from now on referred as MYODM-FSMP, that will reach the market in less than one year after the present project ends. \\nBy launching the new MYODM-FSMP product, a 5.5 M€ SOM is expected in 5 years after the project. Two SoE have been awarded.'],\n",
       "      dtype=object)"
      ]
     },
     "execution_count": 34,
     "metadata": {},
     "output_type": "execute_result"
    }
   ],
   "source": [
    "query['objective'].head(5).values"
   ]
  },
  {
   "cell_type": "code",
   "execution_count": 25,
   "metadata": {
    "scrolled": true
   },
   "outputs": [
    {
     "data": {
      "text/plain": [
       "[<matplotlib.lines.Line2D at 0x7f5213c1bba8>]"
      ]
     },
     "execution_count": 25,
     "metadata": {},
     "output_type": "execute_result"
    },
    {
     "data": {
      "image/png": "[encoded data removed]",
      "text/plain": [
       "<Figure size 864x432 with 1 Axes>"
      ]
     },
     "metadata": {
      "needs_background": "light"
     },
     "output_type": "display_data"
    }
   ],
   "source": [
    "plt.figure(figsize=(12,6))\n",
    "plt.plot(np.array(df.index), df['totalCost'], 'o')"
   ]
  },
  {
   "cell_type": "code",
   "execution_count": null,
   "metadata": {},
   "outputs": [],
   "source": []
  }
 ],
 "metadata": {
  "kernelspec": {
   "display_name": "Python 3",
   "language": "python",
   "name": "python3"
  },
  "language_info": {
   "codemirror_mode": {
    "name": "ipython",
    "version": 3
   },
   "file_extension": ".py",
   "mimetype": "text/x-python",
   "name": "python",
   "nbconvert_exporter": "python",
   "pygments_lexer": "ipython3",
   "version": "3.6.10"
  }
 },
 "nbformat": 4,
 "nbformat_minor": 4
}
