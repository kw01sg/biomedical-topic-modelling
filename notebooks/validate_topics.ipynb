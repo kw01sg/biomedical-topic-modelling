{
 "cells": [
  {
   "cell_type": "code",
   "execution_count": 1,
   "metadata": {},
   "outputs": [
    {
     "name": "stdout",
     "output_type": "stream",
     "text": [
      "'Associated words.xlsx'     'Text mining word list test 200823.xlsx'\r\n",
      " cordis-h2020projects.xlsx   topics_300_SYinput_LW.csv\r\n"
     ]
    }
   ],
   "source": [
    "!ls ../data"
   ]
  },
  {
   "cell_type": "code",
   "execution_count": 2,
   "metadata": {},
   "outputs": [],
   "source": [
    "import sys\n",
    "sys.path.append(\"../\")\n",
    "\n",
    "%load_ext autoreload\n",
    "%autoreload 2"
   ]
  },
  {
   "cell_type": "markdown",
   "metadata": {
    "heading_collapsed": true
   },
   "source": [
    "## Imports"
   ]
  },
  {
   "cell_type": "code",
   "execution_count": 71,
   "metadata": {
    "hidden": true
   },
   "outputs": [],
   "source": [
    "import pandas as pd\n",
    "pd.set_option('display.max_colwidth', None)\n",
    "import numpy as np\n",
    "from random import sample\n",
    "\n",
    "import pickle\n",
    "\n",
    "from gensim.models.wrappers import ldamallet\n",
    "from gensim.corpora import Dictionary\n",
    "from gensim.models.wrappers import LdaMallet\n",
    "\n",
    "from scipy.special import rel_entr\n",
    "from scipy.spatial.distance import jensenshannon"
   ]
  },
  {
   "cell_type": "code",
   "execution_count": 4,
   "metadata": {
    "hidden": true
   },
   "outputs": [
    {
     "name": "stderr",
     "output_type": "stream",
     "text": [
      "[nltk_data] Downloading package wordnet to /home/kohkb/nltk_data...\n",
      "[nltk_data]   Package wordnet is already up-to-date!\n",
      "[nltk_data] Downloading package stopwords to /home/kohkb/nltk_data...\n",
      "[nltk_data]   Package stopwords is already up-to-date!\n"
     ]
    }
   ],
   "source": [
    "from src.gensim_helper import create_dictionary, get_coherence\n",
    "from src.process_data import process_data\n",
    "from src.artefacts_helper import load_mallet_model\n",
    "from src.predict import get_term_topics, format_term_search_results, get_all_topics, predict_and_format_topics, get_topics_distribution\n",
    "from src.train import train_lda_mallet"
   ]
  },
  {
   "cell_type": "markdown",
   "metadata": {
    "heading_collapsed": true
   },
   "source": [
    "## Import and Process Associated Words"
   ]
  },
  {
   "cell_type": "code",
   "execution_count": 5,
   "metadata": {
    "hidden": true
   },
   "outputs": [
    {
     "data": {
      "text/html": [
       "<div>\n",
       "<style scoped>\n",
       "    .dataframe tbody tr th:only-of-type {\n",
       "        vertical-align: middle;\n",
       "    }\n",
       "\n",
       "    .dataframe tbody tr th {\n",
       "        vertical-align: top;\n",
       "    }\n",
       "\n",
       "    .dataframe thead th {\n",
       "        text-align: right;\n",
       "    }\n",
       "</style>\n",
       "<table border=\"1\" class=\"dataframe\">\n",
       "  <thead>\n",
       "    <tr style=\"text-align: right;\">\n",
       "      <th></th>\n",
       "      <th>0</th>\n",
       "      <th>1</th>\n",
       "      <th>2</th>\n",
       "      <th>3</th>\n",
       "      <th>4</th>\n",
       "      <th>5</th>\n",
       "    </tr>\n",
       "  </thead>\n",
       "  <tbody>\n",
       "    <tr>\n",
       "      <th>0</th>\n",
       "      <td>editing</td>\n",
       "      <td>crispr</td>\n",
       "      <td>cas9</td>\n",
       "      <td>base editing</td>\n",
       "      <td>NaN</td>\n",
       "      <td>NaN</td>\n",
       "    </tr>\n",
       "    <tr>\n",
       "      <th>1</th>\n",
       "      <td>cancer</td>\n",
       "      <td>carcinoma</td>\n",
       "      <td>p53</td>\n",
       "      <td>tumorigenesis</td>\n",
       "      <td>NaN</td>\n",
       "      <td>NaN</td>\n",
       "    </tr>\n",
       "    <tr>\n",
       "      <th>2</th>\n",
       "      <td>cancer</td>\n",
       "      <td>immunotherapy</td>\n",
       "      <td>leukemia</td>\n",
       "      <td>solid</td>\n",
       "      <td>NaN</td>\n",
       "      <td>NaN</td>\n",
       "    </tr>\n",
       "    <tr>\n",
       "      <th>3</th>\n",
       "      <td>microbiome</td>\n",
       "      <td>bacteria</td>\n",
       "      <td>antibiotic</td>\n",
       "      <td>probiotic</td>\n",
       "      <td>NaN</td>\n",
       "      <td>NaN</td>\n",
       "    </tr>\n",
       "    <tr>\n",
       "      <th>4</th>\n",
       "      <td>RNA</td>\n",
       "      <td>oligonucleotide</td>\n",
       "      <td>non-coding</td>\n",
       "      <td>NaN</td>\n",
       "      <td>NaN</td>\n",
       "      <td>NaN</td>\n",
       "    </tr>\n",
       "  </tbody>\n",
       "</table>\n",
       "</div>"
      ],
      "text/plain": [
       "            0                1           2              3    4    5\n",
       "0     editing           crispr        cas9   base editing  NaN  NaN\n",
       "1      cancer        carcinoma         p53  tumorigenesis  NaN  NaN\n",
       "2      cancer    immunotherapy    leukemia          solid  NaN  NaN\n",
       "3  microbiome         bacteria  antibiotic      probiotic  NaN  NaN\n",
       "4         RNA  oligonucleotide  non-coding            NaN  NaN  NaN"
      ]
     },
     "execution_count": 5,
     "metadata": {},
     "output_type": "execute_result"
    }
   ],
   "source": [
    "associated_words_df = pd.read_excel('../data/Associated words.xlsx', header=None)\n",
    "associated_words_df.head()"
   ]
  },
  {
   "cell_type": "code",
   "execution_count": 6,
   "metadata": {
    "hidden": true
   },
   "outputs": [],
   "source": [
    "associated_words = associated_words_df.values\n",
    "# drop na\n",
    "associated_words = [i[pd.notna(i)].tolist() for i in associated_words]"
   ]
  },
  {
   "cell_type": "code",
   "execution_count": 7,
   "metadata": {
    "hidden": true
   },
   "outputs": [],
   "source": [
    "associated_words = process_data([' '.join(i) for i in associated_words])"
   ]
  },
  {
   "cell_type": "code",
   "execution_count": 8,
   "metadata": {
    "hidden": true
   },
   "outputs": [
    {
     "data": {
      "text/plain": [
       "[['editing', 'crispr', 'cas9', 'base', 'editing'],\n",
       " ['cancer', 'carcinoma', 'p53', 'tumorigenesis'],\n",
       " ['cancer', 'immunotherapy', 'leukemia', 'solid'],\n",
       " ['microbiome', 'bacteria', 'antibiotic', 'probiotic'],\n",
       " ['rna', 'oligonucleotide', 'non', 'coding']]"
      ]
     },
     "execution_count": 8,
     "metadata": {},
     "output_type": "execute_result"
    }
   ],
   "source": [
    "associated_words[:5]"
   ]
  },
  {
   "cell_type": "markdown",
   "metadata": {
    "heading_collapsed": true
   },
   "source": [
    "## Validate"
   ]
  },
  {
   "cell_type": "markdown",
   "metadata": {
    "hidden": true
   },
   "source": [
    "* Treat `associated_words` as labels i.e. each row is a topic\n",
    "* Aim is to see among the topics identified by the topic modelling process:\n",
    "    * which predicted topic best identifies the labelled topic\n",
    "    * by how much does it identifies the labelled topic\n",
    "* two metrics are used to measure difference between topics by treating each topic as a probability distribution:\n",
    "    1. Jensen-Shannon distance, used in LDAvis __(observed that Jensen-Shannon distance is a more stable metric)__\n",
    "    1. Kullback-Leibler Divergence"
   ]
  },
  {
   "cell_type": "markdown",
   "metadata": {
    "heading_collapsed": true,
    "hidden": true
   },
   "source": [
    "### Unfiltered Model"
   ]
  },
  {
   "cell_type": "code",
   "execution_count": 9,
   "metadata": {
    "hidden": true
   },
   "outputs": [],
   "source": [
    "unfiltered_dictionary = Dictionary.load('../artefacts/dictionary')"
   ]
  },
  {
   "cell_type": "code",
   "execution_count": 10,
   "metadata": {
    "hidden": true
   },
   "outputs": [],
   "source": [
    "unfiltered_model = load_mallet_model(artefacts_path='../artefacts', suffix='300_topics_mallet_alpha_50')"
   ]
  },
  {
   "cell_type": "code",
   "execution_count": 11,
   "metadata": {
    "hidden": true
   },
   "outputs": [],
   "source": [
    "unfiltered_model.mallet_path = '../mallet-2.0.8/bin/mallet'\n",
    "unfiltered_model.prefix = '../artefacts/mallet_tmp/'"
   ]
  },
  {
   "cell_type": "code",
   "execution_count": 12,
   "metadata": {
    "hidden": true
   },
   "outputs": [
    {
     "data": {
      "text/plain": [
       "[('political', 0.07788479348027412),\n",
       " ('study', 0.0229672161511391),\n",
       " ('social', 0.021578070012965363),\n",
       " ('politics', 0.020698277458788664),\n",
       " ('discourse', 0.017410631598444155),\n",
       " ('analysis', 0.015651046490090758),\n",
       " ('movement', 0.015002778292276347),\n",
       " ('democracy', 0.013382107797740322),\n",
       " ('democratic', 0.012548620114836082),\n",
       " ('party', 0.011992961659566587)]"
      ]
     },
     "execution_count": 12,
     "metadata": {},
     "output_type": "execute_result"
    }
   ],
   "source": [
    "unfiltered_model.show_topic(0)"
   ]
  },
  {
   "cell_type": "code",
   "execution_count": 13,
   "metadata": {
    "hidden": true
   },
   "outputs": [
    {
     "data": {
      "text/plain": [
       "array([0.07788479, 0.02296722, 0.02157807, 0.02069828, 0.01741063,\n",
       "       0.01565105, 0.01500278, 0.01338211, 0.01254862, 0.01199296])"
      ]
     },
     "execution_count": 13,
     "metadata": {},
     "output_type": "execute_result"
    }
   ],
   "source": [
    "# can get probability distribution of a topic in matrix form\n",
    "unfiltered_model.get_topics()[0][unfiltered_dictionary.doc2idx([i[0] for i in unfiltered_model.show_topic(0)])]"
   ]
  },
  {
   "cell_type": "code",
   "execution_count": 14,
   "metadata": {
    "hidden": true
   },
   "outputs": [],
   "source": [
    "# variables\n",
    "unfiltered_result_array = np.zeros((30, unfiltered_model.num_topics, 2))\n",
    "unfiltered_topic_array = unfiltered_model.get_topics()\n",
    "unfiltered_label_array = np.zeros((30, len(unfiltered_dictionary.keys())))\n",
    "\n",
    "# initialize label arrays\n",
    "for id_i, i in enumerate(associated_words):\n",
    "    id_list = unfiltered_dictionary.doc2idx(set(i))\n",
    "    for j in id_list:\n",
    "        unfiltered_label_array[id_i][j] = 1.0 / len(id_list)\n",
    "\n",
    "for i in range(30):\n",
    "    for j in range(unfiltered_model.num_topics):\n",
    "        jensenshannon_score = jensenshannon(unfiltered_label_array[i], unfiltered_topic_array[j])\n",
    "        rel_entr_score = sum(rel_entr(unfiltered_label_array[i], unfiltered_topic_array[j]))\n",
    "        unfiltered_result_array[i][j] = (jensenshannon_score, rel_entr_score)"
   ]
  },
  {
   "cell_type": "code",
   "execution_count": 15,
   "metadata": {
    "hidden": true
   },
   "outputs": [],
   "source": [
    "unfiltered_topics_df = get_all_topics(unfiltered_model).set_index('Topic_Id')\n",
    "unfiltered_df = unfiltered_topics_df.iloc[unfiltered_result_array[:,:,0].argmin(1)].reset_index()\n",
    "unfiltered_df['divergence_score'] = unfiltered_result_array[:,:,0].min(1)"
   ]
  },
  {
   "cell_type": "code",
   "execution_count": 16,
   "metadata": {
    "hidden": true
   },
   "outputs": [
    {
     "data": {
      "text/html": [
       "<div>\n",
       "<style scoped>\n",
       "    .dataframe tbody tr th:only-of-type {\n",
       "        vertical-align: middle;\n",
       "    }\n",
       "\n",
       "    .dataframe tbody tr th {\n",
       "        vertical-align: top;\n",
       "    }\n",
       "\n",
       "    .dataframe thead th {\n",
       "        text-align: right;\n",
       "    }\n",
       "</style>\n",
       "<table border=\"1\" class=\"dataframe\">\n",
       "  <thead>\n",
       "    <tr style=\"text-align: right;\">\n",
       "      <th></th>\n",
       "      <th>Topic_Id</th>\n",
       "      <th>Topic_Keywords</th>\n",
       "      <th>divergence_score</th>\n",
       "    </tr>\n",
       "  </thead>\n",
       "  <tbody>\n",
       "    <tr>\n",
       "      <th>0</th>\n",
       "      <td>54</td>\n",
       "      <td>gene, genetic, genome, expression, mutation, molecular, genomic, crispr, identify, sequencing</td>\n",
       "      <td>0.781123</td>\n",
       "    </tr>\n",
       "    <tr>\n",
       "      <th>1</th>\n",
       "      <td>72</td>\n",
       "      <td>cancer, tumor, tumour, cell, treatment, therapy, patient, breast, therapeutic, metastasis</td>\n",
       "      <td>0.732720</td>\n",
       "    </tr>\n",
       "    <tr>\n",
       "      <th>2</th>\n",
       "      <td>72</td>\n",
       "      <td>cancer, tumor, tumour, cell, treatment, therapy, patient, breast, therapeutic, metastasis</td>\n",
       "      <td>0.720687</td>\n",
       "    </tr>\n",
       "    <tr>\n",
       "      <th>3</th>\n",
       "      <td>126</td>\n",
       "      <td>resistance, antibiotic, bacteria, bacterial, pathogen, infection, resistant, antimicrobial, host, phage</td>\n",
       "      <td>0.736221</td>\n",
       "    </tr>\n",
       "    <tr>\n",
       "      <th>4</th>\n",
       "      <td>189</td>\n",
       "      <td>protein, rna, mrna, function, gene, expression, modification, cell, translation, cellular</td>\n",
       "      <td>0.762226</td>\n",
       "    </tr>\n",
       "  </tbody>\n",
       "</table>\n",
       "</div>"
      ],
      "text/plain": [
       "   Topic_Id  \\\n",
       "0        54   \n",
       "1        72   \n",
       "2        72   \n",
       "3       126   \n",
       "4       189   \n",
       "\n",
       "                                                                                            Topic_Keywords  \\\n",
       "0            gene, genetic, genome, expression, mutation, molecular, genomic, crispr, identify, sequencing   \n",
       "1                cancer, tumor, tumour, cell, treatment, therapy, patient, breast, therapeutic, metastasis   \n",
       "2                cancer, tumor, tumour, cell, treatment, therapy, patient, breast, therapeutic, metastasis   \n",
       "3  resistance, antibiotic, bacteria, bacterial, pathogen, infection, resistant, antimicrobial, host, phage   \n",
       "4                protein, rna, mrna, function, gene, expression, modification, cell, translation, cellular   \n",
       "\n",
       "   divergence_score  \n",
       "0          0.781123  \n",
       "1          0.732720  \n",
       "2          0.720687  \n",
       "3          0.736221  \n",
       "4          0.762226  "
      ]
     },
     "execution_count": 16,
     "metadata": {},
     "output_type": "execute_result"
    }
   ],
   "source": [
    "unfiltered_df.head()"
   ]
  },
  {
   "cell_type": "code",
   "execution_count": 17,
   "metadata": {
    "hidden": true
   },
   "outputs": [
    {
     "data": {
      "text/plain": [
       "22.323378320003215"
      ]
     },
     "execution_count": 17,
     "metadata": {},
     "output_type": "execute_result"
    }
   ],
   "source": [
    "# for reproducbility. should equal 22.323378320003215\n",
    "unfiltered_df['divergence_score'].sum()"
   ]
  },
  {
   "cell_type": "code",
   "execution_count": 42,
   "metadata": {
    "hidden": true
   },
   "outputs": [],
   "source": [
    "# unfiltered_df.to_csv('../output/df_unfiltered_associated_words.csv', index=False)\n",
    "# get_all_topics(unfiltered_model).to_csv('../output/unfiltered_300_topics.csv', index=False)"
   ]
  },
  {
   "cell_type": "markdown",
   "metadata": {
    "hidden": true
   },
   "source": [
    "#### Top 10 topics"
   ]
  },
  {
   "cell_type": "code",
   "execution_count": 18,
   "metadata": {
    "hidden": true
   },
   "outputs": [
    {
     "data": {
      "text/html": [
       "<div>\n",
       "<style scoped>\n",
       "    .dataframe tbody tr th:only-of-type {\n",
       "        vertical-align: middle;\n",
       "    }\n",
       "\n",
       "    .dataframe tbody tr th {\n",
       "        vertical-align: top;\n",
       "    }\n",
       "\n",
       "    .dataframe thead th {\n",
       "        text-align: right;\n",
       "    }\n",
       "</style>\n",
       "<table border=\"1\" class=\"dataframe\">\n",
       "  <thead>\n",
       "    <tr style=\"text-align: right;\">\n",
       "      <th></th>\n",
       "      <th>Topic_Id</th>\n",
       "      <th>Topic_Keywords</th>\n",
       "      <th>divergence_score</th>\n",
       "    </tr>\n",
       "  </thead>\n",
       "  <tbody>\n",
       "    <tr>\n",
       "      <th>12</th>\n",
       "      <td>42</td>\n",
       "      <td>energy, efficiency, consumption, efficient, saving, renewable, household, sector, demand, consumer</td>\n",
       "      <td>0.646525</td>\n",
       "    </tr>\n",
       "    <tr>\n",
       "      <th>24</th>\n",
       "      <td>126</td>\n",
       "      <td>resistance, antibiotic, bacteria, bacterial, pathogen, infection, resistant, antimicrobial, host, phage</td>\n",
       "      <td>0.651705</td>\n",
       "    </tr>\n",
       "    <tr>\n",
       "      <th>17</th>\n",
       "      <td>297</td>\n",
       "      <td>virus, vaccine, disease, infection, viral, vector, human, hiv, infectious, pathogen</td>\n",
       "      <td>0.671244</td>\n",
       "    </tr>\n",
       "    <tr>\n",
       "      <th>8</th>\n",
       "      <td>268</td>\n",
       "      <td>data, big, analytics, analysis, collection, driven, collected, information, collect, management</td>\n",
       "      <td>0.692078</td>\n",
       "    </tr>\n",
       "    <tr>\n",
       "      <th>18</th>\n",
       "      <td>229</td>\n",
       "      <td>drug, development, discovery, pharmaceutical, compound, screening, target, candidate, molecule, therapeutic</td>\n",
       "      <td>0.706250</td>\n",
       "    </tr>\n",
       "    <tr>\n",
       "      <th>28</th>\n",
       "      <td>221</td>\n",
       "      <td>heart, cardiac, failure, cardiovascular, death, valve, cvd, risk, hf, myocardial</td>\n",
       "      <td>0.714016</td>\n",
       "    </tr>\n",
       "    <tr>\n",
       "      <th>29</th>\n",
       "      <td>20</td>\n",
       "      <td>analysis, method, study, analytical, approach, technique, provide, comprehensive, analyse, methodology</td>\n",
       "      <td>0.717595</td>\n",
       "    </tr>\n",
       "    <tr>\n",
       "      <th>2</th>\n",
       "      <td>72</td>\n",
       "      <td>cancer, tumor, tumour, cell, treatment, therapy, patient, breast, therapeutic, metastasis</td>\n",
       "      <td>0.720687</td>\n",
       "    </tr>\n",
       "    <tr>\n",
       "      <th>27</th>\n",
       "      <td>54</td>\n",
       "      <td>gene, genetic, genome, expression, mutation, molecular, genomic, crispr, identify, sequencing</td>\n",
       "      <td>0.720898</td>\n",
       "    </tr>\n",
       "    <tr>\n",
       "      <th>1</th>\n",
       "      <td>72</td>\n",
       "      <td>cancer, tumor, tumour, cell, treatment, therapy, patient, breast, therapeutic, metastasis</td>\n",
       "      <td>0.732720</td>\n",
       "    </tr>\n",
       "  </tbody>\n",
       "</table>\n",
       "</div>"
      ],
      "text/plain": [
       "    Topic_Id  \\\n",
       "12        42   \n",
       "24       126   \n",
       "17       297   \n",
       "8        268   \n",
       "18       229   \n",
       "28       221   \n",
       "29        20   \n",
       "2         72   \n",
       "27        54   \n",
       "1         72   \n",
       "\n",
       "                                                                                                 Topic_Keywords  \\\n",
       "12           energy, efficiency, consumption, efficient, saving, renewable, household, sector, demand, consumer   \n",
       "24      resistance, antibiotic, bacteria, bacterial, pathogen, infection, resistant, antimicrobial, host, phage   \n",
       "17                          virus, vaccine, disease, infection, viral, vector, human, hiv, infectious, pathogen   \n",
       "8               data, big, analytics, analysis, collection, driven, collected, information, collect, management   \n",
       "18  drug, development, discovery, pharmaceutical, compound, screening, target, candidate, molecule, therapeutic   \n",
       "28                             heart, cardiac, failure, cardiovascular, death, valve, cvd, risk, hf, myocardial   \n",
       "29       analysis, method, study, analytical, approach, technique, provide, comprehensive, analyse, methodology   \n",
       "2                     cancer, tumor, tumour, cell, treatment, therapy, patient, breast, therapeutic, metastasis   \n",
       "27                gene, genetic, genome, expression, mutation, molecular, genomic, crispr, identify, sequencing   \n",
       "1                     cancer, tumor, tumour, cell, treatment, therapy, patient, breast, therapeutic, metastasis   \n",
       "\n",
       "    divergence_score  \n",
       "12          0.646525  \n",
       "24          0.651705  \n",
       "17          0.671244  \n",
       "8           0.692078  \n",
       "18          0.706250  \n",
       "28          0.714016  \n",
       "29          0.717595  \n",
       "2           0.720687  \n",
       "27          0.720898  \n",
       "1           0.732720  "
      ]
     },
     "execution_count": 18,
     "metadata": {},
     "output_type": "execute_result"
    }
   ],
   "source": [
    "unfiltered_df.sort_values('divergence_score').head(10)"
   ]
  },
  {
   "cell_type": "markdown",
   "metadata": {
    "hidden": true
   },
   "source": [
    "#### Worst 10 topics"
   ]
  },
  {
   "cell_type": "code",
   "execution_count": 19,
   "metadata": {
    "hidden": true
   },
   "outputs": [
    {
     "data": {
      "text/html": [
       "<div>\n",
       "<style scoped>\n",
       "    .dataframe tbody tr th:only-of-type {\n",
       "        vertical-align: middle;\n",
       "    }\n",
       "\n",
       "    .dataframe tbody tr th {\n",
       "        vertical-align: top;\n",
       "    }\n",
       "\n",
       "    .dataframe thead th {\n",
       "        text-align: right;\n",
       "    }\n",
       "</style>\n",
       "<table border=\"1\" class=\"dataframe\">\n",
       "  <thead>\n",
       "    <tr style=\"text-align: right;\">\n",
       "      <th></th>\n",
       "      <th>Topic_Id</th>\n",
       "      <th>Topic_Keywords</th>\n",
       "      <th>divergence_score</th>\n",
       "    </tr>\n",
       "  </thead>\n",
       "  <tbody>\n",
       "    <tr>\n",
       "      <th>25</th>\n",
       "      <td>227</td>\n",
       "      <td>selection, population, genetic, evolution, variation, trait, fitness, natural, adaptation, parasite</td>\n",
       "      <td>0.813210</td>\n",
       "    </tr>\n",
       "    <tr>\n",
       "      <th>16</th>\n",
       "      <td>122</td>\n",
       "      <td>vision, visual, image, object, eye, computer, world, display, scene, camera</td>\n",
       "      <td>0.795495</td>\n",
       "    </tr>\n",
       "    <tr>\n",
       "      <th>13</th>\n",
       "      <td>63</td>\n",
       "      <td>health, intervention, care, mental, evidence, prevention, risk, outcome, impact, population</td>\n",
       "      <td>0.794194</td>\n",
       "    </tr>\n",
       "    <tr>\n",
       "      <th>19</th>\n",
       "      <td>209</td>\n",
       "      <td>cell, membrane, protein, cellular, lipid, molecular, microscopy, function, biology, vesicle</td>\n",
       "      <td>0.786025</td>\n",
       "    </tr>\n",
       "    <tr>\n",
       "      <th>11</th>\n",
       "      <td>266</td>\n",
       "      <td>life, ageing, people, age, population, aging, related, elderly, older, living</td>\n",
       "      <td>0.784862</td>\n",
       "    </tr>\n",
       "    <tr>\n",
       "      <th>21</th>\n",
       "      <td>11</td>\n",
       "      <td>tissue, cell, organ, vitro, vivo, culture, model, disease, human, kidney</td>\n",
       "      <td>0.783175</td>\n",
       "    </tr>\n",
       "    <tr>\n",
       "      <th>0</th>\n",
       "      <td>54</td>\n",
       "      <td>gene, genetic, genome, expression, mutation, molecular, genomic, crispr, identify, sequencing</td>\n",
       "      <td>0.781123</td>\n",
       "    </tr>\n",
       "    <tr>\n",
       "      <th>5</th>\n",
       "      <td>197</td>\n",
       "      <td>disease, ad, neurodegenerative, al, alzheimer, disorder, therapeutic, model, pathology, dementia</td>\n",
       "      <td>0.776501</td>\n",
       "    </tr>\n",
       "    <tr>\n",
       "      <th>15</th>\n",
       "      <td>266</td>\n",
       "      <td>life, ageing, people, age, population, aging, related, elderly, older, living</td>\n",
       "      <td>0.767273</td>\n",
       "    </tr>\n",
       "    <tr>\n",
       "      <th>26</th>\n",
       "      <td>206</td>\n",
       "      <td>neuron, neuronal, circuit, brain, synaptic, activity, neural, plasticity, function, mouse</td>\n",
       "      <td>0.766088</td>\n",
       "    </tr>\n",
       "  </tbody>\n",
       "</table>\n",
       "</div>"
      ],
      "text/plain": [
       "    Topic_Id  \\\n",
       "25       227   \n",
       "16       122   \n",
       "13        63   \n",
       "19       209   \n",
       "11       266   \n",
       "21        11   \n",
       "0         54   \n",
       "5        197   \n",
       "15       266   \n",
       "26       206   \n",
       "\n",
       "                                                                                         Topic_Keywords  \\\n",
       "25  selection, population, genetic, evolution, variation, trait, fitness, natural, adaptation, parasite   \n",
       "16                          vision, visual, image, object, eye, computer, world, display, scene, camera   \n",
       "13          health, intervention, care, mental, evidence, prevention, risk, outcome, impact, population   \n",
       "19          cell, membrane, protein, cellular, lipid, molecular, microscopy, function, biology, vesicle   \n",
       "11                        life, ageing, people, age, population, aging, related, elderly, older, living   \n",
       "21                             tissue, cell, organ, vitro, vivo, culture, model, disease, human, kidney   \n",
       "0         gene, genetic, genome, expression, mutation, molecular, genomic, crispr, identify, sequencing   \n",
       "5      disease, ad, neurodegenerative, al, alzheimer, disorder, therapeutic, model, pathology, dementia   \n",
       "15                        life, ageing, people, age, population, aging, related, elderly, older, living   \n",
       "26            neuron, neuronal, circuit, brain, synaptic, activity, neural, plasticity, function, mouse   \n",
       "\n",
       "    divergence_score  \n",
       "25          0.813210  \n",
       "16          0.795495  \n",
       "13          0.794194  \n",
       "19          0.786025  \n",
       "11          0.784862  \n",
       "21          0.783175  \n",
       "0           0.781123  \n",
       "5           0.776501  \n",
       "15          0.767273  \n",
       "26          0.766088  "
      ]
     },
     "execution_count": 19,
     "metadata": {},
     "output_type": "execute_result"
    }
   ],
   "source": [
    "unfiltered_df.sort_values('divergence_score', ascending=False).head(10)"
   ]
  },
  {
   "cell_type": "markdown",
   "metadata": {
    "heading_collapsed": true,
    "hidden": true
   },
   "source": [
    "### Filtered Model"
   ]
  },
  {
   "cell_type": "markdown",
   "metadata": {
    "heading_collapsed": true,
    "hidden": true
   },
   "source": [
    "#### Top 3"
   ]
  },
  {
   "cell_type": "code",
   "execution_count": 16,
   "metadata": {
    "hidden": true
   },
   "outputs": [],
   "source": [
    "filtered_dictionary = Dictionary.load('../artefacts/filtered_dictionary')"
   ]
  },
  {
   "cell_type": "code",
   "execution_count": 17,
   "metadata": {
    "hidden": true
   },
   "outputs": [
    {
     "name": "stdout",
     "output_type": "stream",
     "text": [
      "19702\n"
     ]
    }
   ],
   "source": [
    "with open('../artefacts/filtered_docs.pkl', 'rb') as f:\n",
    "    filtered_docs = pickle.load(f)\n",
    "\n",
    "print(len(filtered_docs))"
   ]
  },
  {
   "cell_type": "code",
   "execution_count": 18,
   "metadata": {
    "hidden": true
   },
   "outputs": [],
   "source": [
    "filtered_model = load_mallet_model(artefacts_path='../artefacts', suffix='filtered_top_3')"
   ]
  },
  {
   "cell_type": "code",
   "execution_count": 19,
   "metadata": {
    "hidden": true
   },
   "outputs": [],
   "source": [
    "filtered_model.mallet_path = '../mallet-2.0.8/bin/mallet'\n",
    "filtered_model.prefix = '../artefacts/mallet_tmp/'"
   ]
  },
  {
   "cell_type": "code",
   "execution_count": null,
   "metadata": {
    "hidden": true
   },
   "outputs": [],
   "source": [
    "# check for reproducibility\n",
    "get_coherence(filtered_model, filtered_docs, filtered_dictionary)"
   ]
  },
  {
   "cell_type": "code",
   "execution_count": 20,
   "metadata": {
    "hidden": true
   },
   "outputs": [
    {
     "data": {
      "text/plain": [
       "[('wave', 0.0855628796691224),\n",
       " ('frequency', 0.08297789841023652),\n",
       " ('high', 0.03786997544267804),\n",
       " ('based', 0.027788548533023136),\n",
       " ('application', 0.0264960579035802),\n",
       " ('generation', 0.025332816337081555),\n",
       " ('comb', 0.024298823833527206),\n",
       " ('dual', 0.022360087889362803),\n",
       " ('source', 0.020679850071086983),\n",
       " ('propagation', 0.020421351945198396)]"
      ]
     },
     "execution_count": 20,
     "metadata": {},
     "output_type": "execute_result"
    }
   ],
   "source": [
    "filtered_model.show_topic(0)"
   ]
  },
  {
   "cell_type": "code",
   "execution_count": 21,
   "metadata": {
    "hidden": true
   },
   "outputs": [],
   "source": [
    "# variables\n",
    "filtered_result_array = np.zeros((30, filtered_model.num_topics, 2))\n",
    "filtered_topic_array = filtered_model.get_topics()\n",
    "filtered_label_array = np.zeros((30, len(filtered_dictionary.keys())))\n",
    "\n",
    "# initialize label arrays\n",
    "for id_i, i in enumerate(associated_words):\n",
    "    id_list = filtered_dictionary.doc2idx(set(i))\n",
    "    for j in id_list:\n",
    "        filtered_label_array[id_i][j] = 1.0 / len(id_list)\n",
    "\n",
    "for i in range(30):\n",
    "    for j in range(filtered_model.num_topics):\n",
    "        jensenshannon_score = jensenshannon(filtered_label_array[i], filtered_topic_array[j])\n",
    "        rel_entr_score = sum(rel_entr(filtered_label_array[i], filtered_topic_array[j]))\n",
    "        filtered_result_array[i][j] = (jensenshannon_score, rel_entr_score)"
   ]
  },
  {
   "cell_type": "code",
   "execution_count": 22,
   "metadata": {
    "hidden": true
   },
   "outputs": [],
   "source": [
    "filtered_topics_df = get_all_topics(filtered_model).set_index('Topic_Id')\n",
    "filtered_df = filtered_topics_df.iloc[filtered_result_array[:,:,0].argmin(1)].reset_index()\n",
    "filtered_df['divergence_score'] = filtered_result_array[:,:,0].min(1)"
   ]
  },
  {
   "cell_type": "code",
   "execution_count": 23,
   "metadata": {
    "hidden": true,
    "scrolled": true
   },
   "outputs": [
    {
     "data": {
      "text/html": [
       "<div>\n",
       "<style scoped>\n",
       "    .dataframe tbody tr th:only-of-type {\n",
       "        vertical-align: middle;\n",
       "    }\n",
       "\n",
       "    .dataframe tbody tr th {\n",
       "        vertical-align: top;\n",
       "    }\n",
       "\n",
       "    .dataframe thead th {\n",
       "        text-align: right;\n",
       "    }\n",
       "</style>\n",
       "<table border=\"1\" class=\"dataframe\">\n",
       "  <thead>\n",
       "    <tr style=\"text-align: right;\">\n",
       "      <th></th>\n",
       "      <th>Topic_Id</th>\n",
       "      <th>Topic_Keywords</th>\n",
       "      <th>divergence_score</th>\n",
       "    </tr>\n",
       "  </thead>\n",
       "  <tbody>\n",
       "    <tr>\n",
       "      <th>0</th>\n",
       "      <td>40</td>\n",
       "      <td>gene, genome, expression, genetic, mutation, crispr, editing, functional, identify, cas9</td>\n",
       "      <td>0.757357</td>\n",
       "    </tr>\n",
       "    <tr>\n",
       "      <th>1</th>\n",
       "      <td>228</td>\n",
       "      <td>cancer, tumor, tumour, breast, therapy, cell, treatment, metastasis, metastatic, patient</td>\n",
       "      <td>0.696356</td>\n",
       "    </tr>\n",
       "    <tr>\n",
       "      <th>2</th>\n",
       "      <td>228</td>\n",
       "      <td>cancer, tumor, tumour, breast, therapy, cell, treatment, metastasis, metastatic, patient</td>\n",
       "      <td>0.704889</td>\n",
       "    </tr>\n",
       "    <tr>\n",
       "      <th>3</th>\n",
       "      <td>109</td>\n",
       "      <td>resistance, antibiotic, bacteria, bacterial, infection, resistant, antimicrobial, pathogen, pa, toxin</td>\n",
       "      <td>0.720164</td>\n",
       "    </tr>\n",
       "    <tr>\n",
       "      <th>4</th>\n",
       "      <td>111</td>\n",
       "      <td>rna, mrna, translation, coding, function, regulation, expression, small, mirnas, protein</td>\n",
       "      <td>0.722837</td>\n",
       "    </tr>\n",
       "  </tbody>\n",
       "</table>\n",
       "</div>"
      ],
      "text/plain": [
       "   Topic_Id  \\\n",
       "0        40   \n",
       "1       228   \n",
       "2       228   \n",
       "3       109   \n",
       "4       111   \n",
       "\n",
       "                                                                                          Topic_Keywords  \\\n",
       "0               gene, genome, expression, genetic, mutation, crispr, editing, functional, identify, cas9   \n",
       "1               cancer, tumor, tumour, breast, therapy, cell, treatment, metastasis, metastatic, patient   \n",
       "2               cancer, tumor, tumour, breast, therapy, cell, treatment, metastasis, metastatic, patient   \n",
       "3  resistance, antibiotic, bacteria, bacterial, infection, resistant, antimicrobial, pathogen, pa, toxin   \n",
       "4               rna, mrna, translation, coding, function, regulation, expression, small, mirnas, protein   \n",
       "\n",
       "   divergence_score  \n",
       "0          0.757357  \n",
       "1          0.696356  \n",
       "2          0.704889  \n",
       "3          0.720164  \n",
       "4          0.722837  "
      ]
     },
     "execution_count": 23,
     "metadata": {},
     "output_type": "execute_result"
    }
   ],
   "source": [
    "filtered_df.head()"
   ]
  },
  {
   "cell_type": "code",
   "execution_count": 24,
   "metadata": {
    "hidden": true
   },
   "outputs": [
    {
     "data": {
      "text/plain": [
       "21.853238639749286"
      ]
     },
     "execution_count": 24,
     "metadata": {},
     "output_type": "execute_result"
    }
   ],
   "source": [
    "# for reproducibility. should equal 21.853238639749286\n",
    "filtered_df['divergence_score'].sum()"
   ]
  },
  {
   "cell_type": "code",
   "execution_count": 18,
   "metadata": {
    "hidden": true
   },
   "outputs": [],
   "source": [
    "# filtered_df.to_csv('../output/df_filtered_associated_words.csv', index=False)\n",
    "# get_all_topics(filtered_model).to_csv('../output/df_filtered_topics.csv', index=False)"
   ]
  },
  {
   "cell_type": "markdown",
   "metadata": {
    "heading_collapsed": true,
    "hidden": true
   },
   "source": [
    "##### Top 10 topics"
   ]
  },
  {
   "cell_type": "code",
   "execution_count": 30,
   "metadata": {
    "hidden": true
   },
   "outputs": [
    {
     "data": {
      "text/html": [
       "<div>\n",
       "<style scoped>\n",
       "    .dataframe tbody tr th:only-of-type {\n",
       "        vertical-align: middle;\n",
       "    }\n",
       "\n",
       "    .dataframe tbody tr th {\n",
       "        vertical-align: top;\n",
       "    }\n",
       "\n",
       "    .dataframe thead th {\n",
       "        text-align: right;\n",
       "    }\n",
       "</style>\n",
       "<table border=\"1\" class=\"dataframe\">\n",
       "  <thead>\n",
       "    <tr style=\"text-align: right;\">\n",
       "      <th></th>\n",
       "      <th>Topic_Id</th>\n",
       "      <th>Topic_Keywords</th>\n",
       "      <th>divergence_score</th>\n",
       "    </tr>\n",
       "  </thead>\n",
       "  <tbody>\n",
       "    <tr>\n",
       "      <th>24</th>\n",
       "      <td>109</td>\n",
       "      <td>resistance, antibiotic, bacteria, bacterial, infection, resistant, antimicrobial, pathogen, pa, toxin</td>\n",
       "      <td>0.620899</td>\n",
       "    </tr>\n",
       "    <tr>\n",
       "      <th>17</th>\n",
       "      <td>13</td>\n",
       "      <td>vaccine, virus, viral, infection, hiv, response, antiviral, vaccination, human, influenza</td>\n",
       "      <td>0.634735</td>\n",
       "    </tr>\n",
       "    <tr>\n",
       "      <th>12</th>\n",
       "      <td>22</td>\n",
       "      <td>energy, solar, efficiency, power, grid, efficient, consumption, electricity, harvesting, renewable</td>\n",
       "      <td>0.684919</td>\n",
       "    </tr>\n",
       "    <tr>\n",
       "      <th>27</th>\n",
       "      <td>40</td>\n",
       "      <td>gene, genome, expression, genetic, mutation, crispr, editing, functional, identify, cas9</td>\n",
       "      <td>0.692319</td>\n",
       "    </tr>\n",
       "    <tr>\n",
       "      <th>18</th>\n",
       "      <td>192</td>\n",
       "      <td>drug, discovery, development, pharmaceutical, compound, screening, molecule, target, candidate, pharma</td>\n",
       "      <td>0.692936</td>\n",
       "    </tr>\n",
       "    <tr>\n",
       "      <th>1</th>\n",
       "      <td>228</td>\n",
       "      <td>cancer, tumor, tumour, breast, therapy, cell, treatment, metastasis, metastatic, patient</td>\n",
       "      <td>0.696356</td>\n",
       "    </tr>\n",
       "    <tr>\n",
       "      <th>8</th>\n",
       "      <td>127</td>\n",
       "      <td>data, big, analytics, processing, analysis, information, driven, amount, source, business</td>\n",
       "      <td>0.698552</td>\n",
       "    </tr>\n",
       "    <tr>\n",
       "      <th>28</th>\n",
       "      <td>248</td>\n",
       "      <td>heart, cardiac, failure, disease, cardiovascular, death, hf, af, clinical, myocardial</td>\n",
       "      <td>0.704877</td>\n",
       "    </tr>\n",
       "    <tr>\n",
       "      <th>2</th>\n",
       "      <td>228</td>\n",
       "      <td>cancer, tumor, tumour, breast, therapy, cell, treatment, metastasis, metastatic, patient</td>\n",
       "      <td>0.704889</td>\n",
       "    </tr>\n",
       "    <tr>\n",
       "      <th>22</th>\n",
       "      <td>18</td>\n",
       "      <td>metabolic, diabetes, metabolism, glucose, insulin, disease, type, beta, metabolite, diabetic</td>\n",
       "      <td>0.716179</td>\n",
       "    </tr>\n",
       "  </tbody>\n",
       "</table>\n",
       "</div>"
      ],
      "text/plain": [
       "    Topic_Id  \\\n",
       "24       109   \n",
       "17        13   \n",
       "12        22   \n",
       "27        40   \n",
       "18       192   \n",
       "1        228   \n",
       "8        127   \n",
       "28       248   \n",
       "2        228   \n",
       "22        18   \n",
       "\n",
       "                                                                                            Topic_Keywords  \\\n",
       "24   resistance, antibiotic, bacteria, bacterial, infection, resistant, antimicrobial, pathogen, pa, toxin   \n",
       "17               vaccine, virus, viral, infection, hiv, response, antiviral, vaccination, human, influenza   \n",
       "12      energy, solar, efficiency, power, grid, efficient, consumption, electricity, harvesting, renewable   \n",
       "27                gene, genome, expression, genetic, mutation, crispr, editing, functional, identify, cas9   \n",
       "18  drug, discovery, development, pharmaceutical, compound, screening, molecule, target, candidate, pharma   \n",
       "1                 cancer, tumor, tumour, breast, therapy, cell, treatment, metastasis, metastatic, patient   \n",
       "8                data, big, analytics, processing, analysis, information, driven, amount, source, business   \n",
       "28                   heart, cardiac, failure, disease, cardiovascular, death, hf, af, clinical, myocardial   \n",
       "2                 cancer, tumor, tumour, breast, therapy, cell, treatment, metastasis, metastatic, patient   \n",
       "22            metabolic, diabetes, metabolism, glucose, insulin, disease, type, beta, metabolite, diabetic   \n",
       "\n",
       "    divergence_score  \n",
       "24          0.620899  \n",
       "17          0.634735  \n",
       "12          0.684919  \n",
       "27          0.692319  \n",
       "18          0.692936  \n",
       "1           0.696356  \n",
       "8           0.698552  \n",
       "28          0.704877  \n",
       "2           0.704889  \n",
       "22          0.716179  "
      ]
     },
     "execution_count": 30,
     "metadata": {},
     "output_type": "execute_result"
    }
   ],
   "source": [
    "filtered_df.sort_values('divergence_score').head(10)"
   ]
  },
  {
   "cell_type": "markdown",
   "metadata": {
    "heading_collapsed": true,
    "hidden": true
   },
   "source": [
    "##### Worst 10 topics"
   ]
  },
  {
   "cell_type": "code",
   "execution_count": 31,
   "metadata": {
    "hidden": true
   },
   "outputs": [
    {
     "data": {
      "text/html": [
       "<div>\n",
       "<style scoped>\n",
       "    .dataframe tbody tr th:only-of-type {\n",
       "        vertical-align: middle;\n",
       "    }\n",
       "\n",
       "    .dataframe tbody tr th {\n",
       "        vertical-align: top;\n",
       "    }\n",
       "\n",
       "    .dataframe thead th {\n",
       "        text-align: right;\n",
       "    }\n",
       "</style>\n",
       "<table border=\"1\" class=\"dataframe\">\n",
       "  <thead>\n",
       "    <tr style=\"text-align: right;\">\n",
       "      <th></th>\n",
       "      <th>Topic_Id</th>\n",
       "      <th>Topic_Keywords</th>\n",
       "      <th>divergence_score</th>\n",
       "    </tr>\n",
       "  </thead>\n",
       "  <tbody>\n",
       "    <tr>\n",
       "      <th>25</th>\n",
       "      <td>7</td>\n",
       "      <td>host, pathogen, disease, infection, parasite, vector, malaria, transmission, effector, infectious</td>\n",
       "      <td>0.783972</td>\n",
       "    </tr>\n",
       "    <tr>\n",
       "      <th>26</th>\n",
       "      <td>260</td>\n",
       "      <td>neuron, neuronal, circuit, brain, activity, neural, plasticity, mouse, cortical, functional</td>\n",
       "      <td>0.773999</td>\n",
       "    </tr>\n",
       "    <tr>\n",
       "      <th>19</th>\n",
       "      <td>223</td>\n",
       "      <td>resolution, imaging, microscopy, high, technique, super, microscope, fluorescence, live, electron</td>\n",
       "      <td>0.770918</td>\n",
       "    </tr>\n",
       "    <tr>\n",
       "      <th>9</th>\n",
       "      <td>143</td>\n",
       "      <td>sex, female, reproductive, male, sexual, woman, reproduction, gender, fertility, specific</td>\n",
       "      <td>0.769370</td>\n",
       "    </tr>\n",
       "    <tr>\n",
       "      <th>7</th>\n",
       "      <td>40</td>\n",
       "      <td>gene, genome, expression, genetic, mutation, crispr, editing, functional, identify, cas9</td>\n",
       "      <td>0.763956</td>\n",
       "    </tr>\n",
       "    <tr>\n",
       "      <th>5</th>\n",
       "      <td>14</td>\n",
       "      <td>disease, ad, neurodegenerative, alzheimer, al, model, pathology, brain, parkinson, disorder</td>\n",
       "      <td>0.762077</td>\n",
       "    </tr>\n",
       "    <tr>\n",
       "      <th>11</th>\n",
       "      <td>256</td>\n",
       "      <td>population, age, ageing, aging, related, life, healthy, older, decline, adult</td>\n",
       "      <td>0.761539</td>\n",
       "    </tr>\n",
       "    <tr>\n",
       "      <th>15</th>\n",
       "      <td>256</td>\n",
       "      <td>population, age, ageing, aging, related, life, healthy, older, decline, adult</td>\n",
       "      <td>0.758583</td>\n",
       "    </tr>\n",
       "    <tr>\n",
       "      <th>21</th>\n",
       "      <td>138</td>\n",
       "      <td>skin, organ, kidney, transplantation, fibrosis, injury, renal, human, tissue, lung</td>\n",
       "      <td>0.757790</td>\n",
       "    </tr>\n",
       "    <tr>\n",
       "      <th>0</th>\n",
       "      <td>40</td>\n",
       "      <td>gene, genome, expression, genetic, mutation, crispr, editing, functional, identify, cas9</td>\n",
       "      <td>0.757357</td>\n",
       "    </tr>\n",
       "  </tbody>\n",
       "</table>\n",
       "</div>"
      ],
      "text/plain": [
       "    Topic_Id  \\\n",
       "25         7   \n",
       "26       260   \n",
       "19       223   \n",
       "9        143   \n",
       "7         40   \n",
       "5         14   \n",
       "11       256   \n",
       "15       256   \n",
       "21       138   \n",
       "0         40   \n",
       "\n",
       "                                                                                       Topic_Keywords  \\\n",
       "25  host, pathogen, disease, infection, parasite, vector, malaria, transmission, effector, infectious   \n",
       "26        neuron, neuronal, circuit, brain, activity, neural, plasticity, mouse, cortical, functional   \n",
       "19  resolution, imaging, microscopy, high, technique, super, microscope, fluorescence, live, electron   \n",
       "9           sex, female, reproductive, male, sexual, woman, reproduction, gender, fertility, specific   \n",
       "7            gene, genome, expression, genetic, mutation, crispr, editing, functional, identify, cas9   \n",
       "5         disease, ad, neurodegenerative, alzheimer, al, model, pathology, brain, parkinson, disorder   \n",
       "11                      population, age, ageing, aging, related, life, healthy, older, decline, adult   \n",
       "15                      population, age, ageing, aging, related, life, healthy, older, decline, adult   \n",
       "21                 skin, organ, kidney, transplantation, fibrosis, injury, renal, human, tissue, lung   \n",
       "0            gene, genome, expression, genetic, mutation, crispr, editing, functional, identify, cas9   \n",
       "\n",
       "    divergence_score  \n",
       "25          0.783972  \n",
       "26          0.773999  \n",
       "19          0.770918  \n",
       "9           0.769370  \n",
       "7           0.763956  \n",
       "5           0.762077  \n",
       "11          0.761539  \n",
       "15          0.758583  \n",
       "21          0.757790  \n",
       "0           0.757357  "
      ]
     },
     "execution_count": 31,
     "metadata": {},
     "output_type": "execute_result"
    }
   ],
   "source": [
    "filtered_df.sort_values('divergence_score', ascending=False).head(10)"
   ]
  },
  {
   "cell_type": "markdown",
   "metadata": {
    "heading_collapsed": true,
    "hidden": true
   },
   "source": [
    "#### Top 1"
   ]
  },
  {
   "cell_type": "code",
   "execution_count": 9,
   "metadata": {
    "hidden": true
   },
   "outputs": [],
   "source": [
    "filtered_dictionary = Dictionary.load('../artefacts/filtered_top_1_dictionary')"
   ]
  },
  {
   "cell_type": "code",
   "execution_count": 10,
   "metadata": {
    "hidden": true
   },
   "outputs": [
    {
     "name": "stdout",
     "output_type": "stream",
     "text": [
      "13086\n"
     ]
    }
   ],
   "source": [
    "with open('../artefacts/filtered_top_1_docs.pkl', 'rb') as f:\n",
    "    filtered_docs = pickle.load(f)\n",
    "\n",
    "print(len(filtered_docs))"
   ]
  },
  {
   "cell_type": "code",
   "execution_count": 11,
   "metadata": {
    "hidden": true
   },
   "outputs": [],
   "source": [
    "filtered_model = load_mallet_model(artefacts_path='../artefacts', suffix='filtered_top_1')"
   ]
  },
  {
   "cell_type": "code",
   "execution_count": 12,
   "metadata": {
    "hidden": true
   },
   "outputs": [],
   "source": [
    "filtered_model.mallet_path = '../mallet-2.0.8/bin/mallet'\n",
    "filtered_model.prefix = '../artefacts/mallet_tmp/'"
   ]
  },
  {
   "cell_type": "code",
   "execution_count": 29,
   "metadata": {
    "hidden": true
   },
   "outputs": [
    {
     "data": {
      "text/plain": [
       "0.505769846580301"
      ]
     },
     "execution_count": 29,
     "metadata": {},
     "output_type": "execute_result"
    }
   ],
   "source": [
    "# check for reproducibility, should be 0.505769846580301\n",
    "get_coherence(filtered_model, filtered_docs, filtered_dictionary)"
   ]
  },
  {
   "cell_type": "code",
   "execution_count": 13,
   "metadata": {
    "hidden": true
   },
   "outputs": [
    {
     "data": {
      "text/plain": [
       "[('circuit', 0.055449184345561765),\n",
       " ('brain', 0.040131730106456306),\n",
       " ('neuron', 0.0350769702075515),\n",
       " ('cortical', 0.030328559393428812),\n",
       " ('cortex', 0.02864363942712721),\n",
       " ('activity', 0.027877766715171937),\n",
       " ('neuronal', 0.022286895917898446),\n",
       " ('mouse', 0.020831737765183427),\n",
       " ('neural', 0.020678563222792372),\n",
       " ('input', 0.015164279696714406)]"
      ]
     },
     "execution_count": 13,
     "metadata": {},
     "output_type": "execute_result"
    }
   ],
   "source": [
    "filtered_model.show_topic(0)"
   ]
  },
  {
   "cell_type": "code",
   "execution_count": 14,
   "metadata": {
    "hidden": true
   },
   "outputs": [],
   "source": [
    "# variables\n",
    "filtered_result_array = np.zeros((30, filtered_model.num_topics, 2))\n",
    "filtered_topic_array = filtered_model.get_topics()\n",
    "filtered_label_array = np.zeros((30, len(filtered_dictionary.keys())))\n",
    "\n",
    "# initialize label arrays\n",
    "for id_i, i in enumerate(associated_words):\n",
    "    id_list = filtered_dictionary.doc2idx(set(i))\n",
    "    for j in id_list:\n",
    "        filtered_label_array[id_i][j] = 1.0 / len(id_list)\n",
    "\n",
    "for i in range(30):\n",
    "    for j in range(filtered_model.num_topics):\n",
    "        jensenshannon_score = jensenshannon(filtered_label_array[i], filtered_topic_array[j])\n",
    "        rel_entr_score = sum(rel_entr(filtered_label_array[i], filtered_topic_array[j]))\n",
    "        filtered_result_array[i][j] = (jensenshannon_score, rel_entr_score)"
   ]
  },
  {
   "cell_type": "code",
   "execution_count": 15,
   "metadata": {
    "hidden": true
   },
   "outputs": [],
   "source": [
    "filtered_topics_df = get_all_topics(filtered_model).set_index('Topic_Id')\n",
    "filtered_df = filtered_topics_df.iloc[filtered_result_array[:,:,0].argmin(1)].reset_index()\n",
    "filtered_df['divergence_score'] = filtered_result_array[:,:,0].min(1)"
   ]
  },
  {
   "cell_type": "code",
   "execution_count": 16,
   "metadata": {
    "hidden": true,
    "scrolled": true
   },
   "outputs": [
    {
     "data": {
      "text/html": [
       "<div>\n",
       "<style scoped>\n",
       "    .dataframe tbody tr th:only-of-type {\n",
       "        vertical-align: middle;\n",
       "    }\n",
       "\n",
       "    .dataframe tbody tr th {\n",
       "        vertical-align: top;\n",
       "    }\n",
       "\n",
       "    .dataframe thead th {\n",
       "        text-align: right;\n",
       "    }\n",
       "</style>\n",
       "<table border=\"1\" class=\"dataframe\">\n",
       "  <thead>\n",
       "    <tr style=\"text-align: right;\">\n",
       "      <th></th>\n",
       "      <th>Topic_Id</th>\n",
       "      <th>Topic_Keywords</th>\n",
       "      <th>divergence_score</th>\n",
       "    </tr>\n",
       "  </thead>\n",
       "  <tbody>\n",
       "    <tr>\n",
       "      <th>0</th>\n",
       "      <td>26</td>\n",
       "      <td>crispr, editing, cell, cas9, gene, genome, vesicle, ev, extracellular, function</td>\n",
       "      <td>0.686946</td>\n",
       "    </tr>\n",
       "    <tr>\n",
       "      <th>1</th>\n",
       "      <td>145</td>\n",
       "      <td>cancer, breast, screening, woman, pancreatic, death, clinical, colorectal, case, pca</td>\n",
       "      <td>0.703033</td>\n",
       "    </tr>\n",
       "    <tr>\n",
       "      <th>2</th>\n",
       "      <td>145</td>\n",
       "      <td>cancer, breast, screening, woman, pancreatic, death, clinical, colorectal, case, pca</td>\n",
       "      <td>0.703033</td>\n",
       "    </tr>\n",
       "    <tr>\n",
       "      <th>3</th>\n",
       "      <td>294</td>\n",
       "      <td>resistance, antibiotic, resistant, antimicrobial, infection, pathogen, bacteria, treatment, health, amr</td>\n",
       "      <td>0.728827</td>\n",
       "    </tr>\n",
       "    <tr>\n",
       "      <th>4</th>\n",
       "      <td>43</td>\n",
       "      <td>rna, mrna, protein, expression, gene, coding, regulation, small, seq, splicing</td>\n",
       "      <td>0.710122</td>\n",
       "    </tr>\n",
       "  </tbody>\n",
       "</table>\n",
       "</div>"
      ],
      "text/plain": [
       "   Topic_Id  \\\n",
       "0        26   \n",
       "1       145   \n",
       "2       145   \n",
       "3       294   \n",
       "4        43   \n",
       "\n",
       "                                                                                            Topic_Keywords  \\\n",
       "0                          crispr, editing, cell, cas9, gene, genome, vesicle, ev, extracellular, function   \n",
       "1                     cancer, breast, screening, woman, pancreatic, death, clinical, colorectal, case, pca   \n",
       "2                     cancer, breast, screening, woman, pancreatic, death, clinical, colorectal, case, pca   \n",
       "3  resistance, antibiotic, resistant, antimicrobial, infection, pathogen, bacteria, treatment, health, amr   \n",
       "4                           rna, mrna, protein, expression, gene, coding, regulation, small, seq, splicing   \n",
       "\n",
       "   divergence_score  \n",
       "0          0.686946  \n",
       "1          0.703033  \n",
       "2          0.703033  \n",
       "3          0.728827  \n",
       "4          0.710122  "
      ]
     },
     "execution_count": 16,
     "metadata": {},
     "output_type": "execute_result"
    }
   ],
   "source": [
    "filtered_df.head()"
   ]
  },
  {
   "cell_type": "code",
   "execution_count": 17,
   "metadata": {
    "hidden": true
   },
   "outputs": [
    {
     "data": {
      "text/plain": [
       "21.60336477097165"
      ]
     },
     "execution_count": 17,
     "metadata": {},
     "output_type": "execute_result"
    }
   ],
   "source": [
    "# for reproducibility. should equal 21.60336477097165\n",
    "filtered_df['divergence_score'].sum()"
   ]
  },
  {
   "cell_type": "markdown",
   "metadata": {
    "heading_collapsed": true
   },
   "source": [
    "## Comparison"
   ]
  },
  {
   "cell_type": "code",
   "execution_count": 32,
   "metadata": {
    "hidden": true,
    "scrolled": true
   },
   "outputs": [],
   "source": [
    "compare_df = unfiltered_df.merge(filtered_df, left_index=True, right_index=True, suffixes=('_unfiltered', '_filtered'))"
   ]
  },
  {
   "cell_type": "code",
   "execution_count": 33,
   "metadata": {
    "hidden": true
   },
   "outputs": [],
   "source": [
    "compare_df.insert(0, 'associated_words', [set(i) for i in associated_words])"
   ]
  },
  {
   "cell_type": "code",
   "execution_count": 34,
   "metadata": {
    "hidden": true
   },
   "outputs": [],
   "source": [
    "compare_df['score_diff'] = compare_df['divergence_score_filtered'] - compare_df['divergence_score_unfiltered']"
   ]
  },
  {
   "cell_type": "code",
   "execution_count": 35,
   "metadata": {
    "hidden": true,
    "scrolled": true
   },
   "outputs": [
    {
     "data": {
      "text/html": [
       "<div>\n",
       "<style scoped>\n",
       "    .dataframe tbody tr th:only-of-type {\n",
       "        vertical-align: middle;\n",
       "    }\n",
       "\n",
       "    .dataframe tbody tr th {\n",
       "        vertical-align: top;\n",
       "    }\n",
       "\n",
       "    .dataframe thead th {\n",
       "        text-align: right;\n",
       "    }\n",
       "</style>\n",
       "<table border=\"1\" class=\"dataframe\">\n",
       "  <thead>\n",
       "    <tr style=\"text-align: right;\">\n",
       "      <th></th>\n",
       "      <th>associated_words</th>\n",
       "      <th>Topic_Id_unfiltered</th>\n",
       "      <th>Topic_Keywords_unfiltered</th>\n",
       "      <th>divergence_score_unfiltered</th>\n",
       "      <th>Topic_Id_filtered</th>\n",
       "      <th>Topic_Keywords_filtered</th>\n",
       "      <th>divergence_score_filtered</th>\n",
       "      <th>score_diff</th>\n",
       "    </tr>\n",
       "  </thead>\n",
       "  <tbody>\n",
       "    <tr>\n",
       "      <th>16</th>\n",
       "      <td>{retinal, eye, ophthalmic}</td>\n",
       "      <td>122</td>\n",
       "      <td>vision, visual, image, object, eye, computer, world, display, scene, camera</td>\n",
       "      <td>0.795495</td>\n",
       "      <td>268</td>\n",
       "      <td>vision, eye, visual, retinal, lens, tracking, head, blind, retina, world</td>\n",
       "      <td>0.721102</td>\n",
       "      <td>-0.074393</td>\n",
       "    </tr>\n",
       "    <tr>\n",
       "      <th>13</th>\n",
       "      <td>{mental, psychological, psychiatric}</td>\n",
       "      <td>63</td>\n",
       "      <td>health, intervention, care, mental, evidence, prevention, risk, outcome, impact, population</td>\n",
       "      <td>0.794194</td>\n",
       "      <td>89</td>\n",
       "      <td>disorder, mental, depression, autism, symptom, anxiety, deficit, asd, psychiatric, syndrome</td>\n",
       "      <td>0.746020</td>\n",
       "      <td>-0.048174</td>\n",
       "    </tr>\n",
       "    <tr>\n",
       "      <th>4</th>\n",
       "      <td>{oligonucleotide, coding, non, rna}</td>\n",
       "      <td>189</td>\n",
       "      <td>protein, rna, mrna, function, gene, expression, modification, cell, translation, cellular</td>\n",
       "      <td>0.762226</td>\n",
       "      <td>111</td>\n",
       "      <td>rna, mrna, translation, coding, function, regulation, expression, small, mirnas, protein</td>\n",
       "      <td>0.722837</td>\n",
       "      <td>-0.039389</td>\n",
       "    </tr>\n",
       "    <tr>\n",
       "      <th>17</th>\n",
       "      <td>{immunity, vaccine, virus, infection}</td>\n",
       "      <td>297</td>\n",
       "      <td>virus, vaccine, disease, infection, viral, vector, human, hiv, infectious, pathogen</td>\n",
       "      <td>0.671244</td>\n",
       "      <td>13</td>\n",
       "      <td>vaccine, virus, viral, infection, hiv, response, antiviral, vaccination, human, influenza</td>\n",
       "      <td>0.634735</td>\n",
       "      <td>-0.036509</td>\n",
       "    </tr>\n",
       "    <tr>\n",
       "      <th>1</th>\n",
       "      <td>{p53, carcinoma, tumorigenesis, cancer}</td>\n",
       "      <td>72</td>\n",
       "      <td>cancer, tumor, tumour, cell, treatment, therapy, patient, breast, therapeutic, metastasis</td>\n",
       "      <td>0.732720</td>\n",
       "      <td>228</td>\n",
       "      <td>cancer, tumor, tumour, breast, therapy, cell, treatment, metastasis, metastatic, patient</td>\n",
       "      <td>0.696356</td>\n",
       "      <td>-0.036364</td>\n",
       "    </tr>\n",
       "    <tr>\n",
       "      <th>24</th>\n",
       "      <td>{antibiotic, bacteria, resistance}</td>\n",
       "      <td>126</td>\n",
       "      <td>resistance, antibiotic, bacteria, bacterial, pathogen, infection, resistant, antimicrobial, host, phage</td>\n",
       "      <td>0.651705</td>\n",
       "      <td>109</td>\n",
       "      <td>resistance, antibiotic, bacteria, bacterial, infection, resistant, antimicrobial, pathogen, pa, toxin</td>\n",
       "      <td>0.620899</td>\n",
       "      <td>-0.030807</td>\n",
       "    </tr>\n",
       "    <tr>\n",
       "      <th>25</th>\n",
       "      <td>{mosquito, malaria, dengue}</td>\n",
       "      <td>227</td>\n",
       "      <td>selection, population, genetic, evolution, variation, trait, fitness, natural, adaptation, parasite</td>\n",
       "      <td>0.813210</td>\n",
       "      <td>7</td>\n",
       "      <td>host, pathogen, disease, infection, parasite, vector, malaria, transmission, effector, infectious</td>\n",
       "      <td>0.783972</td>\n",
       "      <td>-0.029239</td>\n",
       "    </tr>\n",
       "    <tr>\n",
       "      <th>27</th>\n",
       "      <td>{regulation, therapy, gene, expression}</td>\n",
       "      <td>54</td>\n",
       "      <td>gene, genetic, genome, expression, mutation, molecular, genomic, crispr, identify, sequencing</td>\n",
       "      <td>0.720898</td>\n",
       "      <td>40</td>\n",
       "      <td>gene, genome, expression, genetic, mutation, crispr, editing, functional, identify, cas9</td>\n",
       "      <td>0.692319</td>\n",
       "      <td>-0.028579</td>\n",
       "    </tr>\n",
       "    <tr>\n",
       "      <th>22</th>\n",
       "      <td>{diabetes, insulin}</td>\n",
       "      <td>289</td>\n",
       "      <td>diabetes, disease, obesity, glucose, type, insulin, factor, risk, metabolic, beta</td>\n",
       "      <td>0.743058</td>\n",
       "      <td>18</td>\n",
       "      <td>metabolic, diabetes, metabolism, glucose, insulin, disease, type, beta, metabolite, diabetic</td>\n",
       "      <td>0.716179</td>\n",
       "      <td>-0.026879</td>\n",
       "    </tr>\n",
       "    <tr>\n",
       "      <th>21</th>\n",
       "      <td>{fibrosis, interleukin, organ}</td>\n",
       "      <td>11</td>\n",
       "      <td>tissue, cell, organ, vitro, vivo, culture, model, disease, human, kidney</td>\n",
       "      <td>0.783175</td>\n",
       "      <td>138</td>\n",
       "      <td>skin, organ, kidney, transplantation, fibrosis, injury, renal, human, tissue, lung</td>\n",
       "      <td>0.757790</td>\n",
       "      <td>-0.025386</td>\n",
       "    </tr>\n",
       "    <tr>\n",
       "      <th>0</th>\n",
       "      <td>{base, editing, cas9, crispr}</td>\n",
       "      <td>54</td>\n",
       "      <td>gene, genetic, genome, expression, mutation, molecular, genomic, crispr, identify, sequencing</td>\n",
       "      <td>0.781123</td>\n",
       "      <td>40</td>\n",
       "      <td>gene, genome, expression, genetic, mutation, crispr, editing, functional, identify, cas9</td>\n",
       "      <td>0.757357</td>\n",
       "      <td>-0.023766</td>\n",
       "    </tr>\n",
       "    <tr>\n",
       "      <th>14</th>\n",
       "      <td>{depression, anxiety, stress, resistant}</td>\n",
       "      <td>170</td>\n",
       "      <td>host, stress, mechanism, factor, approach, fungal, tolerance, important, interaction, fungi</td>\n",
       "      <td>0.762896</td>\n",
       "      <td>162</td>\n",
       "      <td>stress, response, induced, effect, oxidative, radiation, mechanism, tolerance, damage, condition</td>\n",
       "      <td>0.739223</td>\n",
       "      <td>-0.023673</td>\n",
       "    </tr>\n",
       "    <tr>\n",
       "      <th>11</th>\n",
       "      <td>{geriatric, aging, senescence}</td>\n",
       "      <td>266</td>\n",
       "      <td>life, ageing, people, age, population, aging, related, elderly, older, living</td>\n",
       "      <td>0.784862</td>\n",
       "      <td>256</td>\n",
       "      <td>population, age, ageing, aging, related, life, healthy, older, decline, adult</td>\n",
       "      <td>0.761539</td>\n",
       "      <td>-0.023324</td>\n",
       "    </tr>\n",
       "    <tr>\n",
       "      <th>20</th>\n",
       "      <td>{immune, activation, inflammation, macrophage}</td>\n",
       "      <td>87</td>\n",
       "      <td>immune, cell, response, immunity, antigen, innate, immunotherapy, specific, function, dc</td>\n",
       "      <td>0.747774</td>\n",
       "      <td>246</td>\n",
       "      <td>disease, inflammatory, inflammation, macrophage, intestinal, chronic, pro, ra, cell, therapeutic</td>\n",
       "      <td>0.729290</td>\n",
       "      <td>-0.018484</td>\n",
       "    </tr>\n",
       "    <tr>\n",
       "      <th>3</th>\n",
       "      <td>{antibiotic, microbiome, bacteria, probiotic}</td>\n",
       "      <td>126</td>\n",
       "      <td>resistance, antibiotic, bacteria, bacterial, pathogen, infection, resistant, antimicrobial, host, phage</td>\n",
       "      <td>0.736221</td>\n",
       "      <td>109</td>\n",
       "      <td>resistance, antibiotic, bacteria, bacterial, infection, resistant, antimicrobial, pathogen, pa, toxin</td>\n",
       "      <td>0.720164</td>\n",
       "      <td>-0.016057</td>\n",
       "    </tr>\n",
       "    <tr>\n",
       "      <th>2</th>\n",
       "      <td>{immunotherapy, leukemia, cancer, solid}</td>\n",
       "      <td>72</td>\n",
       "      <td>cancer, tumor, tumour, cell, treatment, therapy, patient, breast, therapeutic, metastasis</td>\n",
       "      <td>0.720687</td>\n",
       "      <td>228</td>\n",
       "      <td>cancer, tumor, tumour, breast, therapy, cell, treatment, metastasis, metastatic, patient</td>\n",
       "      <td>0.704889</td>\n",
       "      <td>-0.015798</td>\n",
       "    </tr>\n",
       "    <tr>\n",
       "      <th>19</th>\n",
       "      <td>{microscopy, em, cryo}</td>\n",
       "      <td>209</td>\n",
       "      <td>cell, membrane, protein, cellular, lipid, molecular, microscopy, function, biology, vesicle</td>\n",
       "      <td>0.786025</td>\n",
       "      <td>223</td>\n",
       "      <td>resolution, imaging, microscopy, high, technique, super, microscope, fluorescence, live, electron</td>\n",
       "      <td>0.770918</td>\n",
       "      <td>-0.015107</td>\n",
       "    </tr>\n",
       "    <tr>\n",
       "      <th>6</th>\n",
       "      <td>{delivery, immune, gene, aav, vector, immunity}</td>\n",
       "      <td>87</td>\n",
       "      <td>immune, cell, response, immunity, antigen, innate, immunotherapy, specific, function, dc</td>\n",
       "      <td>0.751606</td>\n",
       "      <td>23</td>\n",
       "      <td>immune, response, immunity, innate, function, mouse, il, role, specific, tolerance</td>\n",
       "      <td>0.736840</td>\n",
       "      <td>-0.014766</td>\n",
       "    </tr>\n",
       "    <tr>\n",
       "      <th>5</th>\n",
       "      <td>{parkinson, neurodegeneration, huntington, alzheimer}</td>\n",
       "      <td>197</td>\n",
       "      <td>disease, ad, neurodegenerative, al, alzheimer, disorder, therapeutic, model, pathology, dementia</td>\n",
       "      <td>0.776501</td>\n",
       "      <td>14</td>\n",
       "      <td>disease, ad, neurodegenerative, alzheimer, al, model, pathology, brain, parkinson, disorder</td>\n",
       "      <td>0.762077</td>\n",
       "      <td>-0.014423</td>\n",
       "    </tr>\n",
       "    <tr>\n",
       "      <th>18</th>\n",
       "      <td>{discovery, structure, computational, drug, ai, bioinformatics}</td>\n",
       "      <td>229</td>\n",
       "      <td>drug, development, discovery, pharmaceutical, compound, screening, target, candidate, molecule, therapeutic</td>\n",
       "      <td>0.706250</td>\n",
       "      <td>192</td>\n",
       "      <td>drug, discovery, development, pharmaceutical, compound, screening, molecule, target, candidate, pharma</td>\n",
       "      <td>0.692936</td>\n",
       "      <td>-0.013314</td>\n",
       "    </tr>\n",
       "    <tr>\n",
       "      <th>28</th>\n",
       "      <td>{heart, congestive, failure, faction, infarction, myocardial, ejection}</td>\n",
       "      <td>221</td>\n",
       "      <td>heart, cardiac, failure, cardiovascular, death, valve, cvd, risk, hf, myocardial</td>\n",
       "      <td>0.714016</td>\n",
       "      <td>248</td>\n",
       "      <td>heart, cardiac, failure, disease, cardiovascular, death, hf, af, clinical, myocardial</td>\n",
       "      <td>0.704877</td>\n",
       "      <td>-0.009139</td>\n",
       "    </tr>\n",
       "    <tr>\n",
       "      <th>15</th>\n",
       "      <td>{aging, sarcopenia, elderly, frailty}</td>\n",
       "      <td>266</td>\n",
       "      <td>life, ageing, people, age, population, aging, related, elderly, older, living</td>\n",
       "      <td>0.767273</td>\n",
       "      <td>256</td>\n",
       "      <td>population, age, ageing, aging, related, life, healthy, older, decline, adult</td>\n",
       "      <td>0.758583</td>\n",
       "      <td>-0.008690</td>\n",
       "    </tr>\n",
       "    <tr>\n",
       "      <th>7</th>\n",
       "      <td>{delivery, liposome, non, gene, polymer, viral, nanoparticle}</td>\n",
       "      <td>2</td>\n",
       "      <td>delivery, release, deliver, based, develop, oa, strategy, targeting, dual, carrier</td>\n",
       "      <td>0.765471</td>\n",
       "      <td>40</td>\n",
       "      <td>gene, genome, expression, genetic, mutation, crispr, editing, functional, identify, cas9</td>\n",
       "      <td>0.763956</td>\n",
       "      <td>-0.001514</td>\n",
       "    </tr>\n",
       "    <tr>\n",
       "      <th>8</th>\n",
       "      <td>{precision, genomics, data, prevention, multiomics}</td>\n",
       "      <td>268</td>\n",
       "      <td>data, big, analytics, analysis, collection, driven, collected, information, collect, management</td>\n",
       "      <td>0.692078</td>\n",
       "      <td>127</td>\n",
       "      <td>data, big, analytics, processing, analysis, information, driven, amount, source, business</td>\n",
       "      <td>0.698552</td>\n",
       "      <td>0.006474</td>\n",
       "    </tr>\n",
       "    <tr>\n",
       "      <th>26</th>\n",
       "      <td>{ganglion, axon, neuron, synapse, astrocyte}</td>\n",
       "      <td>206</td>\n",
       "      <td>neuron, neuronal, circuit, brain, synaptic, activity, neural, plasticity, function, mouse</td>\n",
       "      <td>0.766088</td>\n",
       "      <td>260</td>\n",
       "      <td>neuron, neuronal, circuit, brain, activity, neural, plasticity, mouse, cortical, functional</td>\n",
       "      <td>0.773999</td>\n",
       "      <td>0.007912</td>\n",
       "    </tr>\n",
       "    <tr>\n",
       "      <th>29</th>\n",
       "      <td>{neutron, quantitative, spectrometry, analysis, ion}</td>\n",
       "      <td>20</td>\n",
       "      <td>analysis, method, study, analytical, approach, technique, provide, comprehensive, analyse, methodology</td>\n",
       "      <td>0.717595</td>\n",
       "      <td>281</td>\n",
       "      <td>level, quantitative, analysis, approach, aim, research, method, comprehensive, understanding, macro</td>\n",
       "      <td>0.727590</td>\n",
       "      <td>0.009995</td>\n",
       "    </tr>\n",
       "    <tr>\n",
       "      <th>9</th>\n",
       "      <td>{woman, prenatal, reproductive, pregnancy, obstetric}</td>\n",
       "      <td>70</td>\n",
       "      <td>development, maternal, pregnancy, woman, birth, reproductive, embryo, rate, study, fertility</td>\n",
       "      <td>0.758473</td>\n",
       "      <td>143</td>\n",
       "      <td>sex, female, reproductive, male, sexual, woman, reproduction, gender, fertility, specific</td>\n",
       "      <td>0.769370</td>\n",
       "      <td>0.010897</td>\n",
       "    </tr>\n",
       "    <tr>\n",
       "      <th>10</th>\n",
       "      <td>{epigenetics, environment, histone, chromosome, epigenomics}</td>\n",
       "      <td>192</td>\n",
       "      <td>environment, virtual, reality, adaptive, physical, ar, vr, experience, condition, adapt</td>\n",
       "      <td>0.736449</td>\n",
       "      <td>129</td>\n",
       "      <td>environment, environmental, condition, air, pollution, quality, indoor, emission, developed, integrated</td>\n",
       "      <td>0.748946</td>\n",
       "      <td>0.012497</td>\n",
       "    </tr>\n",
       "    <tr>\n",
       "      <th>23</th>\n",
       "      <td>{needle, injection, free, delivery}</td>\n",
       "      <td>2</td>\n",
       "      <td>delivery, release, deliver, based, develop, oa, strategy, targeting, dual, carrier</td>\n",
       "      <td>0.737541</td>\n",
       "      <td>90</td>\n",
       "      <td>delivery, drug, therapeutic, release, wound, therapy, healing, targeted, treatment, efficacy</td>\n",
       "      <td>0.755005</td>\n",
       "      <td>0.017464</td>\n",
       "    </tr>\n",
       "    <tr>\n",
       "      <th>12</th>\n",
       "      <td>{therapy, mitochondrion, energy}</td>\n",
       "      <td>42</td>\n",
       "      <td>energy, efficiency, consumption, efficient, saving, renewable, household, sector, demand, consumer</td>\n",
       "      <td>0.646525</td>\n",
       "      <td>22</td>\n",
       "      <td>energy, solar, efficiency, power, grid, efficient, consumption, electricity, harvesting, renewable</td>\n",
       "      <td>0.684919</td>\n",
       "      <td>0.038393</td>\n",
       "    </tr>\n",
       "  </tbody>\n",
       "</table>\n",
       "</div>"
      ],
      "text/plain": [
       "                                                           associated_words  \\\n",
       "16                                               {retinal, eye, ophthalmic}   \n",
       "13                                     {mental, psychological, psychiatric}   \n",
       "4                                       {oligonucleotide, coding, non, rna}   \n",
       "17                                    {immunity, vaccine, virus, infection}   \n",
       "1                                   {p53, carcinoma, tumorigenesis, cancer}   \n",
       "24                                       {antibiotic, bacteria, resistance}   \n",
       "25                                              {mosquito, malaria, dengue}   \n",
       "27                                  {regulation, therapy, gene, expression}   \n",
       "22                                                      {diabetes, insulin}   \n",
       "21                                           {fibrosis, interleukin, organ}   \n",
       "0                                             {base, editing, cas9, crispr}   \n",
       "14                                 {depression, anxiety, stress, resistant}   \n",
       "11                                           {geriatric, aging, senescence}   \n",
       "20                           {immune, activation, inflammation, macrophage}   \n",
       "3                             {antibiotic, microbiome, bacteria, probiotic}   \n",
       "2                                  {immunotherapy, leukemia, cancer, solid}   \n",
       "19                                                   {microscopy, em, cryo}   \n",
       "6                           {delivery, immune, gene, aav, vector, immunity}   \n",
       "5                     {parkinson, neurodegeneration, huntington, alzheimer}   \n",
       "18          {discovery, structure, computational, drug, ai, bioinformatics}   \n",
       "28  {heart, congestive, failure, faction, infarction, myocardial, ejection}   \n",
       "15                                    {aging, sarcopenia, elderly, frailty}   \n",
       "7             {delivery, liposome, non, gene, polymer, viral, nanoparticle}   \n",
       "8                       {precision, genomics, data, prevention, multiomics}   \n",
       "26                             {ganglion, axon, neuron, synapse, astrocyte}   \n",
       "29                     {neutron, quantitative, spectrometry, analysis, ion}   \n",
       "9                     {woman, prenatal, reproductive, pregnancy, obstetric}   \n",
       "10             {epigenetics, environment, histone, chromosome, epigenomics}   \n",
       "23                                      {needle, injection, free, delivery}   \n",
       "12                                         {therapy, mitochondrion, energy}   \n",
       "\n",
       "    Topic_Id_unfiltered  \\\n",
       "16                  122   \n",
       "13                   63   \n",
       "4                   189   \n",
       "17                  297   \n",
       "1                    72   \n",
       "24                  126   \n",
       "25                  227   \n",
       "27                   54   \n",
       "22                  289   \n",
       "21                   11   \n",
       "0                    54   \n",
       "14                  170   \n",
       "11                  266   \n",
       "20                   87   \n",
       "3                   126   \n",
       "2                    72   \n",
       "19                  209   \n",
       "6                    87   \n",
       "5                   197   \n",
       "18                  229   \n",
       "28                  221   \n",
       "15                  266   \n",
       "7                     2   \n",
       "8                   268   \n",
       "26                  206   \n",
       "29                   20   \n",
       "9                    70   \n",
       "10                  192   \n",
       "23                    2   \n",
       "12                   42   \n",
       "\n",
       "                                                                                      Topic_Keywords_unfiltered  \\\n",
       "16                                  vision, visual, image, object, eye, computer, world, display, scene, camera   \n",
       "13                  health, intervention, care, mental, evidence, prevention, risk, outcome, impact, population   \n",
       "4                     protein, rna, mrna, function, gene, expression, modification, cell, translation, cellular   \n",
       "17                          virus, vaccine, disease, infection, viral, vector, human, hiv, infectious, pathogen   \n",
       "1                     cancer, tumor, tumour, cell, treatment, therapy, patient, breast, therapeutic, metastasis   \n",
       "24      resistance, antibiotic, bacteria, bacterial, pathogen, infection, resistant, antimicrobial, host, phage   \n",
       "25          selection, population, genetic, evolution, variation, trait, fitness, natural, adaptation, parasite   \n",
       "27                gene, genetic, genome, expression, mutation, molecular, genomic, crispr, identify, sequencing   \n",
       "22                            diabetes, disease, obesity, glucose, type, insulin, factor, risk, metabolic, beta   \n",
       "21                                     tissue, cell, organ, vitro, vivo, culture, model, disease, human, kidney   \n",
       "0                 gene, genetic, genome, expression, mutation, molecular, genomic, crispr, identify, sequencing   \n",
       "14                  host, stress, mechanism, factor, approach, fungal, tolerance, important, interaction, fungi   \n",
       "11                                life, ageing, people, age, population, aging, related, elderly, older, living   \n",
       "20                     immune, cell, response, immunity, antigen, innate, immunotherapy, specific, function, dc   \n",
       "3       resistance, antibiotic, bacteria, bacterial, pathogen, infection, resistant, antimicrobial, host, phage   \n",
       "2                     cancer, tumor, tumour, cell, treatment, therapy, patient, breast, therapeutic, metastasis   \n",
       "19                  cell, membrane, protein, cellular, lipid, molecular, microscopy, function, biology, vesicle   \n",
       "6                      immune, cell, response, immunity, antigen, innate, immunotherapy, specific, function, dc   \n",
       "5              disease, ad, neurodegenerative, al, alzheimer, disorder, therapeutic, model, pathology, dementia   \n",
       "18  drug, development, discovery, pharmaceutical, compound, screening, target, candidate, molecule, therapeutic   \n",
       "28                             heart, cardiac, failure, cardiovascular, death, valve, cvd, risk, hf, myocardial   \n",
       "15                                life, ageing, people, age, population, aging, related, elderly, older, living   \n",
       "7                            delivery, release, deliver, based, develop, oa, strategy, targeting, dual, carrier   \n",
       "8               data, big, analytics, analysis, collection, driven, collected, information, collect, management   \n",
       "26                    neuron, neuronal, circuit, brain, synaptic, activity, neural, plasticity, function, mouse   \n",
       "29       analysis, method, study, analytical, approach, technique, provide, comprehensive, analyse, methodology   \n",
       "9                  development, maternal, pregnancy, woman, birth, reproductive, embryo, rate, study, fertility   \n",
       "10                      environment, virtual, reality, adaptive, physical, ar, vr, experience, condition, adapt   \n",
       "23                           delivery, release, deliver, based, develop, oa, strategy, targeting, dual, carrier   \n",
       "12           energy, efficiency, consumption, efficient, saving, renewable, household, sector, demand, consumer   \n",
       "\n",
       "    divergence_score_unfiltered  Topic_Id_filtered  \\\n",
       "16                     0.795495                268   \n",
       "13                     0.794194                 89   \n",
       "4                      0.762226                111   \n",
       "17                     0.671244                 13   \n",
       "1                      0.732720                228   \n",
       "24                     0.651705                109   \n",
       "25                     0.813210                  7   \n",
       "27                     0.720898                 40   \n",
       "22                     0.743058                 18   \n",
       "21                     0.783175                138   \n",
       "0                      0.781123                 40   \n",
       "14                     0.762896                162   \n",
       "11                     0.784862                256   \n",
       "20                     0.747774                246   \n",
       "3                      0.736221                109   \n",
       "2                      0.720687                228   \n",
       "19                     0.786025                223   \n",
       "6                      0.751606                 23   \n",
       "5                      0.776501                 14   \n",
       "18                     0.706250                192   \n",
       "28                     0.714016                248   \n",
       "15                     0.767273                256   \n",
       "7                      0.765471                 40   \n",
       "8                      0.692078                127   \n",
       "26                     0.766088                260   \n",
       "29                     0.717595                281   \n",
       "9                      0.758473                143   \n",
       "10                     0.736449                129   \n",
       "23                     0.737541                 90   \n",
       "12                     0.646525                 22   \n",
       "\n",
       "                                                                                    Topic_Keywords_filtered  \\\n",
       "16                                 vision, eye, visual, retinal, lens, tracking, head, blind, retina, world   \n",
       "13              disorder, mental, depression, autism, symptom, anxiety, deficit, asd, psychiatric, syndrome   \n",
       "4                  rna, mrna, translation, coding, function, regulation, expression, small, mirnas, protein   \n",
       "17                vaccine, virus, viral, infection, hiv, response, antiviral, vaccination, human, influenza   \n",
       "1                  cancer, tumor, tumour, breast, therapy, cell, treatment, metastasis, metastatic, patient   \n",
       "24    resistance, antibiotic, bacteria, bacterial, infection, resistant, antimicrobial, pathogen, pa, toxin   \n",
       "25        host, pathogen, disease, infection, parasite, vector, malaria, transmission, effector, infectious   \n",
       "27                 gene, genome, expression, genetic, mutation, crispr, editing, functional, identify, cas9   \n",
       "22             metabolic, diabetes, metabolism, glucose, insulin, disease, type, beta, metabolite, diabetic   \n",
       "21                       skin, organ, kidney, transplantation, fibrosis, injury, renal, human, tissue, lung   \n",
       "0                  gene, genome, expression, genetic, mutation, crispr, editing, functional, identify, cas9   \n",
       "14         stress, response, induced, effect, oxidative, radiation, mechanism, tolerance, damage, condition   \n",
       "11                            population, age, ageing, aging, related, life, healthy, older, decline, adult   \n",
       "20         disease, inflammatory, inflammation, macrophage, intestinal, chronic, pro, ra, cell, therapeutic   \n",
       "3     resistance, antibiotic, bacteria, bacterial, infection, resistant, antimicrobial, pathogen, pa, toxin   \n",
       "2                  cancer, tumor, tumour, breast, therapy, cell, treatment, metastasis, metastatic, patient   \n",
       "19        resolution, imaging, microscopy, high, technique, super, microscope, fluorescence, live, electron   \n",
       "6                        immune, response, immunity, innate, function, mouse, il, role, specific, tolerance   \n",
       "5               disease, ad, neurodegenerative, alzheimer, al, model, pathology, brain, parkinson, disorder   \n",
       "18   drug, discovery, development, pharmaceutical, compound, screening, molecule, target, candidate, pharma   \n",
       "28                    heart, cardiac, failure, disease, cardiovascular, death, hf, af, clinical, myocardial   \n",
       "15                            population, age, ageing, aging, related, life, healthy, older, decline, adult   \n",
       "7                  gene, genome, expression, genetic, mutation, crispr, editing, functional, identify, cas9   \n",
       "8                 data, big, analytics, processing, analysis, information, driven, amount, source, business   \n",
       "26              neuron, neuronal, circuit, brain, activity, neural, plasticity, mouse, cortical, functional   \n",
       "29      level, quantitative, analysis, approach, aim, research, method, comprehensive, understanding, macro   \n",
       "9                 sex, female, reproductive, male, sexual, woman, reproduction, gender, fertility, specific   \n",
       "10  environment, environmental, condition, air, pollution, quality, indoor, emission, developed, integrated   \n",
       "23             delivery, drug, therapeutic, release, wound, therapy, healing, targeted, treatment, efficacy   \n",
       "12       energy, solar, efficiency, power, grid, efficient, consumption, electricity, harvesting, renewable   \n",
       "\n",
       "    divergence_score_filtered  score_diff  \n",
       "16                   0.721102   -0.074393  \n",
       "13                   0.746020   -0.048174  \n",
       "4                    0.722837   -0.039389  \n",
       "17                   0.634735   -0.036509  \n",
       "1                    0.696356   -0.036364  \n",
       "24                   0.620899   -0.030807  \n",
       "25                   0.783972   -0.029239  \n",
       "27                   0.692319   -0.028579  \n",
       "22                   0.716179   -0.026879  \n",
       "21                   0.757790   -0.025386  \n",
       "0                    0.757357   -0.023766  \n",
       "14                   0.739223   -0.023673  \n",
       "11                   0.761539   -0.023324  \n",
       "20                   0.729290   -0.018484  \n",
       "3                    0.720164   -0.016057  \n",
       "2                    0.704889   -0.015798  \n",
       "19                   0.770918   -0.015107  \n",
       "6                    0.736840   -0.014766  \n",
       "5                    0.762077   -0.014423  \n",
       "18                   0.692936   -0.013314  \n",
       "28                   0.704877   -0.009139  \n",
       "15                   0.758583   -0.008690  \n",
       "7                    0.763956   -0.001514  \n",
       "8                    0.698552    0.006474  \n",
       "26                   0.773999    0.007912  \n",
       "29                   0.727590    0.009995  \n",
       "9                    0.769370    0.010897  \n",
       "10                   0.748946    0.012497  \n",
       "23                   0.755005    0.017464  \n",
       "12                   0.684919    0.038393  "
      ]
     },
     "execution_count": 35,
     "metadata": {},
     "output_type": "execute_result"
    }
   ],
   "source": [
    "compare_df.sort_values('score_diff')"
   ]
  },
  {
   "cell_type": "code",
   "execution_count": 41,
   "metadata": {
    "hidden": true
   },
   "outputs": [],
   "source": [
    "# compare_df.to_csv('../output/associated_words_comparison.csv', index=False)\n",
    "# compare_df.to_excel('../output/comparison.xlsx', index=False)"
   ]
  },
  {
   "cell_type": "markdown",
   "metadata": {
    "heading_collapsed": true
   },
   "source": [
    "## Hyperparameter Tuning"
   ]
  },
  {
   "cell_type": "markdown",
   "metadata": {
    "hidden": true
   },
   "source": [
    "Parameters we can use to tune:\n",
    "[LDAMALLET Documentation](https://radimrehurek.com/gensim/models/wrappers/ldamallet.html)\n",
    "* num_topics? (With larger topics, probability distribution of terms within topics will always become more specific/granular\n",
    "* alpha\n",
    "* Improving associated words/labels list"
   ]
  },
  {
   "cell_type": "code",
   "execution_count": 9,
   "metadata": {
    "hidden": true
   },
   "outputs": [],
   "source": [
    "def get_divergence_scores(dictionary: Dictionary, model: LdaMallet, associated_words: list):\n",
    "    # variables\n",
    "    result_array = np.zeros((len(associated_words), model.num_topics))\n",
    "    topic_array = model.get_topics()\n",
    "    label_array = np.zeros((len(associated_words), len(dictionary.keys())))\n",
    "\n",
    "    # initialize label arrays\n",
    "    for id_i, i in enumerate(associated_words):\n",
    "        id_list = dictionary.doc2idx(set(i))\n",
    "        for j in id_list:\n",
    "            label_array[id_i][j] = 1.0 / len(id_list)\n",
    "\n",
    "    for i in range(len(associated_words)):\n",
    "        for j in range(model.num_topics):\n",
    "            jensenshannon_score = jensenshannon(label_array[i], topic_array[j])\n",
    "            result_array[i][j] = jensenshannon_score\n",
    "    \n",
    "    return result_array\n",
    "\n",
    "def get_min_divergence_scores(divergence_scores: np.array):\n",
    "    return divergence_scores.min(1).sum()\n",
    "\n",
    "def format_divergence_scores(model: LdaMallet, divergence_scores: np.array):\n",
    "    topics_df = get_all_topics(model).set_index('Topic_Id')\n",
    "    df = topics_df.iloc[divergence_scores.argmin(1)].reset_index()\n",
    "    df['divergence_score'] = divergence_scores.min(1)\n",
    "    return df"
   ]
  },
  {
   "cell_type": "markdown",
   "metadata": {
    "heading_collapsed": true,
    "hidden": true
   },
   "source": [
    "### Tuning for n_topics and alpha"
   ]
  },
  {
   "cell_type": "markdown",
   "metadata": {
    "hidden": true
   },
   "source": [
    "small alpha is used for few topics per document and big alpha is used for many topics per document."
   ]
  },
  {
   "cell_type": "code",
   "execution_count": 40,
   "metadata": {
    "hidden": true
   },
   "outputs": [
    {
     "name": "stdout",
     "output_type": "stream",
     "text": [
      "13086\n"
     ]
    }
   ],
   "source": [
    "# Bag-of-words representation of the documents.\n",
    "filtered_corpus = [filtered_dictionary.doc2bow(doc) for doc in filtered_docs]\n",
    "print(len(filtered_corpus))"
   ]
  },
  {
   "cell_type": "code",
   "execution_count": 41,
   "metadata": {
    "hidden": true
   },
   "outputs": [
    {
     "name": "stdout",
     "output_type": "stream",
     "text": [
      "CPU times: user 55.1 s, sys: 439 ms, total: 55.5 s\n",
      "Wall time: 7min 8s\n"
     ]
    }
   ],
   "source": [
    "%%time \n",
    "\n",
    "alpha_params = [0.01, 0.1, 1, 10, 50, 100]\n",
    "scores = []\n",
    "\n",
    "for i in alpha_params:\n",
    "    model = train_lda_mallet(filtered_corpus, filtered_dictionary, 300, \n",
    "                         params={\n",
    "                             'mallet_path': '../mallet-2.0.8/bin/mallet',\n",
    "                             'prefix_path': '../artefacts/mallet_tmp/',\n",
    "                             'alpha': i\n",
    "                         })\n",
    "    \n",
    "    scores_array = get_divergence_scores(filtered_dictionary, model, associated_words)\n",
    "    scores.append(get_min_divergence_scores(scores_array))"
   ]
  },
  {
   "cell_type": "code",
   "execution_count": 42,
   "metadata": {
    "hidden": true
   },
   "outputs": [
    {
     "data": {
      "text/plain": [
       "[24.203720396478587,\n",
       " 23.85662612462584,\n",
       " 22.957363907239817,\n",
       " 21.915334469860646,\n",
       " 21.60336477097165,\n",
       " 21.36322391403247]"
      ]
     },
     "execution_count": 42,
     "metadata": {},
     "output_type": "execute_result"
    }
   ],
   "source": [
    "scores"
   ]
  },
  {
   "cell_type": "code",
   "execution_count": 43,
   "metadata": {
    "hidden": true
   },
   "outputs": [
    {
     "name": "stdout",
     "output_type": "stream",
     "text": [
      "CPU times: user 55.9 s, sys: 607 ms, total: 56.5 s\n",
      "Wall time: 5min 49s\n"
     ]
    }
   ],
   "source": [
    "%%time \n",
    "\n",
    "alpha_params = [50, 70, 100, 120, 150, 200]\n",
    "scores = []\n",
    "\n",
    "for i in alpha_params:\n",
    "    model = train_lda_mallet(filtered_corpus, filtered_dictionary, 300, \n",
    "                         params={\n",
    "                             'mallet_path': '../mallet-2.0.8/bin/mallet',\n",
    "                             'prefix_path': '../artefacts/mallet_tmp/',\n",
    "                             'alpha': i\n",
    "                         })\n",
    "    \n",
    "    scores_array = get_divergence_scores(filtered_dictionary, model, associated_words)\n",
    "    scores.append(get_min_divergence_scores(scores_array))"
   ]
  },
  {
   "cell_type": "code",
   "execution_count": 44,
   "metadata": {
    "hidden": true
   },
   "outputs": [
    {
     "data": {
      "text/plain": [
       "[21.60336477097165,\n",
       " 21.511106322058342,\n",
       " 21.36322391403247,\n",
       " 21.347289505726124,\n",
       " 21.23431997151852,\n",
       " 21.173681642711934]"
      ]
     },
     "execution_count": 44,
     "metadata": {},
     "output_type": "execute_result"
    }
   ],
   "source": [
    "scores"
   ]
  },
  {
   "cell_type": "code",
   "execution_count": 45,
   "metadata": {
    "hidden": true
   },
   "outputs": [
    {
     "name": "stdout",
     "output_type": "stream",
     "text": [
      "CPU times: user 45.2 s, sys: 364 ms, total: 45.6 s\n",
      "Wall time: 4min 52s\n"
     ]
    }
   ],
   "source": [
    "%%time \n",
    "\n",
    "alpha_params = [200, 250, 300, 400, 500]\n",
    "scores = []\n",
    "\n",
    "for i in alpha_params:\n",
    "    model = train_lda_mallet(filtered_corpus, filtered_dictionary, 300, \n",
    "                         params={\n",
    "                             'mallet_path': '../mallet-2.0.8/bin/mallet',\n",
    "                             'prefix_path': '../artefacts/mallet_tmp/',\n",
    "                             'alpha': i\n",
    "                         })\n",
    "    \n",
    "    scores_array = get_divergence_scores(filtered_dictionary, model, associated_words)\n",
    "    scores.append(get_min_divergence_scores(scores_array))"
   ]
  },
  {
   "cell_type": "code",
   "execution_count": 46,
   "metadata": {
    "hidden": true
   },
   "outputs": [
    {
     "data": {
      "text/plain": [
       "[21.173681642711934,\n",
       " 21.1034699289655,\n",
       " 21.282616113016783,\n",
       " 21.33287213236462,\n",
       " 21.135819968729002]"
      ]
     },
     "execution_count": 46,
     "metadata": {},
     "output_type": "execute_result"
    }
   ],
   "source": [
    "scores"
   ]
  },
  {
   "cell_type": "markdown",
   "metadata": {
    "hidden": true
   },
   "source": [
    "### Optimized Model"
   ]
  },
  {
   "cell_type": "code",
   "execution_count": 10,
   "metadata": {
    "hidden": true
   },
   "outputs": [
    {
     "name": "stdout",
     "output_type": "stream",
     "text": [
      "13086\n"
     ]
    }
   ],
   "source": [
    "with open('../artefacts/filtered_top_1_docs.pkl', 'rb') as f:\n",
    "    filtered_docs = pickle.load(f)\n",
    "\n",
    "print(len(filtered_docs))\n",
    "\n",
    "filtered_dictionary = Dictionary.load('../artefacts/filtered_top_1_dictionary')"
   ]
  },
  {
   "cell_type": "code",
   "execution_count": 11,
   "metadata": {
    "hidden": true
   },
   "outputs": [
    {
     "name": "stdout",
     "output_type": "stream",
     "text": [
      "13086\n",
      "21.1034699289655\n"
     ]
    }
   ],
   "source": [
    "# Bag-of-words representation of the documents.\n",
    "filtered_corpus = [filtered_dictionary.doc2bow(doc) for doc in filtered_docs]\n",
    "print(len(filtered_corpus))\n",
    "\n",
    "optimized_model = train_lda_mallet(filtered_corpus, filtered_dictionary, 300, \n",
    "                         params={\n",
    "                             'mallet_path': '../mallet-2.0.8/bin/mallet',\n",
    "                             'prefix_path': '../artefacts/mallet_tmp/',\n",
    "                             'alpha': 250\n",
    "                         })\n",
    "optimized_score_array = get_divergence_scores(filtered_dictionary, optimized_model, associated_words)\n",
    "\n",
    "# for reproducibility. should equal 21.1034699289655\n",
    "print(get_min_divergence_scores(optimized_score_array))"
   ]
  },
  {
   "cell_type": "code",
   "execution_count": 12,
   "metadata": {
    "hidden": true
   },
   "outputs": [],
   "source": [
    "topics_result = []\n",
    "\n",
    "for topic_id, weights in optimized_model.show_topics(-1, formatted=False):\n",
    "    weights = np.array(weights).flatten().tolist()\n",
    "    for i in range(1, 20, 2):\n",
    "        weights[i] = round(float(weights[i]), 3)\n",
    "    topics_result.append([topic_id] + np.array(weights).flatten().tolist())\n",
    "\n",
    "columns = ['Topic']\n",
    "\n",
    "for i in range(10):\n",
    "    columns = columns + [f'Word{i+1}', f'Prob{i+1}']\n",
    "\n",
    "\n",
    "df = pd.DataFrame(data=topics_result, columns=columns)"
   ]
  },
  {
   "cell_type": "code",
   "execution_count": 13,
   "metadata": {
    "hidden": true,
    "scrolled": true
   },
   "outputs": [
    {
     "data": {
      "text/html": [
       "<div>\n",
       "<style scoped>\n",
       "    .dataframe tbody tr th:only-of-type {\n",
       "        vertical-align: middle;\n",
       "    }\n",
       "\n",
       "    .dataframe tbody tr th {\n",
       "        vertical-align: top;\n",
       "    }\n",
       "\n",
       "    .dataframe thead th {\n",
       "        text-align: right;\n",
       "    }\n",
       "</style>\n",
       "<table border=\"1\" class=\"dataframe\">\n",
       "  <thead>\n",
       "    <tr style=\"text-align: right;\">\n",
       "      <th></th>\n",
       "      <th>Topic</th>\n",
       "      <th>Word1</th>\n",
       "      <th>Prob1</th>\n",
       "      <th>Word2</th>\n",
       "      <th>Prob2</th>\n",
       "      <th>Word3</th>\n",
       "      <th>Prob3</th>\n",
       "      <th>Word4</th>\n",
       "      <th>Prob4</th>\n",
       "      <th>Word5</th>\n",
       "      <th>...</th>\n",
       "      <th>Word6</th>\n",
       "      <th>Prob6</th>\n",
       "      <th>Word7</th>\n",
       "      <th>Prob7</th>\n",
       "      <th>Word8</th>\n",
       "      <th>Prob8</th>\n",
       "      <th>Word9</th>\n",
       "      <th>Prob9</th>\n",
       "      <th>Word10</th>\n",
       "      <th>Prob10</th>\n",
       "    </tr>\n",
       "  </thead>\n",
       "  <tbody>\n",
       "    <tr>\n",
       "      <th>0</th>\n",
       "      <td>0</td>\n",
       "      <td>aspect</td>\n",
       "      <td>0.116</td>\n",
       "      <td>modern</td>\n",
       "      <td>0.109</td>\n",
       "      <td>part</td>\n",
       "      <td>0.095</td>\n",
       "      <td>idea</td>\n",
       "      <td>0.079</td>\n",
       "      <td>main</td>\n",
       "      <td>...</td>\n",
       "      <td>goal</td>\n",
       "      <td>0.049</td>\n",
       "      <td>practical</td>\n",
       "      <td>0.047</td>\n",
       "      <td>proposed</td>\n",
       "      <td>0.036</td>\n",
       "      <td>technique</td>\n",
       "      <td>0.03</td>\n",
       "      <td>general</td>\n",
       "      <td>0.018</td>\n",
       "    </tr>\n",
       "    <tr>\n",
       "      <th>1</th>\n",
       "      <td>1</td>\n",
       "      <td>life</td>\n",
       "      <td>0.285</td>\n",
       "      <td>infant</td>\n",
       "      <td>0.056</td>\n",
       "      <td>period</td>\n",
       "      <td>0.043</td>\n",
       "      <td>developmental</td>\n",
       "      <td>0.039</td>\n",
       "      <td>birth</td>\n",
       "      <td>...</td>\n",
       "      <td>maternal</td>\n",
       "      <td>0.034</td>\n",
       "      <td>pregnancy</td>\n",
       "      <td>0.032</td>\n",
       "      <td>mother</td>\n",
       "      <td>0.024</td>\n",
       "      <td>baby</td>\n",
       "      <td>0.02</td>\n",
       "      <td>born</td>\n",
       "      <td>0.019</td>\n",
       "    </tr>\n",
       "    <tr>\n",
       "      <th>2</th>\n",
       "      <td>2</td>\n",
       "      <td>cell</td>\n",
       "      <td>0.293</td>\n",
       "      <td>differentiation</td>\n",
       "      <td>0.07</td>\n",
       "      <td>fate</td>\n",
       "      <td>0.049</td>\n",
       "      <td>niche</td>\n",
       "      <td>0.047</td>\n",
       "      <td>heterogeneity</td>\n",
       "      <td>...</td>\n",
       "      <td>lineage</td>\n",
       "      <td>0.033</td>\n",
       "      <td>cellular</td>\n",
       "      <td>0.031</td>\n",
       "      <td>developmental</td>\n",
       "      <td>0.029</td>\n",
       "      <td>progenitor</td>\n",
       "      <td>0.025</td>\n",
       "      <td>somatic</td>\n",
       "      <td>0.016</td>\n",
       "    </tr>\n",
       "    <tr>\n",
       "      <th>3</th>\n",
       "      <td>3</td>\n",
       "      <td>enable</td>\n",
       "      <td>0.154</td>\n",
       "      <td>micro</td>\n",
       "      <td>0.117</td>\n",
       "      <td>capable</td>\n",
       "      <td>0.08</td>\n",
       "      <td>perform</td>\n",
       "      <td>0.066</td>\n",
       "      <td>capability</td>\n",
       "      <td>...</td>\n",
       "      <td>inside</td>\n",
       "      <td>0.055</td>\n",
       "      <td>progress</td>\n",
       "      <td>0.05</td>\n",
       "      <td>develop</td>\n",
       "      <td>0.042</td>\n",
       "      <td>made</td>\n",
       "      <td>0.041</td>\n",
       "      <td>patch</td>\n",
       "      <td>0.033</td>\n",
       "    </tr>\n",
       "    <tr>\n",
       "      <th>4</th>\n",
       "      <td>4</td>\n",
       "      <td>protein</td>\n",
       "      <td>0.558</td>\n",
       "      <td>substrate</td>\n",
       "      <td>0.039</td>\n",
       "      <td>spectrometry</td>\n",
       "      <td>0.031</td>\n",
       "      <td>mass</td>\n",
       "      <td>0.03</td>\n",
       "      <td>ubiquitin</td>\n",
       "      <td>...</td>\n",
       "      <td>proteome</td>\n",
       "      <td>0.018</td>\n",
       "      <td>degradation</td>\n",
       "      <td>0.014</td>\n",
       "      <td>biochemical</td>\n",
       "      <td>0.013</td>\n",
       "      <td>phosphorylation</td>\n",
       "      <td>0.012</td>\n",
       "      <td>proteasome</td>\n",
       "      <td>0.01</td>\n",
       "    </tr>\n",
       "  </tbody>\n",
       "</table>\n",
       "<p>5 rows × 21 columns</p>\n",
       "</div>"
      ],
      "text/plain": [
       "   Topic    Word1  Prob1            Word2  Prob2         Word3  Prob3  \\\n",
       "0      0   aspect  0.116           modern  0.109          part  0.095   \n",
       "1      1     life  0.285           infant  0.056        period  0.043   \n",
       "2      2     cell  0.293  differentiation   0.07          fate  0.049   \n",
       "3      3   enable  0.154            micro  0.117       capable   0.08   \n",
       "4      4  protein  0.558        substrate  0.039  spectrometry  0.031   \n",
       "\n",
       "           Word4  Prob4          Word5  ...     Word6  Prob6        Word7  \\\n",
       "0           idea  0.079           main  ...      goal  0.049    practical   \n",
       "1  developmental  0.039          birth  ...  maternal  0.034    pregnancy   \n",
       "2          niche  0.047  heterogeneity  ...   lineage  0.033     cellular   \n",
       "3        perform  0.066     capability  ...    inside  0.055     progress   \n",
       "4           mass   0.03      ubiquitin  ...  proteome  0.018  degradation   \n",
       "\n",
       "   Prob7          Word8  Prob8            Word9  Prob9      Word10 Prob10  \n",
       "0  0.047       proposed  0.036        technique   0.03     general  0.018  \n",
       "1  0.032         mother  0.024             baby   0.02        born  0.019  \n",
       "2  0.031  developmental  0.029       progenitor  0.025     somatic  0.016  \n",
       "3   0.05        develop  0.042             made  0.041       patch  0.033  \n",
       "4  0.014    biochemical  0.013  phosphorylation  0.012  proteasome   0.01  \n",
       "\n",
       "[5 rows x 21 columns]"
      ]
     },
     "execution_count": 13,
     "metadata": {},
     "output_type": "execute_result"
    }
   ],
   "source": [
    "df.head()"
   ]
  },
  {
   "cell_type": "code",
   "execution_count": 28,
   "metadata": {
    "hidden": true
   },
   "outputs": [],
   "source": [
    "df.to_excel('../output/optimized_300_topics_with_word_prob.xlsx', index=False)"
   ]
  },
  {
   "cell_type": "code",
   "execution_count": 17,
   "metadata": {
    "hidden": true
   },
   "outputs": [
    {
     "data": {
      "text/html": [
       "<div>\n",
       "<style scoped>\n",
       "    .dataframe tbody tr th:only-of-type {\n",
       "        vertical-align: middle;\n",
       "    }\n",
       "\n",
       "    .dataframe tbody tr th {\n",
       "        vertical-align: top;\n",
       "    }\n",
       "\n",
       "    .dataframe thead th {\n",
       "        text-align: right;\n",
       "    }\n",
       "</style>\n",
       "<table border=\"1\" class=\"dataframe\">\n",
       "  <thead>\n",
       "    <tr style=\"text-align: right;\">\n",
       "      <th></th>\n",
       "      <th>Topic_Id</th>\n",
       "      <th>Topic_Keywords</th>\n",
       "    </tr>\n",
       "  </thead>\n",
       "  <tbody>\n",
       "    <tr>\n",
       "      <th>0</th>\n",
       "      <td>0</td>\n",
       "      <td>aspect, modern, part, idea, main, goal, practical, proposed, technique, general</td>\n",
       "    </tr>\n",
       "    <tr>\n",
       "      <th>1</th>\n",
       "      <td>1</td>\n",
       "      <td>life, infant, period, developmental, birth, maternal, pregnancy, mother, baby, born</td>\n",
       "    </tr>\n",
       "    <tr>\n",
       "      <th>2</th>\n",
       "      <td>2</td>\n",
       "      <td>cell, differentiation, fate, niche, heterogeneity, lineage, cellular, developmental, progenitor, somatic</td>\n",
       "    </tr>\n",
       "    <tr>\n",
       "      <th>3</th>\n",
       "      <td>3</td>\n",
       "      <td>enable, micro, capable, perform, capability, inside, progress, develop, made, patch</td>\n",
       "    </tr>\n",
       "    <tr>\n",
       "      <th>4</th>\n",
       "      <td>4</td>\n",
       "      <td>protein, substrate, spectrometry, mass, ubiquitin, proteome, degradation, biochemical, phosphorylation, proteasome</td>\n",
       "    </tr>\n",
       "  </tbody>\n",
       "</table>\n",
       "</div>"
      ],
      "text/plain": [
       "   Topic_Id  \\\n",
       "0         0   \n",
       "1         1   \n",
       "2         2   \n",
       "3         3   \n",
       "4         4   \n",
       "\n",
       "                                                                                                       Topic_Keywords  \n",
       "0                                     aspect, modern, part, idea, main, goal, practical, proposed, technique, general  \n",
       "1                                 life, infant, period, developmental, birth, maternal, pregnancy, mother, baby, born  \n",
       "2            cell, differentiation, fate, niche, heterogeneity, lineage, cellular, developmental, progenitor, somatic  \n",
       "3                                 enable, micro, capable, perform, capability, inside, progress, develop, made, patch  \n",
       "4  protein, substrate, spectrometry, mass, ubiquitin, proteome, degradation, biochemical, phosphorylation, proteasome  "
      ]
     },
     "execution_count": 17,
     "metadata": {},
     "output_type": "execute_result"
    }
   ],
   "source": [
    "# get_all_topics(optimized_model).to_csv('../output/optimized_300_topics.csv', index=False)\n",
    "get_all_topics(optimized_model).head()"
   ]
  },
  {
   "cell_type": "code",
   "execution_count": 18,
   "metadata": {
    "collapsed": true,
    "hidden": true
   },
   "outputs": [
    {
     "data": {
      "text/html": [
       "<div>\n",
       "<style scoped>\n",
       "    .dataframe tbody tr th:only-of-type {\n",
       "        vertical-align: middle;\n",
       "    }\n",
       "\n",
       "    .dataframe tbody tr th {\n",
       "        vertical-align: top;\n",
       "    }\n",
       "\n",
       "    .dataframe thead th {\n",
       "        text-align: right;\n",
       "    }\n",
       "</style>\n",
       "<table border=\"1\" class=\"dataframe\">\n",
       "  <thead>\n",
       "    <tr style=\"text-align: right;\">\n",
       "      <th></th>\n",
       "      <th>associated_words</th>\n",
       "      <th>Topic_Id</th>\n",
       "      <th>Topic_Keywords</th>\n",
       "      <th>divergence_score</th>\n",
       "    </tr>\n",
       "  </thead>\n",
       "  <tbody>\n",
       "    <tr>\n",
       "      <th>0</th>\n",
       "      <td>{base, cas9, crispr, editing}</td>\n",
       "      <td>139</td>\n",
       "      <td>dna, genome, epigenetic, crispr, repair, editing, histone, cas9, genomic, damage</td>\n",
       "      <td>0.734616</td>\n",
       "    </tr>\n",
       "    <tr>\n",
       "      <th>1</th>\n",
       "      <td>{p53, carcinoma, cancer, tumorigenesis}</td>\n",
       "      <td>12</td>\n",
       "      <td>cancer, tumor, tumour, metastasis, metastatic, breast, progression, chemotherapy, anti, survival</td>\n",
       "      <td>0.676048</td>\n",
       "    </tr>\n",
       "    <tr>\n",
       "      <th>2</th>\n",
       "      <td>{immunotherapy, cancer, leukemia, solid}</td>\n",
       "      <td>12</td>\n",
       "      <td>cancer, tumor, tumour, metastasis, metastatic, breast, progression, chemotherapy, anti, survival</td>\n",
       "      <td>0.690754</td>\n",
       "    </tr>\n",
       "    <tr>\n",
       "      <th>3</th>\n",
       "      <td>{microbiome, bacteria, antibiotic, probiotic}</td>\n",
       "      <td>80</td>\n",
       "      <td>resistance, antibiotic, resistant, bacteria, antimicrobial, bacterial, amr, global, threat, emergence</td>\n",
       "      <td>0.704846</td>\n",
       "    </tr>\n",
       "    <tr>\n",
       "      <th>4</th>\n",
       "      <td>{coding, non, rna, oligonucleotide}</td>\n",
       "      <td>122</td>\n",
       "      <td>rna, mrna, sequence, coding, nmr, sequencing, splicing, motif, seq, binding</td>\n",
       "      <td>0.670497</td>\n",
       "    </tr>\n",
       "    <tr>\n",
       "      <th>5</th>\n",
       "      <td>{parkinson, alzheimer, neurodegeneration, huntington}</td>\n",
       "      <td>289</td>\n",
       "      <td>disease, signaling, pathology, al, neurodegenerative, parkinson, therapeutic, aggregation, neurodegeneration, alzheimer</td>\n",
       "      <td>0.754143</td>\n",
       "    </tr>\n",
       "    <tr>\n",
       "      <th>6</th>\n",
       "      <td>{vector, aav, gene, immunity, delivery, immune}</td>\n",
       "      <td>17</td>\n",
       "      <td>gene, expression, regulatory, genome, transcriptional, transcription, regulation, enhancer, promoter, silencing</td>\n",
       "      <td>0.725580</td>\n",
       "    </tr>\n",
       "    <tr>\n",
       "      <th>7</th>\n",
       "      <td>{polymer, viral, nanoparticle, non, gene, delivery, liposome}</td>\n",
       "      <td>17</td>\n",
       "      <td>gene, expression, regulatory, genome, transcriptional, transcription, regulation, enhancer, promoter, silencing</td>\n",
       "      <td>0.735572</td>\n",
       "    </tr>\n",
       "    <tr>\n",
       "      <th>8</th>\n",
       "      <td>{genomics, data, multiomics, prevention, precision}</td>\n",
       "      <td>46</td>\n",
       "      <td>data, big, analytics, datasets, mining, collection, collected, sharing, repository, query</td>\n",
       "      <td>0.676922</td>\n",
       "    </tr>\n",
       "    <tr>\n",
       "      <th>9</th>\n",
       "      <td>{pregnancy, reproductive, obstetric, woman, prenatal}</td>\n",
       "      <td>57</td>\n",
       "      <td>breast, positive, woman, common, result, benefit, potential, lesion, significant, targeted</td>\n",
       "      <td>0.782717</td>\n",
       "    </tr>\n",
       "    <tr>\n",
       "      <th>10</th>\n",
       "      <td>{epigenetics, chromosome, histone, epigenomics, environment}</td>\n",
       "      <td>159</td>\n",
       "      <td>environment, space, location, adapt, robust, allowing, moving, requires, integrate, changing</td>\n",
       "      <td>0.700874</td>\n",
       "    </tr>\n",
       "    <tr>\n",
       "      <th>11</th>\n",
       "      <td>{aging, geriatric, senescence}</td>\n",
       "      <td>258</td>\n",
       "      <td>age, life, ageing, adult, aging, healthy, older, related, decline, population</td>\n",
       "      <td>0.753455</td>\n",
       "    </tr>\n",
       "    <tr>\n",
       "      <th>12</th>\n",
       "      <td>{energy, therapy, mitochondrion}</td>\n",
       "      <td>281</td>\n",
       "      <td>therapy, therapeutic, treatment, targeted, efficacy, cure, treat, clinical, promising, clinic</td>\n",
       "      <td>0.672331</td>\n",
       "    </tr>\n",
       "    <tr>\n",
       "      <th>13</th>\n",
       "      <td>{psychological, psychiatric, mental}</td>\n",
       "      <td>238</td>\n",
       "      <td>evidence, mental, relationship, finding, research, contribution, systematic, account, interdisciplinary, orientation</td>\n",
       "      <td>0.737654</td>\n",
       "    </tr>\n",
       "    <tr>\n",
       "      <th>14</th>\n",
       "      <td>{resistant, stress, anxiety, depression}</td>\n",
       "      <td>177</td>\n",
       "      <td>response, stress, physiological, exposure, tolerance, oxidative, exposed, vulnerability, trigger, respond</td>\n",
       "      <td>0.736083</td>\n",
       "    </tr>\n",
       "    <tr>\n",
       "      <th>15</th>\n",
       "      <td>{aging, frailty, sarcopenia, elderly}</td>\n",
       "      <td>258</td>\n",
       "      <td>age, life, ageing, adult, aging, healthy, older, related, decline, population</td>\n",
       "      <td>0.765555</td>\n",
       "    </tr>\n",
       "    <tr>\n",
       "      <th>16</th>\n",
       "      <td>{retinal, eye, ophthalmic}</td>\n",
       "      <td>282</td>\n",
       "      <td>visual, vision, eye, head, retinal, display, lens, impaired, world, blind</td>\n",
       "      <td>0.727365</td>\n",
       "    </tr>\n",
       "    <tr>\n",
       "      <th>17</th>\n",
       "      <td>{virus, vaccine, immunity, infection}</td>\n",
       "      <td>22</td>\n",
       "      <td>vaccine, virus, viral, vector, infection, muscle, hiv, antiviral, influenza, outbreak</td>\n",
       "      <td>0.625181</td>\n",
       "    </tr>\n",
       "    <tr>\n",
       "      <th>18</th>\n",
       "      <td>{ai, computational, drug, structure, bioinformatics, discovery}</td>\n",
       "      <td>94</td>\n",
       "      <td>drug, discovery, pharmaceutical, candidate, toxicity, anti, approved, anticancer, pipeline, throughput</td>\n",
       "      <td>0.639996</td>\n",
       "    </tr>\n",
       "    <tr>\n",
       "      <th>19</th>\n",
       "      <td>{em, cryo, microscopy}</td>\n",
       "      <td>249</td>\n",
       "      <td>resolution, microscopy, ray, probe, fluorescence, super, technique, sample, limit, em</td>\n",
       "      <td>0.731909</td>\n",
       "    </tr>\n",
       "    <tr>\n",
       "      <th>20</th>\n",
       "      <td>{immune, macrophage, inflammation, activation}</td>\n",
       "      <td>285</td>\n",
       "      <td>immune, response, antigen, immunotherapy, dc, vaccination, immunological, immunology, presentation, id</td>\n",
       "      <td>0.714902</td>\n",
       "    </tr>\n",
       "    <tr>\n",
       "      <th>21</th>\n",
       "      <td>{fibrosis, interleukin, organ}</td>\n",
       "      <td>81</td>\n",
       "      <td>engineering, organ, engineered, engineer, construct, transplantation, create, approach, functionality, mimic</td>\n",
       "      <td>0.752628</td>\n",
       "    </tr>\n",
       "    <tr>\n",
       "      <th>22</th>\n",
       "      <td>{insulin, diabetes}</td>\n",
       "      <td>151</td>\n",
       "      <td>diabetes, obesity, glucose, insulin, type, diabetic, diet, weight, lifestyle, t2d</td>\n",
       "      <td>0.694562</td>\n",
       "    </tr>\n",
       "    <tr>\n",
       "      <th>23</th>\n",
       "      <td>{needle, injection, free, delivery}</td>\n",
       "      <td>260</td>\n",
       "      <td>delivery, agent, release, therapeutic, targeted, kidney, deliver, formulation, carrier, cargo</td>\n",
       "      <td>0.725125</td>\n",
       "    </tr>\n",
       "    <tr>\n",
       "      <th>24</th>\n",
       "      <td>{bacteria, antibiotic, resistance}</td>\n",
       "      <td>80</td>\n",
       "      <td>resistance, antibiotic, resistant, bacteria, antimicrobial, bacterial, amr, global, threat, emergence</td>\n",
       "      <td>0.543384</td>\n",
       "    </tr>\n",
       "    <tr>\n",
       "      <th>25</th>\n",
       "      <td>{dengue, malaria, mosquito}</td>\n",
       "      <td>99</td>\n",
       "      <td>host, pathogen, effector, parasite, malaria, defence, virulence, infectious, important, intracellular</td>\n",
       "      <td>0.793670</td>\n",
       "    </tr>\n",
       "    <tr>\n",
       "      <th>26</th>\n",
       "      <td>{astrocyte, synapse, neuron, axon, ganglion}</td>\n",
       "      <td>75</td>\n",
       "      <td>circuit, neuronal, neuron, synaptic, plasticity, function, synapsis, calcium, cortical, synapse</td>\n",
       "      <td>0.732869</td>\n",
       "    </tr>\n",
       "    <tr>\n",
       "      <th>27</th>\n",
       "      <td>{therapy, regulation, gene, expression}</td>\n",
       "      <td>17</td>\n",
       "      <td>gene, expression, regulatory, genome, transcriptional, transcription, regulation, enhancer, promoter, silencing</td>\n",
       "      <td>0.548803</td>\n",
       "    </tr>\n",
       "    <tr>\n",
       "      <th>28</th>\n",
       "      <td>{congestive, faction, heart, ejection, myocardial, infarction, failure}</td>\n",
       "      <td>104</td>\n",
       "      <td>heart, failure, cardiac, death, cardiovascular, mortality, cvd, myocardial, hf, ablation</td>\n",
       "      <td>0.675958</td>\n",
       "    </tr>\n",
       "    <tr>\n",
       "      <th>29</th>\n",
       "      <td>{analysis, quantitative, ion, spectrometry, neutron}</td>\n",
       "      <td>293</td>\n",
       "      <td>analysis, ra, analyse, bioinformatics, pipeline, arthritis, md, analysed, interpretation, dependency</td>\n",
       "      <td>0.679472</td>\n",
       "    </tr>\n",
       "  </tbody>\n",
       "</table>\n",
       "</div>"
      ],
      "text/plain": [
       "                                                           associated_words  \\\n",
       "0                                             {base, cas9, crispr, editing}   \n",
       "1                                   {p53, carcinoma, cancer, tumorigenesis}   \n",
       "2                                  {immunotherapy, cancer, leukemia, solid}   \n",
       "3                             {microbiome, bacteria, antibiotic, probiotic}   \n",
       "4                                       {coding, non, rna, oligonucleotide}   \n",
       "5                     {parkinson, alzheimer, neurodegeneration, huntington}   \n",
       "6                           {vector, aav, gene, immunity, delivery, immune}   \n",
       "7             {polymer, viral, nanoparticle, non, gene, delivery, liposome}   \n",
       "8                       {genomics, data, multiomics, prevention, precision}   \n",
       "9                     {pregnancy, reproductive, obstetric, woman, prenatal}   \n",
       "10             {epigenetics, chromosome, histone, epigenomics, environment}   \n",
       "11                                           {aging, geriatric, senescence}   \n",
       "12                                         {energy, therapy, mitochondrion}   \n",
       "13                                     {psychological, psychiatric, mental}   \n",
       "14                                 {resistant, stress, anxiety, depression}   \n",
       "15                                    {aging, frailty, sarcopenia, elderly}   \n",
       "16                                               {retinal, eye, ophthalmic}   \n",
       "17                                    {virus, vaccine, immunity, infection}   \n",
       "18          {ai, computational, drug, structure, bioinformatics, discovery}   \n",
       "19                                                   {em, cryo, microscopy}   \n",
       "20                           {immune, macrophage, inflammation, activation}   \n",
       "21                                           {fibrosis, interleukin, organ}   \n",
       "22                                                      {insulin, diabetes}   \n",
       "23                                      {needle, injection, free, delivery}   \n",
       "24                                       {bacteria, antibiotic, resistance}   \n",
       "25                                              {dengue, malaria, mosquito}   \n",
       "26                             {astrocyte, synapse, neuron, axon, ganglion}   \n",
       "27                                  {therapy, regulation, gene, expression}   \n",
       "28  {congestive, faction, heart, ejection, myocardial, infarction, failure}   \n",
       "29                     {analysis, quantitative, ion, spectrometry, neutron}   \n",
       "\n",
       "    Topic_Id  \\\n",
       "0        139   \n",
       "1         12   \n",
       "2         12   \n",
       "3         80   \n",
       "4        122   \n",
       "5        289   \n",
       "6         17   \n",
       "7         17   \n",
       "8         46   \n",
       "9         57   \n",
       "10       159   \n",
       "11       258   \n",
       "12       281   \n",
       "13       238   \n",
       "14       177   \n",
       "15       258   \n",
       "16       282   \n",
       "17        22   \n",
       "18        94   \n",
       "19       249   \n",
       "20       285   \n",
       "21        81   \n",
       "22       151   \n",
       "23       260   \n",
       "24        80   \n",
       "25        99   \n",
       "26        75   \n",
       "27        17   \n",
       "28       104   \n",
       "29       293   \n",
       "\n",
       "                                                                                                             Topic_Keywords  \\\n",
       "0                                          dna, genome, epigenetic, crispr, repair, editing, histone, cas9, genomic, damage   \n",
       "1                          cancer, tumor, tumour, metastasis, metastatic, breast, progression, chemotherapy, anti, survival   \n",
       "2                          cancer, tumor, tumour, metastasis, metastatic, breast, progression, chemotherapy, anti, survival   \n",
       "3                     resistance, antibiotic, resistant, bacteria, antimicrobial, bacterial, amr, global, threat, emergence   \n",
       "4                                               rna, mrna, sequence, coding, nmr, sequencing, splicing, motif, seq, binding   \n",
       "5   disease, signaling, pathology, al, neurodegenerative, parkinson, therapeutic, aggregation, neurodegeneration, alzheimer   \n",
       "6           gene, expression, regulatory, genome, transcriptional, transcription, regulation, enhancer, promoter, silencing   \n",
       "7           gene, expression, regulatory, genome, transcriptional, transcription, regulation, enhancer, promoter, silencing   \n",
       "8                                 data, big, analytics, datasets, mining, collection, collected, sharing, repository, query   \n",
       "9                                breast, positive, woman, common, result, benefit, potential, lesion, significant, targeted   \n",
       "10                             environment, space, location, adapt, robust, allowing, moving, requires, integrate, changing   \n",
       "11                                            age, life, ageing, adult, aging, healthy, older, related, decline, population   \n",
       "12                            therapy, therapeutic, treatment, targeted, efficacy, cure, treat, clinical, promising, clinic   \n",
       "13     evidence, mental, relationship, finding, research, contribution, systematic, account, interdisciplinary, orientation   \n",
       "14                response, stress, physiological, exposure, tolerance, oxidative, exposed, vulnerability, trigger, respond   \n",
       "15                                            age, life, ageing, adult, aging, healthy, older, related, decline, population   \n",
       "16                                                visual, vision, eye, head, retinal, display, lens, impaired, world, blind   \n",
       "17                                    vaccine, virus, viral, vector, infection, muscle, hiv, antiviral, influenza, outbreak   \n",
       "18                   drug, discovery, pharmaceutical, candidate, toxicity, anti, approved, anticancer, pipeline, throughput   \n",
       "19                                    resolution, microscopy, ray, probe, fluorescence, super, technique, sample, limit, em   \n",
       "20                   immune, response, antigen, immunotherapy, dc, vaccination, immunological, immunology, presentation, id   \n",
       "21             engineering, organ, engineered, engineer, construct, transplantation, create, approach, functionality, mimic   \n",
       "22                                        diabetes, obesity, glucose, insulin, type, diabetic, diet, weight, lifestyle, t2d   \n",
       "23                            delivery, agent, release, therapeutic, targeted, kidney, deliver, formulation, carrier, cargo   \n",
       "24                    resistance, antibiotic, resistant, bacteria, antimicrobial, bacterial, amr, global, threat, emergence   \n",
       "25                    host, pathogen, effector, parasite, malaria, defence, virulence, infectious, important, intracellular   \n",
       "26                          circuit, neuronal, neuron, synaptic, plasticity, function, synapsis, calcium, cortical, synapse   \n",
       "27          gene, expression, regulatory, genome, transcriptional, transcription, regulation, enhancer, promoter, silencing   \n",
       "28                                 heart, failure, cardiac, death, cardiovascular, mortality, cvd, myocardial, hf, ablation   \n",
       "29                     analysis, ra, analyse, bioinformatics, pipeline, arthritis, md, analysed, interpretation, dependency   \n",
       "\n",
       "    divergence_score  \n",
       "0           0.734616  \n",
       "1           0.676048  \n",
       "2           0.690754  \n",
       "3           0.704846  \n",
       "4           0.670497  \n",
       "5           0.754143  \n",
       "6           0.725580  \n",
       "7           0.735572  \n",
       "8           0.676922  \n",
       "9           0.782717  \n",
       "10          0.700874  \n",
       "11          0.753455  \n",
       "12          0.672331  \n",
       "13          0.737654  \n",
       "14          0.736083  \n",
       "15          0.765555  \n",
       "16          0.727365  \n",
       "17          0.625181  \n",
       "18          0.639996  \n",
       "19          0.731909  \n",
       "20          0.714902  \n",
       "21          0.752628  \n",
       "22          0.694562  \n",
       "23          0.725125  \n",
       "24          0.543384  \n",
       "25          0.793670  \n",
       "26          0.732869  \n",
       "27          0.548803  \n",
       "28          0.675958  \n",
       "29          0.679472  "
      ]
     },
     "execution_count": 18,
     "metadata": {},
     "output_type": "execute_result"
    }
   ],
   "source": [
    "temp_df = format_divergence_scores(optimized_model, optimized_score_array)\n",
    "temp_df.insert(0, 'associated_words', [set(i) for i in associated_words])\n",
    "temp_df"
   ]
  },
  {
   "cell_type": "code",
   "execution_count": 21,
   "metadata": {
    "hidden": true
   },
   "outputs": [],
   "source": [
    "temp_df.to_csv('../output/associated_words_divergence_score_optimized.csv', index=False)"
   ]
  },
  {
   "cell_type": "markdown",
   "metadata": {
    "heading_collapsed": true
   },
   "source": [
    "## Predict and Format"
   ]
  },
  {
   "cell_type": "code",
   "execution_count": 16,
   "metadata": {
    "hidden": true
   },
   "outputs": [],
   "source": [
    "sheets_dict = pd.read_excel('../data/cordis-h2020projects.xlsx', None)\n",
    "df = sheets_dict['cordis-h2020projects']\n",
    "\n",
    "# combine title and objective\n",
    "data = (df['title'] + ' ' + df['objective']).values.tolist()\n",
    "\n",
    "docs = process_data(data)\n",
    "corpus = [filtered_dictionary.doc2bow(doc) for doc in docs]"
   ]
  },
  {
   "cell_type": "markdown",
   "metadata": {
    "heading_collapsed": true,
    "hidden": true
   },
   "source": [
    "### 30k grants prediction"
   ]
  },
  {
   "cell_type": "code",
   "execution_count": 17,
   "metadata": {
    "hidden": true
   },
   "outputs": [
    {
     "name": "stdout",
     "output_type": "stream",
     "text": [
      "CPU times: user 16min 55s, sys: 14.4 s, total: 17min 10s\n",
      "Wall time: 18min 8s\n"
     ]
    }
   ],
   "source": [
    "%%time\n",
    "predict_df = predict_and_format_topics(optimized_model, corpus, data, n_topics=10)"
   ]
  },
  {
   "cell_type": "code",
   "execution_count": 96,
   "metadata": {
    "hidden": true
   },
   "outputs": [
    {
     "data": {
      "text/plain": [
       "{'Dominant_Topic_1': 'Topic_Id_1',\n",
       " 'Dominant_Topic_2': 'Topic_Id_2',\n",
       " 'Dominant_Topic_3': 'Topic_Id_3',\n",
       " 'Dominant_Topic_4': 'Topic_Id_4',\n",
       " 'Dominant_Topic_5': 'Topic_Id_5'}"
      ]
     },
     "execution_count": 96,
     "metadata": {},
     "output_type": "execute_result"
    }
   ],
   "source": [
    "rename_columns_dict = dict([(f'Dominant_Topic_{i+1}', f'Topic_Id_{i+1}') for i in range(5)])\n",
    "rename_columns_dict"
   ]
  },
  {
   "cell_type": "code",
   "execution_count": 97,
   "metadata": {
    "hidden": true
   },
   "outputs": [],
   "source": [
    "predict_df.rename(columns=rename_columns_dict, inplace=True)"
   ]
  },
  {
   "cell_type": "code",
   "execution_count": 98,
   "metadata": {
    "hidden": true
   },
   "outputs": [
    {
     "data": {
      "text/html": [
       "<div>\n",
       "<style scoped>\n",
       "    .dataframe tbody tr th:only-of-type {\n",
       "        vertical-align: middle;\n",
       "    }\n",
       "\n",
       "    .dataframe tbody tr th {\n",
       "        vertical-align: top;\n",
       "    }\n",
       "\n",
       "    .dataframe thead th {\n",
       "        text-align: right;\n",
       "    }\n",
       "</style>\n",
       "<table border=\"1\" class=\"dataframe\">\n",
       "  <thead>\n",
       "    <tr style=\"text-align: right;\">\n",
       "      <th></th>\n",
       "      <th>Document_No</th>\n",
       "      <th>Topic_Id_1</th>\n",
       "      <th>Topic_Prob_1</th>\n",
       "      <th>Topic Keywords</th>\n",
       "      <th>Topic_Id_2</th>\n",
       "      <th>Topic_Prob_2</th>\n",
       "      <th>Topic Keywords</th>\n",
       "      <th>Topic_Id_3</th>\n",
       "      <th>Topic_Prob_3</th>\n",
       "      <th>Topic Keywords</th>\n",
       "      <th>Topic_Id_4</th>\n",
       "      <th>Topic_Prob_4</th>\n",
       "      <th>Topic Keywords</th>\n",
       "      <th>Topic_Id_5</th>\n",
       "      <th>Topic_Prob_5</th>\n",
       "      <th>Topic Keywords</th>\n",
       "    </tr>\n",
       "  </thead>\n",
       "  <tbody>\n",
       "    <tr>\n",
       "      <th>0</th>\n",
       "      <td>0</td>\n",
       "      <td>0.0</td>\n",
       "      <td>0.0416</td>\n",
       "      <td>aspect, modern, part, idea, main, goal, practical, proposed, technique, general</td>\n",
       "      <td>86.0</td>\n",
       "      <td>0.0326</td>\n",
       "      <td>translation, post, translational, identify, basic, target, profiling, biology, translate, previously</td>\n",
       "      <td>181.0</td>\n",
       "      <td>0.0198</td>\n",
       "      <td>scientific, community, scientist, knowledge, collaboration, enhance, dissemination, programme, excellence, achievement</td>\n",
       "      <td>231.0</td>\n",
       "      <td>0.0198</td>\n",
       "      <td>language, linguistic, semantic, word, meaning, acquisition, reading, text, representation, speaker</td>\n",
       "      <td>141.0</td>\n",
       "      <td>0.0173</td>\n",
       "      <td>component, communication, sensing, key, ph, sense, combine, versatile, typically, dedicated</td>\n",
       "    </tr>\n",
       "    <tr>\n",
       "      <th>1</th>\n",
       "      <td>1</td>\n",
       "      <td>181.0</td>\n",
       "      <td>0.0435</td>\n",
       "      <td>scientific, community, scientist, knowledge, collaboration, enhance, dissemination, programme, excellence, achievement</td>\n",
       "      <td>166.0</td>\n",
       "      <td>0.0162</td>\n",
       "      <td>experience, virtual, reality, team, tracking, interactive, phage, ar, vr, sport</td>\n",
       "      <td>215.0</td>\n",
       "      <td>0.0156</td>\n",
       "      <td>technology, enabling, technological, demonstrate, breakthrough, disruptive, enabled, radically, realising, world</td>\n",
       "      <td>290.0</td>\n",
       "      <td>0.0145</td>\n",
       "      <td>brain, connectivity, functional, function, behavioural, neuroimaging, region, cerebral, causal, underlying</td>\n",
       "      <td>217.0</td>\n",
       "      <td>0.0111</td>\n",
       "      <td>training, research, researcher, programme, academic, train, institution, trained, esr, expertise</td>\n",
       "    </tr>\n",
       "  </tbody>\n",
       "</table>\n",
       "</div>"
      ],
      "text/plain": [
       "   Document_No  Topic_Id_1  Topic_Prob_1  \\\n",
       "0            0         0.0        0.0416   \n",
       "1            1       181.0        0.0435   \n",
       "\n",
       "                                                                                                           Topic Keywords  \\\n",
       "0                                         aspect, modern, part, idea, main, goal, practical, proposed, technique, general   \n",
       "1  scientific, community, scientist, knowledge, collaboration, enhance, dissemination, programme, excellence, achievement   \n",
       "\n",
       "   Topic_Id_2  Topic_Prob_2  \\\n",
       "0        86.0        0.0326   \n",
       "1       166.0        0.0162   \n",
       "\n",
       "                                                                                         Topic Keywords  \\\n",
       "0  translation, post, translational, identify, basic, target, profiling, biology, translate, previously   \n",
       "1                       experience, virtual, reality, team, tracking, interactive, phage, ar, vr, sport   \n",
       "\n",
       "   Topic_Id_3  Topic_Prob_3  \\\n",
       "0       181.0        0.0198   \n",
       "1       215.0        0.0156   \n",
       "\n",
       "                                                                                                           Topic Keywords  \\\n",
       "0  scientific, community, scientist, knowledge, collaboration, enhance, dissemination, programme, excellence, achievement   \n",
       "1        technology, enabling, technological, demonstrate, breakthrough, disruptive, enabled, radically, realising, world   \n",
       "\n",
       "   Topic_Id_4  Topic_Prob_4  \\\n",
       "0       231.0        0.0198   \n",
       "1       290.0        0.0145   \n",
       "\n",
       "                                                                                               Topic Keywords  \\\n",
       "0          language, linguistic, semantic, word, meaning, acquisition, reading, text, representation, speaker   \n",
       "1  brain, connectivity, functional, function, behavioural, neuroimaging, region, cerebral, causal, underlying   \n",
       "\n",
       "   Topic_Id_5  Topic_Prob_5  \\\n",
       "0       141.0        0.0173   \n",
       "1       217.0        0.0111   \n",
       "\n",
       "                                                                                     Topic Keywords  \n",
       "0       component, communication, sensing, key, ph, sense, combine, versatile, typically, dedicated  \n",
       "1  training, research, researcher, programme, academic, train, institution, trained, esr, expertise  "
      ]
     },
     "execution_count": 98,
     "metadata": {},
     "output_type": "execute_result"
    }
   ],
   "source": [
    "predict_df.head(2)"
   ]
  },
  {
   "cell_type": "code",
   "execution_count": 88,
   "metadata": {
    "hidden": true,
    "scrolled": true
   },
   "outputs": [],
   "source": [
    "data_df_with_predict = df.merge(predict_df.drop(columns=['Document_No']), left_index=True, right_index=True)\n",
    "# data_df_with_predict.to_excel('../output/optimized_30k_top_5_topics_predictions.xlsx', index=False)"
   ]
  },
  {
   "cell_type": "markdown",
   "metadata": {
    "heading_collapsed": true,
    "hidden": true
   },
   "source": [
    "### Filtered grants prediction"
   ]
  },
  {
   "cell_type": "code",
   "execution_count": 42,
   "metadata": {
    "hidden": true
   },
   "outputs": [
    {
     "name": "stdout",
     "output_type": "stream",
     "text": [
      "13086\n"
     ]
    }
   ],
   "source": [
    "with open('../artefacts/filtered_top_doc_id.pkl', 'rb') as f:\n",
    "    filtered_doc_id = pickle.load(f)\n",
    "\n",
    "print(len(filtered_doc_id))"
   ]
  },
  {
   "cell_type": "code",
   "execution_count": 90,
   "metadata": {
    "hidden": true
   },
   "outputs": [],
   "source": [
    "filtered_data_df_with_predict = data_df_with_predict.iloc[filtered_doc_id]\n",
    "# filtered_data_df_with_predict.to_excel('../output/optimized_13k_top_5_topics_predictions.xlsx', index=False)"
   ]
  },
  {
   "cell_type": "markdown",
   "metadata": {
    "heading_collapsed": true
   },
   "source": [
    "## Topic Distribution"
   ]
  },
  {
   "cell_type": "code",
   "execution_count": 18,
   "metadata": {
    "hidden": true
   },
   "outputs": [
    {
     "data": {
      "text/html": [
       "<div>\n",
       "<style scoped>\n",
       "    .dataframe tbody tr th:only-of-type {\n",
       "        vertical-align: middle;\n",
       "    }\n",
       "\n",
       "    .dataframe tbody tr th {\n",
       "        vertical-align: top;\n",
       "    }\n",
       "\n",
       "    .dataframe thead th {\n",
       "        text-align: right;\n",
       "    }\n",
       "</style>\n",
       "<table border=\"1\" class=\"dataframe\">\n",
       "  <thead>\n",
       "    <tr style=\"text-align: right;\">\n",
       "      <th></th>\n",
       "      <th>Document_No</th>\n",
       "      <th>Dominant_Topic_1</th>\n",
       "      <th>Topic_Prob_1</th>\n",
       "      <th>Topic Keywords</th>\n",
       "      <th>Dominant_Topic_2</th>\n",
       "      <th>Topic_Prob_2</th>\n",
       "      <th>Topic Keywords</th>\n",
       "      <th>Dominant_Topic_3</th>\n",
       "      <th>Topic_Prob_3</th>\n",
       "      <th>Topic Keywords</th>\n",
       "      <th>...</th>\n",
       "      <th>Topic Keywords</th>\n",
       "      <th>Dominant_Topic_8</th>\n",
       "      <th>Topic_Prob_8</th>\n",
       "      <th>Topic Keywords</th>\n",
       "      <th>Dominant_Topic_9</th>\n",
       "      <th>Topic_Prob_9</th>\n",
       "      <th>Topic Keywords</th>\n",
       "      <th>Dominant_Topic_10</th>\n",
       "      <th>Topic_Prob_10</th>\n",
       "      <th>Topic Keywords</th>\n",
       "    </tr>\n",
       "  </thead>\n",
       "  <tbody>\n",
       "    <tr>\n",
       "      <th>0</th>\n",
       "      <td>0</td>\n",
       "      <td>0.0</td>\n",
       "      <td>0.0416</td>\n",
       "      <td>aspect, modern, part, idea, main, goal, practical, proposed, technique, general</td>\n",
       "      <td>86.0</td>\n",
       "      <td>0.0326</td>\n",
       "      <td>translation, post, translational, identify, basic, target, profiling, biology, translate, previously</td>\n",
       "      <td>181.0</td>\n",
       "      <td>0.0198</td>\n",
       "      <td>scientific, community, scientist, knowledge, collaboration, enhance, dissemination, programme, excellence, achievement</td>\n",
       "      <td>...</td>\n",
       "      <td>partner, consortium, industrial, academic, smes, expertise, implement, provided, industry, board</td>\n",
       "      <td>211.0</td>\n",
       "      <td>0.0135</td>\n",
       "      <td>innovative, international, contribute, future, good, aim, leading, profile, providing, multidisciplinary</td>\n",
       "      <td>217.0</td>\n",
       "      <td>0.0130</td>\n",
       "      <td>training, research, researcher, programme, academic, train, institution, trained, esr, expertise</td>\n",
       "      <td>140.0</td>\n",
       "      <td>0.0124</td>\n",
       "      <td>social, society, cooperation, cultural, context, framework, practice, engagement, engage, gender</td>\n",
       "    </tr>\n",
       "    <tr>\n",
       "      <th>1</th>\n",
       "      <td>1</td>\n",
       "      <td>181.0</td>\n",
       "      <td>0.0435</td>\n",
       "      <td>scientific, community, scientist, knowledge, collaboration, enhance, dissemination, programme, excellence, achievement</td>\n",
       "      <td>166.0</td>\n",
       "      <td>0.0162</td>\n",
       "      <td>experience, virtual, reality, team, tracking, interactive, phage, ar, vr, sport</td>\n",
       "      <td>215.0</td>\n",
       "      <td>0.0156</td>\n",
       "      <td>technology, enabling, technological, demonstrate, breakthrough, disruptive, enabled, radically, realising, world</td>\n",
       "      <td>...</td>\n",
       "      <td>software, hardware, code, error, programming, computing, verification, execution, developer, run</td>\n",
       "      <td>211.0</td>\n",
       "      <td>0.0105</td>\n",
       "      <td>innovative, international, contribute, future, good, aim, leading, profile, providing, multidisciplinary</td>\n",
       "      <td>253.0</td>\n",
       "      <td>0.0094</td>\n",
       "      <td>interaction, understanding, understand, investigation, interacting, investigate, fundamentally, explored, interplay, studied</td>\n",
       "      <td>236.0</td>\n",
       "      <td>0.0091</td>\n",
       "      <td>mobility, public, citizen, private, society, urban, crc, city, support, supporting</td>\n",
       "    </tr>\n",
       "    <tr>\n",
       "      <th>2</th>\n",
       "      <td>2</td>\n",
       "      <td>237.0</td>\n",
       "      <td>0.0527</td>\n",
       "      <td>health, intervention, public, country, prevention, effectiveness, setting, fire, income, implementation</td>\n",
       "      <td>182.0</td>\n",
       "      <td>0.0473</td>\n",
       "      <td>policy, stakeholder, sustainable, economic, maker, socio, sustainability, support, actor, framework</td>\n",
       "      <td>176.0</td>\n",
       "      <td>0.0316</td>\n",
       "      <td>outcome, assessment, implementation, evaluate, ass, cns, successful, nervous, facilitate, assessing</td>\n",
       "      <td>...</td>\n",
       "      <td>strategy, major, strain, represent, responsible, ability, tb, spread, escape, combat</td>\n",
       "      <td>102.0</td>\n",
       "      <td>0.0138</td>\n",
       "      <td>scale, large, local, exosomes, multi, exosome, spanning, picture, mesoscale, covering</td>\n",
       "      <td>39.0</td>\n",
       "      <td>0.0125</td>\n",
       "      <td>region, key, transmission, including, integrating, emerging, address, africa, african, fly</td>\n",
       "      <td>188.0</td>\n",
       "      <td>0.0117</td>\n",
       "      <td>impact, major, ass, including, societal, assessed, toolkit, innovative, huge, provide</td>\n",
       "    </tr>\n",
       "  </tbody>\n",
       "</table>\n",
       "<p>3 rows × 31 columns</p>\n",
       "</div>"
      ],
      "text/plain": [
       "   Document_No  Dominant_Topic_1  Topic_Prob_1  \\\n",
       "0            0               0.0        0.0416   \n",
       "1            1             181.0        0.0435   \n",
       "2            2             237.0        0.0527   \n",
       "\n",
       "                                                                                                           Topic Keywords  \\\n",
       "0                                         aspect, modern, part, idea, main, goal, practical, proposed, technique, general   \n",
       "1  scientific, community, scientist, knowledge, collaboration, enhance, dissemination, programme, excellence, achievement   \n",
       "2                 health, intervention, public, country, prevention, effectiveness, setting, fire, income, implementation   \n",
       "\n",
       "   Dominant_Topic_2  Topic_Prob_2  \\\n",
       "0              86.0        0.0326   \n",
       "1             166.0        0.0162   \n",
       "2             182.0        0.0473   \n",
       "\n",
       "                                                                                         Topic Keywords  \\\n",
       "0  translation, post, translational, identify, basic, target, profiling, biology, translate, previously   \n",
       "1                       experience, virtual, reality, team, tracking, interactive, phage, ar, vr, sport   \n",
       "2   policy, stakeholder, sustainable, economic, maker, socio, sustainability, support, actor, framework   \n",
       "\n",
       "   Dominant_Topic_3  Topic_Prob_3  \\\n",
       "0             181.0        0.0198   \n",
       "1             215.0        0.0156   \n",
       "2             176.0        0.0316   \n",
       "\n",
       "                                                                                                           Topic Keywords  \\\n",
       "0  scientific, community, scientist, knowledge, collaboration, enhance, dissemination, programme, excellence, achievement   \n",
       "1        technology, enabling, technological, demonstrate, breakthrough, disruptive, enabled, radically, realising, world   \n",
       "2                     outcome, assessment, implementation, evaluate, ass, cns, successful, nervous, facilitate, assessing   \n",
       "\n",
       "   ...  \\\n",
       "0  ...   \n",
       "1  ...   \n",
       "2  ...   \n",
       "\n",
       "                                                                                     Topic Keywords  \\\n",
       "0  partner, consortium, industrial, academic, smes, expertise, implement, provided, industry, board   \n",
       "1  software, hardware, code, error, programming, computing, verification, execution, developer, run   \n",
       "2              strategy, major, strain, represent, responsible, ability, tb, spread, escape, combat   \n",
       "\n",
       "   Dominant_Topic_8 Topic_Prob_8  \\\n",
       "0             211.0       0.0135   \n",
       "1             211.0       0.0105   \n",
       "2             102.0       0.0138   \n",
       "\n",
       "                                                                                             Topic Keywords  \\\n",
       "0  innovative, international, contribute, future, good, aim, leading, profile, providing, multidisciplinary   \n",
       "1  innovative, international, contribute, future, good, aim, leading, profile, providing, multidisciplinary   \n",
       "2                     scale, large, local, exosomes, multi, exosome, spanning, picture, mesoscale, covering   \n",
       "\n",
       "   Dominant_Topic_9 Topic_Prob_9  \\\n",
       "0             217.0       0.0130   \n",
       "1             253.0       0.0094   \n",
       "2              39.0       0.0125   \n",
       "\n",
       "                                                                                                                 Topic Keywords  \\\n",
       "0                              training, research, researcher, programme, academic, train, institution, trained, esr, expertise   \n",
       "1  interaction, understanding, understand, investigation, interacting, investigate, fundamentally, explored, interplay, studied   \n",
       "2                                    region, key, transmission, including, integrating, emerging, address, africa, african, fly   \n",
       "\n",
       "   Dominant_Topic_10 Topic_Prob_10  \\\n",
       "0              140.0        0.0124   \n",
       "1              236.0        0.0091   \n",
       "2              188.0        0.0117   \n",
       "\n",
       "                                                                                     Topic Keywords  \n",
       "0  social, society, cooperation, cultural, context, framework, practice, engagement, engage, gender  \n",
       "1                mobility, public, citizen, private, society, urban, crc, city, support, supporting  \n",
       "2             impact, major, ass, including, societal, assessed, toolkit, innovative, huge, provide  \n",
       "\n",
       "[3 rows x 31 columns]"
      ]
     },
     "execution_count": 18,
     "metadata": {},
     "output_type": "execute_result"
    }
   ],
   "source": [
    "predict_df.head(3)"
   ]
  },
  {
   "cell_type": "code",
   "execution_count": 30,
   "metadata": {
    "hidden": true
   },
   "outputs": [
    {
     "data": {
      "text/html": [
       "<div>\n",
       "<style scoped>\n",
       "    .dataframe tbody tr th:only-of-type {\n",
       "        vertical-align: middle;\n",
       "    }\n",
       "\n",
       "    .dataframe tbody tr th {\n",
       "        vertical-align: top;\n",
       "    }\n",
       "\n",
       "    .dataframe thead th {\n",
       "        text-align: right;\n",
       "    }\n",
       "</style>\n",
       "<table border=\"1\" class=\"dataframe\">\n",
       "  <thead>\n",
       "    <tr style=\"text-align: right;\">\n",
       "      <th></th>\n",
       "      <th>Topic_Id</th>\n",
       "      <th>Topic_Keywords</th>\n",
       "      <th>top_1_topics</th>\n",
       "      <th>top_2_topics</th>\n",
       "      <th>top_3_topics</th>\n",
       "      <th>top_4_topics</th>\n",
       "      <th>top_5_topics</th>\n",
       "    </tr>\n",
       "  </thead>\n",
       "  <tbody>\n",
       "    <tr>\n",
       "      <th>0</th>\n",
       "      <td>0</td>\n",
       "      <td>aspect, modern, part, idea, main, goal, practical, proposed, technique, general</td>\n",
       "      <td>10.0</td>\n",
       "      <td>52.0</td>\n",
       "      <td>131.0</td>\n",
       "      <td>215.0</td>\n",
       "      <td>302.0</td>\n",
       "    </tr>\n",
       "    <tr>\n",
       "      <th>1</th>\n",
       "      <td>1</td>\n",
       "      <td>life, infant, period, developmental, birth, maternal, pregnancy, mother, baby, born</td>\n",
       "      <td>80.0</td>\n",
       "      <td>136.0</td>\n",
       "      <td>203.0</td>\n",
       "      <td>247.0</td>\n",
       "      <td>299.0</td>\n",
       "    </tr>\n",
       "    <tr>\n",
       "      <th>2</th>\n",
       "      <td>2</td>\n",
       "      <td>cell, differentiation, fate, niche, heterogeneity, lineage, cellular, developmental, progenitor, somatic</td>\n",
       "      <td>73.0</td>\n",
       "      <td>181.0</td>\n",
       "      <td>255.0</td>\n",
       "      <td>332.0</td>\n",
       "      <td>407.0</td>\n",
       "    </tr>\n",
       "    <tr>\n",
       "      <th>3</th>\n",
       "      <td>3</td>\n",
       "      <td>enable, micro, capable, perform, capability, inside, progress, develop, made, patch</td>\n",
       "      <td>25.0</td>\n",
       "      <td>62.0</td>\n",
       "      <td>121.0</td>\n",
       "      <td>179.0</td>\n",
       "      <td>249.0</td>\n",
       "    </tr>\n",
       "    <tr>\n",
       "      <th>4</th>\n",
       "      <td>4</td>\n",
       "      <td>protein, substrate, spectrometry, mass, ubiquitin, proteome, degradation, biochemical, phosphorylation, proteasome</td>\n",
       "      <td>121.0</td>\n",
       "      <td>244.0</td>\n",
       "      <td>371.0</td>\n",
       "      <td>472.0</td>\n",
       "      <td>562.0</td>\n",
       "    </tr>\n",
       "  </tbody>\n",
       "</table>\n",
       "</div>"
      ],
      "text/plain": [
       "   Topic_Id  \\\n",
       "0         0   \n",
       "1         1   \n",
       "2         2   \n",
       "3         3   \n",
       "4         4   \n",
       "\n",
       "                                                                                                       Topic_Keywords  \\\n",
       "0                                     aspect, modern, part, idea, main, goal, practical, proposed, technique, general   \n",
       "1                                 life, infant, period, developmental, birth, maternal, pregnancy, mother, baby, born   \n",
       "2            cell, differentiation, fate, niche, heterogeneity, lineage, cellular, developmental, progenitor, somatic   \n",
       "3                                 enable, micro, capable, perform, capability, inside, progress, develop, made, patch   \n",
       "4  protein, substrate, spectrometry, mass, ubiquitin, proteome, degradation, biochemical, phosphorylation, proteasome   \n",
       "\n",
       "   top_1_topics  top_2_topics  top_3_topics  top_4_topics  top_5_topics  \n",
       "0          10.0          52.0         131.0         215.0         302.0  \n",
       "1          80.0         136.0         203.0         247.0         299.0  \n",
       "2          73.0         181.0         255.0         332.0         407.0  \n",
       "3          25.0          62.0         121.0         179.0         249.0  \n",
       "4         121.0         244.0         371.0         472.0         562.0  "
      ]
     },
     "execution_count": 30,
     "metadata": {},
     "output_type": "execute_result"
    }
   ],
   "source": [
    "get_topics_distribution(optimized_model, predict_df, n_topics=5).head()"
   ]
  },
  {
   "cell_type": "code",
   "execution_count": 115,
   "metadata": {
    "hidden": true
   },
   "outputs": [],
   "source": [
    "get_topics_distribution(optimized_model, predict_df, n_topics=5).to_csv('../output/topics_distribution.csv', index=False)"
   ]
  },
  {
   "cell_type": "markdown",
   "metadata": {
    "heading_collapsed": true
   },
   "source": [
    "## Eyeballing some specific keywords"
   ]
  },
  {
   "cell_type": "code",
   "execution_count": 62,
   "metadata": {
    "hidden": true
   },
   "outputs": [],
   "source": [
    "def display_topic_distribution_statistics(docs: list, predict_df: pd.DataFrame, keyword: str, n_topics, return_fp=False):\n",
    "    print(f'Looking at the top {n_topics} topics that documents are classified under')\n",
    "    print(f'keyword: {keyword}')\n",
    "    keyword_ids = set([id_i for id_i, i in enumerate(docs) if keyword in i])\n",
    "    print(f'number of unique documents with \\'{keyword}\\': {len(keyword_ids)}')\n",
    "    \n",
    "    temp_model = ldamallet.malletmodel2ldamodel(optimized_model)\n",
    "    keywords_topics = get_term_topics(temp_model, filtered_dictionary, keyword)\n",
    "    \n",
    "    if keywords_topics:\n",
    "        for topic_id, topic_prob in keywords_topics:\n",
    "            print(f'topic_id: {topic_id}')\n",
    "            print(f'topic_prob: {topic_prob}')\n",
    "            print('topic:', optimized_model.print_topic(topic_id))\n",
    "\n",
    "            _ = predict_df['Dominant_Topic_1'] == topic_id\n",
    "            for i in range(n_topics):\n",
    "                _ = _ | (predict_df[f'Dominant_Topic_{i+1}'] == topic_id)\n",
    "    \n",
    "            print()\n",
    "            print(f\"Number of unique documents classified under topic: {len(set(predict_df[_].index))}\")\n",
    "        \n",
    "            n_positive = len(keyword_ids)\n",
    "            n_negative = len(predict_df) - len(keyword_ids)\n",
    "            \n",
    "            true_positive = set(predict_df[_].index).intersection(keyword_ids)\n",
    "            false_negative = keyword_ids - set(predict_df[_].index)\n",
    "            false_positive = set(predict_df[_].index) - keyword_ids\n",
    "            \n",
    "            true_positive_rate = round(len(true_positive) / n_positive, 4)\n",
    "            false_negative_rate = round(len(false_negative) / n_positive, 4)\n",
    "            false_positive_rate = round(len(false_positive) / n_negative, 4)\n",
    "            true_negative_rate = round((n_negative - len(false_positive)) / n_negative, 4)\n",
    "            \n",
    "            print(f\"True Positive: {len(true_positive)} / {n_positive} = {true_positive_rate}\")\n",
    "            print(f\"False Negative: {len(false_negative)} / {n_positive} = {false_negative_rate}\")\n",
    "            print(f\"False Positive: {len(false_positive)} / {n_negative} = {false_positive_rate}\")\n",
    "            print(f\"True Negative: {n_negative - len(false_positive)} / {n_negative} = {true_negative_rate}\")\n",
    "            print()\n",
    "            \n",
    "            if return_fp:\n",
    "                return list(false_positive)\n",
    "    else:\n",
    "        print('No topics Found for keyword')"
   ]
  },
  {
   "cell_type": "markdown",
   "metadata": {
    "heading_collapsed": true,
    "hidden": true
   },
   "source": [
    "### Unfiltered 30k grants"
   ]
  },
  {
   "cell_type": "code",
   "execution_count": 32,
   "metadata": {
    "hidden": true
   },
   "outputs": [
    {
     "name": "stdout",
     "output_type": "stream",
     "text": [
      "Looking at the top 5 topics that documents are classified under\n",
      "keyword: crispr\n",
      "number of unique documents with 'crispr': 258\n",
      "topic_id: 139\n",
      "topic_prob: 0.04623544156758605\n",
      "topic: 0.263*\"dna\" + 0.107*\"genome\" + 0.090*\"epigenetic\" + 0.046*\"crispr\" + 0.043*\"repair\" + 0.030*\"editing\" + 0.029*\"histone\" + 0.025*\"cas9\" + 0.023*\"genomic\" + 0.018*\"damage\"\n",
      "\n",
      "Number of unique documents classified under topic: 536\n",
      "True Positive: 107 / 258 = 0.4147\n",
      "False Negative: 151 / 258 = 0.5853\n",
      "False Positive: 429 / 29826 = 0.0144\n",
      "True Negative: 29397 / 29826 = 0.9856\n",
      "\n"
     ]
    }
   ],
   "source": [
    "display_topic_distribution_statistics(docs, predict_df, 'crispr', 5)"
   ]
  },
  {
   "cell_type": "code",
   "execution_count": 33,
   "metadata": {
    "hidden": true
   },
   "outputs": [
    {
     "name": "stdout",
     "output_type": "stream",
     "text": [
      "Looking at the top 3 topics that documents are classified under\n",
      "keyword: crispr\n",
      "number of unique documents with 'crispr': 258\n",
      "topic_id: 139\n",
      "topic_prob: 0.04623544156758605\n",
      "topic: 0.263*\"dna\" + 0.107*\"genome\" + 0.090*\"epigenetic\" + 0.046*\"crispr\" + 0.043*\"repair\" + 0.030*\"editing\" + 0.029*\"histone\" + 0.025*\"cas9\" + 0.023*\"genomic\" + 0.018*\"damage\"\n",
      "\n",
      "Number of unique documents classified under topic: 392\n",
      "True Positive: 75 / 258 = 0.2907\n",
      "False Negative: 183 / 258 = 0.7093\n",
      "False Positive: 317 / 29826 = 0.0106\n",
      "True Negative: 29509 / 29826 = 0.9894\n",
      "\n"
     ]
    }
   ],
   "source": [
    "display_topic_distribution_statistics(docs, predict_df, 'crispr', 3)"
   ]
  },
  {
   "cell_type": "code",
   "execution_count": 34,
   "metadata": {
    "hidden": true
   },
   "outputs": [
    {
     "name": "stdout",
     "output_type": "stream",
     "text": [
      "Looking at the top 2 topics that documents are classified under\n",
      "keyword: crispr\n",
      "number of unique documents with 'crispr': 258\n",
      "topic_id: 139\n",
      "topic_prob: 0.04623544156758605\n",
      "topic: 0.263*\"dna\" + 0.107*\"genome\" + 0.090*\"epigenetic\" + 0.046*\"crispr\" + 0.043*\"repair\" + 0.030*\"editing\" + 0.029*\"histone\" + 0.025*\"cas9\" + 0.023*\"genomic\" + 0.018*\"damage\"\n",
      "\n",
      "Number of unique documents classified under topic: 299\n",
      "True Positive: 60 / 258 = 0.2326\n",
      "False Negative: 198 / 258 = 0.7674\n",
      "False Positive: 239 / 29826 = 0.008\n",
      "True Negative: 29587 / 29826 = 0.992\n",
      "\n"
     ]
    }
   ],
   "source": [
    "display_topic_distribution_statistics(docs, predict_df, 'crispr', 2)"
   ]
  },
  {
   "cell_type": "code",
   "execution_count": 35,
   "metadata": {
    "hidden": true
   },
   "outputs": [
    {
     "name": "stdout",
     "output_type": "stream",
     "text": [
      "Looking at the top 5 topics that documents are classified under\n",
      "keyword: rna\n",
      "number of unique documents with 'rna': 610\n",
      "topic_id: 122\n",
      "topic_prob: 0.23486118551768878\n",
      "topic: 0.235*\"rna\" + 0.061*\"mrna\" + 0.061*\"sequence\" + 0.054*\"coding\" + 0.046*\"nmr\" + 0.023*\"sequencing\" + 0.020*\"splicing\" + 0.017*\"motif\" + 0.014*\"seq\" + 0.013*\"binding\"\n",
      "\n",
      "Number of unique documents classified under topic: 362\n",
      "True Positive: 237 / 610 = 0.3885\n",
      "False Negative: 373 / 610 = 0.6115\n",
      "False Positive: 125 / 29474 = 0.0042\n",
      "True Negative: 29349 / 29474 = 0.9958\n",
      "\n"
     ]
    }
   ],
   "source": [
    "display_topic_distribution_statistics(docs, predict_df, 'rna', 5)"
   ]
  },
  {
   "cell_type": "code",
   "execution_count": 36,
   "metadata": {
    "hidden": true
   },
   "outputs": [
    {
     "name": "stdout",
     "output_type": "stream",
     "text": [
      "Looking at the top 5 topics that documents are classified under\n",
      "keyword: mrna\n",
      "number of unique documents with 'mrna': 168\n",
      "topic_id: 122\n",
      "topic_prob: 0.06070102742422468\n",
      "topic: 0.235*\"rna\" + 0.061*\"mrna\" + 0.061*\"sequence\" + 0.054*\"coding\" + 0.046*\"nmr\" + 0.023*\"sequencing\" + 0.020*\"splicing\" + 0.017*\"motif\" + 0.014*\"seq\" + 0.013*\"binding\"\n",
      "\n",
      "Number of unique documents classified under topic: 362\n",
      "True Positive: 90 / 168 = 0.5357\n",
      "False Negative: 78 / 168 = 0.4643\n",
      "False Positive: 272 / 29916 = 0.0091\n",
      "True Negative: 29644 / 29916 = 0.9909\n",
      "\n"
     ]
    }
   ],
   "source": [
    "display_topic_distribution_statistics(docs, predict_df, 'mrna', 5)"
   ]
  },
  {
   "cell_type": "code",
   "execution_count": 37,
   "metadata": {
    "hidden": true
   },
   "outputs": [
    {
     "name": "stdout",
     "output_type": "stream",
     "text": [
      "Looking at the top 5 topics that documents are classified under\n",
      "keyword: aav\n",
      "number of unique documents with 'aav': 18\n",
      "No topics Found for keyword\n"
     ]
    }
   ],
   "source": [
    "display_topic_distribution_statistics(docs, predict_df, 'aav', 5)"
   ]
  },
  {
   "cell_type": "code",
   "execution_count": 38,
   "metadata": {
    "hidden": true
   },
   "outputs": [
    {
     "name": "stdout",
     "output_type": "stream",
     "text": [
      "Looking at the top 5 topics that documents are classified under\n",
      "keyword: alzheimer\n",
      "number of unique documents with 'alzheimer': 236\n",
      "topic_id: 13\n",
      "topic_prob: 0.025342347922701028\n",
      "topic: 0.152*\"disease\" + 0.129*\"biomarkers\" + 0.117*\"assay\" + 0.086*\"ad\" + 0.083*\"clinical\" + 0.064*\"biomarker\" + 0.045*\"validate\" + 0.037*\"validation\" + 0.025*\"alzheimer\" + 0.025*\"panel\"\n",
      "\n",
      "Number of unique documents classified under topic: 323\n",
      "True Positive: 89 / 236 = 0.3771\n",
      "False Negative: 147 / 236 = 0.6229\n",
      "False Positive: 234 / 29848 = 0.0078\n",
      "True Negative: 29614 / 29848 = 0.9922\n",
      "\n",
      "topic_id: 289\n",
      "topic_prob: 0.018681563217691884\n",
      "topic: 0.240*\"disease\" + 0.088*\"signaling\" + 0.055*\"pathology\" + 0.047*\"al\" + 0.046*\"neurodegenerative\" + 0.030*\"parkinson\" + 0.025*\"therapeutic\" + 0.024*\"aggregation\" + 0.020*\"neurodegeneration\" + 0.019*\"alzheimer\"\n",
      "\n",
      "Number of unique documents classified under topic: 396\n",
      "True Positive: 119 / 236 = 0.5042\n",
      "False Negative: 117 / 236 = 0.4958\n",
      "False Positive: 277 / 29848 = 0.0093\n",
      "True Negative: 29571 / 29848 = 0.9907\n",
      "\n"
     ]
    }
   ],
   "source": [
    "display_topic_distribution_statistics(docs, predict_df, 'alzheimer', 5)"
   ]
  },
  {
   "cell_type": "code",
   "execution_count": 39,
   "metadata": {
    "hidden": true
   },
   "outputs": [
    {
     "name": "stdout",
     "output_type": "stream",
     "text": [
      "Looking at the top 5 topics that documents are classified under\n",
      "keyword: cas9\n",
      "number of unique documents with 'cas9': 164\n",
      "topic_id: 139\n",
      "topic_prob: 0.024471102910912392\n",
      "topic: 0.263*\"dna\" + 0.107*\"genome\" + 0.090*\"epigenetic\" + 0.046*\"crispr\" + 0.043*\"repair\" + 0.030*\"editing\" + 0.029*\"histone\" + 0.025*\"cas9\" + 0.023*\"genomic\" + 0.018*\"damage\"\n",
      "\n",
      "Number of unique documents classified under topic: 536\n",
      "True Positive: 76 / 164 = 0.4634\n",
      "False Negative: 88 / 164 = 0.5366\n",
      "False Positive: 460 / 29920 = 0.0154\n",
      "True Negative: 29460 / 29920 = 0.9846\n",
      "\n"
     ]
    }
   ],
   "source": [
    "display_topic_distribution_statistics(docs, predict_df, 'cas9', 5)"
   ]
  },
  {
   "cell_type": "markdown",
   "metadata": {
    "heading_collapsed": true,
    "hidden": true
   },
   "source": [
    "### Filtered 13K Grants"
   ]
  },
  {
   "cell_type": "code",
   "execution_count": 43,
   "metadata": {
    "hidden": true
   },
   "outputs": [],
   "source": [
    "filtered_predict_df = predict_df.iloc[filtered_doc_id].reset_index(drop=True)"
   ]
  },
  {
   "cell_type": "code",
   "execution_count": 44,
   "metadata": {
    "hidden": true
   },
   "outputs": [
    {
     "name": "stdout",
     "output_type": "stream",
     "text": [
      "Looking at the top 5 topics that documents are classified under\n",
      "keyword: crispr\n",
      "number of unique documents with 'crispr': 246\n",
      "topic_id: 139\n",
      "topic_prob: 0.04623544156758605\n",
      "topic: 0.263*\"dna\" + 0.107*\"genome\" + 0.090*\"epigenetic\" + 0.046*\"crispr\" + 0.043*\"repair\" + 0.030*\"editing\" + 0.029*\"histone\" + 0.025*\"cas9\" + 0.023*\"genomic\" + 0.018*\"damage\"\n",
      "\n",
      "Number of unique documents classified under topic: 487\n",
      "True Positive: 103 / 246 = 0.4187\n",
      "False Negative: 143 / 246 = 0.5813\n",
      "False Positive: 384 / 12840 = 0.0299\n",
      "True Negative: 12456 / 12840 = 0.9701\n",
      "\n"
     ]
    }
   ],
   "source": [
    "display_topic_distribution_statistics(filtered_docs, filtered_predict_df, 'crispr', 5)"
   ]
  },
  {
   "cell_type": "code",
   "execution_count": 45,
   "metadata": {
    "hidden": true
   },
   "outputs": [
    {
     "name": "stdout",
     "output_type": "stream",
     "text": [
      "Looking at the top 10 topics that documents are classified under\n",
      "keyword: crispr\n",
      "number of unique documents with 'crispr': 246\n",
      "topic_id: 139\n",
      "topic_prob: 0.04623544156758605\n",
      "topic: 0.263*\"dna\" + 0.107*\"genome\" + 0.090*\"epigenetic\" + 0.046*\"crispr\" + 0.043*\"repair\" + 0.030*\"editing\" + 0.029*\"histone\" + 0.025*\"cas9\" + 0.023*\"genomic\" + 0.018*\"damage\"\n",
      "\n",
      "Number of unique documents classified under topic: 701\n",
      "True Positive: 144 / 246 = 0.5854\n",
      "False Negative: 102 / 246 = 0.4146\n",
      "False Positive: 557 / 12840 = 0.0434\n",
      "True Negative: 12283 / 12840 = 0.9566\n",
      "\n"
     ]
    }
   ],
   "source": [
    "display_topic_distribution_statistics(filtered_docs, filtered_predict_df, 'crispr', 10)"
   ]
  },
  {
   "cell_type": "code",
   "execution_count": 46,
   "metadata": {
    "hidden": true
   },
   "outputs": [
    {
     "name": "stdout",
     "output_type": "stream",
     "text": [
      "Looking at the top 3 topics that documents are classified under\n",
      "keyword: crispr\n",
      "number of unique documents with 'crispr': 246\n",
      "topic_id: 139\n",
      "topic_prob: 0.04623544156758605\n",
      "topic: 0.263*\"dna\" + 0.107*\"genome\" + 0.090*\"epigenetic\" + 0.046*\"crispr\" + 0.043*\"repair\" + 0.030*\"editing\" + 0.029*\"histone\" + 0.025*\"cas9\" + 0.023*\"genomic\" + 0.018*\"damage\"\n",
      "\n",
      "Number of unique documents classified under topic: 362\n",
      "True Positive: 72 / 246 = 0.2927\n",
      "False Negative: 174 / 246 = 0.7073\n",
      "False Positive: 290 / 12840 = 0.0226\n",
      "True Negative: 12550 / 12840 = 0.9774\n",
      "\n"
     ]
    }
   ],
   "source": [
    "display_topic_distribution_statistics(filtered_docs, filtered_predict_df, 'crispr', 3)"
   ]
  },
  {
   "cell_type": "code",
   "execution_count": 49,
   "metadata": {
    "hidden": true
   },
   "outputs": [
    {
     "name": "stdout",
     "output_type": "stream",
     "text": [
      "Looking at the top 5 topics that documents are classified under\n",
      "keyword: cas9\n",
      "number of unique documents with 'cas9': 158\n",
      "topic_id: 139\n",
      "topic_prob: 0.024471102910912392\n",
      "topic: 0.263*\"dna\" + 0.107*\"genome\" + 0.090*\"epigenetic\" + 0.046*\"crispr\" + 0.043*\"repair\" + 0.030*\"editing\" + 0.029*\"histone\" + 0.025*\"cas9\" + 0.023*\"genomic\" + 0.018*\"damage\"\n",
      "\n",
      "Number of unique documents classified under topic: 487\n",
      "True Positive: 73 / 158 = 0.462\n",
      "False Negative: 85 / 158 = 0.538\n",
      "False Positive: 414 / 12928 = 0.032\n",
      "True Negative: 12514 / 12928 = 0.968\n",
      "\n"
     ]
    }
   ],
   "source": [
    "display_topic_distribution_statistics(filtered_docs, filtered_predict_df, 'cas9', 5)"
   ]
  },
  {
   "cell_type": "code",
   "execution_count": 58,
   "metadata": {
    "hidden": true
   },
   "outputs": [
    {
     "name": "stdout",
     "output_type": "stream",
     "text": [
      "Looking at the top 3 topics that documents are classified under\n",
      "keyword: cas9\n",
      "number of unique documents with 'cas9': 158\n",
      "topic_id: 139\n",
      "topic_prob: 0.024471102910912392\n",
      "topic: 0.263*\"dna\" + 0.107*\"genome\" + 0.090*\"epigenetic\" + 0.046*\"crispr\" + 0.043*\"repair\" + 0.030*\"editing\" + 0.029*\"histone\" + 0.025*\"cas9\" + 0.023*\"genomic\" + 0.018*\"damage\"\n",
      "\n",
      "Number of unique documents classified under topic: 362\n",
      "True Positive: 51 / 158 = 0.3228\n",
      "False Negative: 107 / 158 = 0.6772\n",
      "False Positive: 311 / 12928 = 0.0241\n",
      "True Negative: 12617 / 12928 = 0.9759\n",
      "\n"
     ]
    }
   ],
   "source": [
    "display_topic_distribution_statistics(filtered_docs, filtered_predict_df, 'cas9', 3)"
   ]
  },
  {
   "cell_type": "code",
   "execution_count": 48,
   "metadata": {
    "hidden": true
   },
   "outputs": [
    {
     "name": "stdout",
     "output_type": "stream",
     "text": [
      "Looking at the top 5 topics that documents are classified under\n",
      "keyword: rna\n",
      "number of unique documents with 'rna': 580\n",
      "topic_id: 122\n",
      "topic_prob: 0.23486118551768878\n",
      "topic: 0.235*\"rna\" + 0.061*\"mrna\" + 0.061*\"sequence\" + 0.054*\"coding\" + 0.046*\"nmr\" + 0.023*\"sequencing\" + 0.020*\"splicing\" + 0.017*\"motif\" + 0.014*\"seq\" + 0.013*\"binding\"\n",
      "\n",
      "Number of unique documents classified under topic: 326\n",
      "True Positive: 229 / 580 = 0.3948\n",
      "False Negative: 351 / 580 = 0.6052\n",
      "False Positive: 97 / 12506 = 0.0078\n",
      "True Negative: 12409 / 12506 = 0.9922\n",
      "\n"
     ]
    }
   ],
   "source": [
    "display_topic_distribution_statistics(filtered_docs, filtered_predict_df, 'rna', 5)"
   ]
  },
  {
   "cell_type": "markdown",
   "metadata": {
    "heading_collapsed": true,
    "hidden": true
   },
   "source": [
    "### Examining False Positives"
   ]
  },
  {
   "cell_type": "markdown",
   "metadata": {
    "hidden": true
   },
   "source": [
    "#### `cas9`"
   ]
  },
  {
   "cell_type": "code",
   "execution_count": 115,
   "metadata": {
    "hidden": true
   },
   "outputs": [
    {
     "name": "stdout",
     "output_type": "stream",
     "text": [
      "Looking at the top 3 topics that documents are classified under\n",
      "keyword: cas9\n",
      "number of unique documents with 'cas9': 158\n",
      "topic_id: 139\n",
      "topic_prob: 0.024471102910912392\n",
      "topic: 0.263*\"dna\" + 0.107*\"genome\" + 0.090*\"epigenetic\" + 0.046*\"crispr\" + 0.043*\"repair\" + 0.030*\"editing\" + 0.029*\"histone\" + 0.025*\"cas9\" + 0.023*\"genomic\" + 0.018*\"damage\"\n",
      "\n",
      "Number of unique documents classified under topic: 362\n",
      "True Positive: 51 / 158 = 0.3228\n",
      "False Negative: 107 / 158 = 0.6772\n",
      "False Positive: 311 / 12928 = 0.0241\n",
      "True Negative: 12617 / 12928 = 0.9759\n",
      "\n"
     ]
    }
   ],
   "source": [
    "false_positives = display_topic_distribution_statistics(filtered_docs, filtered_predict_df, 'cas9', 3, return_fp=True)"
   ]
  },
  {
   "cell_type": "code",
   "execution_count": 116,
   "metadata": {
    "hidden": true
   },
   "outputs": [
    {
     "data": {
      "text/plain": [
       "311"
      ]
     },
     "execution_count": 116,
     "metadata": {},
     "output_type": "execute_result"
    }
   ],
   "source": [
    "len(false_positives)"
   ]
  },
  {
   "cell_type": "code",
   "execution_count": 118,
   "metadata": {
    "hidden": true,
    "scrolled": true
   },
   "outputs": [
    {
     "name": "stdout",
     "output_type": "stream",
     "text": [
      "random_id 2185\n",
      "Is keyword in document: False\n",
      "\n"
     ]
    },
    {
     "data": {
      "text/html": [
       "<div>\n",
       "<style scoped>\n",
       "    .dataframe tbody tr th:only-of-type {\n",
       "        vertical-align: middle;\n",
       "    }\n",
       "\n",
       "    .dataframe tbody tr th {\n",
       "        vertical-align: top;\n",
       "    }\n",
       "\n",
       "    .dataframe thead th {\n",
       "        text-align: right;\n",
       "    }\n",
       "</style>\n",
       "<table border=\"1\" class=\"dataframe\">\n",
       "  <thead>\n",
       "    <tr style=\"text-align: right;\">\n",
       "      <th></th>\n",
       "      <th>5207</th>\n",
       "    </tr>\n",
       "  </thead>\n",
       "  <tbody>\n",
       "    <tr>\n",
       "      <th>rcn</th>\n",
       "      <td>222128</td>\n",
       "    </tr>\n",
       "    <tr>\n",
       "      <th>id</th>\n",
       "      <td>839440</td>\n",
       "    </tr>\n",
       "    <tr>\n",
       "      <th>acronym</th>\n",
       "      <td>EPIOBESITY</td>\n",
       "    </tr>\n",
       "    <tr>\n",
       "      <th>status</th>\n",
       "      <td>TERMINATED</td>\n",
       "    </tr>\n",
       "    <tr>\n",
       "      <th>programme</th>\n",
       "      <td>H2020-EU.1.3.2.</td>\n",
       "    </tr>\n",
       "    <tr>\n",
       "      <th>topics</th>\n",
       "      <td>MSCA-IF-2018</td>\n",
       "    </tr>\n",
       "    <tr>\n",
       "      <th>frameworkProgramme</th>\n",
       "      <td>H2020</td>\n",
       "    </tr>\n",
       "    <tr>\n",
       "      <th>title</th>\n",
       "      <td>Unravelling the hypothalamic epigenetic code behind obesity.</td>\n",
       "    </tr>\n",
       "    <tr>\n",
       "      <th>startDate</th>\n",
       "      <td>2020-01-01</td>\n",
       "    </tr>\n",
       "    <tr>\n",
       "      <th>endDate</th>\n",
       "      <td>2021-12-31</td>\n",
       "    </tr>\n",
       "    <tr>\n",
       "      <th>projectUrl</th>\n",
       "      <td>NaN</td>\n",
       "    </tr>\n",
       "    <tr>\n",
       "      <th>objective</th>\n",
       "      <td>Despite titanic social and scientific efforts, rates of obesity continue to increase in Europe. Unfortunately, safe and effective treatments are currently unavailable. Obesity is a multifactorial disease that is largely the consequence of enigmatic and complex genetic-environmental interactions. Evidence suggests that the prevalent western-diet triggers epigenetic changes that contribute to the current obesity epidemics. Hypothalamic proopiomelanocortin (POMC)-expressing neurons are crucial elements of energy balance, and its dysfunction cause severe obesity in experimental models and humans. Our hypothesis is that over nutrition causes epigenetic changes in POMC neurons that in turn lead to dysregulated energy homeostasis and obesity. The objective of this proposal is to establish for the first time a genome-wide epigenetic map of POMC neurons in the context of over nutrition during adulthood and fetal programming. To pursue this aim we will use an innovative cell-specific in vivo strategy to tag and reliably isolate POMC neurons, followed by next generation sequencing to evaluate chromatin accessibility and histone marks distribution across the genome. As a result, we will provide a novel framework for understanding the underlying epigenetic signatures related with obesity development and susceptibility. Hence, this project is in line with the Horizon 2020 Framework for improving our knowledge of the causes underlying a disease. Furthermore, the outcomes of this project may have potential therapeutic implications for the treatment of obesity since most epigenetic marks are reversible and therefore potentially targetable. The multidisciplinary nature of the project is strong, involving a combination of genetic engineering techniques, molecular biology and bioinformatics. This proposal includes the transfer of knowledge to the host institution and the training of the candidate in new techniques and transferable skills.</td>\n",
       "    </tr>\n",
       "    <tr>\n",
       "      <th>totalCost</th>\n",
       "      <td>160932</td>\n",
       "    </tr>\n",
       "    <tr>\n",
       "      <th>ecMaxContribution</th>\n",
       "      <td>160932</td>\n",
       "    </tr>\n",
       "    <tr>\n",
       "      <th>call</th>\n",
       "      <td>H2020-MSCA-IF-2018</td>\n",
       "    </tr>\n",
       "    <tr>\n",
       "      <th>fundingScheme</th>\n",
       "      <td>MSCA-IF-EF-ST</td>\n",
       "    </tr>\n",
       "    <tr>\n",
       "      <th>coordinator</th>\n",
       "      <td>CONSORCI INSTITUT D'INVESTIGACIONS BIOMEDIQUES AUGUST PI I SUNYER</td>\n",
       "    </tr>\n",
       "    <tr>\n",
       "      <th>coordinatorCountry</th>\n",
       "      <td>ES</td>\n",
       "    </tr>\n",
       "    <tr>\n",
       "      <th>participants</th>\n",
       "      <td>NaN</td>\n",
       "    </tr>\n",
       "    <tr>\n",
       "      <th>participantCountries</th>\n",
       "      <td>NaN</td>\n",
       "    </tr>\n",
       "    <tr>\n",
       "      <th>subjects</th>\n",
       "      <td>NaN</td>\n",
       "    </tr>\n",
       "    <tr>\n",
       "      <th>Dominant_Topic_1</th>\n",
       "      <td>151</td>\n",
       "    </tr>\n",
       "    <tr>\n",
       "      <th>Topic_Prob_1</th>\n",
       "      <td>0.0328</td>\n",
       "    </tr>\n",
       "    <tr>\n",
       "      <th>Topic Keywords</th>\n",
       "      <td>diabetes, obesity, glucose, insulin, type, diabetic, diet, weight, lifestyle, t2d</td>\n",
       "    </tr>\n",
       "    <tr>\n",
       "      <th>Dominant_Topic_2</th>\n",
       "      <td>139</td>\n",
       "    </tr>\n",
       "    <tr>\n",
       "      <th>Topic_Prob_2</th>\n",
       "      <td>0.0272</td>\n",
       "    </tr>\n",
       "    <tr>\n",
       "      <th>Topic Keywords</th>\n",
       "      <td>dna, genome, epigenetic, crispr, repair, editing, histone, cas9, genomic, damage</td>\n",
       "    </tr>\n",
       "    <tr>\n",
       "      <th>Dominant_Topic_3</th>\n",
       "      <td>256</td>\n",
       "    </tr>\n",
       "    <tr>\n",
       "      <th>Topic_Prob_3</th>\n",
       "      <td>0.0133</td>\n",
       "    </tr>\n",
       "    <tr>\n",
       "      <th>Topic Keywords</th>\n",
       "      <td>treatment, effective, plasma, option, severe, treat, worldwide, dose, treating, efficacy</td>\n",
       "    </tr>\n",
       "    <tr>\n",
       "      <th>Dominant_Topic_4</th>\n",
       "      <td>75</td>\n",
       "    </tr>\n",
       "    <tr>\n",
       "      <th>Topic_Prob_4</th>\n",
       "      <td>0.013</td>\n",
       "    </tr>\n",
       "    <tr>\n",
       "      <th>Topic Keywords</th>\n",
       "      <td>circuit, neuronal, neuron, synaptic, plasticity, function, synapsis, calcium, cortical, synapse</td>\n",
       "    </tr>\n",
       "    <tr>\n",
       "      <th>Dominant_Topic_5</th>\n",
       "      <td>38</td>\n",
       "    </tr>\n",
       "    <tr>\n",
       "      <th>Topic_Prob_5</th>\n",
       "      <td>0.0121</td>\n",
       "    </tr>\n",
       "    <tr>\n",
       "      <th>Topic Keywords</th>\n",
       "      <td>modification, methylation, mapping, recently, aim, fine, discovered, specific, change, proposal</td>\n",
       "    </tr>\n",
       "    <tr>\n",
       "      <th>Dominant_Topic_6</th>\n",
       "      <td>23</td>\n",
       "    </tr>\n",
       "    <tr>\n",
       "      <th>Topic_Prob_6</th>\n",
       "      <td>0.0119</td>\n",
       "    </tr>\n",
       "    <tr>\n",
       "      <th>Topic Keywords</th>\n",
       "      <td>factor, chromatin, transcription, identity, hypothesis, unknown, determinant, define, understanding, inheritance</td>\n",
       "    </tr>\n",
       "    <tr>\n",
       "      <th>Dominant_Topic_7</th>\n",
       "      <td>193</td>\n",
       "    </tr>\n",
       "    <tr>\n",
       "      <th>Topic_Prob_7</th>\n",
       "      <td>0.0099</td>\n",
       "    </tr>\n",
       "    <tr>\n",
       "      <th>Topic Keywords</th>\n",
       "      <td>skill, career, fellowship, expertise, applicant, expert, fellow, training, collaboration, interdisciplinary</td>\n",
       "    </tr>\n",
       "    <tr>\n",
       "      <th>Dominant_Topic_8</th>\n",
       "      <td>78</td>\n",
       "    </tr>\n",
       "    <tr>\n",
       "      <th>Topic_Prob_8</th>\n",
       "      <td>0.0082</td>\n",
       "    </tr>\n",
       "    <tr>\n",
       "      <th>Topic Keywords</th>\n",
       "      <td>knowledge, research, acquired, acquire, gained, lack, multidisciplinary, greatly, apply, bike</td>\n",
       "    </tr>\n",
       "    <tr>\n",
       "      <th>Dominant_Topic_9</th>\n",
       "      <td>61</td>\n",
       "    </tr>\n",
       "    <tr>\n",
       "      <th>Topic_Prob_9</th>\n",
       "      <td>0.0074</td>\n",
       "    </tr>\n",
       "    <tr>\n",
       "      <th>Topic Keywords</th>\n",
       "      <td>barrier, effort, leading, center, choice, strong, resulting, promising, build, potentially</td>\n",
       "    </tr>\n",
       "    <tr>\n",
       "      <th>Dominant_Topic_10</th>\n",
       "      <td>121</td>\n",
       "    </tr>\n",
       "    <tr>\n",
       "      <th>Topic_Prob_10</th>\n",
       "      <td>0.0074</td>\n",
       "    </tr>\n",
       "    <tr>\n",
       "      <th>Topic Keywords</th>\n",
       "      <td>change, climate, environmental, global, soil, resilience, changing, land, scenario, eco</td>\n",
       "    </tr>\n",
       "  </tbody>\n",
       "</table>\n",
       "</div>"
      ],
      "text/plain": [
       "                                                                                                                                                                                                                                                                                                                                                                                                                                                                                                                                                                                                                                                                                                                                                                                                                                                                                                                                                                                                                                                                                                                                                                                                                                                                                                                                                                                                                                                                                                                                                                                                                                                                                                                                                                                                                                                                                                                                                                                                                                                  5207\n",
       "rcn                                                                                                                                                                                                                                                                                                                                                                                                                                                                                                                                                                                                                                                                                                                                                                                                                                                                                                                                                                                                                                                                                                                                                                                                                                                                                                                                                                                                                                                                                                                                                                                                                                                                                                                                                                                                                                                                                                                                                                                                                                             222128\n",
       "id                                                                                                                                                                                                                                                                                                                                                                                                                                                                                                                                                                                                                                                                                                                                                                                                                                                                                                                                                                                                                                                                                                                                                                                                                                                                                                                                                                                                                                                                                                                                                                                                                                                                                                                                                                                                                                                                                                                                                                                                                                              839440\n",
       "acronym                                                                                                                                                                                                                                                                                                                                                                                                                                                                                                                                                                                                                                                                                                                                                                                                                                                                                                                                                                                                                                                                                                                                                                                                                                                                                                                                                                                                                                                                                                                                                                                                                                                                                                                                                                                                                                                                                                                                                                                                                                     EPIOBESITY\n",
       "status                                                                                                                                                                                                                                                                                                                                                                                                                                                                                                                                                                                                                                                                                                                                                                                                                                                                                                                                                                                                                                                                                                                                                                                                                                                                                                                                                                                                                                                                                                                                                                                                                                                                                                                                                                                                                                                                                                                                                                                                                                      TERMINATED\n",
       "programme                                                                                                                                                                                                                                                                                                                                                                                                                                                                                                                                                                                                                                                                                                                                                                                                                                                                                                                                                                                                                                                                                                                                                                                                                                                                                                                                                                                                                                                                                                                                                                                                                                                                                                                                                                                                                                                                                                                                                                                                                              H2020-EU.1.3.2.\n",
       "topics                                                                                                                                                                                                                                                                                                                                                                                                                                                                                                                                                                                                                                                                                                                                                                                                                                                                                                                                                                                                                                                                                                                                                                                                                                                                                                                                                                                                                                                                                                                                                                                                                                                                                                                                                                                                                                                                                                                                                                                                                                    MSCA-IF-2018\n",
       "frameworkProgramme                                                                                                                                                                                                                                                                                                                                                                                                                                                                                                                                                                                                                                                                                                                                                                                                                                                                                                                                                                                                                                                                                                                                                                                                                                                                                                                                                                                                                                                                                                                                                                                                                                                                                                                                                                                                                                                                                                                                                                                                                               H2020\n",
       "title                                                                                                                                                                                                                                                                                                                                                                                                                                                                                                                                                                                                                                                                                                                                                                                                                                                                                                                                                                                                                                                                                                                                                                                                                                                                                                                                                                                                                                                                                                                                                                                                                                                                                                                                                                                                                                                                                                                                                                                     Unravelling the hypothalamic epigenetic code behind obesity.\n",
       "startDate                                                                                                                                                                                                                                                                                                                                                                                                                                                                                                                                                                                                                                                                                                                                                                                                                                                                                                                                                                                                                                                                                                                                                                                                                                                                                                                                                                                                                                                                                                                                                                                                                                                                                                                                                                                                                                                                                                                                                                                                                                   2020-01-01\n",
       "endDate                                                                                                                                                                                                                                                                                                                                                                                                                                                                                                                                                                                                                                                                                                                                                                                                                                                                                                                                                                                                                                                                                                                                                                                                                                                                                                                                                                                                                                                                                                                                                                                                                                                                                                                                                                                                                                                                                                                                                                                                                                     2021-12-31\n",
       "projectUrl                                                                                                                                                                                                                                                                                                                                                                                                                                                                                                                                                                                                                                                                                                                                                                                                                                                                                                                                                                                                                                                                                                                                                                                                                                                                                                                                                                                                                                                                                                                                                                                                                                                                                                                                                                                                                                                                                                                                                                                                                                         NaN\n",
       "objective             Despite titanic social and scientific efforts, rates of obesity continue to increase in Europe. Unfortunately, safe and effective treatments are currently unavailable. Obesity is a multifactorial disease that is largely the consequence of enigmatic and complex genetic-environmental interactions. Evidence suggests that the prevalent western-diet triggers epigenetic changes that contribute to the current obesity epidemics. Hypothalamic proopiomelanocortin (POMC)-expressing neurons are crucial elements of energy balance, and its dysfunction cause severe obesity in experimental models and humans. Our hypothesis is that over nutrition causes epigenetic changes in POMC neurons that in turn lead to dysregulated energy homeostasis and obesity. The objective of this proposal is to establish for the first time a genome-wide epigenetic map of POMC neurons in the context of over nutrition during adulthood and fetal programming. To pursue this aim we will use an innovative cell-specific in vivo strategy to tag and reliably isolate POMC neurons, followed by next generation sequencing to evaluate chromatin accessibility and histone marks distribution across the genome. As a result, we will provide a novel framework for understanding the underlying epigenetic signatures related with obesity development and susceptibility. Hence, this project is in line with the Horizon 2020 Framework for improving our knowledge of the causes underlying a disease. Furthermore, the outcomes of this project may have potential therapeutic implications for the treatment of obesity since most epigenetic marks are reversible and therefore potentially targetable. The multidisciplinary nature of the project is strong, involving a combination of genetic engineering techniques, molecular biology and bioinformatics. This proposal includes the transfer of knowledge to the host institution and the training of the candidate in new techniques and transferable skills.\n",
       "totalCost                                                                                                                                                                                                                                                                                                                                                                                                                                                                                                                                                                                                                                                                                                                                                                                                                                                                                                                                                                                                                                                                                                                                                                                                                                                                                                                                                                                                                                                                                                                                                                                                                                                                                                                                                                                                                                                                                                                                                                                                                                       160932\n",
       "ecMaxContribution                                                                                                                                                                                                                                                                                                                                                                                                                                                                                                                                                                                                                                                                                                                                                                                                                                                                                                                                                                                                                                                                                                                                                                                                                                                                                                                                                                                                                                                                                                                                                                                                                                                                                                                                                                                                                                                                                                                                                                                                                               160932\n",
       "call                                                                                                                                                                                                                                                                                                                                                                                                                                                                                                                                                                                                                                                                                                                                                                                                                                                                                                                                                                                                                                                                                                                                                                                                                                                                                                                                                                                                                                                                                                                                                                                                                                                                                                                                                                                                                                                                                                                                                                                                                                H2020-MSCA-IF-2018\n",
       "fundingScheme                                                                                                                                                                                                                                                                                                                                                                                                                                                                                                                                                                                                                                                                                                                                                                                                                                                                                                                                                                                                                                                                                                                                                                                                                                                                                                                                                                                                                                                                                                                                                                                                                                                                                                                                                                                                                                                                                                                                                                                                                            MSCA-IF-EF-ST\n",
       "coordinator                                                                                                                                                                                                                                                                                                                                                                                                                                                                                                                                                                                                                                                                                                                                                                                                                                                                                                                                                                                                                                                                                                                                                                                                                                                                                                                                                                                                                                                                                                                                                                                                                                                                                                                                                                                                                                                                                                                                                                          CONSORCI INSTITUT D'INVESTIGACIONS BIOMEDIQUES AUGUST PI I SUNYER\n",
       "coordinatorCountry                                                                                                                                                                                                                                                                                                                                                                                                                                                                                                                                                                                                                                                                                                                                                                                                                                                                                                                                                                                                                                                                                                                                                                                                                                                                                                                                                                                                                                                                                                                                                                                                                                                                                                                                                                                                                                                                                                                                                                                                                                  ES\n",
       "participants                                                                                                                                                                                                                                                                                                                                                                                                                                                                                                                                                                                                                                                                                                                                                                                                                                                                                                                                                                                                                                                                                                                                                                                                                                                                                                                                                                                                                                                                                                                                                                                                                                                                                                                                                                                                                                                                                                                                                                                                                                       NaN\n",
       "participantCountries                                                                                                                                                                                                                                                                                                                                                                                                                                                                                                                                                                                                                                                                                                                                                                                                                                                                                                                                                                                                                                                                                                                                                                                                                                                                                                                                                                                                                                                                                                                                                                                                                                                                                                                                                                                                                                                                                                                                                                                                                               NaN\n",
       "subjects                                                                                                                                                                                                                                                                                                                                                                                                                                                                                                                                                                                                                                                                                                                                                                                                                                                                                                                                                                                                                                                                                                                                                                                                                                                                                                                                                                                                                                                                                                                                                                                                                                                                                                                                                                                                                                                                                                                                                                                                                                           NaN\n",
       "Dominant_Topic_1                                                                                                                                                                                                                                                                                                                                                                                                                                                                                                                                                                                                                                                                                                                                                                                                                                                                                                                                                                                                                                                                                                                                                                                                                                                                                                                                                                                                                                                                                                                                                                                                                                                                                                                                                                                                                                                                                                                                                                                                                                   151\n",
       "Topic_Prob_1                                                                                                                                                                                                                                                                                                                                                                                                                                                                                                                                                                                                                                                                                                                                                                                                                                                                                                                                                                                                                                                                                                                                                                                                                                                                                                                                                                                                                                                                                                                                                                                                                                                                                                                                                                                                                                                                                                                                                                                                                                    0.0328\n",
       "Topic Keywords                                                                                                                                                                                                                                                                                                                                                                                                                                                                                                                                                                                                                                                                                                                                                                                                                                                                                                                                                                                                                                                                                                                                                                                                                                                                                                                                                                                                                                                                                                                                                                                                                                                                                                                                                                                                                                                                                                                                                       diabetes, obesity, glucose, insulin, type, diabetic, diet, weight, lifestyle, t2d\n",
       "Dominant_Topic_2                                                                                                                                                                                                                                                                                                                                                                                                                                                                                                                                                                                                                                                                                                                                                                                                                                                                                                                                                                                                                                                                                                                                                                                                                                                                                                                                                                                                                                                                                                                                                                                                                                                                                                                                                                                                                                                                                                                                                                                                                                   139\n",
       "Topic_Prob_2                                                                                                                                                                                                                                                                                                                                                                                                                                                                                                                                                                                                                                                                                                                                                                                                                                                                                                                                                                                                                                                                                                                                                                                                                                                                                                                                                                                                                                                                                                                                                                                                                                                                                                                                                                                                                                                                                                                                                                                                                                    0.0272\n",
       "Topic Keywords                                                                                                                                                                                                                                                                                                                                                                                                                                                                                                                                                                                                                                                                                                                                                                                                                                                                                                                                                                                                                                                                                                                                                                                                                                                                                                                                                                                                                                                                                                                                                                                                                                                                                                                                                                                                                                                                                                                                                        dna, genome, epigenetic, crispr, repair, editing, histone, cas9, genomic, damage\n",
       "Dominant_Topic_3                                                                                                                                                                                                                                                                                                                                                                                                                                                                                                                                                                                                                                                                                                                                                                                                                                                                                                                                                                                                                                                                                                                                                                                                                                                                                                                                                                                                                                                                                                                                                                                                                                                                                                                                                                                                                                                                                                                                                                                                                                   256\n",
       "Topic_Prob_3                                                                                                                                                                                                                                                                                                                                                                                                                                                                                                                                                                                                                                                                                                                                                                                                                                                                                                                                                                                                                                                                                                                                                                                                                                                                                                                                                                                                                                                                                                                                                                                                                                                                                                                                                                                                                                                                                                                                                                                                                                    0.0133\n",
       "Topic Keywords                                                                                                                                                                                                                                                                                                                                                                                                                                                                                                                                                                                                                                                                                                                                                                                                                                                                                                                                                                                                                                                                                                                                                                                                                                                                                                                                                                                                                                                                                                                                                                                                                                                                                                                                                                                                                                                                                                                                                treatment, effective, plasma, option, severe, treat, worldwide, dose, treating, efficacy\n",
       "Dominant_Topic_4                                                                                                                                                                                                                                                                                                                                                                                                                                                                                                                                                                                                                                                                                                                                                                                                                                                                                                                                                                                                                                                                                                                                                                                                                                                                                                                                                                                                                                                                                                                                                                                                                                                                                                                                                                                                                                                                                                                                                                                                                                    75\n",
       "Topic_Prob_4                                                                                                                                                                                                                                                                                                                                                                                                                                                                                                                                                                                                                                                                                                                                                                                                                                                                                                                                                                                                                                                                                                                                                                                                                                                                                                                                                                                                                                                                                                                                                                                                                                                                                                                                                                                                                                                                                                                                                                                                                                     0.013\n",
       "Topic Keywords                                                                                                                                                                                                                                                                                                                                                                                                                                                                                                                                                                                                                                                                                                                                                                                                                                                                                                                                                                                                                                                                                                                                                                                                                                                                                                                                                                                                                                                                                                                                                                                                                                                                                                                                                                                                                                                                                                                                         circuit, neuronal, neuron, synaptic, plasticity, function, synapsis, calcium, cortical, synapse\n",
       "Dominant_Topic_5                                                                                                                                                                                                                                                                                                                                                                                                                                                                                                                                                                                                                                                                                                                                                                                                                                                                                                                                                                                                                                                                                                                                                                                                                                                                                                                                                                                                                                                                                                                                                                                                                                                                                                                                                                                                                                                                                                                                                                                                                                    38\n",
       "Topic_Prob_5                                                                                                                                                                                                                                                                                                                                                                                                                                                                                                                                                                                                                                                                                                                                                                                                                                                                                                                                                                                                                                                                                                                                                                                                                                                                                                                                                                                                                                                                                                                                                                                                                                                                                                                                                                                                                                                                                                                                                                                                                                    0.0121\n",
       "Topic Keywords                                                                                                                                                                                                                                                                                                                                                                                                                                                                                                                                                                                                                                                                                                                                                                                                                                                                                                                                                                                                                                                                                                                                                                                                                                                                                                                                                                                                                                                                                                                                                                                                                                                                                                                                                                                                                                                                                                                                         modification, methylation, mapping, recently, aim, fine, discovered, specific, change, proposal\n",
       "Dominant_Topic_6                                                                                                                                                                                                                                                                                                                                                                                                                                                                                                                                                                                                                                                                                                                                                                                                                                                                                                                                                                                                                                                                                                                                                                                                                                                                                                                                                                                                                                                                                                                                                                                                                                                                                                                                                                                                                                                                                                                                                                                                                                    23\n",
       "Topic_Prob_6                                                                                                                                                                                                                                                                                                                                                                                                                                                                                                                                                                                                                                                                                                                                                                                                                                                                                                                                                                                                                                                                                                                                                                                                                                                                                                                                                                                                                                                                                                                                                                                                                                                                                                                                                                                                                                                                                                                                                                                                                                    0.0119\n",
       "Topic Keywords                                                                                                                                                                                                                                                                                                                                                                                                                                                                                                                                                                                                                                                                                                                                                                                                                                                                                                                                                                                                                                                                                                                                                                                                                                                                                                                                                                                                                                                                                                                                                                                                                                                                                                                                                                                                                                                                                                                        factor, chromatin, transcription, identity, hypothesis, unknown, determinant, define, understanding, inheritance\n",
       "Dominant_Topic_7                                                                                                                                                                                                                                                                                                                                                                                                                                                                                                                                                                                                                                                                                                                                                                                                                                                                                                                                                                                                                                                                                                                                                                                                                                                                                                                                                                                                                                                                                                                                                                                                                                                                                                                                                                                                                                                                                                                                                                                                                                   193\n",
       "Topic_Prob_7                                                                                                                                                                                                                                                                                                                                                                                                                                                                                                                                                                                                                                                                                                                                                                                                                                                                                                                                                                                                                                                                                                                                                                                                                                                                                                                                                                                                                                                                                                                                                                                                                                                                                                                                                                                                                                                                                                                                                                                                                                    0.0099\n",
       "Topic Keywords                                                                                                                                                                                                                                                                                                                                                                                                                                                                                                                                                                                                                                                                                                                                                                                                                                                                                                                                                                                                                                                                                                                                                                                                                                                                                                                                                                                                                                                                                                                                                                                                                                                                                                                                                                                                                                                                                                                             skill, career, fellowship, expertise, applicant, expert, fellow, training, collaboration, interdisciplinary\n",
       "Dominant_Topic_8                                                                                                                                                                                                                                                                                                                                                                                                                                                                                                                                                                                                                                                                                                                                                                                                                                                                                                                                                                                                                                                                                                                                                                                                                                                                                                                                                                                                                                                                                                                                                                                                                                                                                                                                                                                                                                                                                                                                                                                                                                    78\n",
       "Topic_Prob_8                                                                                                                                                                                                                                                                                                                                                                                                                                                                                                                                                                                                                                                                                                                                                                                                                                                                                                                                                                                                                                                                                                                                                                                                                                                                                                                                                                                                                                                                                                                                                                                                                                                                                                                                                                                                                                                                                                                                                                                                                                    0.0082\n",
       "Topic Keywords                                                                                                                                                                                                                                                                                                                                                                                                                                                                                                                                                                                                                                                                                                                                                                                                                                                                                                                                                                                                                                                                                                                                                                                                                                                                                                                                                                                                                                                                                                                                                                                                                                                                                                                                                                                                                                                                                                                                           knowledge, research, acquired, acquire, gained, lack, multidisciplinary, greatly, apply, bike\n",
       "Dominant_Topic_9                                                                                                                                                                                                                                                                                                                                                                                                                                                                                                                                                                                                                                                                                                                                                                                                                                                                                                                                                                                                                                                                                                                                                                                                                                                                                                                                                                                                                                                                                                                                                                                                                                                                                                                                                                                                                                                                                                                                                                                                                                    61\n",
       "Topic_Prob_9                                                                                                                                                                                                                                                                                                                                                                                                                                                                                                                                                                                                                                                                                                                                                                                                                                                                                                                                                                                                                                                                                                                                                                                                                                                                                                                                                                                                                                                                                                                                                                                                                                                                                                                                                                                                                                                                                                                                                                                                                                    0.0074\n",
       "Topic Keywords                                                                                                                                                                                                                                                                                                                                                                                                                                                                                                                                                                                                                                                                                                                                                                                                                                                                                                                                                                                                                                                                                                                                                                                                                                                                                                                                                                                                                                                                                                                                                                                                                                                                                                                                                                                                                                                                                                                                              barrier, effort, leading, center, choice, strong, resulting, promising, build, potentially\n",
       "Dominant_Topic_10                                                                                                                                                                                                                                                                                                                                                                                                                                                                                                                                                                                                                                                                                                                                                                                                                                                                                                                                                                                                                                                                                                                                                                                                                                                                                                                                                                                                                                                                                                                                                                                                                                                                                                                                                                                                                                                                                                                                                                                                                                  121\n",
       "Topic_Prob_10                                                                                                                                                                                                                                                                                                                                                                                                                                                                                                                                                                                                                                                                                                                                                                                                                                                                                                                                                                                                                                                                                                                                                                                                                                                                                                                                                                                                                                                                                                                                                                                                                                                                                                                                                                                                                                                                                                                                                                                                                                   0.0074\n",
       "Topic Keywords                                                                                                                                                                                                                                                                                                                                                                                                                                                                                                                                                                                                                                                                                                                                                                                                                                                                                                                                                                                                                                                                                                                                                                                                                                                                                                                                                                                                                                                                                                                                                                                                                                                                                                                                                                                                                                                                                                                                                 change, climate, environmental, global, soil, resilience, changing, land, scenario, eco"
      ]
     },
     "execution_count": 118,
     "metadata": {},
     "output_type": "execute_result"
    }
   ],
   "source": [
    "random_id = sample(false_positives, 1)[0]\n",
    "print('random_id', random_id)\n",
    "\n",
    "print('Is keyword in document:', 'cas9' in filtered_docs[random_id])\n",
    "print()\n",
    "\n",
    "# print(' '.join(filtered_docs[random_id]))\n",
    "filtered_data_df_with_predict.iloc[[random_id]].T"
   ]
  },
  {
   "cell_type": "markdown",
   "metadata": {
    "hidden": true
   },
   "source": [
    "#### `crispr`"
   ]
  },
  {
   "cell_type": "code",
   "execution_count": 106,
   "metadata": {
    "hidden": true
   },
   "outputs": [
    {
     "name": "stdout",
     "output_type": "stream",
     "text": [
      "Looking at the top 3 topics that documents are classified under\n",
      "keyword: crispr\n",
      "number of unique documents with 'crispr': 246\n",
      "topic_id: 139\n",
      "topic_prob: 0.04623544156758605\n",
      "topic: 0.263*\"dna\" + 0.107*\"genome\" + 0.090*\"epigenetic\" + 0.046*\"crispr\" + 0.043*\"repair\" + 0.030*\"editing\" + 0.029*\"histone\" + 0.025*\"cas9\" + 0.023*\"genomic\" + 0.018*\"damage\"\n",
      "\n",
      "Number of unique documents classified under topic: 362\n",
      "True Positive: 72 / 246 = 0.2927\n",
      "False Negative: 174 / 246 = 0.7073\n",
      "False Positive: 290 / 12840 = 0.0226\n",
      "True Negative: 12550 / 12840 = 0.9774\n",
      "\n"
     ]
    }
   ],
   "source": [
    "false_positives = display_topic_distribution_statistics(filtered_docs, filtered_predict_df, 'crispr', 3, return_fp=True)"
   ]
  },
  {
   "cell_type": "code",
   "execution_count": 107,
   "metadata": {
    "hidden": true
   },
   "outputs": [
    {
     "data": {
      "text/plain": [
       "290"
      ]
     },
     "execution_count": 107,
     "metadata": {},
     "output_type": "execute_result"
    }
   ],
   "source": [
    "len(false_positives)"
   ]
  },
  {
   "cell_type": "code",
   "execution_count": 108,
   "metadata": {
    "hidden": true,
    "scrolled": true
   },
   "outputs": [
    {
     "name": "stdout",
     "output_type": "stream",
     "text": [
      "random_id 2742\n",
      "Is keyword in document: False\n",
      "\n"
     ]
    },
    {
     "data": {
      "text/html": [
       "<div>\n",
       "<style scoped>\n",
       "    .dataframe tbody tr th:only-of-type {\n",
       "        vertical-align: middle;\n",
       "    }\n",
       "\n",
       "    .dataframe tbody tr th {\n",
       "        vertical-align: top;\n",
       "    }\n",
       "\n",
       "    .dataframe thead th {\n",
       "        text-align: right;\n",
       "    }\n",
       "</style>\n",
       "<table border=\"1\" class=\"dataframe\">\n",
       "  <thead>\n",
       "    <tr style=\"text-align: right;\">\n",
       "      <th></th>\n",
       "      <th>6578</th>\n",
       "    </tr>\n",
       "  </thead>\n",
       "  <tbody>\n",
       "    <tr>\n",
       "      <th>rcn</th>\n",
       "      <td>206324</td>\n",
       "    </tr>\n",
       "    <tr>\n",
       "      <th>id</th>\n",
       "      <td>715975</td>\n",
       "    </tr>\n",
       "    <tr>\n",
       "      <th>acronym</th>\n",
       "      <td>DPC_REPAIR</td>\n",
       "    </tr>\n",
       "    <tr>\n",
       "      <th>status</th>\n",
       "      <td>SIGNED</td>\n",
       "    </tr>\n",
       "    <tr>\n",
       "      <th>programme</th>\n",
       "      <td>H2020-EU.1.1.</td>\n",
       "    </tr>\n",
       "    <tr>\n",
       "      <th>topics</th>\n",
       "      <td>ERC-2016-STG</td>\n",
       "    </tr>\n",
       "    <tr>\n",
       "      <th>frameworkProgramme</th>\n",
       "      <td>H2020</td>\n",
       "    </tr>\n",
       "    <tr>\n",
       "      <th>title</th>\n",
       "      <td>Mechanism of DNA-protein cross-link repair in S phase</td>\n",
       "    </tr>\n",
       "    <tr>\n",
       "      <th>startDate</th>\n",
       "      <td>2017-01-01</td>\n",
       "    </tr>\n",
       "    <tr>\n",
       "      <th>endDate</th>\n",
       "      <td>2021-12-31</td>\n",
       "    </tr>\n",
       "    <tr>\n",
       "      <th>projectUrl</th>\n",
       "      <td>https://www.cell.com/molecular-cell/fulltext/S1097-2765</td>\n",
       "    </tr>\n",
       "    <tr>\n",
       "      <th>objective</th>\n",
       "      <td>DNA-protein cross-links (DPCs) are common DNA lesions caused by endogenous, environmental, and chemotherapeutic agents. Cells are susceptible to these lesions during S phase, as DPCs impede replication fork progression and are likely to induce genomic instability, a cause of cancer and aging. Despite its relevance to human health, the repair of DPCs is poorly understood. Research on DPC repair has mainly involved testing cellular responses to compounds such as formaldehyde, but these agents induce a wide variety of DNA lesions, and conflicting results have been reported. To overcome these obstacles, I have developed the first in vitro system that recapitulates replication-coupled DPC repair. In this system, a plasmid containing a site-specific DPC is replicated in Xenopus egg extracts. Using this approach, I demonstrated that DPC repair requires DNA replication. When a replication fork encounters a DPC, the DPC is degraded into a peptide-adduct, which allows replication bypass by translesion DNA synthesis. Importantly, these experiments identified a novel proteolytic pathway whose activity is regulated by replication. \\nThis in vitro system now provides a powerful means to identify and characterize the different factors that participate in S phase DPC repair. I speculate that for DPC processing to occur, the protein-adduct must first be detected, then marked for degradation and ultimately degraded. Using a series of complementary strategies, which will take advantage of the in vitro system combined with proteome and genome wide approaches, I seek to uncover the different players that participate in each of these events. This project will enable a detailed mechanistic outlook of a complex multi-step reaction that has not been feasible to achieve using existing methodologies. It will also improve our understanding of how DPCs impact genomic stability and the consequences of not repairing these lesions for human health.</td>\n",
       "    </tr>\n",
       "    <tr>\n",
       "      <th>totalCost</th>\n",
       "      <td>1.49886e+06</td>\n",
       "    </tr>\n",
       "    <tr>\n",
       "      <th>ecMaxContribution</th>\n",
       "      <td>1.49886e+06</td>\n",
       "    </tr>\n",
       "    <tr>\n",
       "      <th>call</th>\n",
       "      <td>ERC-2016-STG</td>\n",
       "    </tr>\n",
       "    <tr>\n",
       "      <th>fundingScheme</th>\n",
       "      <td>ERC-STG</td>\n",
       "    </tr>\n",
       "    <tr>\n",
       "      <th>coordinator</th>\n",
       "      <td>KOBENHAVNS UNIVERSITET</td>\n",
       "    </tr>\n",
       "    <tr>\n",
       "      <th>coordinatorCountry</th>\n",
       "      <td>DK</td>\n",
       "    </tr>\n",
       "    <tr>\n",
       "      <th>participants</th>\n",
       "      <td>NaN</td>\n",
       "    </tr>\n",
       "    <tr>\n",
       "      <th>participantCountries</th>\n",
       "      <td>NaN</td>\n",
       "    </tr>\n",
       "    <tr>\n",
       "      <th>subjects</th>\n",
       "      <td>NaN</td>\n",
       "    </tr>\n",
       "    <tr>\n",
       "      <th>Dominant_Topic_1</th>\n",
       "      <td>197</td>\n",
       "    </tr>\n",
       "    <tr>\n",
       "      <th>Topic_Prob_1</th>\n",
       "      <td>0.0579</td>\n",
       "    </tr>\n",
       "    <tr>\n",
       "      <th>Topic Keywords</th>\n",
       "      <td>site, replication, origin, yeast, timing, determine, understand, recruitment, initiation, newly</td>\n",
       "    </tr>\n",
       "    <tr>\n",
       "      <th>Dominant_Topic_2</th>\n",
       "      <td>139</td>\n",
       "    </tr>\n",
       "    <tr>\n",
       "      <th>Topic_Prob_2</th>\n",
       "      <td>0.0394</td>\n",
       "    </tr>\n",
       "    <tr>\n",
       "      <th>Topic Keywords</th>\n",
       "      <td>dna, genome, epigenetic, crispr, repair, editing, histone, cas9, genomic, damage</td>\n",
       "    </tr>\n",
       "    <tr>\n",
       "      <th>Dominant_Topic_3</th>\n",
       "      <td>4</td>\n",
       "    </tr>\n",
       "    <tr>\n",
       "      <th>Topic_Prob_3</th>\n",
       "      <td>0.0215</td>\n",
       "    </tr>\n",
       "    <tr>\n",
       "      <th>Topic Keywords</th>\n",
       "      <td>protein, substrate, spectrometry, mass, ubiquitin, proteome, degradation, biochemical, phosphorylation, proteasome</td>\n",
       "    </tr>\n",
       "    <tr>\n",
       "      <th>Dominant_Topic_4</th>\n",
       "      <td>57</td>\n",
       "    </tr>\n",
       "    <tr>\n",
       "      <th>Topic_Prob_4</th>\n",
       "      <td>0.0134</td>\n",
       "    </tr>\n",
       "    <tr>\n",
       "      <th>Topic Keywords</th>\n",
       "      <td>breast, positive, woman, common, result, benefit, potential, lesion, significant, targeted</td>\n",
       "    </tr>\n",
       "    <tr>\n",
       "      <th>Dominant_Topic_5</th>\n",
       "      <td>149</td>\n",
       "    </tr>\n",
       "    <tr>\n",
       "      <th>Topic_Prob_5</th>\n",
       "      <td>0.0131</td>\n",
       "    </tr>\n",
       "    <tr>\n",
       "      <th>Topic Keywords</th>\n",
       "      <td>event, pre, aim, setting, presence, ultimately, occur, combining, important, crucial</td>\n",
       "    </tr>\n",
       "    <tr>\n",
       "      <th>Dominant_Topic_6</th>\n",
       "      <td>184</td>\n",
       "    </tr>\n",
       "    <tr>\n",
       "      <th>Topic_Prob_6</th>\n",
       "      <td>0.0112</td>\n",
       "    </tr>\n",
       "    <tr>\n",
       "      <th>Topic Keywords</th>\n",
       "      <td>phase, plan, successful, initial, completion, proven, developed, conducted, intend, chance</td>\n",
       "    </tr>\n",
       "    <tr>\n",
       "      <th>Dominant_Topic_7</th>\n",
       "      <td>241</td>\n",
       "    </tr>\n",
       "    <tr>\n",
       "      <th>Topic_Prob_7</th>\n",
       "      <td>0.0096</td>\n",
       "    </tr>\n",
       "    <tr>\n",
       "      <th>Topic Keywords</th>\n",
       "      <td>mechanism, understood, chromosome, underlying, poorly, molecular, mammalian, division, reveal, insight</td>\n",
       "    </tr>\n",
       "    <tr>\n",
       "      <th>Dominant_Topic_8</th>\n",
       "      <td>267</td>\n",
       "    </tr>\n",
       "    <tr>\n",
       "      <th>Topic_Prob_8</th>\n",
       "      <td>0.0085</td>\n",
       "    </tr>\n",
       "    <tr>\n",
       "      <th>Topic Keywords</th>\n",
       "      <td>system, subsystem, vertigo, subsequent, absent, planning, prototype, representing, collected, bringing</td>\n",
       "    </tr>\n",
       "    <tr>\n",
       "      <th>Dominant_Topic_9</th>\n",
       "      <td>259</td>\n",
       "    </tr>\n",
       "    <tr>\n",
       "      <th>Topic_Prob_9</th>\n",
       "      <td>0.0083</td>\n",
       "    </tr>\n",
       "    <tr>\n",
       "      <th>Topic Keywords</th>\n",
       "      <td>identify, identification, identified, characterization, identifying, involved, characterize, target, characterized, pc</td>\n",
       "    </tr>\n",
       "    <tr>\n",
       "      <th>Dominant_Topic_10</th>\n",
       "      <td>134</td>\n",
       "    </tr>\n",
       "    <tr>\n",
       "      <th>Topic_Prob_10</th>\n",
       "      <td>0.0077</td>\n",
       "    </tr>\n",
       "    <tr>\n",
       "      <th>Topic Keywords</th>\n",
       "      <td>methodology, general, applied, purpose, database, set, implemented, generated, addressing, evaluate</td>\n",
       "    </tr>\n",
       "  </tbody>\n",
       "</table>\n",
       "</div>"
      ],
      "text/plain": [
       "                                                                                                                                                                                                                                                                                                                                                                                                                                                                                                                                                                                                                                                                                                                                                                                                                                                                                                                                                                                                                                                                                                                                                                                                                                                                                                                                                                                                                                                                                                                                                                                                                                                                                                                                                                                                                                                                                                                                                                                                                                                6578\n",
       "rcn                                                                                                                                                                                                                                                                                                                                                                                                                                                                                                                                                                                                                                                                                                                                                                                                                                                                                                                                                                                                                                                                                                                                                                                                                                                                                                                                                                                                                                                                                                                                                                                                                                                                                                                                                                                                                                                                                                                                                                                                                                           206324\n",
       "id                                                                                                                                                                                                                                                                                                                                                                                                                                                                                                                                                                                                                                                                                                                                                                                                                                                                                                                                                                                                                                                                                                                                                                                                                                                                                                                                                                                                                                                                                                                                                                                                                                                                                                                                                                                                                                                                                                                                                                                                                                            715975\n",
       "acronym                                                                                                                                                                                                                                                                                                                                                                                                                                                                                                                                                                                                                                                                                                                                                                                                                                                                                                                                                                                                                                                                                                                                                                                                                                                                                                                                                                                                                                                                                                                                                                                                                                                                                                                                                                                                                                                                                                                                                                                                                                   DPC_REPAIR\n",
       "status                                                                                                                                                                                                                                                                                                                                                                                                                                                                                                                                                                                                                                                                                                                                                                                                                                                                                                                                                                                                                                                                                                                                                                                                                                                                                                                                                                                                                                                                                                                                                                                                                                                                                                                                                                                                                                                                                                                                                                                                                                        SIGNED\n",
       "programme                                                                                                                                                                                                                                                                                                                                                                                                                                                                                                                                                                                                                                                                                                                                                                                                                                                                                                                                                                                                                                                                                                                                                                                                                                                                                                                                                                                                                                                                                                                                                                                                                                                                                                                                                                                                                                                                                                                                                                                                                              H2020-EU.1.1.\n",
       "topics                                                                                                                                                                                                                                                                                                                                                                                                                                                                                                                                                                                                                                                                                                                                                                                                                                                                                                                                                                                                                                                                                                                                                                                                                                                                                                                                                                                                                                                                                                                                                                                                                                                                                                                                                                                                                                                                                                                                                                                                                                  ERC-2016-STG\n",
       "frameworkProgramme                                                                                                                                                                                                                                                                                                                                                                                                                                                                                                                                                                                                                                                                                                                                                                                                                                                                                                                                                                                                                                                                                                                                                                                                                                                                                                                                                                                                                                                                                                                                                                                                                                                                                                                                                                                                                                                                                                                                                                                                                             H2020\n",
       "title                                                                                                                                                                                                                                                                                                                                                                                                                                                                                                                                                                                                                                                                                                                                                                                                                                                                                                                                                                                                                                                                                                                                                                                                                                                                                                                                                                                                                                                                                                                                                                                                                                                                                                                                                                                                                                                                                                                                                                                          Mechanism of DNA-protein cross-link repair in S phase\n",
       "startDate                                                                                                                                                                                                                                                                                                                                                                                                                                                                                                                                                                                                                                                                                                                                                                                                                                                                                                                                                                                                                                                                                                                                                                                                                                                                                                                                                                                                                                                                                                                                                                                                                                                                                                                                                                                                                                                                                                                                                                                                                                 2017-01-01\n",
       "endDate                                                                                                                                                                                                                                                                                                                                                                                                                                                                                                                                                                                                                                                                                                                                                                                                                                                                                                                                                                                                                                                                                                                                                                                                                                                                                                                                                                                                                                                                                                                                                                                                                                                                                                                                                                                                                                                                                                                                                                                                                                   2021-12-31\n",
       "projectUrl                                                                                                                                                                                                                                                                                                                                                                                                                                                                                                                                                                                                                                                                                                                                                                                                                                                                                                                                                                                                                                                                                                                                                                                                                                                                                                                                                                                                                                                                                                                                                                                                                                                                                                                                                                                                                                                                                                                                                                                   https://www.cell.com/molecular-cell/fulltext/S1097-2765\n",
       "objective             DNA-protein cross-links (DPCs) are common DNA lesions caused by endogenous, environmental, and chemotherapeutic agents. Cells are susceptible to these lesions during S phase, as DPCs impede replication fork progression and are likely to induce genomic instability, a cause of cancer and aging. Despite its relevance to human health, the repair of DPCs is poorly understood. Research on DPC repair has mainly involved testing cellular responses to compounds such as formaldehyde, but these agents induce a wide variety of DNA lesions, and conflicting results have been reported. To overcome these obstacles, I have developed the first in vitro system that recapitulates replication-coupled DPC repair. In this system, a plasmid containing a site-specific DPC is replicated in Xenopus egg extracts. Using this approach, I demonstrated that DPC repair requires DNA replication. When a replication fork encounters a DPC, the DPC is degraded into a peptide-adduct, which allows replication bypass by translesion DNA synthesis. Importantly, these experiments identified a novel proteolytic pathway whose activity is regulated by replication. \\nThis in vitro system now provides a powerful means to identify and characterize the different factors that participate in S phase DPC repair. I speculate that for DPC processing to occur, the protein-adduct must first be detected, then marked for degradation and ultimately degraded. Using a series of complementary strategies, which will take advantage of the in vitro system combined with proteome and genome wide approaches, I seek to uncover the different players that participate in each of these events. This project will enable a detailed mechanistic outlook of a complex multi-step reaction that has not been feasible to achieve using existing methodologies. It will also improve our understanding of how DPCs impact genomic stability and the consequences of not repairing these lesions for human health.\n",
       "totalCost                                                                                                                                                                                                                                                                                                                                                                                                                                                                                                                                                                                                                                                                                                                                                                                                                                                                                                                                                                                                                                                                                                                                                                                                                                                                                                                                                                                                                                                                                                                                                                                                                                                                                                                                                                                                                                                                                                                                                                                                                                1.49886e+06\n",
       "ecMaxContribution                                                                                                                                                                                                                                                                                                                                                                                                                                                                                                                                                                                                                                                                                                                                                                                                                                                                                                                                                                                                                                                                                                                                                                                                                                                                                                                                                                                                                                                                                                                                                                                                                                                                                                                                                                                                                                                                                                                                                                                                                        1.49886e+06\n",
       "call                                                                                                                                                                                                                                                                                                                                                                                                                                                                                                                                                                                                                                                                                                                                                                                                                                                                                                                                                                                                                                                                                                                                                                                                                                                                                                                                                                                                                                                                                                                                                                                                                                                                                                                                                                                                                                                                                                                                                                                                                                    ERC-2016-STG\n",
       "fundingScheme                                                                                                                                                                                                                                                                                                                                                                                                                                                                                                                                                                                                                                                                                                                                                                                                                                                                                                                                                                                                                                                                                                                                                                                                                                                                                                                                                                                                                                                                                                                                                                                                                                                                                                                                                                                                                                                                                                                                                                                                                                ERC-STG\n",
       "coordinator                                                                                                                                                                                                                                                                                                                                                                                                                                                                                                                                                                                                                                                                                                                                                                                                                                                                                                                                                                                                                                                                                                                                                                                                                                                                                                                                                                                                                                                                                                                                                                                                                                                                                                                                                                                                                                                                                                                                                                                                                   KOBENHAVNS UNIVERSITET\n",
       "coordinatorCountry                                                                                                                                                                                                                                                                                                                                                                                                                                                                                                                                                                                                                                                                                                                                                                                                                                                                                                                                                                                                                                                                                                                                                                                                                                                                                                                                                                                                                                                                                                                                                                                                                                                                                                                                                                                                                                                                                                                                                                                                                                DK\n",
       "participants                                                                                                                                                                                                                                                                                                                                                                                                                                                                                                                                                                                                                                                                                                                                                                                                                                                                                                                                                                                                                                                                                                                                                                                                                                                                                                                                                                                                                                                                                                                                                                                                                                                                                                                                                                                                                                                                                                                                                                                                                                     NaN\n",
       "participantCountries                                                                                                                                                                                                                                                                                                                                                                                                                                                                                                                                                                                                                                                                                                                                                                                                                                                                                                                                                                                                                                                                                                                                                                                                                                                                                                                                                                                                                                                                                                                                                                                                                                                                                                                                                                                                                                                                                                                                                                                                                             NaN\n",
       "subjects                                                                                                                                                                                                                                                                                                                                                                                                                                                                                                                                                                                                                                                                                                                                                                                                                                                                                                                                                                                                                                                                                                                                                                                                                                                                                                                                                                                                                                                                                                                                                                                                                                                                                                                                                                                                                                                                                                                                                                                                                                         NaN\n",
       "Dominant_Topic_1                                                                                                                                                                                                                                                                                                                                                                                                                                                                                                                                                                                                                                                                                                                                                                                                                                                                                                                                                                                                                                                                                                                                                                                                                                                                                                                                                                                                                                                                                                                                                                                                                                                                                                                                                                                                                                                                                                                                                                                                                                 197\n",
       "Topic_Prob_1                                                                                                                                                                                                                                                                                                                                                                                                                                                                                                                                                                                                                                                                                                                                                                                                                                                                                                                                                                                                                                                                                                                                                                                                                                                                                                                                                                                                                                                                                                                                                                                                                                                                                                                                                                                                                                                                                                                                                                                                                                  0.0579\n",
       "Topic Keywords                                                                                                                                                                                                                                                                                                                                                                                                                                                                                                                                                                                                                                                                                                                                                                                                                                                                                                                                                                                                                                                                                                                                                                                                                                                                                                                                                                                                                                                                                                                                                                                                                                                                                                                                                                                                                                                                                                                                       site, replication, origin, yeast, timing, determine, understand, recruitment, initiation, newly\n",
       "Dominant_Topic_2                                                                                                                                                                                                                                                                                                                                                                                                                                                                                                                                                                                                                                                                                                                                                                                                                                                                                                                                                                                                                                                                                                                                                                                                                                                                                                                                                                                                                                                                                                                                                                                                                                                                                                                                                                                                                                                                                                                                                                                                                                 139\n",
       "Topic_Prob_2                                                                                                                                                                                                                                                                                                                                                                                                                                                                                                                                                                                                                                                                                                                                                                                                                                                                                                                                                                                                                                                                                                                                                                                                                                                                                                                                                                                                                                                                                                                                                                                                                                                                                                                                                                                                                                                                                                                                                                                                                                  0.0394\n",
       "Topic Keywords                                                                                                                                                                                                                                                                                                                                                                                                                                                                                                                                                                                                                                                                                                                                                                                                                                                                                                                                                                                                                                                                                                                                                                                                                                                                                                                                                                                                                                                                                                                                                                                                                                                                                                                                                                                                                                                                                                                                                      dna, genome, epigenetic, crispr, repair, editing, histone, cas9, genomic, damage\n",
       "Dominant_Topic_3                                                                                                                                                                                                                                                                                                                                                                                                                                                                                                                                                                                                                                                                                                                                                                                                                                                                                                                                                                                                                                                                                                                                                                                                                                                                                                                                                                                                                                                                                                                                                                                                                                                                                                                                                                                                                                                                                                                                                                                                                                   4\n",
       "Topic_Prob_3                                                                                                                                                                                                                                                                                                                                                                                                                                                                                                                                                                                                                                                                                                                                                                                                                                                                                                                                                                                                                                                                                                                                                                                                                                                                                                                                                                                                                                                                                                                                                                                                                                                                                                                                                                                                                                                                                                                                                                                                                                  0.0215\n",
       "Topic Keywords                                                                                                                                                                                                                                                                                                                                                                                                                                                                                                                                                                                                                                                                                                                                                                                                                                                                                                                                                                                                                                                                                                                                                                                                                                                                                                                                                                                                                                                                                                                                                                                                                                                                                                                                                                                                                                                                                                                    protein, substrate, spectrometry, mass, ubiquitin, proteome, degradation, biochemical, phosphorylation, proteasome\n",
       "Dominant_Topic_4                                                                                                                                                                                                                                                                                                                                                                                                                                                                                                                                                                                                                                                                                                                                                                                                                                                                                                                                                                                                                                                                                                                                                                                                                                                                                                                                                                                                                                                                                                                                                                                                                                                                                                                                                                                                                                                                                                                                                                                                                                  57\n",
       "Topic_Prob_4                                                                                                                                                                                                                                                                                                                                                                                                                                                                                                                                                                                                                                                                                                                                                                                                                                                                                                                                                                                                                                                                                                                                                                                                                                                                                                                                                                                                                                                                                                                                                                                                                                                                                                                                                                                                                                                                                                                                                                                                                                  0.0134\n",
       "Topic Keywords                                                                                                                                                                                                                                                                                                                                                                                                                                                                                                                                                                                                                                                                                                                                                                                                                                                                                                                                                                                                                                                                                                                                                                                                                                                                                                                                                                                                                                                                                                                                                                                                                                                                                                                                                                                                                                                                                                                                            breast, positive, woman, common, result, benefit, potential, lesion, significant, targeted\n",
       "Dominant_Topic_5                                                                                                                                                                                                                                                                                                                                                                                                                                                                                                                                                                                                                                                                                                                                                                                                                                                                                                                                                                                                                                                                                                                                                                                                                                                                                                                                                                                                                                                                                                                                                                                                                                                                                                                                                                                                                                                                                                                                                                                                                                 149\n",
       "Topic_Prob_5                                                                                                                                                                                                                                                                                                                                                                                                                                                                                                                                                                                                                                                                                                                                                                                                                                                                                                                                                                                                                                                                                                                                                                                                                                                                                                                                                                                                                                                                                                                                                                                                                                                                                                                                                                                                                                                                                                                                                                                                                                  0.0131\n",
       "Topic Keywords                                                                                                                                                                                                                                                                                                                                                                                                                                                                                                                                                                                                                                                                                                                                                                                                                                                                                                                                                                                                                                                                                                                                                                                                                                                                                                                                                                                                                                                                                                                                                                                                                                                                                                                                                                                                                                                                                                                                                  event, pre, aim, setting, presence, ultimately, occur, combining, important, crucial\n",
       "Dominant_Topic_6                                                                                                                                                                                                                                                                                                                                                                                                                                                                                                                                                                                                                                                                                                                                                                                                                                                                                                                                                                                                                                                                                                                                                                                                                                                                                                                                                                                                                                                                                                                                                                                                                                                                                                                                                                                                                                                                                                                                                                                                                                 184\n",
       "Topic_Prob_6                                                                                                                                                                                                                                                                                                                                                                                                                                                                                                                                                                                                                                                                                                                                                                                                                                                                                                                                                                                                                                                                                                                                                                                                                                                                                                                                                                                                                                                                                                                                                                                                                                                                                                                                                                                                                                                                                                                                                                                                                                  0.0112\n",
       "Topic Keywords                                                                                                                                                                                                                                                                                                                                                                                                                                                                                                                                                                                                                                                                                                                                                                                                                                                                                                                                                                                                                                                                                                                                                                                                                                                                                                                                                                                                                                                                                                                                                                                                                                                                                                                                                                                                                                                                                                                                            phase, plan, successful, initial, completion, proven, developed, conducted, intend, chance\n",
       "Dominant_Topic_7                                                                                                                                                                                                                                                                                                                                                                                                                                                                                                                                                                                                                                                                                                                                                                                                                                                                                                                                                                                                                                                                                                                                                                                                                                                                                                                                                                                                                                                                                                                                                                                                                                                                                                                                                                                                                                                                                                                                                                                                                                 241\n",
       "Topic_Prob_7                                                                                                                                                                                                                                                                                                                                                                                                                                                                                                                                                                                                                                                                                                                                                                                                                                                                                                                                                                                                                                                                                                                                                                                                                                                                                                                                                                                                                                                                                                                                                                                                                                                                                                                                                                                                                                                                                                                                                                                                                                  0.0096\n",
       "Topic Keywords                                                                                                                                                                                                                                                                                                                                                                                                                                                                                                                                                                                                                                                                                                                                                                                                                                                                                                                                                                                                                                                                                                                                                                                                                                                                                                                                                                                                                                                                                                                                                                                                                                                                                                                                                                                                                                                                                                                                mechanism, understood, chromosome, underlying, poorly, molecular, mammalian, division, reveal, insight\n",
       "Dominant_Topic_8                                                                                                                                                                                                                                                                                                                                                                                                                                                                                                                                                                                                                                                                                                                                                                                                                                                                                                                                                                                                                                                                                                                                                                                                                                                                                                                                                                                                                                                                                                                                                                                                                                                                                                                                                                                                                                                                                                                                                                                                                                 267\n",
       "Topic_Prob_8                                                                                                                                                                                                                                                                                                                                                                                                                                                                                                                                                                                                                                                                                                                                                                                                                                                                                                                                                                                                                                                                                                                                                                                                                                                                                                                                                                                                                                                                                                                                                                                                                                                                                                                                                                                                                                                                                                                                                                                                                                  0.0085\n",
       "Topic Keywords                                                                                                                                                                                                                                                                                                                                                                                                                                                                                                                                                                                                                                                                                                                                                                                                                                                                                                                                                                                                                                                                                                                                                                                                                                                                                                                                                                                                                                                                                                                                                                                                                                                                                                                                                                                                                                                                                                                                system, subsystem, vertigo, subsequent, absent, planning, prototype, representing, collected, bringing\n",
       "Dominant_Topic_9                                                                                                                                                                                                                                                                                                                                                                                                                                                                                                                                                                                                                                                                                                                                                                                                                                                                                                                                                                                                                                                                                                                                                                                                                                                                                                                                                                                                                                                                                                                                                                                                                                                                                                                                                                                                                                                                                                                                                                                                                                 259\n",
       "Topic_Prob_9                                                                                                                                                                                                                                                                                                                                                                                                                                                                                                                                                                                                                                                                                                                                                                                                                                                                                                                                                                                                                                                                                                                                                                                                                                                                                                                                                                                                                                                                                                                                                                                                                                                                                                                                                                                                                                                                                                                                                                                                                                  0.0083\n",
       "Topic Keywords                                                                                                                                                                                                                                                                                                                                                                                                                                                                                                                                                                                                                                                                                                                                                                                                                                                                                                                                                                                                                                                                                                                                                                                                                                                                                                                                                                                                                                                                                                                                                                                                                                                                                                                                                                                                                                                                                                                identify, identification, identified, characterization, identifying, involved, characterize, target, characterized, pc\n",
       "Dominant_Topic_10                                                                                                                                                                                                                                                                                                                                                                                                                                                                                                                                                                                                                                                                                                                                                                                                                                                                                                                                                                                                                                                                                                                                                                                                                                                                                                                                                                                                                                                                                                                                                                                                                                                                                                                                                                                                                                                                                                                                                                                                                                134\n",
       "Topic_Prob_10                                                                                                                                                                                                                                                                                                                                                                                                                                                                                                                                                                                                                                                                                                                                                                                                                                                                                                                                                                                                                                                                                                                                                                                                                                                                                                                                                                                                                                                                                                                                                                                                                                                                                                                                                                                                                                                                                                                                                                                                                                 0.0077\n",
       "Topic Keywords                                                                                                                                                                                                                                                                                                                                                                                                                                                                                                                                                                                                                                                                                                                                                                                                                                                                                                                                                                                                                                                                                                                                                                                                                                                                                                                                                                                                                                                                                                                                                                                                                                                                                                                                                                                                                                                                                                                                   methodology, general, applied, purpose, database, set, implemented, generated, addressing, evaluate"
      ]
     },
     "execution_count": 108,
     "metadata": {},
     "output_type": "execute_result"
    }
   ],
   "source": [
    "random_id = sample(false_positives, 1)[0]\n",
    "print('random_id', random_id)\n",
    "\n",
    "print('Is keyword in document:', 'cas9' in filtered_docs[random_id])\n",
    "print()\n",
    "\n",
    "# print(' '.join(filtered_docs[random_id]))\n",
    "filtered_data_df_with_predict.iloc[[random_id]].T"
   ]
  },
  {
   "cell_type": "markdown",
   "metadata": {
    "hidden": true
   },
   "source": [
    "#### `rna`"
   ]
  },
  {
   "cell_type": "code",
   "execution_count": 119,
   "metadata": {
    "hidden": true
   },
   "outputs": [
    {
     "name": "stdout",
     "output_type": "stream",
     "text": [
      "Looking at the top 3 topics that documents are classified under\n",
      "keyword: rna\n",
      "number of unique documents with 'rna': 580\n",
      "topic_id: 122\n",
      "topic_prob: 0.23486118551768878\n",
      "topic: 0.235*\"rna\" + 0.061*\"mrna\" + 0.061*\"sequence\" + 0.054*\"coding\" + 0.046*\"nmr\" + 0.023*\"sequencing\" + 0.020*\"splicing\" + 0.017*\"motif\" + 0.014*\"seq\" + 0.013*\"binding\"\n",
      "\n",
      "Number of unique documents classified under topic: 238\n",
      "True Positive: 187 / 580 = 0.3224\n",
      "False Negative: 393 / 580 = 0.6776\n",
      "False Positive: 51 / 12506 = 0.0041\n",
      "True Negative: 12455 / 12506 = 0.9959\n",
      "\n"
     ]
    }
   ],
   "source": [
    "false_positives = display_topic_distribution_statistics(filtered_docs, filtered_predict_df, 'rna', 3, return_fp=True)"
   ]
  },
  {
   "cell_type": "code",
   "execution_count": 120,
   "metadata": {
    "hidden": true
   },
   "outputs": [
    {
     "data": {
      "text/plain": [
       "51"
      ]
     },
     "execution_count": 120,
     "metadata": {},
     "output_type": "execute_result"
    }
   ],
   "source": [
    "len(false_positives)"
   ]
  },
  {
   "cell_type": "code",
   "execution_count": 121,
   "metadata": {
    "hidden": true,
    "scrolled": true
   },
   "outputs": [
    {
     "name": "stdout",
     "output_type": "stream",
     "text": [
      "random_id 4434\n",
      "Is keyword in document: False\n",
      "\n"
     ]
    },
    {
     "data": {
      "text/html": [
       "<div>\n",
       "<style scoped>\n",
       "    .dataframe tbody tr th:only-of-type {\n",
       "        vertical-align: middle;\n",
       "    }\n",
       "\n",
       "    .dataframe tbody tr th {\n",
       "        vertical-align: top;\n",
       "    }\n",
       "\n",
       "    .dataframe thead th {\n",
       "        text-align: right;\n",
       "    }\n",
       "</style>\n",
       "<table border=\"1\" class=\"dataframe\">\n",
       "  <thead>\n",
       "    <tr style=\"text-align: right;\">\n",
       "      <th></th>\n",
       "      <th>10496</th>\n",
       "    </tr>\n",
       "  </thead>\n",
       "  <tbody>\n",
       "    <tr>\n",
       "      <th>rcn</th>\n",
       "      <td>201074</td>\n",
       "    </tr>\n",
       "    <tr>\n",
       "      <th>id</th>\n",
       "      <td>702726</td>\n",
       "    </tr>\n",
       "    <tr>\n",
       "      <th>acronym</th>\n",
       "      <td>Expectancy</td>\n",
       "    </tr>\n",
       "    <tr>\n",
       "      <th>status</th>\n",
       "      <td>SIGNED</td>\n",
       "    </tr>\n",
       "    <tr>\n",
       "      <th>programme</th>\n",
       "      <td>H2020-EU.1.3.2.</td>\n",
       "    </tr>\n",
       "    <tr>\n",
       "      <th>topics</th>\n",
       "      <td>MSCA-IF-2015-EF</td>\n",
       "    </tr>\n",
       "    <tr>\n",
       "      <th>frameworkProgramme</th>\n",
       "      <td>H2020</td>\n",
       "    </tr>\n",
       "    <tr>\n",
       "      <th>title</th>\n",
       "      <td>Unveiling expectancy neuronal coding in the cerebral cortex induced by naturalistic tactile stimuli</td>\n",
       "    </tr>\n",
       "    <tr>\n",
       "      <th>startDate</th>\n",
       "      <td>2017-03-01</td>\n",
       "    </tr>\n",
       "    <tr>\n",
       "      <th>endDate</th>\n",
       "      <td>2019-02-28</td>\n",
       "    </tr>\n",
       "    <tr>\n",
       "      <th>projectUrl</th>\n",
       "      <td>https://www.unic.cnrs-gif.fr/teams/Research</td>\n",
       "    </tr>\n",
       "    <tr>\n",
       "      <th>objective</th>\n",
       "      <td>Expectancy is a major function of the nervous system that prepares the organism to react in a meaningful way to sensory stimulation. Depending on local statistics of patterned sensory stimuli, the nervous system shows preparedness for expected inputs. This allows to respond or not in a short time window by taking into account recent presentations of a similar sensory context. In order to gain insight into the underlying neural coding, I propose to use the vibrissal system of the rat applying controlled sensory inputs. The vibrissal system contains an array of specialized vibrissae as the input stage of an extremely sensitive tactile system. Significant innovation will be the use of a stimulation matrix allowing independent deflection of 24 vibrissae. This novel tool will help to generate short-term expectancies by introducing complex and precisely timed specific sensory inputs. I propose to combine in vivo intracellular and multi-unit extracellular recordings in the primary somatosensory cortex (SI) with multi-whisker stimulation. I hypothesize that neural information coding is shaped by the statistics of the time-varying vibrissa contacts. The ability to generate expectancy signals will be compared for repetitive contacts as with natural objects and un-natural sequences to which the system is not preadapted. In addition to the common lightly anesthetized rat preparation, I propose to develop a novel design to record from awake animals. Furthermore, I will assess expectancy using dynamical systems techniques by modeling this process as forced coupled nonlinear oscillators. The proposed project will elucidate how natural tactile patterns are encoded in SI through a comprehensive approach including electrophysiology, sophisticated tactile stimulation and dynamical modeling. It will be the first to clarify the coding principles of predictable sensory inputs generating neuronal expectancies and can provide insight into the general mechanisms of prospective judgment.</td>\n",
       "    </tr>\n",
       "    <tr>\n",
       "      <th>totalCost</th>\n",
       "      <td>173076</td>\n",
       "    </tr>\n",
       "    <tr>\n",
       "      <th>ecMaxContribution</th>\n",
       "      <td>173076</td>\n",
       "    </tr>\n",
       "    <tr>\n",
       "      <th>call</th>\n",
       "      <td>H2020-MSCA-IF-2015</td>\n",
       "    </tr>\n",
       "    <tr>\n",
       "      <th>fundingScheme</th>\n",
       "      <td>MSCA-IF-EF-ST</td>\n",
       "    </tr>\n",
       "    <tr>\n",
       "      <th>coordinator</th>\n",
       "      <td>CENTRE NATIONAL DE LA RECHERCHE SCIENTIFIQUE CNRS</td>\n",
       "    </tr>\n",
       "    <tr>\n",
       "      <th>coordinatorCountry</th>\n",
       "      <td>FR</td>\n",
       "    </tr>\n",
       "    <tr>\n",
       "      <th>participants</th>\n",
       "      <td>NaN</td>\n",
       "    </tr>\n",
       "    <tr>\n",
       "      <th>participantCountries</th>\n",
       "      <td>NaN</td>\n",
       "    </tr>\n",
       "    <tr>\n",
       "      <th>subjects</th>\n",
       "      <td>NaN</td>\n",
       "    </tr>\n",
       "    <tr>\n",
       "      <th>Dominant_Topic_1</th>\n",
       "      <td>277</td>\n",
       "    </tr>\n",
       "    <tr>\n",
       "      <th>Topic_Prob_1</th>\n",
       "      <td>0.0557</td>\n",
       "    </tr>\n",
       "    <tr>\n",
       "      <th>Topic Keywords</th>\n",
       "      <td>behavior, sensory, input, stimulus, motor, neuron, cortex, behavioral, cortical, underlying</td>\n",
       "    </tr>\n",
       "    <tr>\n",
       "      <th>Dominant_Topic_2</th>\n",
       "      <td>100</td>\n",
       "    </tr>\n",
       "    <tr>\n",
       "      <th>Topic_Prob_2</th>\n",
       "      <td>0.0253</td>\n",
       "    </tr>\n",
       "    <tr>\n",
       "      <th>Topic Keywords</th>\n",
       "      <td>neural, memory, stimulation, activity, recording, neuroscience, oscillation, hippocampal, fmri, correlate</td>\n",
       "    </tr>\n",
       "    <tr>\n",
       "      <th>Dominant_Topic_3</th>\n",
       "      <td>122</td>\n",
       "    </tr>\n",
       "    <tr>\n",
       "      <th>Topic_Prob_3</th>\n",
       "      <td>0.0177</td>\n",
       "    </tr>\n",
       "    <tr>\n",
       "      <th>Topic Keywords</th>\n",
       "      <td>rna, mrna, sequence, coding, nmr, sequencing, splicing, motif, seq, binding</td>\n",
       "    </tr>\n",
       "    <tr>\n",
       "      <th>Dominant_Topic_4</th>\n",
       "      <td>267</td>\n",
       "    </tr>\n",
       "    <tr>\n",
       "      <th>Topic_Prob_4</th>\n",
       "      <td>0.0159</td>\n",
       "    </tr>\n",
       "    <tr>\n",
       "      <th>Topic Keywords</th>\n",
       "      <td>system, subsystem, vertigo, subsequent, absent, planning, prototype, representing, collected, bringing</td>\n",
       "    </tr>\n",
       "    <tr>\n",
       "      <th>Dominant_Topic_5</th>\n",
       "      <td>258</td>\n",
       "    </tr>\n",
       "    <tr>\n",
       "      <th>Topic_Prob_5</th>\n",
       "      <td>0.0159</td>\n",
       "    </tr>\n",
       "    <tr>\n",
       "      <th>Topic Keywords</th>\n",
       "      <td>age, life, ageing, adult, aging, healthy, older, related, decline, population</td>\n",
       "    </tr>\n",
       "    <tr>\n",
       "      <th>Dominant_Topic_6</th>\n",
       "      <td>35</td>\n",
       "    </tr>\n",
       "    <tr>\n",
       "      <th>Topic_Prob_6</th>\n",
       "      <td>0.0114</td>\n",
       "    </tr>\n",
       "    <tr>\n",
       "      <th>Topic Keywords</th>\n",
       "      <td>perception, sound, speech, hearing, perceptual, processing, acoustic, aid, auditory, sense</td>\n",
       "    </tr>\n",
       "    <tr>\n",
       "      <th>Dominant_Topic_7</th>\n",
       "      <td>286</td>\n",
       "    </tr>\n",
       "    <tr>\n",
       "      <th>Topic_Prob_7</th>\n",
       "      <td>0.0098</td>\n",
       "    </tr>\n",
       "    <tr>\n",
       "      <th>Topic Keywords</th>\n",
       "      <td>natural, nature, process, find, green, isolation, attractive, rich, represents, naturally</td>\n",
       "    </tr>\n",
       "    <tr>\n",
       "      <th>Dominant_Topic_8</th>\n",
       "      <td>221</td>\n",
       "    </tr>\n",
       "    <tr>\n",
       "      <th>Topic_Prob_8</th>\n",
       "      <td>0.0093</td>\n",
       "    </tr>\n",
       "    <tr>\n",
       "      <th>Topic Keywords</th>\n",
       "      <td>pattern, gap, major, record, comprehensive, fill, similar, address, colour, fossil</td>\n",
       "    </tr>\n",
       "    <tr>\n",
       "      <th>Dominant_Topic_9</th>\n",
       "      <td>248</td>\n",
       "    </tr>\n",
       "    <tr>\n",
       "      <th>Topic_Prob_9</th>\n",
       "      <td>0.0093</td>\n",
       "    </tr>\n",
       "    <tr>\n",
       "      <th>Topic Keywords</th>\n",
       "      <td>long, term, short, lasting, standing, longer, dependence, lifetime, preserve, belt</td>\n",
       "    </tr>\n",
       "    <tr>\n",
       "      <th>Dominant_Topic_10</th>\n",
       "      <td>263</td>\n",
       "    </tr>\n",
       "    <tr>\n",
       "      <th>Topic_Prob_10</th>\n",
       "      <td>0.0088</td>\n",
       "    </tr>\n",
       "    <tr>\n",
       "      <th>Topic Keywords</th>\n",
       "      <td>dynamic, quantitative, understanding, insight, diffusion, spatiotemporal, polarity, perturbation, description, detail</td>\n",
       "    </tr>\n",
       "  </tbody>\n",
       "</table>\n",
       "</div>"
      ],
      "text/plain": [
       "                                                                                                                                                                                                                                                                                                                                                                                                                                                                                                                                                                                                                                                                                                                                                                                                                                                                                                                                                                                                                                                                                                                                                                                                                                                                                                                                                                                                                                                                                                                                                                                                                                                                                                                                                                                                                                                                                                                                                                                                                                                                                             10496\n",
       "rcn                                                                                                                                                                                                                                                                                                                                                                                                                                                                                                                                                                                                                                                                                                                                                                                                                                                                                                                                                                                                                                                                                                                                                                                                                                                                                                                                                                                                                                                                                                                                                                                                                                                                                                                                                                                                                                                                                                                                                                                                                                                                                         201074\n",
       "id                                                                                                                                                                                                                                                                                                                                                                                                                                                                                                                                                                                                                                                                                                                                                                                                                                                                                                                                                                                                                                                                                                                                                                                                                                                                                                                                                                                                                                                                                                                                                                                                                                                                                                                                                                                                                                                                                                                                                                                                                                                                                          702726\n",
       "acronym                                                                                                                                                                                                                                                                                                                                                                                                                                                                                                                                                                                                                                                                                                                                                                                                                                                                                                                                                                                                                                                                                                                                                                                                                                                                                                                                                                                                                                                                                                                                                                                                                                                                                                                                                                                                                                                                                                                                                                                                                                                                                 Expectancy\n",
       "status                                                                                                                                                                                                                                                                                                                                                                                                                                                                                                                                                                                                                                                                                                                                                                                                                                                                                                                                                                                                                                                                                                                                                                                                                                                                                                                                                                                                                                                                                                                                                                                                                                                                                                                                                                                                                                                                                                                                                                                                                                                                                      SIGNED\n",
       "programme                                                                                                                                                                                                                                                                                                                                                                                                                                                                                                                                                                                                                                                                                                                                                                                                                                                                                                                                                                                                                                                                                                                                                                                                                                                                                                                                                                                                                                                                                                                                                                                                                                                                                                                                                                                                                                                                                                                                                                                                                                                                          H2020-EU.1.3.2.\n",
       "topics                                                                                                                                                                                                                                                                                                                                                                                                                                                                                                                                                                                                                                                                                                                                                                                                                                                                                                                                                                                                                                                                                                                                                                                                                                                                                                                                                                                                                                                                                                                                                                                                                                                                                                                                                                                                                                                                                                                                                                                                                                                                             MSCA-IF-2015-EF\n",
       "frameworkProgramme                                                                                                                                                                                                                                                                                                                                                                                                                                                                                                                                                                                                                                                                                                                                                                                                                                                                                                                                                                                                                                                                                                                                                                                                                                                                                                                                                                                                                                                                                                                                                                                                                                                                                                                                                                                                                                                                                                                                                                                                                                                                           H2020\n",
       "title                                                                                                                                                                                                                                                                                                                                                                                                                                                                                                                                                                                                                                                                                                                                                                                                                                                                                                                                                                                                                                                                                                                                                                                                                                                                                                                                                                                                                                                                                                                                                                                                                                                                                                                                                                                                                                                                                                                                                                                          Unveiling expectancy neuronal coding in the cerebral cortex induced by naturalistic tactile stimuli\n",
       "startDate                                                                                                                                                                                                                                                                                                                                                                                                                                                                                                                                                                                                                                                                                                                                                                                                                                                                                                                                                                                                                                                                                                                                                                                                                                                                                                                                                                                                                                                                                                                                                                                                                                                                                                                                                                                                                                                                                                                                                                                                                                                                               2017-03-01\n",
       "endDate                                                                                                                                                                                                                                                                                                                                                                                                                                                                                                                                                                                                                                                                                                                                                                                                                                                                                                                                                                                                                                                                                                                                                                                                                                                                                                                                                                                                                                                                                                                                                                                                                                                                                                                                                                                                                                                                                                                                                                                                                                                                                 2019-02-28\n",
       "projectUrl                                                                                                                                                                                                                                                                                                                                                                                                                                                                                                                                                                                                                                                                                                                                                                                                                                                                                                                                                                                                                                                                                                                                                                                                                                                                                                                                                                                                                                                                                                                                                                                                                                                                                                                                                                                                                                                                                                                                                                                                                                             https://www.unic.cnrs-gif.fr/teams/Research\n",
       "objective             Expectancy is a major function of the nervous system that prepares the organism to react in a meaningful way to sensory stimulation. Depending on local statistics of patterned sensory stimuli, the nervous system shows preparedness for expected inputs. This allows to respond or not in a short time window by taking into account recent presentations of a similar sensory context. In order to gain insight into the underlying neural coding, I propose to use the vibrissal system of the rat applying controlled sensory inputs. The vibrissal system contains an array of specialized vibrissae as the input stage of an extremely sensitive tactile system. Significant innovation will be the use of a stimulation matrix allowing independent deflection of 24 vibrissae. This novel tool will help to generate short-term expectancies by introducing complex and precisely timed specific sensory inputs. I propose to combine in vivo intracellular and multi-unit extracellular recordings in the primary somatosensory cortex (SI) with multi-whisker stimulation. I hypothesize that neural information coding is shaped by the statistics of the time-varying vibrissa contacts. The ability to generate expectancy signals will be compared for repetitive contacts as with natural objects and un-natural sequences to which the system is not preadapted. In addition to the common lightly anesthetized rat preparation, I propose to develop a novel design to record from awake animals. Furthermore, I will assess expectancy using dynamical systems techniques by modeling this process as forced coupled nonlinear oscillators. The proposed project will elucidate how natural tactile patterns are encoded in SI through a comprehensive approach including electrophysiology, sophisticated tactile stimulation and dynamical modeling. It will be the first to clarify the coding principles of predictable sensory inputs generating neuronal expectancies and can provide insight into the general mechanisms of prospective judgment.\n",
       "totalCost                                                                                                                                                                                                                                                                                                                                                                                                                                                                                                                                                                                                                                                                                                                                                                                                                                                                                                                                                                                                                                                                                                                                                                                                                                                                                                                                                                                                                                                                                                                                                                                                                                                                                                                                                                                                                                                                                                                                                                                                                                                                                   173076\n",
       "ecMaxContribution                                                                                                                                                                                                                                                                                                                                                                                                                                                                                                                                                                                                                                                                                                                                                                                                                                                                                                                                                                                                                                                                                                                                                                                                                                                                                                                                                                                                                                                                                                                                                                                                                                                                                                                                                                                                                                                                                                                                                                                                                                                                           173076\n",
       "call                                                                                                                                                                                                                                                                                                                                                                                                                                                                                                                                                                                                                                                                                                                                                                                                                                                                                                                                                                                                                                                                                                                                                                                                                                                                                                                                                                                                                                                                                                                                                                                                                                                                                                                                                                                                                                                                                                                                                                                                                                                                            H2020-MSCA-IF-2015\n",
       "fundingScheme                                                                                                                                                                                                                                                                                                                                                                                                                                                                                                                                                                                                                                                                                                                                                                                                                                                                                                                                                                                                                                                                                                                                                                                                                                                                                                                                                                                                                                                                                                                                                                                                                                                                                                                                                                                                                                                                                                                                                                                                                                                                        MSCA-IF-EF-ST\n",
       "coordinator                                                                                                                                                                                                                                                                                                                                                                                                                                                                                                                                                                                                                                                                                                                                                                                                                                                                                                                                                                                                                                                                                                                                                                                                                                                                                                                                                                                                                                                                                                                                                                                                                                                                                                                                                                                                                                                                                                                                                                                                                                      CENTRE NATIONAL DE LA RECHERCHE SCIENTIFIQUE CNRS\n",
       "coordinatorCountry                                                                                                                                                                                                                                                                                                                                                                                                                                                                                                                                                                                                                                                                                                                                                                                                                                                                                                                                                                                                                                                                                                                                                                                                                                                                                                                                                                                                                                                                                                                                                                                                                                                                                                                                                                                                                                                                                                                                                                                                                                                                              FR\n",
       "participants                                                                                                                                                                                                                                                                                                                                                                                                                                                                                                                                                                                                                                                                                                                                                                                                                                                                                                                                                                                                                                                                                                                                                                                                                                                                                                                                                                                                                                                                                                                                                                                                                                                                                                                                                                                                                                                                                                                                                                                                                                                                                   NaN\n",
       "participantCountries                                                                                                                                                                                                                                                                                                                                                                                                                                                                                                                                                                                                                                                                                                                                                                                                                                                                                                                                                                                                                                                                                                                                                                                                                                                                                                                                                                                                                                                                                                                                                                                                                                                                                                                                                                                                                                                                                                                                                                                                                                                                           NaN\n",
       "subjects                                                                                                                                                                                                                                                                                                                                                                                                                                                                                                                                                                                                                                                                                                                                                                                                                                                                                                                                                                                                                                                                                                                                                                                                                                                                                                                                                                                                                                                                                                                                                                                                                                                                                                                                                                                                                                                                                                                                                                                                                                                                                       NaN\n",
       "Dominant_Topic_1                                                                                                                                                                                                                                                                                                                                                                                                                                                                                                                                                                                                                                                                                                                                                                                                                                                                                                                                                                                                                                                                                                                                                                                                                                                                                                                                                                                                                                                                                                                                                                                                                                                                                                                                                                                                                                                                                                                                                                                                                                                                               277\n",
       "Topic_Prob_1                                                                                                                                                                                                                                                                                                                                                                                                                                                                                                                                                                                                                                                                                                                                                                                                                                                                                                                                                                                                                                                                                                                                                                                                                                                                                                                                                                                                                                                                                                                                                                                                                                                                                                                                                                                                                                                                                                                                                                                                                                                                                0.0557\n",
       "Topic Keywords                                                                                                                                                                                                                                                                                                                                                                                                                                                                                                                                                                                                                                                                                                                                                                                                                                                                                                                                                                                                                                                                                                                                                                                                                                                                                                                                                                                                                                                                                                                                                                                                                                                                                                                                                                                                                                                                                                                                                                                         behavior, sensory, input, stimulus, motor, neuron, cortex, behavioral, cortical, underlying\n",
       "Dominant_Topic_2                                                                                                                                                                                                                                                                                                                                                                                                                                                                                                                                                                                                                                                                                                                                                                                                                                                                                                                                                                                                                                                                                                                                                                                                                                                                                                                                                                                                                                                                                                                                                                                                                                                                                                                                                                                                                                                                                                                                                                                                                                                                               100\n",
       "Topic_Prob_2                                                                                                                                                                                                                                                                                                                                                                                                                                                                                                                                                                                                                                                                                                                                                                                                                                                                                                                                                                                                                                                                                                                                                                                                                                                                                                                                                                                                                                                                                                                                                                                                                                                                                                                                                                                                                                                                                                                                                                                                                                                                                0.0253\n",
       "Topic Keywords                                                                                                                                                                                                                                                                                                                                                                                                                                                                                                                                                                                                                                                                                                                                                                                                                                                                                                                                                                                                                                                                                                                                                                                                                                                                                                                                                                                                                                                                                                                                                                                                                                                                                                                                                                                                                                                                                                                                                                           neural, memory, stimulation, activity, recording, neuroscience, oscillation, hippocampal, fmri, correlate\n",
       "Dominant_Topic_3                                                                                                                                                                                                                                                                                                                                                                                                                                                                                                                                                                                                                                                                                                                                                                                                                                                                                                                                                                                                                                                                                                                                                                                                                                                                                                                                                                                                                                                                                                                                                                                                                                                                                                                                                                                                                                                                                                                                                                                                                                                                               122\n",
       "Topic_Prob_3                                                                                                                                                                                                                                                                                                                                                                                                                                                                                                                                                                                                                                                                                                                                                                                                                                                                                                                                                                                                                                                                                                                                                                                                                                                                                                                                                                                                                                                                                                                                                                                                                                                                                                                                                                                                                                                                                                                                                                                                                                                                                0.0177\n",
       "Topic Keywords                                                                                                                                                                                                                                                                                                                                                                                                                                                                                                                                                                                                                                                                                                                                                                                                                                                                                                                                                                                                                                                                                                                                                                                                                                                                                                                                                                                                                                                                                                                                                                                                                                                                                                                                                                                                                                                                                                                                                                                                         rna, mrna, sequence, coding, nmr, sequencing, splicing, motif, seq, binding\n",
       "Dominant_Topic_4                                                                                                                                                                                                                                                                                                                                                                                                                                                                                                                                                                                                                                                                                                                                                                                                                                                                                                                                                                                                                                                                                                                                                                                                                                                                                                                                                                                                                                                                                                                                                                                                                                                                                                                                                                                                                                                                                                                                                                                                                                                                               267\n",
       "Topic_Prob_4                                                                                                                                                                                                                                                                                                                                                                                                                                                                                                                                                                                                                                                                                                                                                                                                                                                                                                                                                                                                                                                                                                                                                                                                                                                                                                                                                                                                                                                                                                                                                                                                                                                                                                                                                                                                                                                                                                                                                                                                                                                                                0.0159\n",
       "Topic Keywords                                                                                                                                                                                                                                                                                                                                                                                                                                                                                                                                                                                                                                                                                                                                                                                                                                                                                                                                                                                                                                                                                                                                                                                                                                                                                                                                                                                                                                                                                                                                                                                                                                                                                                                                                                                                                                                                                                                                                                              system, subsystem, vertigo, subsequent, absent, planning, prototype, representing, collected, bringing\n",
       "Dominant_Topic_5                                                                                                                                                                                                                                                                                                                                                                                                                                                                                                                                                                                                                                                                                                                                                                                                                                                                                                                                                                                                                                                                                                                                                                                                                                                                                                                                                                                                                                                                                                                                                                                                                                                                                                                                                                                                                                                                                                                                                                                                                                                                               258\n",
       "Topic_Prob_5                                                                                                                                                                                                                                                                                                                                                                                                                                                                                                                                                                                                                                                                                                                                                                                                                                                                                                                                                                                                                                                                                                                                                                                                                                                                                                                                                                                                                                                                                                                                                                                                                                                                                                                                                                                                                                                                                                                                                                                                                                                                                0.0159\n",
       "Topic Keywords                                                                                                                                                                                                                                                                                                                                                                                                                                                                                                                                                                                                                                                                                                                                                                                                                                                                                                                                                                                                                                                                                                                                                                                                                                                                                                                                                                                                                                                                                                                                                                                                                                                                                                                                                                                                                                                                                                                                                                                                       age, life, ageing, adult, aging, healthy, older, related, decline, population\n",
       "Dominant_Topic_6                                                                                                                                                                                                                                                                                                                                                                                                                                                                                                                                                                                                                                                                                                                                                                                                                                                                                                                                                                                                                                                                                                                                                                                                                                                                                                                                                                                                                                                                                                                                                                                                                                                                                                                                                                                                                                                                                                                                                                                                                                                                                35\n",
       "Topic_Prob_6                                                                                                                                                                                                                                                                                                                                                                                                                                                                                                                                                                                                                                                                                                                                                                                                                                                                                                                                                                                                                                                                                                                                                                                                                                                                                                                                                                                                                                                                                                                                                                                                                                                                                                                                                                                                                                                                                                                                                                                                                                                                                0.0114\n",
       "Topic Keywords                                                                                                                                                                                                                                                                                                                                                                                                                                                                                                                                                                                                                                                                                                                                                                                                                                                                                                                                                                                                                                                                                                                                                                                                                                                                                                                                                                                                                                                                                                                                                                                                                                                                                                                                                                                                                                                                                                                                                                                          perception, sound, speech, hearing, perceptual, processing, acoustic, aid, auditory, sense\n",
       "Dominant_Topic_7                                                                                                                                                                                                                                                                                                                                                                                                                                                                                                                                                                                                                                                                                                                                                                                                                                                                                                                                                                                                                                                                                                                                                                                                                                                                                                                                                                                                                                                                                                                                                                                                                                                                                                                                                                                                                                                                                                                                                                                                                                                                               286\n",
       "Topic_Prob_7                                                                                                                                                                                                                                                                                                                                                                                                                                                                                                                                                                                                                                                                                                                                                                                                                                                                                                                                                                                                                                                                                                                                                                                                                                                                                                                                                                                                                                                                                                                                                                                                                                                                                                                                                                                                                                                                                                                                                                                                                                                                                0.0098\n",
       "Topic Keywords                                                                                                                                                                                                                                                                                                                                                                                                                                                                                                                                                                                                                                                                                                                                                                                                                                                                                                                                                                                                                                                                                                                                                                                                                                                                                                                                                                                                                                                                                                                                                                                                                                                                                                                                                                                                                                                                                                                                                                                           natural, nature, process, find, green, isolation, attractive, rich, represents, naturally\n",
       "Dominant_Topic_8                                                                                                                                                                                                                                                                                                                                                                                                                                                                                                                                                                                                                                                                                                                                                                                                                                                                                                                                                                                                                                                                                                                                                                                                                                                                                                                                                                                                                                                                                                                                                                                                                                                                                                                                                                                                                                                                                                                                                                                                                                                                               221\n",
       "Topic_Prob_8                                                                                                                                                                                                                                                                                                                                                                                                                                                                                                                                                                                                                                                                                                                                                                                                                                                                                                                                                                                                                                                                                                                                                                                                                                                                                                                                                                                                                                                                                                                                                                                                                                                                                                                                                                                                                                                                                                                                                                                                                                                                                0.0093\n",
       "Topic Keywords                                                                                                                                                                                                                                                                                                                                                                                                                                                                                                                                                                                                                                                                                                                                                                                                                                                                                                                                                                                                                                                                                                                                                                                                                                                                                                                                                                                                                                                                                                                                                                                                                                                                                                                                                                                                                                                                                                                                                                                                  pattern, gap, major, record, comprehensive, fill, similar, address, colour, fossil\n",
       "Dominant_Topic_9                                                                                                                                                                                                                                                                                                                                                                                                                                                                                                                                                                                                                                                                                                                                                                                                                                                                                                                                                                                                                                                                                                                                                                                                                                                                                                                                                                                                                                                                                                                                                                                                                                                                                                                                                                                                                                                                                                                                                                                                                                                                               248\n",
       "Topic_Prob_9                                                                                                                                                                                                                                                                                                                                                                                                                                                                                                                                                                                                                                                                                                                                                                                                                                                                                                                                                                                                                                                                                                                                                                                                                                                                                                                                                                                                                                                                                                                                                                                                                                                                                                                                                                                                                                                                                                                                                                                                                                                                                0.0093\n",
       "Topic Keywords                                                                                                                                                                                                                                                                                                                                                                                                                                                                                                                                                                                                                                                                                                                                                                                                                                                                                                                                                                                                                                                                                                                                                                                                                                                                                                                                                                                                                                                                                                                                                                                                                                                                                                                                                                                                                                                                                                                                                                                                  long, term, short, lasting, standing, longer, dependence, lifetime, preserve, belt\n",
       "Dominant_Topic_10                                                                                                                                                                                                                                                                                                                                                                                                                                                                                                                                                                                                                                                                                                                                                                                                                                                                                                                                                                                                                                                                                                                                                                                                                                                                                                                                                                                                                                                                                                                                                                                                                                                                                                                                                                                                                                                                                                                                                                                                                                                                              263\n",
       "Topic_Prob_10                                                                                                                                                                                                                                                                                                                                                                                                                                                                                                                                                                                                                                                                                                                                                                                                                                                                                                                                                                                                                                                                                                                                                                                                                                                                                                                                                                                                                                                                                                                                                                                                                                                                                                                                                                                                                                                                                                                                                                                                                                                                               0.0088\n",
       "Topic Keywords                                                                                                                                                                                                                                                                                                                                                                                                                                                                                                                                                                                                                                                                                                                                                                                                                                                                                                                                                                                                                                                                                                                                                                                                                                                                                                                                                                                                                                                                                                                                                                                                                                                                                                                                                                                                                                                                                                                                                               dynamic, quantitative, understanding, insight, diffusion, spatiotemporal, polarity, perturbation, description, detail"
      ]
     },
     "execution_count": 121,
     "metadata": {},
     "output_type": "execute_result"
    }
   ],
   "source": [
    "random_id = sample(false_positives, 1)[0]\n",
    "print('random_id', random_id)\n",
    "\n",
    "print('Is keyword in document:', 'cas9' in filtered_docs[random_id])\n",
    "print()\n",
    "\n",
    "# print(' '.join(filtered_docs[random_id]))\n",
    "filtered_data_df_with_predict.iloc[[random_id]].T"
   ]
  },
  {
   "cell_type": "code",
   "execution_count": null,
   "metadata": {
    "hidden": true
   },
   "outputs": [],
   "source": []
  }
 ],
 "metadata": {
  "kernelspec": {
   "display_name": "Python 3",
   "language": "python",
   "name": "python3"
  },
  "language_info": {
   "codemirror_mode": {
    "name": "ipython",
    "version": 3
   },
   "file_extension": ".py",
   "mimetype": "text/x-python",
   "name": "python",
   "nbconvert_exporter": "python",
   "pygments_lexer": "ipython3",
   "version": "3.6.10"
  },
  "toc": {
   "base_numbering": 1,
   "nav_menu": {},
   "number_sections": true,
   "sideBar": true,
   "skip_h1_title": false,
   "title_cell": "Table of Contents",
   "title_sidebar": "Contents",
   "toc_cell": false,
   "toc_position": {
    "height": "calc(100% - 180px)",
    "left": "10px",
    "top": "150px",
    "width": "266.333px"
   },
   "toc_section_display": true,
   "toc_window_display": true
  }
 },
 "nbformat": 4,
 "nbformat_minor": 4
}
