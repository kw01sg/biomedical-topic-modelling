{
 "cells": [
  {
   "cell_type": "code",
   "execution_count": 1,
   "metadata": {},
   "outputs": [
    {
     "name": "stdout",
     "output_type": "stream",
     "text": [
      "'Associated words.xlsx'     'Text mining word list test 200823.xlsx'\r\n",
      " cordis-h2020projects.xlsx   topics_300_SYinput_LW.csv\r\n"
     ]
    }
   ],
   "source": [
    "!ls ../data"
   ]
  },
  {
   "cell_type": "code",
   "execution_count": 2,
   "metadata": {},
   "outputs": [],
   "source": [
    "import sys\n",
    "sys.path.append(\"../\")\n",
    "\n",
    "%load_ext autoreload\n",
    "%autoreload 2"
   ]
  },
  {
   "cell_type": "markdown",
   "metadata": {
    "heading_collapsed": true
   },
   "source": [
    "## Imports"
   ]
  },
  {
   "cell_type": "code",
   "execution_count": 3,
   "metadata": {
    "hidden": true
   },
   "outputs": [],
   "source": [
    "import pandas as pd\n",
    "pd.set_option('display.max_colwidth', None)\n",
    "import numpy as np\n",
    "\n",
    "import pickle\n",
    "\n",
    "from gensim.models.wrappers import ldamallet\n",
    "from gensim.corpora import Dictionary\n",
    "from gensim.models.wrappers import LdaMallet\n",
    "\n",
    "from scipy.special import rel_entr\n",
    "from scipy.spatial.distance import jensenshannon"
   ]
  },
  {
   "cell_type": "code",
   "execution_count": 4,
   "metadata": {
    "hidden": true
   },
   "outputs": [
    {
     "name": "stderr",
     "output_type": "stream",
     "text": [
      "[nltk_data] Downloading package wordnet to /home/kohkb/nltk_data...\n",
      "[nltk_data]   Package wordnet is already up-to-date!\n",
      "[nltk_data] Downloading package stopwords to /home/kohkb/nltk_data...\n",
      "[nltk_data]   Package stopwords is already up-to-date!\n"
     ]
    }
   ],
   "source": [
    "from src.gensim_helper import create_dictionary, get_coherence\n",
    "from src.process_data import process_data\n",
    "from src.artefacts_helper import load_mallet_model\n",
    "from src.predict import get_term_topics, format_term_search_results, get_all_topics, predict_and_format_topics, get_topics_distribution\n",
    "from src.train import train_lda_mallet"
   ]
  },
  {
   "cell_type": "markdown",
   "metadata": {},
   "source": [
    "## Import and Process Associated Words"
   ]
  },
  {
   "cell_type": "code",
   "execution_count": 12,
   "metadata": {},
   "outputs": [
    {
     "data": {
      "text/html": [
       "<div>\n",
       "<style scoped>\n",
       "    .dataframe tbody tr th:only-of-type {\n",
       "        vertical-align: middle;\n",
       "    }\n",
       "\n",
       "    .dataframe tbody tr th {\n",
       "        vertical-align: top;\n",
       "    }\n",
       "\n",
       "    .dataframe thead th {\n",
       "        text-align: right;\n",
       "    }\n",
       "</style>\n",
       "<table border=\"1\" class=\"dataframe\">\n",
       "  <thead>\n",
       "    <tr style=\"text-align: right;\">\n",
       "      <th></th>\n",
       "      <th>0</th>\n",
       "      <th>1</th>\n",
       "      <th>2</th>\n",
       "      <th>3</th>\n",
       "      <th>4</th>\n",
       "      <th>5</th>\n",
       "    </tr>\n",
       "  </thead>\n",
       "  <tbody>\n",
       "    <tr>\n",
       "      <th>0</th>\n",
       "      <td>editing</td>\n",
       "      <td>crispr</td>\n",
       "      <td>cas9</td>\n",
       "      <td>base editing</td>\n",
       "      <td>NaN</td>\n",
       "      <td>NaN</td>\n",
       "    </tr>\n",
       "    <tr>\n",
       "      <th>1</th>\n",
       "      <td>cancer</td>\n",
       "      <td>carcinoma</td>\n",
       "      <td>p53</td>\n",
       "      <td>tumorigenesis</td>\n",
       "      <td>NaN</td>\n",
       "      <td>NaN</td>\n",
       "    </tr>\n",
       "    <tr>\n",
       "      <th>2</th>\n",
       "      <td>cancer</td>\n",
       "      <td>immunotherapy</td>\n",
       "      <td>leukemia</td>\n",
       "      <td>solid</td>\n",
       "      <td>NaN</td>\n",
       "      <td>NaN</td>\n",
       "    </tr>\n",
       "    <tr>\n",
       "      <th>3</th>\n",
       "      <td>microbiome</td>\n",
       "      <td>bacteria</td>\n",
       "      <td>antibiotic</td>\n",
       "      <td>probiotic</td>\n",
       "      <td>NaN</td>\n",
       "      <td>NaN</td>\n",
       "    </tr>\n",
       "    <tr>\n",
       "      <th>4</th>\n",
       "      <td>RNA</td>\n",
       "      <td>oligonucleotide</td>\n",
       "      <td>non-coding</td>\n",
       "      <td>NaN</td>\n",
       "      <td>NaN</td>\n",
       "      <td>NaN</td>\n",
       "    </tr>\n",
       "  </tbody>\n",
       "</table>\n",
       "</div>"
      ],
      "text/plain": [
       "            0                1           2              3    4    5\n",
       "0     editing           crispr        cas9   base editing  NaN  NaN\n",
       "1      cancer        carcinoma         p53  tumorigenesis  NaN  NaN\n",
       "2      cancer    immunotherapy    leukemia          solid  NaN  NaN\n",
       "3  microbiome         bacteria  antibiotic      probiotic  NaN  NaN\n",
       "4         RNA  oligonucleotide  non-coding            NaN  NaN  NaN"
      ]
     },
     "execution_count": 12,
     "metadata": {},
     "output_type": "execute_result"
    }
   ],
   "source": [
    "associated_words_df = pd.read_excel('../data/Associated words.xlsx', header=None)\n",
    "associated_words_df.head()"
   ]
  },
  {
   "cell_type": "code",
   "execution_count": 13,
   "metadata": {},
   "outputs": [],
   "source": [
    "associated_words = associated_words_df.values\n",
    "# drop na\n",
    "associated_words = [i[pd.notna(i)].tolist() for i in associated_words]"
   ]
  },
  {
   "cell_type": "code",
   "execution_count": 14,
   "metadata": {},
   "outputs": [],
   "source": [
    "associated_words = process_data([' '.join(i) for i in associated_words])"
   ]
  },
  {
   "cell_type": "code",
   "execution_count": 15,
   "metadata": {},
   "outputs": [
    {
     "data": {
      "text/plain": [
       "[['editing', 'crispr', 'cas9', 'base', 'editing'],\n",
       " ['cancer', 'carcinoma', 'p53', 'tumorigenesis'],\n",
       " ['cancer', 'immunotherapy', 'leukemia', 'solid'],\n",
       " ['microbiome', 'bacteria', 'antibiotic', 'probiotic'],\n",
       " ['rna', 'oligonucleotide', 'non', 'coding']]"
      ]
     },
     "execution_count": 15,
     "metadata": {},
     "output_type": "execute_result"
    }
   ],
   "source": [
    "associated_words[:5]"
   ]
  },
  {
   "cell_type": "markdown",
   "metadata": {},
   "source": [
    "## Validate"
   ]
  },
  {
   "cell_type": "markdown",
   "metadata": {},
   "source": [
    "* Treat `associated_words` as labels i.e. each row is a topic\n",
    "* Aim is to see among the topics identified by the topic modelling process:\n",
    "    * which predicted topic best identifies the labelled topic\n",
    "    * by how much does it identifies the labelled topic\n",
    "* two metrics are used to measure difference between topics by treating each topic as a probability distribution:\n",
    "    1. Jensen-Shannon distance, used in LDAvis __(observed that Jensen-Shannon distance is a more stable metric)__\n",
    "    1. Kullback-Leibler Divergence"
   ]
  },
  {
   "cell_type": "markdown",
   "metadata": {},
   "source": [
    "### Unfiltered Model"
   ]
  },
  {
   "cell_type": "code",
   "execution_count": 9,
   "metadata": {},
   "outputs": [],
   "source": [
    "unfiltered_dictionary = Dictionary.load('../artefacts/dictionary')"
   ]
  },
  {
   "cell_type": "code",
   "execution_count": 10,
   "metadata": {},
   "outputs": [],
   "source": [
    "unfiltered_model = load_mallet_model(artefacts_path='../artefacts', suffix='300_topics_mallet_alpha_50')"
   ]
  },
  {
   "cell_type": "code",
   "execution_count": 11,
   "metadata": {},
   "outputs": [],
   "source": [
    "unfiltered_model.mallet_path = '../mallet-2.0.8/bin/mallet'\n",
    "unfiltered_model.prefix = '../artefacts/mallet_tmp/'"
   ]
  },
  {
   "cell_type": "code",
   "execution_count": 12,
   "metadata": {},
   "outputs": [
    {
     "data": {
      "text/plain": [
       "[('political', 0.07788479348027412),\n",
       " ('study', 0.0229672161511391),\n",
       " ('social', 0.021578070012965363),\n",
       " ('politics', 0.020698277458788664),\n",
       " ('discourse', 0.017410631598444155),\n",
       " ('analysis', 0.015651046490090758),\n",
       " ('movement', 0.015002778292276347),\n",
       " ('democracy', 0.013382107797740322),\n",
       " ('democratic', 0.012548620114836082),\n",
       " ('party', 0.011992961659566587)]"
      ]
     },
     "execution_count": 12,
     "metadata": {},
     "output_type": "execute_result"
    }
   ],
   "source": [
    "unfiltered_model.show_topic(0)"
   ]
  },
  {
   "cell_type": "code",
   "execution_count": 13,
   "metadata": {},
   "outputs": [
    {
     "data": {
      "text/plain": [
       "array([0.07788479, 0.02296722, 0.02157807, 0.02069828, 0.01741063,\n",
       "       0.01565105, 0.01500278, 0.01338211, 0.01254862, 0.01199296])"
      ]
     },
     "execution_count": 13,
     "metadata": {},
     "output_type": "execute_result"
    }
   ],
   "source": [
    "# can get probability distribution of a topic in matrix form\n",
    "unfiltered_model.get_topics()[0][unfiltered_dictionary.doc2idx([i[0] for i in unfiltered_model.show_topic(0)])]"
   ]
  },
  {
   "cell_type": "code",
   "execution_count": 14,
   "metadata": {},
   "outputs": [],
   "source": [
    "# variables\n",
    "unfiltered_result_array = np.zeros((30, unfiltered_model.num_topics, 2))\n",
    "unfiltered_topic_array = unfiltered_model.get_topics()\n",
    "unfiltered_label_array = np.zeros((30, len(unfiltered_dictionary.keys())))\n",
    "\n",
    "# initialize label arrays\n",
    "for id_i, i in enumerate(associated_words):\n",
    "    id_list = unfiltered_dictionary.doc2idx(set(i))\n",
    "    for j in id_list:\n",
    "        unfiltered_label_array[id_i][j] = 1.0 / len(id_list)\n",
    "\n",
    "for i in range(30):\n",
    "    for j in range(unfiltered_model.num_topics):\n",
    "        jensenshannon_score = jensenshannon(unfiltered_label_array[i], unfiltered_topic_array[j])\n",
    "        rel_entr_score = sum(rel_entr(unfiltered_label_array[i], unfiltered_topic_array[j]))\n",
    "        unfiltered_result_array[i][j] = (jensenshannon_score, rel_entr_score)"
   ]
  },
  {
   "cell_type": "code",
   "execution_count": 15,
   "metadata": {},
   "outputs": [],
   "source": [
    "unfiltered_topics_df = get_all_topics(unfiltered_model).set_index('Topic_Id')\n",
    "unfiltered_df = unfiltered_topics_df.iloc[unfiltered_result_array[:,:,0].argmin(1)].reset_index()\n",
    "unfiltered_df['divergence_score'] = unfiltered_result_array[:,:,0].min(1)"
   ]
  },
  {
   "cell_type": "code",
   "execution_count": 16,
   "metadata": {},
   "outputs": [
    {
     "data": {
      "text/html": [
       "<div>\n",
       "<style scoped>\n",
       "    .dataframe tbody tr th:only-of-type {\n",
       "        vertical-align: middle;\n",
       "    }\n",
       "\n",
       "    .dataframe tbody tr th {\n",
       "        vertical-align: top;\n",
       "    }\n",
       "\n",
       "    .dataframe thead th {\n",
       "        text-align: right;\n",
       "    }\n",
       "</style>\n",
       "<table border=\"1\" class=\"dataframe\">\n",
       "  <thead>\n",
       "    <tr style=\"text-align: right;\">\n",
       "      <th></th>\n",
       "      <th>Topic_Id</th>\n",
       "      <th>Topic_Keywords</th>\n",
       "      <th>divergence_score</th>\n",
       "    </tr>\n",
       "  </thead>\n",
       "  <tbody>\n",
       "    <tr>\n",
       "      <th>0</th>\n",
       "      <td>54</td>\n",
       "      <td>gene, genetic, genome, expression, mutation, molecular, genomic, crispr, identify, sequencing</td>\n",
       "      <td>0.781123</td>\n",
       "    </tr>\n",
       "    <tr>\n",
       "      <th>1</th>\n",
       "      <td>72</td>\n",
       "      <td>cancer, tumor, tumour, cell, treatment, therapy, patient, breast, therapeutic, metastasis</td>\n",
       "      <td>0.732720</td>\n",
       "    </tr>\n",
       "    <tr>\n",
       "      <th>2</th>\n",
       "      <td>72</td>\n",
       "      <td>cancer, tumor, tumour, cell, treatment, therapy, patient, breast, therapeutic, metastasis</td>\n",
       "      <td>0.720687</td>\n",
       "    </tr>\n",
       "    <tr>\n",
       "      <th>3</th>\n",
       "      <td>126</td>\n",
       "      <td>resistance, antibiotic, bacteria, bacterial, pathogen, infection, resistant, antimicrobial, host, phage</td>\n",
       "      <td>0.736221</td>\n",
       "    </tr>\n",
       "    <tr>\n",
       "      <th>4</th>\n",
       "      <td>189</td>\n",
       "      <td>protein, rna, mrna, function, gene, expression, modification, cell, translation, cellular</td>\n",
       "      <td>0.762226</td>\n",
       "    </tr>\n",
       "  </tbody>\n",
       "</table>\n",
       "</div>"
      ],
      "text/plain": [
       "   Topic_Id  \\\n",
       "0        54   \n",
       "1        72   \n",
       "2        72   \n",
       "3       126   \n",
       "4       189   \n",
       "\n",
       "                                                                                            Topic_Keywords  \\\n",
       "0            gene, genetic, genome, expression, mutation, molecular, genomic, crispr, identify, sequencing   \n",
       "1                cancer, tumor, tumour, cell, treatment, therapy, patient, breast, therapeutic, metastasis   \n",
       "2                cancer, tumor, tumour, cell, treatment, therapy, patient, breast, therapeutic, metastasis   \n",
       "3  resistance, antibiotic, bacteria, bacterial, pathogen, infection, resistant, antimicrobial, host, phage   \n",
       "4                protein, rna, mrna, function, gene, expression, modification, cell, translation, cellular   \n",
       "\n",
       "   divergence_score  \n",
       "0          0.781123  \n",
       "1          0.732720  \n",
       "2          0.720687  \n",
       "3          0.736221  \n",
       "4          0.762226  "
      ]
     },
     "execution_count": 16,
     "metadata": {},
     "output_type": "execute_result"
    }
   ],
   "source": [
    "unfiltered_df.head()"
   ]
  },
  {
   "cell_type": "code",
   "execution_count": 17,
   "metadata": {},
   "outputs": [
    {
     "data": {
      "text/plain": [
       "22.323378320003215"
      ]
     },
     "execution_count": 17,
     "metadata": {},
     "output_type": "execute_result"
    }
   ],
   "source": [
    "# for reproducbility. should equal 22.323378320003215\n",
    "unfiltered_df['divergence_score'].sum()"
   ]
  },
  {
   "cell_type": "code",
   "execution_count": 42,
   "metadata": {},
   "outputs": [],
   "source": [
    "# unfiltered_df.to_csv('../output/df_unfiltered_associated_words.csv', index=False)\n",
    "# get_all_topics(unfiltered_model).to_csv('../output/unfiltered_300_topics.csv', index=False)"
   ]
  },
  {
   "cell_type": "markdown",
   "metadata": {},
   "source": [
    "#### Top 10 topics"
   ]
  },
  {
   "cell_type": "code",
   "execution_count": 18,
   "metadata": {},
   "outputs": [
    {
     "data": {
      "text/html": [
       "<div>\n",
       "<style scoped>\n",
       "    .dataframe tbody tr th:only-of-type {\n",
       "        vertical-align: middle;\n",
       "    }\n",
       "\n",
       "    .dataframe tbody tr th {\n",
       "        vertical-align: top;\n",
       "    }\n",
       "\n",
       "    .dataframe thead th {\n",
       "        text-align: right;\n",
       "    }\n",
       "</style>\n",
       "<table border=\"1\" class=\"dataframe\">\n",
       "  <thead>\n",
       "    <tr style=\"text-align: right;\">\n",
       "      <th></th>\n",
       "      <th>Topic_Id</th>\n",
       "      <th>Topic_Keywords</th>\n",
       "      <th>divergence_score</th>\n",
       "    </tr>\n",
       "  </thead>\n",
       "  <tbody>\n",
       "    <tr>\n",
       "      <th>12</th>\n",
       "      <td>42</td>\n",
       "      <td>energy, efficiency, consumption, efficient, saving, renewable, household, sector, demand, consumer</td>\n",
       "      <td>0.646525</td>\n",
       "    </tr>\n",
       "    <tr>\n",
       "      <th>24</th>\n",
       "      <td>126</td>\n",
       "      <td>resistance, antibiotic, bacteria, bacterial, pathogen, infection, resistant, antimicrobial, host, phage</td>\n",
       "      <td>0.651705</td>\n",
       "    </tr>\n",
       "    <tr>\n",
       "      <th>17</th>\n",
       "      <td>297</td>\n",
       "      <td>virus, vaccine, disease, infection, viral, vector, human, hiv, infectious, pathogen</td>\n",
       "      <td>0.671244</td>\n",
       "    </tr>\n",
       "    <tr>\n",
       "      <th>8</th>\n",
       "      <td>268</td>\n",
       "      <td>data, big, analytics, analysis, collection, driven, collected, information, collect, management</td>\n",
       "      <td>0.692078</td>\n",
       "    </tr>\n",
       "    <tr>\n",
       "      <th>18</th>\n",
       "      <td>229</td>\n",
       "      <td>drug, development, discovery, pharmaceutical, compound, screening, target, candidate, molecule, therapeutic</td>\n",
       "      <td>0.706250</td>\n",
       "    </tr>\n",
       "    <tr>\n",
       "      <th>28</th>\n",
       "      <td>221</td>\n",
       "      <td>heart, cardiac, failure, cardiovascular, death, valve, cvd, risk, hf, myocardial</td>\n",
       "      <td>0.714016</td>\n",
       "    </tr>\n",
       "    <tr>\n",
       "      <th>29</th>\n",
       "      <td>20</td>\n",
       "      <td>analysis, method, study, analytical, approach, technique, provide, comprehensive, analyse, methodology</td>\n",
       "      <td>0.717595</td>\n",
       "    </tr>\n",
       "    <tr>\n",
       "      <th>2</th>\n",
       "      <td>72</td>\n",
       "      <td>cancer, tumor, tumour, cell, treatment, therapy, patient, breast, therapeutic, metastasis</td>\n",
       "      <td>0.720687</td>\n",
       "    </tr>\n",
       "    <tr>\n",
       "      <th>27</th>\n",
       "      <td>54</td>\n",
       "      <td>gene, genetic, genome, expression, mutation, molecular, genomic, crispr, identify, sequencing</td>\n",
       "      <td>0.720898</td>\n",
       "    </tr>\n",
       "    <tr>\n",
       "      <th>1</th>\n",
       "      <td>72</td>\n",
       "      <td>cancer, tumor, tumour, cell, treatment, therapy, patient, breast, therapeutic, metastasis</td>\n",
       "      <td>0.732720</td>\n",
       "    </tr>\n",
       "  </tbody>\n",
       "</table>\n",
       "</div>"
      ],
      "text/plain": [
       "    Topic_Id  \\\n",
       "12        42   \n",
       "24       126   \n",
       "17       297   \n",
       "8        268   \n",
       "18       229   \n",
       "28       221   \n",
       "29        20   \n",
       "2         72   \n",
       "27        54   \n",
       "1         72   \n",
       "\n",
       "                                                                                                 Topic_Keywords  \\\n",
       "12           energy, efficiency, consumption, efficient, saving, renewable, household, sector, demand, consumer   \n",
       "24      resistance, antibiotic, bacteria, bacterial, pathogen, infection, resistant, antimicrobial, host, phage   \n",
       "17                          virus, vaccine, disease, infection, viral, vector, human, hiv, infectious, pathogen   \n",
       "8               data, big, analytics, analysis, collection, driven, collected, information, collect, management   \n",
       "18  drug, development, discovery, pharmaceutical, compound, screening, target, candidate, molecule, therapeutic   \n",
       "28                             heart, cardiac, failure, cardiovascular, death, valve, cvd, risk, hf, myocardial   \n",
       "29       analysis, method, study, analytical, approach, technique, provide, comprehensive, analyse, methodology   \n",
       "2                     cancer, tumor, tumour, cell, treatment, therapy, patient, breast, therapeutic, metastasis   \n",
       "27                gene, genetic, genome, expression, mutation, molecular, genomic, crispr, identify, sequencing   \n",
       "1                     cancer, tumor, tumour, cell, treatment, therapy, patient, breast, therapeutic, metastasis   \n",
       "\n",
       "    divergence_score  \n",
       "12          0.646525  \n",
       "24          0.651705  \n",
       "17          0.671244  \n",
       "8           0.692078  \n",
       "18          0.706250  \n",
       "28          0.714016  \n",
       "29          0.717595  \n",
       "2           0.720687  \n",
       "27          0.720898  \n",
       "1           0.732720  "
      ]
     },
     "execution_count": 18,
     "metadata": {},
     "output_type": "execute_result"
    }
   ],
   "source": [
    "unfiltered_df.sort_values('divergence_score').head(10)"
   ]
  },
  {
   "cell_type": "markdown",
   "metadata": {},
   "source": [
    "#### Worst 10 topics"
   ]
  },
  {
   "cell_type": "code",
   "execution_count": 19,
   "metadata": {},
   "outputs": [
    {
     "data": {
      "text/html": [
       "<div>\n",
       "<style scoped>\n",
       "    .dataframe tbody tr th:only-of-type {\n",
       "        vertical-align: middle;\n",
       "    }\n",
       "\n",
       "    .dataframe tbody tr th {\n",
       "        vertical-align: top;\n",
       "    }\n",
       "\n",
       "    .dataframe thead th {\n",
       "        text-align: right;\n",
       "    }\n",
       "</style>\n",
       "<table border=\"1\" class=\"dataframe\">\n",
       "  <thead>\n",
       "    <tr style=\"text-align: right;\">\n",
       "      <th></th>\n",
       "      <th>Topic_Id</th>\n",
       "      <th>Topic_Keywords</th>\n",
       "      <th>divergence_score</th>\n",
       "    </tr>\n",
       "  </thead>\n",
       "  <tbody>\n",
       "    <tr>\n",
       "      <th>25</th>\n",
       "      <td>227</td>\n",
       "      <td>selection, population, genetic, evolution, variation, trait, fitness, natural, adaptation, parasite</td>\n",
       "      <td>0.813210</td>\n",
       "    </tr>\n",
       "    <tr>\n",
       "      <th>16</th>\n",
       "      <td>122</td>\n",
       "      <td>vision, visual, image, object, eye, computer, world, display, scene, camera</td>\n",
       "      <td>0.795495</td>\n",
       "    </tr>\n",
       "    <tr>\n",
       "      <th>13</th>\n",
       "      <td>63</td>\n",
       "      <td>health, intervention, care, mental, evidence, prevention, risk, outcome, impact, population</td>\n",
       "      <td>0.794194</td>\n",
       "    </tr>\n",
       "    <tr>\n",
       "      <th>19</th>\n",
       "      <td>209</td>\n",
       "      <td>cell, membrane, protein, cellular, lipid, molecular, microscopy, function, biology, vesicle</td>\n",
       "      <td>0.786025</td>\n",
       "    </tr>\n",
       "    <tr>\n",
       "      <th>11</th>\n",
       "      <td>266</td>\n",
       "      <td>life, ageing, people, age, population, aging, related, elderly, older, living</td>\n",
       "      <td>0.784862</td>\n",
       "    </tr>\n",
       "    <tr>\n",
       "      <th>21</th>\n",
       "      <td>11</td>\n",
       "      <td>tissue, cell, organ, vitro, vivo, culture, model, disease, human, kidney</td>\n",
       "      <td>0.783175</td>\n",
       "    </tr>\n",
       "    <tr>\n",
       "      <th>0</th>\n",
       "      <td>54</td>\n",
       "      <td>gene, genetic, genome, expression, mutation, molecular, genomic, crispr, identify, sequencing</td>\n",
       "      <td>0.781123</td>\n",
       "    </tr>\n",
       "    <tr>\n",
       "      <th>5</th>\n",
       "      <td>197</td>\n",
       "      <td>disease, ad, neurodegenerative, al, alzheimer, disorder, therapeutic, model, pathology, dementia</td>\n",
       "      <td>0.776501</td>\n",
       "    </tr>\n",
       "    <tr>\n",
       "      <th>15</th>\n",
       "      <td>266</td>\n",
       "      <td>life, ageing, people, age, population, aging, related, elderly, older, living</td>\n",
       "      <td>0.767273</td>\n",
       "    </tr>\n",
       "    <tr>\n",
       "      <th>26</th>\n",
       "      <td>206</td>\n",
       "      <td>neuron, neuronal, circuit, brain, synaptic, activity, neural, plasticity, function, mouse</td>\n",
       "      <td>0.766088</td>\n",
       "    </tr>\n",
       "  </tbody>\n",
       "</table>\n",
       "</div>"
      ],
      "text/plain": [
       "    Topic_Id  \\\n",
       "25       227   \n",
       "16       122   \n",
       "13        63   \n",
       "19       209   \n",
       "11       266   \n",
       "21        11   \n",
       "0         54   \n",
       "5        197   \n",
       "15       266   \n",
       "26       206   \n",
       "\n",
       "                                                                                         Topic_Keywords  \\\n",
       "25  selection, population, genetic, evolution, variation, trait, fitness, natural, adaptation, parasite   \n",
       "16                          vision, visual, image, object, eye, computer, world, display, scene, camera   \n",
       "13          health, intervention, care, mental, evidence, prevention, risk, outcome, impact, population   \n",
       "19          cell, membrane, protein, cellular, lipid, molecular, microscopy, function, biology, vesicle   \n",
       "11                        life, ageing, people, age, population, aging, related, elderly, older, living   \n",
       "21                             tissue, cell, organ, vitro, vivo, culture, model, disease, human, kidney   \n",
       "0         gene, genetic, genome, expression, mutation, molecular, genomic, crispr, identify, sequencing   \n",
       "5      disease, ad, neurodegenerative, al, alzheimer, disorder, therapeutic, model, pathology, dementia   \n",
       "15                        life, ageing, people, age, population, aging, related, elderly, older, living   \n",
       "26            neuron, neuronal, circuit, brain, synaptic, activity, neural, plasticity, function, mouse   \n",
       "\n",
       "    divergence_score  \n",
       "25          0.813210  \n",
       "16          0.795495  \n",
       "13          0.794194  \n",
       "19          0.786025  \n",
       "11          0.784862  \n",
       "21          0.783175  \n",
       "0           0.781123  \n",
       "5           0.776501  \n",
       "15          0.767273  \n",
       "26          0.766088  "
      ]
     },
     "execution_count": 19,
     "metadata": {},
     "output_type": "execute_result"
    }
   ],
   "source": [
    "unfiltered_df.sort_values('divergence_score', ascending=False).head(10)"
   ]
  },
  {
   "cell_type": "markdown",
   "metadata": {},
   "source": [
    "### Filtered Model"
   ]
  },
  {
   "cell_type": "markdown",
   "metadata": {
    "heading_collapsed": true
   },
   "source": [
    "#### Top 3"
   ]
  },
  {
   "cell_type": "code",
   "execution_count": 16,
   "metadata": {
    "hidden": true
   },
   "outputs": [],
   "source": [
    "filtered_dictionary = Dictionary.load('../artefacts/filtered_dictionary')"
   ]
  },
  {
   "cell_type": "code",
   "execution_count": 17,
   "metadata": {
    "hidden": true
   },
   "outputs": [
    {
     "name": "stdout",
     "output_type": "stream",
     "text": [
      "19702\n"
     ]
    }
   ],
   "source": [
    "with open('../artefacts/filtered_docs.pkl', 'rb') as f:\n",
    "    filtered_docs = pickle.load(f)\n",
    "\n",
    "print(len(filtered_docs))"
   ]
  },
  {
   "cell_type": "code",
   "execution_count": 18,
   "metadata": {
    "hidden": true
   },
   "outputs": [],
   "source": [
    "filtered_model = load_mallet_model(artefacts_path='../artefacts', suffix='filtered_top_3')"
   ]
  },
  {
   "cell_type": "code",
   "execution_count": 19,
   "metadata": {
    "hidden": true
   },
   "outputs": [],
   "source": [
    "filtered_model.mallet_path = '../mallet-2.0.8/bin/mallet'\n",
    "filtered_model.prefix = '../artefacts/mallet_tmp/'"
   ]
  },
  {
   "cell_type": "code",
   "execution_count": null,
   "metadata": {
    "hidden": true
   },
   "outputs": [],
   "source": [
    "# check for reproducibility\n",
    "get_coherence(filtered_model, filtered_docs, filtered_dictionary)"
   ]
  },
  {
   "cell_type": "code",
   "execution_count": 20,
   "metadata": {
    "hidden": true
   },
   "outputs": [
    {
     "data": {
      "text/plain": [
       "[('wave', 0.0855628796691224),\n",
       " ('frequency', 0.08297789841023652),\n",
       " ('high', 0.03786997544267804),\n",
       " ('based', 0.027788548533023136),\n",
       " ('application', 0.0264960579035802),\n",
       " ('generation', 0.025332816337081555),\n",
       " ('comb', 0.024298823833527206),\n",
       " ('dual', 0.022360087889362803),\n",
       " ('source', 0.020679850071086983),\n",
       " ('propagation', 0.020421351945198396)]"
      ]
     },
     "execution_count": 20,
     "metadata": {},
     "output_type": "execute_result"
    }
   ],
   "source": [
    "filtered_model.show_topic(0)"
   ]
  },
  {
   "cell_type": "code",
   "execution_count": 21,
   "metadata": {
    "hidden": true
   },
   "outputs": [],
   "source": [
    "# variables\n",
    "filtered_result_array = np.zeros((30, filtered_model.num_topics, 2))\n",
    "filtered_topic_array = filtered_model.get_topics()\n",
    "filtered_label_array = np.zeros((30, len(filtered_dictionary.keys())))\n",
    "\n",
    "# initialize label arrays\n",
    "for id_i, i in enumerate(associated_words):\n",
    "    id_list = filtered_dictionary.doc2idx(set(i))\n",
    "    for j in id_list:\n",
    "        filtered_label_array[id_i][j] = 1.0 / len(id_list)\n",
    "\n",
    "for i in range(30):\n",
    "    for j in range(filtered_model.num_topics):\n",
    "        jensenshannon_score = jensenshannon(filtered_label_array[i], filtered_topic_array[j])\n",
    "        rel_entr_score = sum(rel_entr(filtered_label_array[i], filtered_topic_array[j]))\n",
    "        filtered_result_array[i][j] = (jensenshannon_score, rel_entr_score)"
   ]
  },
  {
   "cell_type": "code",
   "execution_count": 22,
   "metadata": {
    "hidden": true
   },
   "outputs": [],
   "source": [
    "filtered_topics_df = get_all_topics(filtered_model).set_index('Topic_Id')\n",
    "filtered_df = filtered_topics_df.iloc[filtered_result_array[:,:,0].argmin(1)].reset_index()\n",
    "filtered_df['divergence_score'] = filtered_result_array[:,:,0].min(1)"
   ]
  },
  {
   "cell_type": "code",
   "execution_count": 23,
   "metadata": {
    "hidden": true,
    "scrolled": true
   },
   "outputs": [
    {
     "data": {
      "text/html": [
       "<div>\n",
       "<style scoped>\n",
       "    .dataframe tbody tr th:only-of-type {\n",
       "        vertical-align: middle;\n",
       "    }\n",
       "\n",
       "    .dataframe tbody tr th {\n",
       "        vertical-align: top;\n",
       "    }\n",
       "\n",
       "    .dataframe thead th {\n",
       "        text-align: right;\n",
       "    }\n",
       "</style>\n",
       "<table border=\"1\" class=\"dataframe\">\n",
       "  <thead>\n",
       "    <tr style=\"text-align: right;\">\n",
       "      <th></th>\n",
       "      <th>Topic_Id</th>\n",
       "      <th>Topic_Keywords</th>\n",
       "      <th>divergence_score</th>\n",
       "    </tr>\n",
       "  </thead>\n",
       "  <tbody>\n",
       "    <tr>\n",
       "      <th>0</th>\n",
       "      <td>40</td>\n",
       "      <td>gene, genome, expression, genetic, mutation, crispr, editing, functional, identify, cas9</td>\n",
       "      <td>0.757357</td>\n",
       "    </tr>\n",
       "    <tr>\n",
       "      <th>1</th>\n",
       "      <td>228</td>\n",
       "      <td>cancer, tumor, tumour, breast, therapy, cell, treatment, metastasis, metastatic, patient</td>\n",
       "      <td>0.696356</td>\n",
       "    </tr>\n",
       "    <tr>\n",
       "      <th>2</th>\n",
       "      <td>228</td>\n",
       "      <td>cancer, tumor, tumour, breast, therapy, cell, treatment, metastasis, metastatic, patient</td>\n",
       "      <td>0.704889</td>\n",
       "    </tr>\n",
       "    <tr>\n",
       "      <th>3</th>\n",
       "      <td>109</td>\n",
       "      <td>resistance, antibiotic, bacteria, bacterial, infection, resistant, antimicrobial, pathogen, pa, toxin</td>\n",
       "      <td>0.720164</td>\n",
       "    </tr>\n",
       "    <tr>\n",
       "      <th>4</th>\n",
       "      <td>111</td>\n",
       "      <td>rna, mrna, translation, coding, function, regulation, expression, small, mirnas, protein</td>\n",
       "      <td>0.722837</td>\n",
       "    </tr>\n",
       "  </tbody>\n",
       "</table>\n",
       "</div>"
      ],
      "text/plain": [
       "   Topic_Id  \\\n",
       "0        40   \n",
       "1       228   \n",
       "2       228   \n",
       "3       109   \n",
       "4       111   \n",
       "\n",
       "                                                                                          Topic_Keywords  \\\n",
       "0               gene, genome, expression, genetic, mutation, crispr, editing, functional, identify, cas9   \n",
       "1               cancer, tumor, tumour, breast, therapy, cell, treatment, metastasis, metastatic, patient   \n",
       "2               cancer, tumor, tumour, breast, therapy, cell, treatment, metastasis, metastatic, patient   \n",
       "3  resistance, antibiotic, bacteria, bacterial, infection, resistant, antimicrobial, pathogen, pa, toxin   \n",
       "4               rna, mrna, translation, coding, function, regulation, expression, small, mirnas, protein   \n",
       "\n",
       "   divergence_score  \n",
       "0          0.757357  \n",
       "1          0.696356  \n",
       "2          0.704889  \n",
       "3          0.720164  \n",
       "4          0.722837  "
      ]
     },
     "execution_count": 23,
     "metadata": {},
     "output_type": "execute_result"
    }
   ],
   "source": [
    "filtered_df.head()"
   ]
  },
  {
   "cell_type": "code",
   "execution_count": 24,
   "metadata": {
    "hidden": true
   },
   "outputs": [
    {
     "data": {
      "text/plain": [
       "21.853238639749286"
      ]
     },
     "execution_count": 24,
     "metadata": {},
     "output_type": "execute_result"
    }
   ],
   "source": [
    "# for reproducibility. should equal 21.853238639749286\n",
    "filtered_df['divergence_score'].sum()"
   ]
  },
  {
   "cell_type": "code",
   "execution_count": 18,
   "metadata": {
    "hidden": true
   },
   "outputs": [],
   "source": [
    "# filtered_df.to_csv('../output/df_filtered_associated_words.csv', index=False)\n",
    "# get_all_topics(filtered_model).to_csv('../output/df_filtered_topics.csv', index=False)"
   ]
  },
  {
   "cell_type": "markdown",
   "metadata": {
    "heading_collapsed": true,
    "hidden": true
   },
   "source": [
    "##### Top 10 topics"
   ]
  },
  {
   "cell_type": "code",
   "execution_count": 30,
   "metadata": {
    "hidden": true
   },
   "outputs": [
    {
     "data": {
      "text/html": [
       "<div>\n",
       "<style scoped>\n",
       "    .dataframe tbody tr th:only-of-type {\n",
       "        vertical-align: middle;\n",
       "    }\n",
       "\n",
       "    .dataframe tbody tr th {\n",
       "        vertical-align: top;\n",
       "    }\n",
       "\n",
       "    .dataframe thead th {\n",
       "        text-align: right;\n",
       "    }\n",
       "</style>\n",
       "<table border=\"1\" class=\"dataframe\">\n",
       "  <thead>\n",
       "    <tr style=\"text-align: right;\">\n",
       "      <th></th>\n",
       "      <th>Topic_Id</th>\n",
       "      <th>Topic_Keywords</th>\n",
       "      <th>divergence_score</th>\n",
       "    </tr>\n",
       "  </thead>\n",
       "  <tbody>\n",
       "    <tr>\n",
       "      <th>24</th>\n",
       "      <td>109</td>\n",
       "      <td>resistance, antibiotic, bacteria, bacterial, infection, resistant, antimicrobial, pathogen, pa, toxin</td>\n",
       "      <td>0.620899</td>\n",
       "    </tr>\n",
       "    <tr>\n",
       "      <th>17</th>\n",
       "      <td>13</td>\n",
       "      <td>vaccine, virus, viral, infection, hiv, response, antiviral, vaccination, human, influenza</td>\n",
       "      <td>0.634735</td>\n",
       "    </tr>\n",
       "    <tr>\n",
       "      <th>12</th>\n",
       "      <td>22</td>\n",
       "      <td>energy, solar, efficiency, power, grid, efficient, consumption, electricity, harvesting, renewable</td>\n",
       "      <td>0.684919</td>\n",
       "    </tr>\n",
       "    <tr>\n",
       "      <th>27</th>\n",
       "      <td>40</td>\n",
       "      <td>gene, genome, expression, genetic, mutation, crispr, editing, functional, identify, cas9</td>\n",
       "      <td>0.692319</td>\n",
       "    </tr>\n",
       "    <tr>\n",
       "      <th>18</th>\n",
       "      <td>192</td>\n",
       "      <td>drug, discovery, development, pharmaceutical, compound, screening, molecule, target, candidate, pharma</td>\n",
       "      <td>0.692936</td>\n",
       "    </tr>\n",
       "    <tr>\n",
       "      <th>1</th>\n",
       "      <td>228</td>\n",
       "      <td>cancer, tumor, tumour, breast, therapy, cell, treatment, metastasis, metastatic, patient</td>\n",
       "      <td>0.696356</td>\n",
       "    </tr>\n",
       "    <tr>\n",
       "      <th>8</th>\n",
       "      <td>127</td>\n",
       "      <td>data, big, analytics, processing, analysis, information, driven, amount, source, business</td>\n",
       "      <td>0.698552</td>\n",
       "    </tr>\n",
       "    <tr>\n",
       "      <th>28</th>\n",
       "      <td>248</td>\n",
       "      <td>heart, cardiac, failure, disease, cardiovascular, death, hf, af, clinical, myocardial</td>\n",
       "      <td>0.704877</td>\n",
       "    </tr>\n",
       "    <tr>\n",
       "      <th>2</th>\n",
       "      <td>228</td>\n",
       "      <td>cancer, tumor, tumour, breast, therapy, cell, treatment, metastasis, metastatic, patient</td>\n",
       "      <td>0.704889</td>\n",
       "    </tr>\n",
       "    <tr>\n",
       "      <th>22</th>\n",
       "      <td>18</td>\n",
       "      <td>metabolic, diabetes, metabolism, glucose, insulin, disease, type, beta, metabolite, diabetic</td>\n",
       "      <td>0.716179</td>\n",
       "    </tr>\n",
       "  </tbody>\n",
       "</table>\n",
       "</div>"
      ],
      "text/plain": [
       "    Topic_Id  \\\n",
       "24       109   \n",
       "17        13   \n",
       "12        22   \n",
       "27        40   \n",
       "18       192   \n",
       "1        228   \n",
       "8        127   \n",
       "28       248   \n",
       "2        228   \n",
       "22        18   \n",
       "\n",
       "                                                                                            Topic_Keywords  \\\n",
       "24   resistance, antibiotic, bacteria, bacterial, infection, resistant, antimicrobial, pathogen, pa, toxin   \n",
       "17               vaccine, virus, viral, infection, hiv, response, antiviral, vaccination, human, influenza   \n",
       "12      energy, solar, efficiency, power, grid, efficient, consumption, electricity, harvesting, renewable   \n",
       "27                gene, genome, expression, genetic, mutation, crispr, editing, functional, identify, cas9   \n",
       "18  drug, discovery, development, pharmaceutical, compound, screening, molecule, target, candidate, pharma   \n",
       "1                 cancer, tumor, tumour, breast, therapy, cell, treatment, metastasis, metastatic, patient   \n",
       "8                data, big, analytics, processing, analysis, information, driven, amount, source, business   \n",
       "28                   heart, cardiac, failure, disease, cardiovascular, death, hf, af, clinical, myocardial   \n",
       "2                 cancer, tumor, tumour, breast, therapy, cell, treatment, metastasis, metastatic, patient   \n",
       "22            metabolic, diabetes, metabolism, glucose, insulin, disease, type, beta, metabolite, diabetic   \n",
       "\n",
       "    divergence_score  \n",
       "24          0.620899  \n",
       "17          0.634735  \n",
       "12          0.684919  \n",
       "27          0.692319  \n",
       "18          0.692936  \n",
       "1           0.696356  \n",
       "8           0.698552  \n",
       "28          0.704877  \n",
       "2           0.704889  \n",
       "22          0.716179  "
      ]
     },
     "execution_count": 30,
     "metadata": {},
     "output_type": "execute_result"
    }
   ],
   "source": [
    "filtered_df.sort_values('divergence_score').head(10)"
   ]
  },
  {
   "cell_type": "markdown",
   "metadata": {
    "heading_collapsed": true,
    "hidden": true
   },
   "source": [
    "##### Worst 10 topics"
   ]
  },
  {
   "cell_type": "code",
   "execution_count": 31,
   "metadata": {
    "hidden": true
   },
   "outputs": [
    {
     "data": {
      "text/html": [
       "<div>\n",
       "<style scoped>\n",
       "    .dataframe tbody tr th:only-of-type {\n",
       "        vertical-align: middle;\n",
       "    }\n",
       "\n",
       "    .dataframe tbody tr th {\n",
       "        vertical-align: top;\n",
       "    }\n",
       "\n",
       "    .dataframe thead th {\n",
       "        text-align: right;\n",
       "    }\n",
       "</style>\n",
       "<table border=\"1\" class=\"dataframe\">\n",
       "  <thead>\n",
       "    <tr style=\"text-align: right;\">\n",
       "      <th></th>\n",
       "      <th>Topic_Id</th>\n",
       "      <th>Topic_Keywords</th>\n",
       "      <th>divergence_score</th>\n",
       "    </tr>\n",
       "  </thead>\n",
       "  <tbody>\n",
       "    <tr>\n",
       "      <th>25</th>\n",
       "      <td>7</td>\n",
       "      <td>host, pathogen, disease, infection, parasite, vector, malaria, transmission, effector, infectious</td>\n",
       "      <td>0.783972</td>\n",
       "    </tr>\n",
       "    <tr>\n",
       "      <th>26</th>\n",
       "      <td>260</td>\n",
       "      <td>neuron, neuronal, circuit, brain, activity, neural, plasticity, mouse, cortical, functional</td>\n",
       "      <td>0.773999</td>\n",
       "    </tr>\n",
       "    <tr>\n",
       "      <th>19</th>\n",
       "      <td>223</td>\n",
       "      <td>resolution, imaging, microscopy, high, technique, super, microscope, fluorescence, live, electron</td>\n",
       "      <td>0.770918</td>\n",
       "    </tr>\n",
       "    <tr>\n",
       "      <th>9</th>\n",
       "      <td>143</td>\n",
       "      <td>sex, female, reproductive, male, sexual, woman, reproduction, gender, fertility, specific</td>\n",
       "      <td>0.769370</td>\n",
       "    </tr>\n",
       "    <tr>\n",
       "      <th>7</th>\n",
       "      <td>40</td>\n",
       "      <td>gene, genome, expression, genetic, mutation, crispr, editing, functional, identify, cas9</td>\n",
       "      <td>0.763956</td>\n",
       "    </tr>\n",
       "    <tr>\n",
       "      <th>5</th>\n",
       "      <td>14</td>\n",
       "      <td>disease, ad, neurodegenerative, alzheimer, al, model, pathology, brain, parkinson, disorder</td>\n",
       "      <td>0.762077</td>\n",
       "    </tr>\n",
       "    <tr>\n",
       "      <th>11</th>\n",
       "      <td>256</td>\n",
       "      <td>population, age, ageing, aging, related, life, healthy, older, decline, adult</td>\n",
       "      <td>0.761539</td>\n",
       "    </tr>\n",
       "    <tr>\n",
       "      <th>15</th>\n",
       "      <td>256</td>\n",
       "      <td>population, age, ageing, aging, related, life, healthy, older, decline, adult</td>\n",
       "      <td>0.758583</td>\n",
       "    </tr>\n",
       "    <tr>\n",
       "      <th>21</th>\n",
       "      <td>138</td>\n",
       "      <td>skin, organ, kidney, transplantation, fibrosis, injury, renal, human, tissue, lung</td>\n",
       "      <td>0.757790</td>\n",
       "    </tr>\n",
       "    <tr>\n",
       "      <th>0</th>\n",
       "      <td>40</td>\n",
       "      <td>gene, genome, expression, genetic, mutation, crispr, editing, functional, identify, cas9</td>\n",
       "      <td>0.757357</td>\n",
       "    </tr>\n",
       "  </tbody>\n",
       "</table>\n",
       "</div>"
      ],
      "text/plain": [
       "    Topic_Id  \\\n",
       "25         7   \n",
       "26       260   \n",
       "19       223   \n",
       "9        143   \n",
       "7         40   \n",
       "5         14   \n",
       "11       256   \n",
       "15       256   \n",
       "21       138   \n",
       "0         40   \n",
       "\n",
       "                                                                                       Topic_Keywords  \\\n",
       "25  host, pathogen, disease, infection, parasite, vector, malaria, transmission, effector, infectious   \n",
       "26        neuron, neuronal, circuit, brain, activity, neural, plasticity, mouse, cortical, functional   \n",
       "19  resolution, imaging, microscopy, high, technique, super, microscope, fluorescence, live, electron   \n",
       "9           sex, female, reproductive, male, sexual, woman, reproduction, gender, fertility, specific   \n",
       "7            gene, genome, expression, genetic, mutation, crispr, editing, functional, identify, cas9   \n",
       "5         disease, ad, neurodegenerative, alzheimer, al, model, pathology, brain, parkinson, disorder   \n",
       "11                      population, age, ageing, aging, related, life, healthy, older, decline, adult   \n",
       "15                      population, age, ageing, aging, related, life, healthy, older, decline, adult   \n",
       "21                 skin, organ, kidney, transplantation, fibrosis, injury, renal, human, tissue, lung   \n",
       "0            gene, genome, expression, genetic, mutation, crispr, editing, functional, identify, cas9   \n",
       "\n",
       "    divergence_score  \n",
       "25          0.783972  \n",
       "26          0.773999  \n",
       "19          0.770918  \n",
       "9           0.769370  \n",
       "7           0.763956  \n",
       "5           0.762077  \n",
       "11          0.761539  \n",
       "15          0.758583  \n",
       "21          0.757790  \n",
       "0           0.757357  "
      ]
     },
     "execution_count": 31,
     "metadata": {},
     "output_type": "execute_result"
    }
   ],
   "source": [
    "filtered_df.sort_values('divergence_score', ascending=False).head(10)"
   ]
  },
  {
   "cell_type": "markdown",
   "metadata": {
    "heading_collapsed": true
   },
   "source": [
    "#### Top 1"
   ]
  },
  {
   "cell_type": "code",
   "execution_count": 9,
   "metadata": {
    "hidden": true
   },
   "outputs": [],
   "source": [
    "filtered_dictionary = Dictionary.load('../artefacts/filtered_top_1_dictionary')"
   ]
  },
  {
   "cell_type": "code",
   "execution_count": 10,
   "metadata": {
    "hidden": true
   },
   "outputs": [
    {
     "name": "stdout",
     "output_type": "stream",
     "text": [
      "13086\n"
     ]
    }
   ],
   "source": [
    "with open('../artefacts/filtered_top_1_docs.pkl', 'rb') as f:\n",
    "    filtered_docs = pickle.load(f)\n",
    "\n",
    "print(len(filtered_docs))"
   ]
  },
  {
   "cell_type": "code",
   "execution_count": 11,
   "metadata": {
    "hidden": true
   },
   "outputs": [],
   "source": [
    "filtered_model = load_mallet_model(artefacts_path='../artefacts', suffix='filtered_top_1')"
   ]
  },
  {
   "cell_type": "code",
   "execution_count": 12,
   "metadata": {
    "hidden": true
   },
   "outputs": [],
   "source": [
    "filtered_model.mallet_path = '../mallet-2.0.8/bin/mallet'\n",
    "filtered_model.prefix = '../artefacts/mallet_tmp/'"
   ]
  },
  {
   "cell_type": "code",
   "execution_count": 29,
   "metadata": {
    "hidden": true
   },
   "outputs": [
    {
     "data": {
      "text/plain": [
       "0.505769846580301"
      ]
     },
     "execution_count": 29,
     "metadata": {},
     "output_type": "execute_result"
    }
   ],
   "source": [
    "# check for reproducibility, should be 0.505769846580301\n",
    "get_coherence(filtered_model, filtered_docs, filtered_dictionary)"
   ]
  },
  {
   "cell_type": "code",
   "execution_count": 13,
   "metadata": {
    "hidden": true
   },
   "outputs": [
    {
     "data": {
      "text/plain": [
       "[('circuit', 0.055449184345561765),\n",
       " ('brain', 0.040131730106456306),\n",
       " ('neuron', 0.0350769702075515),\n",
       " ('cortical', 0.030328559393428812),\n",
       " ('cortex', 0.02864363942712721),\n",
       " ('activity', 0.027877766715171937),\n",
       " ('neuronal', 0.022286895917898446),\n",
       " ('mouse', 0.020831737765183427),\n",
       " ('neural', 0.020678563222792372),\n",
       " ('input', 0.015164279696714406)]"
      ]
     },
     "execution_count": 13,
     "metadata": {},
     "output_type": "execute_result"
    }
   ],
   "source": [
    "filtered_model.show_topic(0)"
   ]
  },
  {
   "cell_type": "code",
   "execution_count": 14,
   "metadata": {
    "hidden": true
   },
   "outputs": [],
   "source": [
    "# variables\n",
    "filtered_result_array = np.zeros((30, filtered_model.num_topics, 2))\n",
    "filtered_topic_array = filtered_model.get_topics()\n",
    "filtered_label_array = np.zeros((30, len(filtered_dictionary.keys())))\n",
    "\n",
    "# initialize label arrays\n",
    "for id_i, i in enumerate(associated_words):\n",
    "    id_list = filtered_dictionary.doc2idx(set(i))\n",
    "    for j in id_list:\n",
    "        filtered_label_array[id_i][j] = 1.0 / len(id_list)\n",
    "\n",
    "for i in range(30):\n",
    "    for j in range(filtered_model.num_topics):\n",
    "        jensenshannon_score = jensenshannon(filtered_label_array[i], filtered_topic_array[j])\n",
    "        rel_entr_score = sum(rel_entr(filtered_label_array[i], filtered_topic_array[j]))\n",
    "        filtered_result_array[i][j] = (jensenshannon_score, rel_entr_score)"
   ]
  },
  {
   "cell_type": "code",
   "execution_count": 15,
   "metadata": {
    "hidden": true
   },
   "outputs": [],
   "source": [
    "filtered_topics_df = get_all_topics(filtered_model).set_index('Topic_Id')\n",
    "filtered_df = filtered_topics_df.iloc[filtered_result_array[:,:,0].argmin(1)].reset_index()\n",
    "filtered_df['divergence_score'] = filtered_result_array[:,:,0].min(1)"
   ]
  },
  {
   "cell_type": "code",
   "execution_count": 16,
   "metadata": {
    "hidden": true,
    "scrolled": true
   },
   "outputs": [
    {
     "data": {
      "text/html": [
       "<div>\n",
       "<style scoped>\n",
       "    .dataframe tbody tr th:only-of-type {\n",
       "        vertical-align: middle;\n",
       "    }\n",
       "\n",
       "    .dataframe tbody tr th {\n",
       "        vertical-align: top;\n",
       "    }\n",
       "\n",
       "    .dataframe thead th {\n",
       "        text-align: right;\n",
       "    }\n",
       "</style>\n",
       "<table border=\"1\" class=\"dataframe\">\n",
       "  <thead>\n",
       "    <tr style=\"text-align: right;\">\n",
       "      <th></th>\n",
       "      <th>Topic_Id</th>\n",
       "      <th>Topic_Keywords</th>\n",
       "      <th>divergence_score</th>\n",
       "    </tr>\n",
       "  </thead>\n",
       "  <tbody>\n",
       "    <tr>\n",
       "      <th>0</th>\n",
       "      <td>26</td>\n",
       "      <td>crispr, editing, cell, cas9, gene, genome, vesicle, ev, extracellular, function</td>\n",
       "      <td>0.686946</td>\n",
       "    </tr>\n",
       "    <tr>\n",
       "      <th>1</th>\n",
       "      <td>145</td>\n",
       "      <td>cancer, breast, screening, woman, pancreatic, death, clinical, colorectal, case, pca</td>\n",
       "      <td>0.703033</td>\n",
       "    </tr>\n",
       "    <tr>\n",
       "      <th>2</th>\n",
       "      <td>145</td>\n",
       "      <td>cancer, breast, screening, woman, pancreatic, death, clinical, colorectal, case, pca</td>\n",
       "      <td>0.703033</td>\n",
       "    </tr>\n",
       "    <tr>\n",
       "      <th>3</th>\n",
       "      <td>294</td>\n",
       "      <td>resistance, antibiotic, resistant, antimicrobial, infection, pathogen, bacteria, treatment, health, amr</td>\n",
       "      <td>0.728827</td>\n",
       "    </tr>\n",
       "    <tr>\n",
       "      <th>4</th>\n",
       "      <td>43</td>\n",
       "      <td>rna, mrna, protein, expression, gene, coding, regulation, small, seq, splicing</td>\n",
       "      <td>0.710122</td>\n",
       "    </tr>\n",
       "  </tbody>\n",
       "</table>\n",
       "</div>"
      ],
      "text/plain": [
       "   Topic_Id  \\\n",
       "0        26   \n",
       "1       145   \n",
       "2       145   \n",
       "3       294   \n",
       "4        43   \n",
       "\n",
       "                                                                                            Topic_Keywords  \\\n",
       "0                          crispr, editing, cell, cas9, gene, genome, vesicle, ev, extracellular, function   \n",
       "1                     cancer, breast, screening, woman, pancreatic, death, clinical, colorectal, case, pca   \n",
       "2                     cancer, breast, screening, woman, pancreatic, death, clinical, colorectal, case, pca   \n",
       "3  resistance, antibiotic, resistant, antimicrobial, infection, pathogen, bacteria, treatment, health, amr   \n",
       "4                           rna, mrna, protein, expression, gene, coding, regulation, small, seq, splicing   \n",
       "\n",
       "   divergence_score  \n",
       "0          0.686946  \n",
       "1          0.703033  \n",
       "2          0.703033  \n",
       "3          0.728827  \n",
       "4          0.710122  "
      ]
     },
     "execution_count": 16,
     "metadata": {},
     "output_type": "execute_result"
    }
   ],
   "source": [
    "filtered_df.head()"
   ]
  },
  {
   "cell_type": "code",
   "execution_count": 17,
   "metadata": {
    "hidden": true
   },
   "outputs": [
    {
     "data": {
      "text/plain": [
       "21.60336477097165"
      ]
     },
     "execution_count": 17,
     "metadata": {},
     "output_type": "execute_result"
    }
   ],
   "source": [
    "# for reproducibility. should equal 21.60336477097165\n",
    "filtered_df['divergence_score'].sum()"
   ]
  },
  {
   "cell_type": "markdown",
   "metadata": {
    "heading_collapsed": true
   },
   "source": [
    "## Comparison"
   ]
  },
  {
   "cell_type": "code",
   "execution_count": 32,
   "metadata": {
    "hidden": true,
    "scrolled": true
   },
   "outputs": [],
   "source": [
    "compare_df = unfiltered_df.merge(filtered_df, left_index=True, right_index=True, suffixes=('_unfiltered', '_filtered'))"
   ]
  },
  {
   "cell_type": "code",
   "execution_count": 33,
   "metadata": {
    "hidden": true
   },
   "outputs": [],
   "source": [
    "compare_df.insert(0, 'associated_words', [set(i) for i in associated_words])"
   ]
  },
  {
   "cell_type": "code",
   "execution_count": 34,
   "metadata": {
    "hidden": true
   },
   "outputs": [],
   "source": [
    "compare_df['score_diff'] = compare_df['divergence_score_filtered'] - compare_df['divergence_score_unfiltered']"
   ]
  },
  {
   "cell_type": "code",
   "execution_count": 35,
   "metadata": {
    "hidden": true,
    "scrolled": true
   },
   "outputs": [
    {
     "data": {
      "text/html": [
       "<div>\n",
       "<style scoped>\n",
       "    .dataframe tbody tr th:only-of-type {\n",
       "        vertical-align: middle;\n",
       "    }\n",
       "\n",
       "    .dataframe tbody tr th {\n",
       "        vertical-align: top;\n",
       "    }\n",
       "\n",
       "    .dataframe thead th {\n",
       "        text-align: right;\n",
       "    }\n",
       "</style>\n",
       "<table border=\"1\" class=\"dataframe\">\n",
       "  <thead>\n",
       "    <tr style=\"text-align: right;\">\n",
       "      <th></th>\n",
       "      <th>associated_words</th>\n",
       "      <th>Topic_Id_unfiltered</th>\n",
       "      <th>Topic_Keywords_unfiltered</th>\n",
       "      <th>divergence_score_unfiltered</th>\n",
       "      <th>Topic_Id_filtered</th>\n",
       "      <th>Topic_Keywords_filtered</th>\n",
       "      <th>divergence_score_filtered</th>\n",
       "      <th>score_diff</th>\n",
       "    </tr>\n",
       "  </thead>\n",
       "  <tbody>\n",
       "    <tr>\n",
       "      <th>16</th>\n",
       "      <td>{retinal, eye, ophthalmic}</td>\n",
       "      <td>122</td>\n",
       "      <td>vision, visual, image, object, eye, computer, world, display, scene, camera</td>\n",
       "      <td>0.795495</td>\n",
       "      <td>268</td>\n",
       "      <td>vision, eye, visual, retinal, lens, tracking, head, blind, retina, world</td>\n",
       "      <td>0.721102</td>\n",
       "      <td>-0.074393</td>\n",
       "    </tr>\n",
       "    <tr>\n",
       "      <th>13</th>\n",
       "      <td>{mental, psychological, psychiatric}</td>\n",
       "      <td>63</td>\n",
       "      <td>health, intervention, care, mental, evidence, prevention, risk, outcome, impact, population</td>\n",
       "      <td>0.794194</td>\n",
       "      <td>89</td>\n",
       "      <td>disorder, mental, depression, autism, symptom, anxiety, deficit, asd, psychiatric, syndrome</td>\n",
       "      <td>0.746020</td>\n",
       "      <td>-0.048174</td>\n",
       "    </tr>\n",
       "    <tr>\n",
       "      <th>4</th>\n",
       "      <td>{oligonucleotide, coding, non, rna}</td>\n",
       "      <td>189</td>\n",
       "      <td>protein, rna, mrna, function, gene, expression, modification, cell, translation, cellular</td>\n",
       "      <td>0.762226</td>\n",
       "      <td>111</td>\n",
       "      <td>rna, mrna, translation, coding, function, regulation, expression, small, mirnas, protein</td>\n",
       "      <td>0.722837</td>\n",
       "      <td>-0.039389</td>\n",
       "    </tr>\n",
       "    <tr>\n",
       "      <th>17</th>\n",
       "      <td>{immunity, vaccine, virus, infection}</td>\n",
       "      <td>297</td>\n",
       "      <td>virus, vaccine, disease, infection, viral, vector, human, hiv, infectious, pathogen</td>\n",
       "      <td>0.671244</td>\n",
       "      <td>13</td>\n",
       "      <td>vaccine, virus, viral, infection, hiv, response, antiviral, vaccination, human, influenza</td>\n",
       "      <td>0.634735</td>\n",
       "      <td>-0.036509</td>\n",
       "    </tr>\n",
       "    <tr>\n",
       "      <th>1</th>\n",
       "      <td>{p53, carcinoma, tumorigenesis, cancer}</td>\n",
       "      <td>72</td>\n",
       "      <td>cancer, tumor, tumour, cell, treatment, therapy, patient, breast, therapeutic, metastasis</td>\n",
       "      <td>0.732720</td>\n",
       "      <td>228</td>\n",
       "      <td>cancer, tumor, tumour, breast, therapy, cell, treatment, metastasis, metastatic, patient</td>\n",
       "      <td>0.696356</td>\n",
       "      <td>-0.036364</td>\n",
       "    </tr>\n",
       "    <tr>\n",
       "      <th>24</th>\n",
       "      <td>{antibiotic, bacteria, resistance}</td>\n",
       "      <td>126</td>\n",
       "      <td>resistance, antibiotic, bacteria, bacterial, pathogen, infection, resistant, antimicrobial, host, phage</td>\n",
       "      <td>0.651705</td>\n",
       "      <td>109</td>\n",
       "      <td>resistance, antibiotic, bacteria, bacterial, infection, resistant, antimicrobial, pathogen, pa, toxin</td>\n",
       "      <td>0.620899</td>\n",
       "      <td>-0.030807</td>\n",
       "    </tr>\n",
       "    <tr>\n",
       "      <th>25</th>\n",
       "      <td>{mosquito, malaria, dengue}</td>\n",
       "      <td>227</td>\n",
       "      <td>selection, population, genetic, evolution, variation, trait, fitness, natural, adaptation, parasite</td>\n",
       "      <td>0.813210</td>\n",
       "      <td>7</td>\n",
       "      <td>host, pathogen, disease, infection, parasite, vector, malaria, transmission, effector, infectious</td>\n",
       "      <td>0.783972</td>\n",
       "      <td>-0.029239</td>\n",
       "    </tr>\n",
       "    <tr>\n",
       "      <th>27</th>\n",
       "      <td>{regulation, therapy, gene, expression}</td>\n",
       "      <td>54</td>\n",
       "      <td>gene, genetic, genome, expression, mutation, molecular, genomic, crispr, identify, sequencing</td>\n",
       "      <td>0.720898</td>\n",
       "      <td>40</td>\n",
       "      <td>gene, genome, expression, genetic, mutation, crispr, editing, functional, identify, cas9</td>\n",
       "      <td>0.692319</td>\n",
       "      <td>-0.028579</td>\n",
       "    </tr>\n",
       "    <tr>\n",
       "      <th>22</th>\n",
       "      <td>{diabetes, insulin}</td>\n",
       "      <td>289</td>\n",
       "      <td>diabetes, disease, obesity, glucose, type, insulin, factor, risk, metabolic, beta</td>\n",
       "      <td>0.743058</td>\n",
       "      <td>18</td>\n",
       "      <td>metabolic, diabetes, metabolism, glucose, insulin, disease, type, beta, metabolite, diabetic</td>\n",
       "      <td>0.716179</td>\n",
       "      <td>-0.026879</td>\n",
       "    </tr>\n",
       "    <tr>\n",
       "      <th>21</th>\n",
       "      <td>{fibrosis, interleukin, organ}</td>\n",
       "      <td>11</td>\n",
       "      <td>tissue, cell, organ, vitro, vivo, culture, model, disease, human, kidney</td>\n",
       "      <td>0.783175</td>\n",
       "      <td>138</td>\n",
       "      <td>skin, organ, kidney, transplantation, fibrosis, injury, renal, human, tissue, lung</td>\n",
       "      <td>0.757790</td>\n",
       "      <td>-0.025386</td>\n",
       "    </tr>\n",
       "    <tr>\n",
       "      <th>0</th>\n",
       "      <td>{base, editing, cas9, crispr}</td>\n",
       "      <td>54</td>\n",
       "      <td>gene, genetic, genome, expression, mutation, molecular, genomic, crispr, identify, sequencing</td>\n",
       "      <td>0.781123</td>\n",
       "      <td>40</td>\n",
       "      <td>gene, genome, expression, genetic, mutation, crispr, editing, functional, identify, cas9</td>\n",
       "      <td>0.757357</td>\n",
       "      <td>-0.023766</td>\n",
       "    </tr>\n",
       "    <tr>\n",
       "      <th>14</th>\n",
       "      <td>{depression, anxiety, stress, resistant}</td>\n",
       "      <td>170</td>\n",
       "      <td>host, stress, mechanism, factor, approach, fungal, tolerance, important, interaction, fungi</td>\n",
       "      <td>0.762896</td>\n",
       "      <td>162</td>\n",
       "      <td>stress, response, induced, effect, oxidative, radiation, mechanism, tolerance, damage, condition</td>\n",
       "      <td>0.739223</td>\n",
       "      <td>-0.023673</td>\n",
       "    </tr>\n",
       "    <tr>\n",
       "      <th>11</th>\n",
       "      <td>{geriatric, aging, senescence}</td>\n",
       "      <td>266</td>\n",
       "      <td>life, ageing, people, age, population, aging, related, elderly, older, living</td>\n",
       "      <td>0.784862</td>\n",
       "      <td>256</td>\n",
       "      <td>population, age, ageing, aging, related, life, healthy, older, decline, adult</td>\n",
       "      <td>0.761539</td>\n",
       "      <td>-0.023324</td>\n",
       "    </tr>\n",
       "    <tr>\n",
       "      <th>20</th>\n",
       "      <td>{immune, activation, inflammation, macrophage}</td>\n",
       "      <td>87</td>\n",
       "      <td>immune, cell, response, immunity, antigen, innate, immunotherapy, specific, function, dc</td>\n",
       "      <td>0.747774</td>\n",
       "      <td>246</td>\n",
       "      <td>disease, inflammatory, inflammation, macrophage, intestinal, chronic, pro, ra, cell, therapeutic</td>\n",
       "      <td>0.729290</td>\n",
       "      <td>-0.018484</td>\n",
       "    </tr>\n",
       "    <tr>\n",
       "      <th>3</th>\n",
       "      <td>{antibiotic, microbiome, bacteria, probiotic}</td>\n",
       "      <td>126</td>\n",
       "      <td>resistance, antibiotic, bacteria, bacterial, pathogen, infection, resistant, antimicrobial, host, phage</td>\n",
       "      <td>0.736221</td>\n",
       "      <td>109</td>\n",
       "      <td>resistance, antibiotic, bacteria, bacterial, infection, resistant, antimicrobial, pathogen, pa, toxin</td>\n",
       "      <td>0.720164</td>\n",
       "      <td>-0.016057</td>\n",
       "    </tr>\n",
       "    <tr>\n",
       "      <th>2</th>\n",
       "      <td>{immunotherapy, leukemia, cancer, solid}</td>\n",
       "      <td>72</td>\n",
       "      <td>cancer, tumor, tumour, cell, treatment, therapy, patient, breast, therapeutic, metastasis</td>\n",
       "      <td>0.720687</td>\n",
       "      <td>228</td>\n",
       "      <td>cancer, tumor, tumour, breast, therapy, cell, treatment, metastasis, metastatic, patient</td>\n",
       "      <td>0.704889</td>\n",
       "      <td>-0.015798</td>\n",
       "    </tr>\n",
       "    <tr>\n",
       "      <th>19</th>\n",
       "      <td>{microscopy, em, cryo}</td>\n",
       "      <td>209</td>\n",
       "      <td>cell, membrane, protein, cellular, lipid, molecular, microscopy, function, biology, vesicle</td>\n",
       "      <td>0.786025</td>\n",
       "      <td>223</td>\n",
       "      <td>resolution, imaging, microscopy, high, technique, super, microscope, fluorescence, live, electron</td>\n",
       "      <td>0.770918</td>\n",
       "      <td>-0.015107</td>\n",
       "    </tr>\n",
       "    <tr>\n",
       "      <th>6</th>\n",
       "      <td>{delivery, immune, gene, aav, vector, immunity}</td>\n",
       "      <td>87</td>\n",
       "      <td>immune, cell, response, immunity, antigen, innate, immunotherapy, specific, function, dc</td>\n",
       "      <td>0.751606</td>\n",
       "      <td>23</td>\n",
       "      <td>immune, response, immunity, innate, function, mouse, il, role, specific, tolerance</td>\n",
       "      <td>0.736840</td>\n",
       "      <td>-0.014766</td>\n",
       "    </tr>\n",
       "    <tr>\n",
       "      <th>5</th>\n",
       "      <td>{parkinson, neurodegeneration, huntington, alzheimer}</td>\n",
       "      <td>197</td>\n",
       "      <td>disease, ad, neurodegenerative, al, alzheimer, disorder, therapeutic, model, pathology, dementia</td>\n",
       "      <td>0.776501</td>\n",
       "      <td>14</td>\n",
       "      <td>disease, ad, neurodegenerative, alzheimer, al, model, pathology, brain, parkinson, disorder</td>\n",
       "      <td>0.762077</td>\n",
       "      <td>-0.014423</td>\n",
       "    </tr>\n",
       "    <tr>\n",
       "      <th>18</th>\n",
       "      <td>{discovery, structure, computational, drug, ai, bioinformatics}</td>\n",
       "      <td>229</td>\n",
       "      <td>drug, development, discovery, pharmaceutical, compound, screening, target, candidate, molecule, therapeutic</td>\n",
       "      <td>0.706250</td>\n",
       "      <td>192</td>\n",
       "      <td>drug, discovery, development, pharmaceutical, compound, screening, molecule, target, candidate, pharma</td>\n",
       "      <td>0.692936</td>\n",
       "      <td>-0.013314</td>\n",
       "    </tr>\n",
       "    <tr>\n",
       "      <th>28</th>\n",
       "      <td>{heart, congestive, failure, faction, infarction, myocardial, ejection}</td>\n",
       "      <td>221</td>\n",
       "      <td>heart, cardiac, failure, cardiovascular, death, valve, cvd, risk, hf, myocardial</td>\n",
       "      <td>0.714016</td>\n",
       "      <td>248</td>\n",
       "      <td>heart, cardiac, failure, disease, cardiovascular, death, hf, af, clinical, myocardial</td>\n",
       "      <td>0.704877</td>\n",
       "      <td>-0.009139</td>\n",
       "    </tr>\n",
       "    <tr>\n",
       "      <th>15</th>\n",
       "      <td>{aging, sarcopenia, elderly, frailty}</td>\n",
       "      <td>266</td>\n",
       "      <td>life, ageing, people, age, population, aging, related, elderly, older, living</td>\n",
       "      <td>0.767273</td>\n",
       "      <td>256</td>\n",
       "      <td>population, age, ageing, aging, related, life, healthy, older, decline, adult</td>\n",
       "      <td>0.758583</td>\n",
       "      <td>-0.008690</td>\n",
       "    </tr>\n",
       "    <tr>\n",
       "      <th>7</th>\n",
       "      <td>{delivery, liposome, non, gene, polymer, viral, nanoparticle}</td>\n",
       "      <td>2</td>\n",
       "      <td>delivery, release, deliver, based, develop, oa, strategy, targeting, dual, carrier</td>\n",
       "      <td>0.765471</td>\n",
       "      <td>40</td>\n",
       "      <td>gene, genome, expression, genetic, mutation, crispr, editing, functional, identify, cas9</td>\n",
       "      <td>0.763956</td>\n",
       "      <td>-0.001514</td>\n",
       "    </tr>\n",
       "    <tr>\n",
       "      <th>8</th>\n",
       "      <td>{precision, genomics, data, prevention, multiomics}</td>\n",
       "      <td>268</td>\n",
       "      <td>data, big, analytics, analysis, collection, driven, collected, information, collect, management</td>\n",
       "      <td>0.692078</td>\n",
       "      <td>127</td>\n",
       "      <td>data, big, analytics, processing, analysis, information, driven, amount, source, business</td>\n",
       "      <td>0.698552</td>\n",
       "      <td>0.006474</td>\n",
       "    </tr>\n",
       "    <tr>\n",
       "      <th>26</th>\n",
       "      <td>{ganglion, axon, neuron, synapse, astrocyte}</td>\n",
       "      <td>206</td>\n",
       "      <td>neuron, neuronal, circuit, brain, synaptic, activity, neural, plasticity, function, mouse</td>\n",
       "      <td>0.766088</td>\n",
       "      <td>260</td>\n",
       "      <td>neuron, neuronal, circuit, brain, activity, neural, plasticity, mouse, cortical, functional</td>\n",
       "      <td>0.773999</td>\n",
       "      <td>0.007912</td>\n",
       "    </tr>\n",
       "    <tr>\n",
       "      <th>29</th>\n",
       "      <td>{neutron, quantitative, spectrometry, analysis, ion}</td>\n",
       "      <td>20</td>\n",
       "      <td>analysis, method, study, analytical, approach, technique, provide, comprehensive, analyse, methodology</td>\n",
       "      <td>0.717595</td>\n",
       "      <td>281</td>\n",
       "      <td>level, quantitative, analysis, approach, aim, research, method, comprehensive, understanding, macro</td>\n",
       "      <td>0.727590</td>\n",
       "      <td>0.009995</td>\n",
       "    </tr>\n",
       "    <tr>\n",
       "      <th>9</th>\n",
       "      <td>{woman, prenatal, reproductive, pregnancy, obstetric}</td>\n",
       "      <td>70</td>\n",
       "      <td>development, maternal, pregnancy, woman, birth, reproductive, embryo, rate, study, fertility</td>\n",
       "      <td>0.758473</td>\n",
       "      <td>143</td>\n",
       "      <td>sex, female, reproductive, male, sexual, woman, reproduction, gender, fertility, specific</td>\n",
       "      <td>0.769370</td>\n",
       "      <td>0.010897</td>\n",
       "    </tr>\n",
       "    <tr>\n",
       "      <th>10</th>\n",
       "      <td>{epigenetics, environment, histone, chromosome, epigenomics}</td>\n",
       "      <td>192</td>\n",
       "      <td>environment, virtual, reality, adaptive, physical, ar, vr, experience, condition, adapt</td>\n",
       "      <td>0.736449</td>\n",
       "      <td>129</td>\n",
       "      <td>environment, environmental, condition, air, pollution, quality, indoor, emission, developed, integrated</td>\n",
       "      <td>0.748946</td>\n",
       "      <td>0.012497</td>\n",
       "    </tr>\n",
       "    <tr>\n",
       "      <th>23</th>\n",
       "      <td>{needle, injection, free, delivery}</td>\n",
       "      <td>2</td>\n",
       "      <td>delivery, release, deliver, based, develop, oa, strategy, targeting, dual, carrier</td>\n",
       "      <td>0.737541</td>\n",
       "      <td>90</td>\n",
       "      <td>delivery, drug, therapeutic, release, wound, therapy, healing, targeted, treatment, efficacy</td>\n",
       "      <td>0.755005</td>\n",
       "      <td>0.017464</td>\n",
       "    </tr>\n",
       "    <tr>\n",
       "      <th>12</th>\n",
       "      <td>{therapy, mitochondrion, energy}</td>\n",
       "      <td>42</td>\n",
       "      <td>energy, efficiency, consumption, efficient, saving, renewable, household, sector, demand, consumer</td>\n",
       "      <td>0.646525</td>\n",
       "      <td>22</td>\n",
       "      <td>energy, solar, efficiency, power, grid, efficient, consumption, electricity, harvesting, renewable</td>\n",
       "      <td>0.684919</td>\n",
       "      <td>0.038393</td>\n",
       "    </tr>\n",
       "  </tbody>\n",
       "</table>\n",
       "</div>"
      ],
      "text/plain": [
       "                                                           associated_words  \\\n",
       "16                                               {retinal, eye, ophthalmic}   \n",
       "13                                     {mental, psychological, psychiatric}   \n",
       "4                                       {oligonucleotide, coding, non, rna}   \n",
       "17                                    {immunity, vaccine, virus, infection}   \n",
       "1                                   {p53, carcinoma, tumorigenesis, cancer}   \n",
       "24                                       {antibiotic, bacteria, resistance}   \n",
       "25                                              {mosquito, malaria, dengue}   \n",
       "27                                  {regulation, therapy, gene, expression}   \n",
       "22                                                      {diabetes, insulin}   \n",
       "21                                           {fibrosis, interleukin, organ}   \n",
       "0                                             {base, editing, cas9, crispr}   \n",
       "14                                 {depression, anxiety, stress, resistant}   \n",
       "11                                           {geriatric, aging, senescence}   \n",
       "20                           {immune, activation, inflammation, macrophage}   \n",
       "3                             {antibiotic, microbiome, bacteria, probiotic}   \n",
       "2                                  {immunotherapy, leukemia, cancer, solid}   \n",
       "19                                                   {microscopy, em, cryo}   \n",
       "6                           {delivery, immune, gene, aav, vector, immunity}   \n",
       "5                     {parkinson, neurodegeneration, huntington, alzheimer}   \n",
       "18          {discovery, structure, computational, drug, ai, bioinformatics}   \n",
       "28  {heart, congestive, failure, faction, infarction, myocardial, ejection}   \n",
       "15                                    {aging, sarcopenia, elderly, frailty}   \n",
       "7             {delivery, liposome, non, gene, polymer, viral, nanoparticle}   \n",
       "8                       {precision, genomics, data, prevention, multiomics}   \n",
       "26                             {ganglion, axon, neuron, synapse, astrocyte}   \n",
       "29                     {neutron, quantitative, spectrometry, analysis, ion}   \n",
       "9                     {woman, prenatal, reproductive, pregnancy, obstetric}   \n",
       "10             {epigenetics, environment, histone, chromosome, epigenomics}   \n",
       "23                                      {needle, injection, free, delivery}   \n",
       "12                                         {therapy, mitochondrion, energy}   \n",
       "\n",
       "    Topic_Id_unfiltered  \\\n",
       "16                  122   \n",
       "13                   63   \n",
       "4                   189   \n",
       "17                  297   \n",
       "1                    72   \n",
       "24                  126   \n",
       "25                  227   \n",
       "27                   54   \n",
       "22                  289   \n",
       "21                   11   \n",
       "0                    54   \n",
       "14                  170   \n",
       "11                  266   \n",
       "20                   87   \n",
       "3                   126   \n",
       "2                    72   \n",
       "19                  209   \n",
       "6                    87   \n",
       "5                   197   \n",
       "18                  229   \n",
       "28                  221   \n",
       "15                  266   \n",
       "7                     2   \n",
       "8                   268   \n",
       "26                  206   \n",
       "29                   20   \n",
       "9                    70   \n",
       "10                  192   \n",
       "23                    2   \n",
       "12                   42   \n",
       "\n",
       "                                                                                      Topic_Keywords_unfiltered  \\\n",
       "16                                  vision, visual, image, object, eye, computer, world, display, scene, camera   \n",
       "13                  health, intervention, care, mental, evidence, prevention, risk, outcome, impact, population   \n",
       "4                     protein, rna, mrna, function, gene, expression, modification, cell, translation, cellular   \n",
       "17                          virus, vaccine, disease, infection, viral, vector, human, hiv, infectious, pathogen   \n",
       "1                     cancer, tumor, tumour, cell, treatment, therapy, patient, breast, therapeutic, metastasis   \n",
       "24      resistance, antibiotic, bacteria, bacterial, pathogen, infection, resistant, antimicrobial, host, phage   \n",
       "25          selection, population, genetic, evolution, variation, trait, fitness, natural, adaptation, parasite   \n",
       "27                gene, genetic, genome, expression, mutation, molecular, genomic, crispr, identify, sequencing   \n",
       "22                            diabetes, disease, obesity, glucose, type, insulin, factor, risk, metabolic, beta   \n",
       "21                                     tissue, cell, organ, vitro, vivo, culture, model, disease, human, kidney   \n",
       "0                 gene, genetic, genome, expression, mutation, molecular, genomic, crispr, identify, sequencing   \n",
       "14                  host, stress, mechanism, factor, approach, fungal, tolerance, important, interaction, fungi   \n",
       "11                                life, ageing, people, age, population, aging, related, elderly, older, living   \n",
       "20                     immune, cell, response, immunity, antigen, innate, immunotherapy, specific, function, dc   \n",
       "3       resistance, antibiotic, bacteria, bacterial, pathogen, infection, resistant, antimicrobial, host, phage   \n",
       "2                     cancer, tumor, tumour, cell, treatment, therapy, patient, breast, therapeutic, metastasis   \n",
       "19                  cell, membrane, protein, cellular, lipid, molecular, microscopy, function, biology, vesicle   \n",
       "6                      immune, cell, response, immunity, antigen, innate, immunotherapy, specific, function, dc   \n",
       "5              disease, ad, neurodegenerative, al, alzheimer, disorder, therapeutic, model, pathology, dementia   \n",
       "18  drug, development, discovery, pharmaceutical, compound, screening, target, candidate, molecule, therapeutic   \n",
       "28                             heart, cardiac, failure, cardiovascular, death, valve, cvd, risk, hf, myocardial   \n",
       "15                                life, ageing, people, age, population, aging, related, elderly, older, living   \n",
       "7                            delivery, release, deliver, based, develop, oa, strategy, targeting, dual, carrier   \n",
       "8               data, big, analytics, analysis, collection, driven, collected, information, collect, management   \n",
       "26                    neuron, neuronal, circuit, brain, synaptic, activity, neural, plasticity, function, mouse   \n",
       "29       analysis, method, study, analytical, approach, technique, provide, comprehensive, analyse, methodology   \n",
       "9                  development, maternal, pregnancy, woman, birth, reproductive, embryo, rate, study, fertility   \n",
       "10                      environment, virtual, reality, adaptive, physical, ar, vr, experience, condition, adapt   \n",
       "23                           delivery, release, deliver, based, develop, oa, strategy, targeting, dual, carrier   \n",
       "12           energy, efficiency, consumption, efficient, saving, renewable, household, sector, demand, consumer   \n",
       "\n",
       "    divergence_score_unfiltered  Topic_Id_filtered  \\\n",
       "16                     0.795495                268   \n",
       "13                     0.794194                 89   \n",
       "4                      0.762226                111   \n",
       "17                     0.671244                 13   \n",
       "1                      0.732720                228   \n",
       "24                     0.651705                109   \n",
       "25                     0.813210                  7   \n",
       "27                     0.720898                 40   \n",
       "22                     0.743058                 18   \n",
       "21                     0.783175                138   \n",
       "0                      0.781123                 40   \n",
       "14                     0.762896                162   \n",
       "11                     0.784862                256   \n",
       "20                     0.747774                246   \n",
       "3                      0.736221                109   \n",
       "2                      0.720687                228   \n",
       "19                     0.786025                223   \n",
       "6                      0.751606                 23   \n",
       "5                      0.776501                 14   \n",
       "18                     0.706250                192   \n",
       "28                     0.714016                248   \n",
       "15                     0.767273                256   \n",
       "7                      0.765471                 40   \n",
       "8                      0.692078                127   \n",
       "26                     0.766088                260   \n",
       "29                     0.717595                281   \n",
       "9                      0.758473                143   \n",
       "10                     0.736449                129   \n",
       "23                     0.737541                 90   \n",
       "12                     0.646525                 22   \n",
       "\n",
       "                                                                                    Topic_Keywords_filtered  \\\n",
       "16                                 vision, eye, visual, retinal, lens, tracking, head, blind, retina, world   \n",
       "13              disorder, mental, depression, autism, symptom, anxiety, deficit, asd, psychiatric, syndrome   \n",
       "4                  rna, mrna, translation, coding, function, regulation, expression, small, mirnas, protein   \n",
       "17                vaccine, virus, viral, infection, hiv, response, antiviral, vaccination, human, influenza   \n",
       "1                  cancer, tumor, tumour, breast, therapy, cell, treatment, metastasis, metastatic, patient   \n",
       "24    resistance, antibiotic, bacteria, bacterial, infection, resistant, antimicrobial, pathogen, pa, toxin   \n",
       "25        host, pathogen, disease, infection, parasite, vector, malaria, transmission, effector, infectious   \n",
       "27                 gene, genome, expression, genetic, mutation, crispr, editing, functional, identify, cas9   \n",
       "22             metabolic, diabetes, metabolism, glucose, insulin, disease, type, beta, metabolite, diabetic   \n",
       "21                       skin, organ, kidney, transplantation, fibrosis, injury, renal, human, tissue, lung   \n",
       "0                  gene, genome, expression, genetic, mutation, crispr, editing, functional, identify, cas9   \n",
       "14         stress, response, induced, effect, oxidative, radiation, mechanism, tolerance, damage, condition   \n",
       "11                            population, age, ageing, aging, related, life, healthy, older, decline, adult   \n",
       "20         disease, inflammatory, inflammation, macrophage, intestinal, chronic, pro, ra, cell, therapeutic   \n",
       "3     resistance, antibiotic, bacteria, bacterial, infection, resistant, antimicrobial, pathogen, pa, toxin   \n",
       "2                  cancer, tumor, tumour, breast, therapy, cell, treatment, metastasis, metastatic, patient   \n",
       "19        resolution, imaging, microscopy, high, technique, super, microscope, fluorescence, live, electron   \n",
       "6                        immune, response, immunity, innate, function, mouse, il, role, specific, tolerance   \n",
       "5               disease, ad, neurodegenerative, alzheimer, al, model, pathology, brain, parkinson, disorder   \n",
       "18   drug, discovery, development, pharmaceutical, compound, screening, molecule, target, candidate, pharma   \n",
       "28                    heart, cardiac, failure, disease, cardiovascular, death, hf, af, clinical, myocardial   \n",
       "15                            population, age, ageing, aging, related, life, healthy, older, decline, adult   \n",
       "7                  gene, genome, expression, genetic, mutation, crispr, editing, functional, identify, cas9   \n",
       "8                 data, big, analytics, processing, analysis, information, driven, amount, source, business   \n",
       "26              neuron, neuronal, circuit, brain, activity, neural, plasticity, mouse, cortical, functional   \n",
       "29      level, quantitative, analysis, approach, aim, research, method, comprehensive, understanding, macro   \n",
       "9                 sex, female, reproductive, male, sexual, woman, reproduction, gender, fertility, specific   \n",
       "10  environment, environmental, condition, air, pollution, quality, indoor, emission, developed, integrated   \n",
       "23             delivery, drug, therapeutic, release, wound, therapy, healing, targeted, treatment, efficacy   \n",
       "12       energy, solar, efficiency, power, grid, efficient, consumption, electricity, harvesting, renewable   \n",
       "\n",
       "    divergence_score_filtered  score_diff  \n",
       "16                   0.721102   -0.074393  \n",
       "13                   0.746020   -0.048174  \n",
       "4                    0.722837   -0.039389  \n",
       "17                   0.634735   -0.036509  \n",
       "1                    0.696356   -0.036364  \n",
       "24                   0.620899   -0.030807  \n",
       "25                   0.783972   -0.029239  \n",
       "27                   0.692319   -0.028579  \n",
       "22                   0.716179   -0.026879  \n",
       "21                   0.757790   -0.025386  \n",
       "0                    0.757357   -0.023766  \n",
       "14                   0.739223   -0.023673  \n",
       "11                   0.761539   -0.023324  \n",
       "20                   0.729290   -0.018484  \n",
       "3                    0.720164   -0.016057  \n",
       "2                    0.704889   -0.015798  \n",
       "19                   0.770918   -0.015107  \n",
       "6                    0.736840   -0.014766  \n",
       "5                    0.762077   -0.014423  \n",
       "18                   0.692936   -0.013314  \n",
       "28                   0.704877   -0.009139  \n",
       "15                   0.758583   -0.008690  \n",
       "7                    0.763956   -0.001514  \n",
       "8                    0.698552    0.006474  \n",
       "26                   0.773999    0.007912  \n",
       "29                   0.727590    0.009995  \n",
       "9                    0.769370    0.010897  \n",
       "10                   0.748946    0.012497  \n",
       "23                   0.755005    0.017464  \n",
       "12                   0.684919    0.038393  "
      ]
     },
     "execution_count": 35,
     "metadata": {},
     "output_type": "execute_result"
    }
   ],
   "source": [
    "compare_df.sort_values('score_diff')"
   ]
  },
  {
   "cell_type": "code",
   "execution_count": 41,
   "metadata": {
    "hidden": true
   },
   "outputs": [],
   "source": [
    "# compare_df.to_csv('../output/associated_words_comparison.csv', index=False)\n",
    "# compare_df.to_excel('../output/comparison.xlsx', index=False)"
   ]
  },
  {
   "cell_type": "markdown",
   "metadata": {},
   "source": [
    "## Hyperparameter Tuning"
   ]
  },
  {
   "cell_type": "markdown",
   "metadata": {},
   "source": [
    "Parameters we can use to tune:\n",
    "[LDAMALLET Documentation](https://radimrehurek.com/gensim/models/wrappers/ldamallet.html)\n",
    "* num_topics? (With larger topics, probability distribution of terms within topics will always become more specific/granular\n",
    "* alpha\n",
    "* Improving associated words/labels list"
   ]
  },
  {
   "cell_type": "code",
   "execution_count": 5,
   "metadata": {},
   "outputs": [],
   "source": [
    "def get_divergence_scores(dictionary: Dictionary, model: LdaMallet, associated_words: list):\n",
    "    # variables\n",
    "    result_array = np.zeros((len(associated_words), model.num_topics))\n",
    "    topic_array = model.get_topics()\n",
    "    label_array = np.zeros((len(associated_words), len(dictionary.keys())))\n",
    "\n",
    "    # initialize label arrays\n",
    "    for id_i, i in enumerate(associated_words):\n",
    "        id_list = dictionary.doc2idx(set(i))\n",
    "        for j in id_list:\n",
    "            label_array[id_i][j] = 1.0 / len(id_list)\n",
    "\n",
    "    for i in range(len(associated_words)):\n",
    "        for j in range(model.num_topics):\n",
    "            jensenshannon_score = jensenshannon(label_array[i], topic_array[j])\n",
    "            result_array[i][j] = jensenshannon_score\n",
    "    \n",
    "    return result_array\n",
    "\n",
    "def get_min_divergence_scores(divergence_scores: np.array):\n",
    "    return divergence_scores.min(1).sum()\n",
    "\n",
    "def format_divergence_scores(model: LdaMallet, divergence_scores: np.array):\n",
    "    topics_df = get_all_topics(model).set_index('Topic_Id')\n",
    "    df = topics_df.iloc[divergence_scores.argmin(1)].reset_index()\n",
    "    df['divergence_score'] = divergence_scores.min(1)\n",
    "    return df"
   ]
  },
  {
   "cell_type": "markdown",
   "metadata": {
    "heading_collapsed": true
   },
   "source": [
    "### Tuning for n_topics and alpha"
   ]
  },
  {
   "cell_type": "markdown",
   "metadata": {
    "hidden": true
   },
   "source": [
    "small alpha is used for few topics per document and big alpha is used for many topics per document."
   ]
  },
  {
   "cell_type": "code",
   "execution_count": 40,
   "metadata": {
    "hidden": true
   },
   "outputs": [
    {
     "name": "stdout",
     "output_type": "stream",
     "text": [
      "13086\n"
     ]
    }
   ],
   "source": [
    "# Bag-of-words representation of the documents.\n",
    "filtered_corpus = [filtered_dictionary.doc2bow(doc) for doc in filtered_docs]\n",
    "print(len(filtered_corpus))"
   ]
  },
  {
   "cell_type": "code",
   "execution_count": 41,
   "metadata": {
    "hidden": true
   },
   "outputs": [
    {
     "name": "stdout",
     "output_type": "stream",
     "text": [
      "CPU times: user 55.1 s, sys: 439 ms, total: 55.5 s\n",
      "Wall time: 7min 8s\n"
     ]
    }
   ],
   "source": [
    "%%time \n",
    "\n",
    "alpha_params = [0.01, 0.1, 1, 10, 50, 100]\n",
    "scores = []\n",
    "\n",
    "for i in alpha_params:\n",
    "    model = train_lda_mallet(filtered_corpus, filtered_dictionary, 300, \n",
    "                         params={\n",
    "                             'mallet_path': '../mallet-2.0.8/bin/mallet',\n",
    "                             'prefix_path': '../artefacts/mallet_tmp/',\n",
    "                             'alpha': i\n",
    "                         })\n",
    "    \n",
    "    scores_array = get_divergence_scores(filtered_dictionary, model, associated_words)\n",
    "    scores.append(get_min_divergence_scores(scores_array))"
   ]
  },
  {
   "cell_type": "code",
   "execution_count": 42,
   "metadata": {
    "hidden": true
   },
   "outputs": [
    {
     "data": {
      "text/plain": [
       "[24.203720396478587,\n",
       " 23.85662612462584,\n",
       " 22.957363907239817,\n",
       " 21.915334469860646,\n",
       " 21.60336477097165,\n",
       " 21.36322391403247]"
      ]
     },
     "execution_count": 42,
     "metadata": {},
     "output_type": "execute_result"
    }
   ],
   "source": [
    "scores"
   ]
  },
  {
   "cell_type": "code",
   "execution_count": 43,
   "metadata": {
    "hidden": true
   },
   "outputs": [
    {
     "name": "stdout",
     "output_type": "stream",
     "text": [
      "CPU times: user 55.9 s, sys: 607 ms, total: 56.5 s\n",
      "Wall time: 5min 49s\n"
     ]
    }
   ],
   "source": [
    "%%time \n",
    "\n",
    "alpha_params = [50, 70, 100, 120, 150, 200]\n",
    "scores = []\n",
    "\n",
    "for i in alpha_params:\n",
    "    model = train_lda_mallet(filtered_corpus, filtered_dictionary, 300, \n",
    "                         params={\n",
    "                             'mallet_path': '../mallet-2.0.8/bin/mallet',\n",
    "                             'prefix_path': '../artefacts/mallet_tmp/',\n",
    "                             'alpha': i\n",
    "                         })\n",
    "    \n",
    "    scores_array = get_divergence_scores(filtered_dictionary, model, associated_words)\n",
    "    scores.append(get_min_divergence_scores(scores_array))"
   ]
  },
  {
   "cell_type": "code",
   "execution_count": 44,
   "metadata": {
    "hidden": true
   },
   "outputs": [
    {
     "data": {
      "text/plain": [
       "[21.60336477097165,\n",
       " 21.511106322058342,\n",
       " 21.36322391403247,\n",
       " 21.347289505726124,\n",
       " 21.23431997151852,\n",
       " 21.173681642711934]"
      ]
     },
     "execution_count": 44,
     "metadata": {},
     "output_type": "execute_result"
    }
   ],
   "source": [
    "scores"
   ]
  },
  {
   "cell_type": "code",
   "execution_count": 45,
   "metadata": {
    "hidden": true
   },
   "outputs": [
    {
     "name": "stdout",
     "output_type": "stream",
     "text": [
      "CPU times: user 45.2 s, sys: 364 ms, total: 45.6 s\n",
      "Wall time: 4min 52s\n"
     ]
    }
   ],
   "source": [
    "%%time \n",
    "\n",
    "alpha_params = [200, 250, 300, 400, 500]\n",
    "scores = []\n",
    "\n",
    "for i in alpha_params:\n",
    "    model = train_lda_mallet(filtered_corpus, filtered_dictionary, 300, \n",
    "                         params={\n",
    "                             'mallet_path': '../mallet-2.0.8/bin/mallet',\n",
    "                             'prefix_path': '../artefacts/mallet_tmp/',\n",
    "                             'alpha': i\n",
    "                         })\n",
    "    \n",
    "    scores_array = get_divergence_scores(filtered_dictionary, model, associated_words)\n",
    "    scores.append(get_min_divergence_scores(scores_array))"
   ]
  },
  {
   "cell_type": "code",
   "execution_count": 46,
   "metadata": {
    "hidden": true
   },
   "outputs": [
    {
     "data": {
      "text/plain": [
       "[21.173681642711934,\n",
       " 21.1034699289655,\n",
       " 21.282616113016783,\n",
       " 21.33287213236462,\n",
       " 21.135819968729002]"
      ]
     },
     "execution_count": 46,
     "metadata": {},
     "output_type": "execute_result"
    }
   ],
   "source": [
    "scores"
   ]
  },
  {
   "cell_type": "markdown",
   "metadata": {},
   "source": [
    "### Optimized Model"
   ]
  },
  {
   "cell_type": "code",
   "execution_count": 10,
   "metadata": {},
   "outputs": [
    {
     "name": "stdout",
     "output_type": "stream",
     "text": [
      "13086\n"
     ]
    }
   ],
   "source": [
    "with open('../artefacts/filtered_top_1_docs.pkl', 'rb') as f:\n",
    "    filtered_docs = pickle.load(f)\n",
    "\n",
    "print(len(filtered_docs))\n",
    "\n",
    "filtered_dictionary = Dictionary.load('../artefacts/filtered_top_1_dictionary')"
   ]
  },
  {
   "cell_type": "code",
   "execution_count": 16,
   "metadata": {},
   "outputs": [
    {
     "name": "stdout",
     "output_type": "stream",
     "text": [
      "13086\n",
      "21.1034699289655\n"
     ]
    }
   ],
   "source": [
    "# Bag-of-words representation of the documents.\n",
    "filtered_corpus = [filtered_dictionary.doc2bow(doc) for doc in filtered_docs]\n",
    "print(len(filtered_corpus))\n",
    "\n",
    "optimized_model = train_lda_mallet(filtered_corpus, filtered_dictionary, 300, \n",
    "                         params={\n",
    "                             'mallet_path': '../mallet-2.0.8/bin/mallet',\n",
    "                             'prefix_path': '../artefacts/mallet_tmp/',\n",
    "                             'alpha': 250\n",
    "                         })\n",
    "optimized_score_array = get_divergence_scores(filtered_dictionary, optimized_model, associated_words)\n",
    "\n",
    "# for reproducibility. should equal 21.1034699289655\n",
    "print(get_min_divergence_scores(optimized_score_array))"
   ]
  },
  {
   "cell_type": "code",
   "execution_count": 17,
   "metadata": {},
   "outputs": [
    {
     "data": {
      "text/html": [
       "<div>\n",
       "<style scoped>\n",
       "    .dataframe tbody tr th:only-of-type {\n",
       "        vertical-align: middle;\n",
       "    }\n",
       "\n",
       "    .dataframe tbody tr th {\n",
       "        vertical-align: top;\n",
       "    }\n",
       "\n",
       "    .dataframe thead th {\n",
       "        text-align: right;\n",
       "    }\n",
       "</style>\n",
       "<table border=\"1\" class=\"dataframe\">\n",
       "  <thead>\n",
       "    <tr style=\"text-align: right;\">\n",
       "      <th></th>\n",
       "      <th>Topic_Id</th>\n",
       "      <th>Topic_Keywords</th>\n",
       "    </tr>\n",
       "  </thead>\n",
       "  <tbody>\n",
       "    <tr>\n",
       "      <th>0</th>\n",
       "      <td>0</td>\n",
       "      <td>aspect, modern, part, idea, main, goal, practical, proposed, technique, general</td>\n",
       "    </tr>\n",
       "    <tr>\n",
       "      <th>1</th>\n",
       "      <td>1</td>\n",
       "      <td>life, infant, period, developmental, birth, maternal, pregnancy, mother, baby, born</td>\n",
       "    </tr>\n",
       "    <tr>\n",
       "      <th>2</th>\n",
       "      <td>2</td>\n",
       "      <td>cell, differentiation, fate, niche, heterogeneity, lineage, cellular, developmental, progenitor, somatic</td>\n",
       "    </tr>\n",
       "    <tr>\n",
       "      <th>3</th>\n",
       "      <td>3</td>\n",
       "      <td>enable, micro, capable, perform, capability, inside, progress, develop, made, patch</td>\n",
       "    </tr>\n",
       "    <tr>\n",
       "      <th>4</th>\n",
       "      <td>4</td>\n",
       "      <td>protein, substrate, spectrometry, mass, ubiquitin, proteome, degradation, biochemical, phosphorylation, proteasome</td>\n",
       "    </tr>\n",
       "  </tbody>\n",
       "</table>\n",
       "</div>"
      ],
      "text/plain": [
       "   Topic_Id  \\\n",
       "0         0   \n",
       "1         1   \n",
       "2         2   \n",
       "3         3   \n",
       "4         4   \n",
       "\n",
       "                                                                                                       Topic_Keywords  \n",
       "0                                     aspect, modern, part, idea, main, goal, practical, proposed, technique, general  \n",
       "1                                 life, infant, period, developmental, birth, maternal, pregnancy, mother, baby, born  \n",
       "2            cell, differentiation, fate, niche, heterogeneity, lineage, cellular, developmental, progenitor, somatic  \n",
       "3                                 enable, micro, capable, perform, capability, inside, progress, develop, made, patch  \n",
       "4  protein, substrate, spectrometry, mass, ubiquitin, proteome, degradation, biochemical, phosphorylation, proteasome  "
      ]
     },
     "execution_count": 17,
     "metadata": {},
     "output_type": "execute_result"
    }
   ],
   "source": [
    "# get_all_topics(optimized_model).to_csv('../output/optimized_300_topics.csv', index=False)\n",
    "get_all_topics(optimized_model).head()"
   ]
  },
  {
   "cell_type": "code",
   "execution_count": 18,
   "metadata": {
    "collapsed": true
   },
   "outputs": [
    {
     "data": {
      "text/html": [
       "<div>\n",
       "<style scoped>\n",
       "    .dataframe tbody tr th:only-of-type {\n",
       "        vertical-align: middle;\n",
       "    }\n",
       "\n",
       "    .dataframe tbody tr th {\n",
       "        vertical-align: top;\n",
       "    }\n",
       "\n",
       "    .dataframe thead th {\n",
       "        text-align: right;\n",
       "    }\n",
       "</style>\n",
       "<table border=\"1\" class=\"dataframe\">\n",
       "  <thead>\n",
       "    <tr style=\"text-align: right;\">\n",
       "      <th></th>\n",
       "      <th>associated_words</th>\n",
       "      <th>Topic_Id</th>\n",
       "      <th>Topic_Keywords</th>\n",
       "      <th>divergence_score</th>\n",
       "    </tr>\n",
       "  </thead>\n",
       "  <tbody>\n",
       "    <tr>\n",
       "      <th>0</th>\n",
       "      <td>{base, cas9, crispr, editing}</td>\n",
       "      <td>139</td>\n",
       "      <td>dna, genome, epigenetic, crispr, repair, editing, histone, cas9, genomic, damage</td>\n",
       "      <td>0.734616</td>\n",
       "    </tr>\n",
       "    <tr>\n",
       "      <th>1</th>\n",
       "      <td>{p53, carcinoma, cancer, tumorigenesis}</td>\n",
       "      <td>12</td>\n",
       "      <td>cancer, tumor, tumour, metastasis, metastatic, breast, progression, chemotherapy, anti, survival</td>\n",
       "      <td>0.676048</td>\n",
       "    </tr>\n",
       "    <tr>\n",
       "      <th>2</th>\n",
       "      <td>{immunotherapy, cancer, leukemia, solid}</td>\n",
       "      <td>12</td>\n",
       "      <td>cancer, tumor, tumour, metastasis, metastatic, breast, progression, chemotherapy, anti, survival</td>\n",
       "      <td>0.690754</td>\n",
       "    </tr>\n",
       "    <tr>\n",
       "      <th>3</th>\n",
       "      <td>{microbiome, bacteria, antibiotic, probiotic}</td>\n",
       "      <td>80</td>\n",
       "      <td>resistance, antibiotic, resistant, bacteria, antimicrobial, bacterial, amr, global, threat, emergence</td>\n",
       "      <td>0.704846</td>\n",
       "    </tr>\n",
       "    <tr>\n",
       "      <th>4</th>\n",
       "      <td>{coding, non, rna, oligonucleotide}</td>\n",
       "      <td>122</td>\n",
       "      <td>rna, mrna, sequence, coding, nmr, sequencing, splicing, motif, seq, binding</td>\n",
       "      <td>0.670497</td>\n",
       "    </tr>\n",
       "    <tr>\n",
       "      <th>5</th>\n",
       "      <td>{parkinson, alzheimer, neurodegeneration, huntington}</td>\n",
       "      <td>289</td>\n",
       "      <td>disease, signaling, pathology, al, neurodegenerative, parkinson, therapeutic, aggregation, neurodegeneration, alzheimer</td>\n",
       "      <td>0.754143</td>\n",
       "    </tr>\n",
       "    <tr>\n",
       "      <th>6</th>\n",
       "      <td>{vector, aav, gene, immunity, delivery, immune}</td>\n",
       "      <td>17</td>\n",
       "      <td>gene, expression, regulatory, genome, transcriptional, transcription, regulation, enhancer, promoter, silencing</td>\n",
       "      <td>0.725580</td>\n",
       "    </tr>\n",
       "    <tr>\n",
       "      <th>7</th>\n",
       "      <td>{polymer, viral, nanoparticle, non, gene, delivery, liposome}</td>\n",
       "      <td>17</td>\n",
       "      <td>gene, expression, regulatory, genome, transcriptional, transcription, regulation, enhancer, promoter, silencing</td>\n",
       "      <td>0.735572</td>\n",
       "    </tr>\n",
       "    <tr>\n",
       "      <th>8</th>\n",
       "      <td>{genomics, data, multiomics, prevention, precision}</td>\n",
       "      <td>46</td>\n",
       "      <td>data, big, analytics, datasets, mining, collection, collected, sharing, repository, query</td>\n",
       "      <td>0.676922</td>\n",
       "    </tr>\n",
       "    <tr>\n",
       "      <th>9</th>\n",
       "      <td>{pregnancy, reproductive, obstetric, woman, prenatal}</td>\n",
       "      <td>57</td>\n",
       "      <td>breast, positive, woman, common, result, benefit, potential, lesion, significant, targeted</td>\n",
       "      <td>0.782717</td>\n",
       "    </tr>\n",
       "    <tr>\n",
       "      <th>10</th>\n",
       "      <td>{epigenetics, chromosome, histone, epigenomics, environment}</td>\n",
       "      <td>159</td>\n",
       "      <td>environment, space, location, adapt, robust, allowing, moving, requires, integrate, changing</td>\n",
       "      <td>0.700874</td>\n",
       "    </tr>\n",
       "    <tr>\n",
       "      <th>11</th>\n",
       "      <td>{aging, geriatric, senescence}</td>\n",
       "      <td>258</td>\n",
       "      <td>age, life, ageing, adult, aging, healthy, older, related, decline, population</td>\n",
       "      <td>0.753455</td>\n",
       "    </tr>\n",
       "    <tr>\n",
       "      <th>12</th>\n",
       "      <td>{energy, therapy, mitochondrion}</td>\n",
       "      <td>281</td>\n",
       "      <td>therapy, therapeutic, treatment, targeted, efficacy, cure, treat, clinical, promising, clinic</td>\n",
       "      <td>0.672331</td>\n",
       "    </tr>\n",
       "    <tr>\n",
       "      <th>13</th>\n",
       "      <td>{psychological, psychiatric, mental}</td>\n",
       "      <td>238</td>\n",
       "      <td>evidence, mental, relationship, finding, research, contribution, systematic, account, interdisciplinary, orientation</td>\n",
       "      <td>0.737654</td>\n",
       "    </tr>\n",
       "    <tr>\n",
       "      <th>14</th>\n",
       "      <td>{resistant, stress, anxiety, depression}</td>\n",
       "      <td>177</td>\n",
       "      <td>response, stress, physiological, exposure, tolerance, oxidative, exposed, vulnerability, trigger, respond</td>\n",
       "      <td>0.736083</td>\n",
       "    </tr>\n",
       "    <tr>\n",
       "      <th>15</th>\n",
       "      <td>{aging, frailty, sarcopenia, elderly}</td>\n",
       "      <td>258</td>\n",
       "      <td>age, life, ageing, adult, aging, healthy, older, related, decline, population</td>\n",
       "      <td>0.765555</td>\n",
       "    </tr>\n",
       "    <tr>\n",
       "      <th>16</th>\n",
       "      <td>{retinal, eye, ophthalmic}</td>\n",
       "      <td>282</td>\n",
       "      <td>visual, vision, eye, head, retinal, display, lens, impaired, world, blind</td>\n",
       "      <td>0.727365</td>\n",
       "    </tr>\n",
       "    <tr>\n",
       "      <th>17</th>\n",
       "      <td>{virus, vaccine, immunity, infection}</td>\n",
       "      <td>22</td>\n",
       "      <td>vaccine, virus, viral, vector, infection, muscle, hiv, antiviral, influenza, outbreak</td>\n",
       "      <td>0.625181</td>\n",
       "    </tr>\n",
       "    <tr>\n",
       "      <th>18</th>\n",
       "      <td>{ai, computational, drug, structure, bioinformatics, discovery}</td>\n",
       "      <td>94</td>\n",
       "      <td>drug, discovery, pharmaceutical, candidate, toxicity, anti, approved, anticancer, pipeline, throughput</td>\n",
       "      <td>0.639996</td>\n",
       "    </tr>\n",
       "    <tr>\n",
       "      <th>19</th>\n",
       "      <td>{em, cryo, microscopy}</td>\n",
       "      <td>249</td>\n",
       "      <td>resolution, microscopy, ray, probe, fluorescence, super, technique, sample, limit, em</td>\n",
       "      <td>0.731909</td>\n",
       "    </tr>\n",
       "    <tr>\n",
       "      <th>20</th>\n",
       "      <td>{immune, macrophage, inflammation, activation}</td>\n",
       "      <td>285</td>\n",
       "      <td>immune, response, antigen, immunotherapy, dc, vaccination, immunological, immunology, presentation, id</td>\n",
       "      <td>0.714902</td>\n",
       "    </tr>\n",
       "    <tr>\n",
       "      <th>21</th>\n",
       "      <td>{fibrosis, interleukin, organ}</td>\n",
       "      <td>81</td>\n",
       "      <td>engineering, organ, engineered, engineer, construct, transplantation, create, approach, functionality, mimic</td>\n",
       "      <td>0.752628</td>\n",
       "    </tr>\n",
       "    <tr>\n",
       "      <th>22</th>\n",
       "      <td>{insulin, diabetes}</td>\n",
       "      <td>151</td>\n",
       "      <td>diabetes, obesity, glucose, insulin, type, diabetic, diet, weight, lifestyle, t2d</td>\n",
       "      <td>0.694562</td>\n",
       "    </tr>\n",
       "    <tr>\n",
       "      <th>23</th>\n",
       "      <td>{needle, injection, free, delivery}</td>\n",
       "      <td>260</td>\n",
       "      <td>delivery, agent, release, therapeutic, targeted, kidney, deliver, formulation, carrier, cargo</td>\n",
       "      <td>0.725125</td>\n",
       "    </tr>\n",
       "    <tr>\n",
       "      <th>24</th>\n",
       "      <td>{bacteria, antibiotic, resistance}</td>\n",
       "      <td>80</td>\n",
       "      <td>resistance, antibiotic, resistant, bacteria, antimicrobial, bacterial, amr, global, threat, emergence</td>\n",
       "      <td>0.543384</td>\n",
       "    </tr>\n",
       "    <tr>\n",
       "      <th>25</th>\n",
       "      <td>{dengue, malaria, mosquito}</td>\n",
       "      <td>99</td>\n",
       "      <td>host, pathogen, effector, parasite, malaria, defence, virulence, infectious, important, intracellular</td>\n",
       "      <td>0.793670</td>\n",
       "    </tr>\n",
       "    <tr>\n",
       "      <th>26</th>\n",
       "      <td>{astrocyte, synapse, neuron, axon, ganglion}</td>\n",
       "      <td>75</td>\n",
       "      <td>circuit, neuronal, neuron, synaptic, plasticity, function, synapsis, calcium, cortical, synapse</td>\n",
       "      <td>0.732869</td>\n",
       "    </tr>\n",
       "    <tr>\n",
       "      <th>27</th>\n",
       "      <td>{therapy, regulation, gene, expression}</td>\n",
       "      <td>17</td>\n",
       "      <td>gene, expression, regulatory, genome, transcriptional, transcription, regulation, enhancer, promoter, silencing</td>\n",
       "      <td>0.548803</td>\n",
       "    </tr>\n",
       "    <tr>\n",
       "      <th>28</th>\n",
       "      <td>{congestive, faction, heart, ejection, myocardial, infarction, failure}</td>\n",
       "      <td>104</td>\n",
       "      <td>heart, failure, cardiac, death, cardiovascular, mortality, cvd, myocardial, hf, ablation</td>\n",
       "      <td>0.675958</td>\n",
       "    </tr>\n",
       "    <tr>\n",
       "      <th>29</th>\n",
       "      <td>{analysis, quantitative, ion, spectrometry, neutron}</td>\n",
       "      <td>293</td>\n",
       "      <td>analysis, ra, analyse, bioinformatics, pipeline, arthritis, md, analysed, interpretation, dependency</td>\n",
       "      <td>0.679472</td>\n",
       "    </tr>\n",
       "  </tbody>\n",
       "</table>\n",
       "</div>"
      ],
      "text/plain": [
       "                                                           associated_words  \\\n",
       "0                                             {base, cas9, crispr, editing}   \n",
       "1                                   {p53, carcinoma, cancer, tumorigenesis}   \n",
       "2                                  {immunotherapy, cancer, leukemia, solid}   \n",
       "3                             {microbiome, bacteria, antibiotic, probiotic}   \n",
       "4                                       {coding, non, rna, oligonucleotide}   \n",
       "5                     {parkinson, alzheimer, neurodegeneration, huntington}   \n",
       "6                           {vector, aav, gene, immunity, delivery, immune}   \n",
       "7             {polymer, viral, nanoparticle, non, gene, delivery, liposome}   \n",
       "8                       {genomics, data, multiomics, prevention, precision}   \n",
       "9                     {pregnancy, reproductive, obstetric, woman, prenatal}   \n",
       "10             {epigenetics, chromosome, histone, epigenomics, environment}   \n",
       "11                                           {aging, geriatric, senescence}   \n",
       "12                                         {energy, therapy, mitochondrion}   \n",
       "13                                     {psychological, psychiatric, mental}   \n",
       "14                                 {resistant, stress, anxiety, depression}   \n",
       "15                                    {aging, frailty, sarcopenia, elderly}   \n",
       "16                                               {retinal, eye, ophthalmic}   \n",
       "17                                    {virus, vaccine, immunity, infection}   \n",
       "18          {ai, computational, drug, structure, bioinformatics, discovery}   \n",
       "19                                                   {em, cryo, microscopy}   \n",
       "20                           {immune, macrophage, inflammation, activation}   \n",
       "21                                           {fibrosis, interleukin, organ}   \n",
       "22                                                      {insulin, diabetes}   \n",
       "23                                      {needle, injection, free, delivery}   \n",
       "24                                       {bacteria, antibiotic, resistance}   \n",
       "25                                              {dengue, malaria, mosquito}   \n",
       "26                             {astrocyte, synapse, neuron, axon, ganglion}   \n",
       "27                                  {therapy, regulation, gene, expression}   \n",
       "28  {congestive, faction, heart, ejection, myocardial, infarction, failure}   \n",
       "29                     {analysis, quantitative, ion, spectrometry, neutron}   \n",
       "\n",
       "    Topic_Id  \\\n",
       "0        139   \n",
       "1         12   \n",
       "2         12   \n",
       "3         80   \n",
       "4        122   \n",
       "5        289   \n",
       "6         17   \n",
       "7         17   \n",
       "8         46   \n",
       "9         57   \n",
       "10       159   \n",
       "11       258   \n",
       "12       281   \n",
       "13       238   \n",
       "14       177   \n",
       "15       258   \n",
       "16       282   \n",
       "17        22   \n",
       "18        94   \n",
       "19       249   \n",
       "20       285   \n",
       "21        81   \n",
       "22       151   \n",
       "23       260   \n",
       "24        80   \n",
       "25        99   \n",
       "26        75   \n",
       "27        17   \n",
       "28       104   \n",
       "29       293   \n",
       "\n",
       "                                                                                                             Topic_Keywords  \\\n",
       "0                                          dna, genome, epigenetic, crispr, repair, editing, histone, cas9, genomic, damage   \n",
       "1                          cancer, tumor, tumour, metastasis, metastatic, breast, progression, chemotherapy, anti, survival   \n",
       "2                          cancer, tumor, tumour, metastasis, metastatic, breast, progression, chemotherapy, anti, survival   \n",
       "3                     resistance, antibiotic, resistant, bacteria, antimicrobial, bacterial, amr, global, threat, emergence   \n",
       "4                                               rna, mrna, sequence, coding, nmr, sequencing, splicing, motif, seq, binding   \n",
       "5   disease, signaling, pathology, al, neurodegenerative, parkinson, therapeutic, aggregation, neurodegeneration, alzheimer   \n",
       "6           gene, expression, regulatory, genome, transcriptional, transcription, regulation, enhancer, promoter, silencing   \n",
       "7           gene, expression, regulatory, genome, transcriptional, transcription, regulation, enhancer, promoter, silencing   \n",
       "8                                 data, big, analytics, datasets, mining, collection, collected, sharing, repository, query   \n",
       "9                                breast, positive, woman, common, result, benefit, potential, lesion, significant, targeted   \n",
       "10                             environment, space, location, adapt, robust, allowing, moving, requires, integrate, changing   \n",
       "11                                            age, life, ageing, adult, aging, healthy, older, related, decline, population   \n",
       "12                            therapy, therapeutic, treatment, targeted, efficacy, cure, treat, clinical, promising, clinic   \n",
       "13     evidence, mental, relationship, finding, research, contribution, systematic, account, interdisciplinary, orientation   \n",
       "14                response, stress, physiological, exposure, tolerance, oxidative, exposed, vulnerability, trigger, respond   \n",
       "15                                            age, life, ageing, adult, aging, healthy, older, related, decline, population   \n",
       "16                                                visual, vision, eye, head, retinal, display, lens, impaired, world, blind   \n",
       "17                                    vaccine, virus, viral, vector, infection, muscle, hiv, antiviral, influenza, outbreak   \n",
       "18                   drug, discovery, pharmaceutical, candidate, toxicity, anti, approved, anticancer, pipeline, throughput   \n",
       "19                                    resolution, microscopy, ray, probe, fluorescence, super, technique, sample, limit, em   \n",
       "20                   immune, response, antigen, immunotherapy, dc, vaccination, immunological, immunology, presentation, id   \n",
       "21             engineering, organ, engineered, engineer, construct, transplantation, create, approach, functionality, mimic   \n",
       "22                                        diabetes, obesity, glucose, insulin, type, diabetic, diet, weight, lifestyle, t2d   \n",
       "23                            delivery, agent, release, therapeutic, targeted, kidney, deliver, formulation, carrier, cargo   \n",
       "24                    resistance, antibiotic, resistant, bacteria, antimicrobial, bacterial, amr, global, threat, emergence   \n",
       "25                    host, pathogen, effector, parasite, malaria, defence, virulence, infectious, important, intracellular   \n",
       "26                          circuit, neuronal, neuron, synaptic, plasticity, function, synapsis, calcium, cortical, synapse   \n",
       "27          gene, expression, regulatory, genome, transcriptional, transcription, regulation, enhancer, promoter, silencing   \n",
       "28                                 heart, failure, cardiac, death, cardiovascular, mortality, cvd, myocardial, hf, ablation   \n",
       "29                     analysis, ra, analyse, bioinformatics, pipeline, arthritis, md, analysed, interpretation, dependency   \n",
       "\n",
       "    divergence_score  \n",
       "0           0.734616  \n",
       "1           0.676048  \n",
       "2           0.690754  \n",
       "3           0.704846  \n",
       "4           0.670497  \n",
       "5           0.754143  \n",
       "6           0.725580  \n",
       "7           0.735572  \n",
       "8           0.676922  \n",
       "9           0.782717  \n",
       "10          0.700874  \n",
       "11          0.753455  \n",
       "12          0.672331  \n",
       "13          0.737654  \n",
       "14          0.736083  \n",
       "15          0.765555  \n",
       "16          0.727365  \n",
       "17          0.625181  \n",
       "18          0.639996  \n",
       "19          0.731909  \n",
       "20          0.714902  \n",
       "21          0.752628  \n",
       "22          0.694562  \n",
       "23          0.725125  \n",
       "24          0.543384  \n",
       "25          0.793670  \n",
       "26          0.732869  \n",
       "27          0.548803  \n",
       "28          0.675958  \n",
       "29          0.679472  "
      ]
     },
     "execution_count": 18,
     "metadata": {},
     "output_type": "execute_result"
    }
   ],
   "source": [
    "temp_df = format_divergence_scores(optimized_model, optimized_score_array)\n",
    "temp_df.insert(0, 'associated_words', [set(i) for i in associated_words])\n",
    "temp_df"
   ]
  },
  {
   "cell_type": "code",
   "execution_count": 21,
   "metadata": {},
   "outputs": [],
   "source": [
    "temp_df.to_csv('../output/associated_words_divergence_score_optimized.csv', index=False)"
   ]
  },
  {
   "cell_type": "markdown",
   "metadata": {},
   "source": [
    "## Predict and Format"
   ]
  },
  {
   "cell_type": "code",
   "execution_count": 19,
   "metadata": {},
   "outputs": [],
   "source": [
    "sheets_dict = pd.read_excel('../data/cordis-h2020projects.xlsx', None)\n",
    "df = sheets_dict['cordis-h2020projects']\n",
    "\n",
    "# combine title and objective\n",
    "data = (df['title'] + ' ' + df['objective']).values.tolist()\n",
    "\n",
    "docs = process_data(data)\n",
    "corpus = [filtered_dictionary.doc2bow(doc) for doc in docs]"
   ]
  },
  {
   "cell_type": "markdown",
   "metadata": {},
   "source": [
    "### 30k grants prediction"
   ]
  },
  {
   "cell_type": "code",
   "execution_count": 28,
   "metadata": {},
   "outputs": [
    {
     "name": "stdout",
     "output_type": "stream",
     "text": [
      "CPU times: user 14min 41s, sys: 14.2 s, total: 14min 56s\n",
      "Wall time: 16min 11s\n"
     ]
    }
   ],
   "source": [
    "%%time\n",
    "predict_df = predict_and_format_topics(optimized_model, corpus, data, n_topics=10)"
   ]
  },
  {
   "cell_type": "code",
   "execution_count": 96,
   "metadata": {},
   "outputs": [
    {
     "data": {
      "text/plain": [
       "{'Dominant_Topic_1': 'Topic_Id_1',\n",
       " 'Dominant_Topic_2': 'Topic_Id_2',\n",
       " 'Dominant_Topic_3': 'Topic_Id_3',\n",
       " 'Dominant_Topic_4': 'Topic_Id_4',\n",
       " 'Dominant_Topic_5': 'Topic_Id_5'}"
      ]
     },
     "execution_count": 96,
     "metadata": {},
     "output_type": "execute_result"
    }
   ],
   "source": [
    "rename_columns_dict = dict([(f'Dominant_Topic_{i+1}', f'Topic_Id_{i+1}') for i in range(5)])\n",
    "rename_columns_dict"
   ]
  },
  {
   "cell_type": "code",
   "execution_count": 97,
   "metadata": {},
   "outputs": [],
   "source": [
    "predict_df.rename(columns=rename_columns_dict, inplace=True)"
   ]
  },
  {
   "cell_type": "code",
   "execution_count": 98,
   "metadata": {},
   "outputs": [
    {
     "data": {
      "text/html": [
       "<div>\n",
       "<style scoped>\n",
       "    .dataframe tbody tr th:only-of-type {\n",
       "        vertical-align: middle;\n",
       "    }\n",
       "\n",
       "    .dataframe tbody tr th {\n",
       "        vertical-align: top;\n",
       "    }\n",
       "\n",
       "    .dataframe thead th {\n",
       "        text-align: right;\n",
       "    }\n",
       "</style>\n",
       "<table border=\"1\" class=\"dataframe\">\n",
       "  <thead>\n",
       "    <tr style=\"text-align: right;\">\n",
       "      <th></th>\n",
       "      <th>Document_No</th>\n",
       "      <th>Topic_Id_1</th>\n",
       "      <th>Topic_Prob_1</th>\n",
       "      <th>Topic Keywords</th>\n",
       "      <th>Topic_Id_2</th>\n",
       "      <th>Topic_Prob_2</th>\n",
       "      <th>Topic Keywords</th>\n",
       "      <th>Topic_Id_3</th>\n",
       "      <th>Topic_Prob_3</th>\n",
       "      <th>Topic Keywords</th>\n",
       "      <th>Topic_Id_4</th>\n",
       "      <th>Topic_Prob_4</th>\n",
       "      <th>Topic Keywords</th>\n",
       "      <th>Topic_Id_5</th>\n",
       "      <th>Topic_Prob_5</th>\n",
       "      <th>Topic Keywords</th>\n",
       "    </tr>\n",
       "  </thead>\n",
       "  <tbody>\n",
       "    <tr>\n",
       "      <th>0</th>\n",
       "      <td>0</td>\n",
       "      <td>0.0</td>\n",
       "      <td>0.0416</td>\n",
       "      <td>aspect, modern, part, idea, main, goal, practical, proposed, technique, general</td>\n",
       "      <td>86.0</td>\n",
       "      <td>0.0326</td>\n",
       "      <td>translation, post, translational, identify, basic, target, profiling, biology, translate, previously</td>\n",
       "      <td>181.0</td>\n",
       "      <td>0.0198</td>\n",
       "      <td>scientific, community, scientist, knowledge, collaboration, enhance, dissemination, programme, excellence, achievement</td>\n",
       "      <td>231.0</td>\n",
       "      <td>0.0198</td>\n",
       "      <td>language, linguistic, semantic, word, meaning, acquisition, reading, text, representation, speaker</td>\n",
       "      <td>141.0</td>\n",
       "      <td>0.0173</td>\n",
       "      <td>component, communication, sensing, key, ph, sense, combine, versatile, typically, dedicated</td>\n",
       "    </tr>\n",
       "    <tr>\n",
       "      <th>1</th>\n",
       "      <td>1</td>\n",
       "      <td>181.0</td>\n",
       "      <td>0.0435</td>\n",
       "      <td>scientific, community, scientist, knowledge, collaboration, enhance, dissemination, programme, excellence, achievement</td>\n",
       "      <td>166.0</td>\n",
       "      <td>0.0162</td>\n",
       "      <td>experience, virtual, reality, team, tracking, interactive, phage, ar, vr, sport</td>\n",
       "      <td>215.0</td>\n",
       "      <td>0.0156</td>\n",
       "      <td>technology, enabling, technological, demonstrate, breakthrough, disruptive, enabled, radically, realising, world</td>\n",
       "      <td>290.0</td>\n",
       "      <td>0.0145</td>\n",
       "      <td>brain, connectivity, functional, function, behavioural, neuroimaging, region, cerebral, causal, underlying</td>\n",
       "      <td>217.0</td>\n",
       "      <td>0.0111</td>\n",
       "      <td>training, research, researcher, programme, academic, train, institution, trained, esr, expertise</td>\n",
       "    </tr>\n",
       "  </tbody>\n",
       "</table>\n",
       "</div>"
      ],
      "text/plain": [
       "   Document_No  Topic_Id_1  Topic_Prob_1  \\\n",
       "0            0         0.0        0.0416   \n",
       "1            1       181.0        0.0435   \n",
       "\n",
       "                                                                                                           Topic Keywords  \\\n",
       "0                                         aspect, modern, part, idea, main, goal, practical, proposed, technique, general   \n",
       "1  scientific, community, scientist, knowledge, collaboration, enhance, dissemination, programme, excellence, achievement   \n",
       "\n",
       "   Topic_Id_2  Topic_Prob_2  \\\n",
       "0        86.0        0.0326   \n",
       "1       166.0        0.0162   \n",
       "\n",
       "                                                                                         Topic Keywords  \\\n",
       "0  translation, post, translational, identify, basic, target, profiling, biology, translate, previously   \n",
       "1                       experience, virtual, reality, team, tracking, interactive, phage, ar, vr, sport   \n",
       "\n",
       "   Topic_Id_3  Topic_Prob_3  \\\n",
       "0       181.0        0.0198   \n",
       "1       215.0        0.0156   \n",
       "\n",
       "                                                                                                           Topic Keywords  \\\n",
       "0  scientific, community, scientist, knowledge, collaboration, enhance, dissemination, programme, excellence, achievement   \n",
       "1        technology, enabling, technological, demonstrate, breakthrough, disruptive, enabled, radically, realising, world   \n",
       "\n",
       "   Topic_Id_4  Topic_Prob_4  \\\n",
       "0       231.0        0.0198   \n",
       "1       290.0        0.0145   \n",
       "\n",
       "                                                                                               Topic Keywords  \\\n",
       "0          language, linguistic, semantic, word, meaning, acquisition, reading, text, representation, speaker   \n",
       "1  brain, connectivity, functional, function, behavioural, neuroimaging, region, cerebral, causal, underlying   \n",
       "\n",
       "   Topic_Id_5  Topic_Prob_5  \\\n",
       "0       141.0        0.0173   \n",
       "1       217.0        0.0111   \n",
       "\n",
       "                                                                                     Topic Keywords  \n",
       "0       component, communication, sensing, key, ph, sense, combine, versatile, typically, dedicated  \n",
       "1  training, research, researcher, programme, academic, train, institution, trained, esr, expertise  "
      ]
     },
     "execution_count": 98,
     "metadata": {},
     "output_type": "execute_result"
    }
   ],
   "source": [
    "predict_df.head(2)"
   ]
  },
  {
   "cell_type": "code",
   "execution_count": 99,
   "metadata": {
    "scrolled": true
   },
   "outputs": [],
   "source": [
    "data_df_with_predict = df.merge(predict_df.drop(columns=['Document_No']), left_index=True, right_index=True)\n",
    "data_df_with_predict.to_excel('../output/optimized_30k_top_5_topics_predictions.xlsx', index=False)"
   ]
  },
  {
   "cell_type": "markdown",
   "metadata": {},
   "source": [
    "### Filtered grants prediction"
   ]
  },
  {
   "cell_type": "code",
   "execution_count": 69,
   "metadata": {},
   "outputs": [
    {
     "name": "stdout",
     "output_type": "stream",
     "text": [
      "13086\n"
     ]
    }
   ],
   "source": [
    "with open('../artefacts/filtered_top_doc_id.pkl', 'rb') as f:\n",
    "    filtered_doc_id = pickle.load(f)\n",
    "\n",
    "print(len(filtered_doc_id))"
   ]
  },
  {
   "cell_type": "code",
   "execution_count": 101,
   "metadata": {},
   "outputs": [],
   "source": [
    "data_df_with_predict.iloc[filtered_doc_id].to_excel('../output/optimized_13k_top_5_topics_predictions.xlsx', index=False)"
   ]
  },
  {
   "cell_type": "markdown",
   "metadata": {},
   "source": [
    "## Topic Distribution"
   ]
  },
  {
   "cell_type": "code",
   "execution_count": 21,
   "metadata": {},
   "outputs": [
    {
     "data": {
      "text/html": [
       "<div>\n",
       "<style scoped>\n",
       "    .dataframe tbody tr th:only-of-type {\n",
       "        vertical-align: middle;\n",
       "    }\n",
       "\n",
       "    .dataframe tbody tr th {\n",
       "        vertical-align: top;\n",
       "    }\n",
       "\n",
       "    .dataframe thead th {\n",
       "        text-align: right;\n",
       "    }\n",
       "</style>\n",
       "<table border=\"1\" class=\"dataframe\">\n",
       "  <thead>\n",
       "    <tr style=\"text-align: right;\">\n",
       "      <th></th>\n",
       "      <th>Document_No</th>\n",
       "      <th>Dominant_Topic_1</th>\n",
       "      <th>Topic_Prob_1</th>\n",
       "      <th>Topic Keywords</th>\n",
       "      <th>Dominant_Topic_2</th>\n",
       "      <th>Topic_Prob_2</th>\n",
       "      <th>Topic Keywords</th>\n",
       "      <th>Dominant_Topic_3</th>\n",
       "      <th>Topic_Prob_3</th>\n",
       "      <th>Topic Keywords</th>\n",
       "      <th>Dominant_Topic_4</th>\n",
       "      <th>Topic_Prob_4</th>\n",
       "      <th>Topic Keywords</th>\n",
       "      <th>Dominant_Topic_5</th>\n",
       "      <th>Topic_Prob_5</th>\n",
       "      <th>Topic Keywords</th>\n",
       "    </tr>\n",
       "  </thead>\n",
       "  <tbody>\n",
       "    <tr>\n",
       "      <th>0</th>\n",
       "      <td>0</td>\n",
       "      <td>0.0</td>\n",
       "      <td>0.0416</td>\n",
       "      <td>aspect, modern, part, idea, main, goal, practical, proposed, technique, general</td>\n",
       "      <td>86.0</td>\n",
       "      <td>0.0326</td>\n",
       "      <td>translation, post, translational, identify, basic, target, profiling, biology, translate, previously</td>\n",
       "      <td>181.0</td>\n",
       "      <td>0.0198</td>\n",
       "      <td>scientific, community, scientist, knowledge, collaboration, enhance, dissemination, programme, excellence, achievement</td>\n",
       "      <td>231.0</td>\n",
       "      <td>0.0198</td>\n",
       "      <td>language, linguistic, semantic, word, meaning, acquisition, reading, text, representation, speaker</td>\n",
       "      <td>141.0</td>\n",
       "      <td>0.0173</td>\n",
       "      <td>component, communication, sensing, key, ph, sense, combine, versatile, typically, dedicated</td>\n",
       "    </tr>\n",
       "    <tr>\n",
       "      <th>1</th>\n",
       "      <td>1</td>\n",
       "      <td>181.0</td>\n",
       "      <td>0.0435</td>\n",
       "      <td>scientific, community, scientist, knowledge, collaboration, enhance, dissemination, programme, excellence, achievement</td>\n",
       "      <td>166.0</td>\n",
       "      <td>0.0162</td>\n",
       "      <td>experience, virtual, reality, team, tracking, interactive, phage, ar, vr, sport</td>\n",
       "      <td>215.0</td>\n",
       "      <td>0.0156</td>\n",
       "      <td>technology, enabling, technological, demonstrate, breakthrough, disruptive, enabled, radically, realising, world</td>\n",
       "      <td>290.0</td>\n",
       "      <td>0.0145</td>\n",
       "      <td>brain, connectivity, functional, function, behavioural, neuroimaging, region, cerebral, causal, underlying</td>\n",
       "      <td>217.0</td>\n",
       "      <td>0.0111</td>\n",
       "      <td>training, research, researcher, programme, academic, train, institution, trained, esr, expertise</td>\n",
       "    </tr>\n",
       "    <tr>\n",
       "      <th>2</th>\n",
       "      <td>2</td>\n",
       "      <td>237.0</td>\n",
       "      <td>0.0527</td>\n",
       "      <td>health, intervention, public, country, prevention, effectiveness, setting, fire, income, implementation</td>\n",
       "      <td>182.0</td>\n",
       "      <td>0.0473</td>\n",
       "      <td>policy, stakeholder, sustainable, economic, maker, socio, sustainability, support, actor, framework</td>\n",
       "      <td>176.0</td>\n",
       "      <td>0.0316</td>\n",
       "      <td>outcome, assessment, implementation, evaluate, ass, cns, successful, nervous, facilitate, assessing</td>\n",
       "      <td>185.0</td>\n",
       "      <td>0.0208</td>\n",
       "      <td>active, driven, challenge, exploit, droplet, drive, addressed, address, enabled, passive</td>\n",
       "      <td>257.0</td>\n",
       "      <td>0.0200</td>\n",
       "      <td>case, le, day, current, time, hour, resulting, today, personal, faster</td>\n",
       "    </tr>\n",
       "  </tbody>\n",
       "</table>\n",
       "</div>"
      ],
      "text/plain": [
       "   Document_No  Dominant_Topic_1  Topic_Prob_1  \\\n",
       "0            0               0.0        0.0416   \n",
       "1            1             181.0        0.0435   \n",
       "2            2             237.0        0.0527   \n",
       "\n",
       "                                                                                                           Topic Keywords  \\\n",
       "0                                         aspect, modern, part, idea, main, goal, practical, proposed, technique, general   \n",
       "1  scientific, community, scientist, knowledge, collaboration, enhance, dissemination, programme, excellence, achievement   \n",
       "2                 health, intervention, public, country, prevention, effectiveness, setting, fire, income, implementation   \n",
       "\n",
       "   Dominant_Topic_2  Topic_Prob_2  \\\n",
       "0              86.0        0.0326   \n",
       "1             166.0        0.0162   \n",
       "2             182.0        0.0473   \n",
       "\n",
       "                                                                                         Topic Keywords  \\\n",
       "0  translation, post, translational, identify, basic, target, profiling, biology, translate, previously   \n",
       "1                       experience, virtual, reality, team, tracking, interactive, phage, ar, vr, sport   \n",
       "2   policy, stakeholder, sustainable, economic, maker, socio, sustainability, support, actor, framework   \n",
       "\n",
       "   Dominant_Topic_3  Topic_Prob_3  \\\n",
       "0             181.0        0.0198   \n",
       "1             215.0        0.0156   \n",
       "2             176.0        0.0316   \n",
       "\n",
       "                                                                                                           Topic Keywords  \\\n",
       "0  scientific, community, scientist, knowledge, collaboration, enhance, dissemination, programme, excellence, achievement   \n",
       "1        technology, enabling, technological, demonstrate, breakthrough, disruptive, enabled, radically, realising, world   \n",
       "2                     outcome, assessment, implementation, evaluate, ass, cns, successful, nervous, facilitate, assessing   \n",
       "\n",
       "   Dominant_Topic_4  Topic_Prob_4  \\\n",
       "0             231.0        0.0198   \n",
       "1             290.0        0.0145   \n",
       "2             185.0        0.0208   \n",
       "\n",
       "                                                                                               Topic Keywords  \\\n",
       "0          language, linguistic, semantic, word, meaning, acquisition, reading, text, representation, speaker   \n",
       "1  brain, connectivity, functional, function, behavioural, neuroimaging, region, cerebral, causal, underlying   \n",
       "2                    active, driven, challenge, exploit, droplet, drive, addressed, address, enabled, passive   \n",
       "\n",
       "   Dominant_Topic_5  Topic_Prob_5  \\\n",
       "0             141.0        0.0173   \n",
       "1             217.0        0.0111   \n",
       "2             257.0        0.0200   \n",
       "\n",
       "                                                                                     Topic Keywords  \n",
       "0       component, communication, sensing, key, ph, sense, combine, versatile, typically, dedicated  \n",
       "1  training, research, researcher, programme, academic, train, institution, trained, esr, expertise  \n",
       "2                            case, le, day, current, time, hour, resulting, today, personal, faster  "
      ]
     },
     "execution_count": 21,
     "metadata": {},
     "output_type": "execute_result"
    }
   ],
   "source": [
    "predict_df.head(3)"
   ]
  },
  {
   "cell_type": "code",
   "execution_count": 30,
   "metadata": {},
   "outputs": [
    {
     "data": {
      "text/html": [
       "<div>\n",
       "<style scoped>\n",
       "    .dataframe tbody tr th:only-of-type {\n",
       "        vertical-align: middle;\n",
       "    }\n",
       "\n",
       "    .dataframe tbody tr th {\n",
       "        vertical-align: top;\n",
       "    }\n",
       "\n",
       "    .dataframe thead th {\n",
       "        text-align: right;\n",
       "    }\n",
       "</style>\n",
       "<table border=\"1\" class=\"dataframe\">\n",
       "  <thead>\n",
       "    <tr style=\"text-align: right;\">\n",
       "      <th></th>\n",
       "      <th>Topic_Id</th>\n",
       "      <th>Topic_Keywords</th>\n",
       "      <th>top_1_topics</th>\n",
       "      <th>top_2_topics</th>\n",
       "      <th>top_3_topics</th>\n",
       "      <th>top_4_topics</th>\n",
       "      <th>top_5_topics</th>\n",
       "    </tr>\n",
       "  </thead>\n",
       "  <tbody>\n",
       "    <tr>\n",
       "      <th>0</th>\n",
       "      <td>0</td>\n",
       "      <td>aspect, modern, part, idea, main, goal, practical, proposed, technique, general</td>\n",
       "      <td>10.0</td>\n",
       "      <td>52.0</td>\n",
       "      <td>131.0</td>\n",
       "      <td>215.0</td>\n",
       "      <td>302.0</td>\n",
       "    </tr>\n",
       "    <tr>\n",
       "      <th>1</th>\n",
       "      <td>1</td>\n",
       "      <td>life, infant, period, developmental, birth, maternal, pregnancy, mother, baby, born</td>\n",
       "      <td>80.0</td>\n",
       "      <td>136.0</td>\n",
       "      <td>203.0</td>\n",
       "      <td>247.0</td>\n",
       "      <td>299.0</td>\n",
       "    </tr>\n",
       "    <tr>\n",
       "      <th>2</th>\n",
       "      <td>2</td>\n",
       "      <td>cell, differentiation, fate, niche, heterogeneity, lineage, cellular, developmental, progenitor, somatic</td>\n",
       "      <td>73.0</td>\n",
       "      <td>181.0</td>\n",
       "      <td>255.0</td>\n",
       "      <td>332.0</td>\n",
       "      <td>407.0</td>\n",
       "    </tr>\n",
       "    <tr>\n",
       "      <th>3</th>\n",
       "      <td>3</td>\n",
       "      <td>enable, micro, capable, perform, capability, inside, progress, develop, made, patch</td>\n",
       "      <td>25.0</td>\n",
       "      <td>62.0</td>\n",
       "      <td>121.0</td>\n",
       "      <td>179.0</td>\n",
       "      <td>249.0</td>\n",
       "    </tr>\n",
       "    <tr>\n",
       "      <th>4</th>\n",
       "      <td>4</td>\n",
       "      <td>protein, substrate, spectrometry, mass, ubiquitin, proteome, degradation, biochemical, phosphorylation, proteasome</td>\n",
       "      <td>121.0</td>\n",
       "      <td>244.0</td>\n",
       "      <td>371.0</td>\n",
       "      <td>472.0</td>\n",
       "      <td>562.0</td>\n",
       "    </tr>\n",
       "  </tbody>\n",
       "</table>\n",
       "</div>"
      ],
      "text/plain": [
       "   Topic_Id  \\\n",
       "0         0   \n",
       "1         1   \n",
       "2         2   \n",
       "3         3   \n",
       "4         4   \n",
       "\n",
       "                                                                                                       Topic_Keywords  \\\n",
       "0                                     aspect, modern, part, idea, main, goal, practical, proposed, technique, general   \n",
       "1                                 life, infant, period, developmental, birth, maternal, pregnancy, mother, baby, born   \n",
       "2            cell, differentiation, fate, niche, heterogeneity, lineage, cellular, developmental, progenitor, somatic   \n",
       "3                                 enable, micro, capable, perform, capability, inside, progress, develop, made, patch   \n",
       "4  protein, substrate, spectrometry, mass, ubiquitin, proteome, degradation, biochemical, phosphorylation, proteasome   \n",
       "\n",
       "   top_1_topics  top_2_topics  top_3_topics  top_4_topics  top_5_topics  \n",
       "0          10.0          52.0         131.0         215.0         302.0  \n",
       "1          80.0         136.0         203.0         247.0         299.0  \n",
       "2          73.0         181.0         255.0         332.0         407.0  \n",
       "3          25.0          62.0         121.0         179.0         249.0  \n",
       "4         121.0         244.0         371.0         472.0         562.0  "
      ]
     },
     "execution_count": 30,
     "metadata": {},
     "output_type": "execute_result"
    }
   ],
   "source": [
    "get_topics_distribution(optimized_model, predict_df, n_topics=5).head()"
   ]
  },
  {
   "cell_type": "code",
   "execution_count": 115,
   "metadata": {},
   "outputs": [],
   "source": [
    "get_topics_distribution(optimized_model, predict_df, n_topics=5).to_csv('../output/topics_distribution.csv', index=False)"
   ]
  },
  {
   "cell_type": "markdown",
   "metadata": {},
   "source": [
    "### Eyeballing some specific keywords"
   ]
  },
  {
   "cell_type": "code",
   "execution_count": 56,
   "metadata": {},
   "outputs": [],
   "source": [
    "def display_topic_distribution_statistics(docs: list, predict_df: pd.DataFrame, keyword: str, n_topics):\n",
    "    print(f'Looking at the top {n_topics} topics that documents are classified under')\n",
    "    print(f'keyword: {keyword}')\n",
    "    keyword_ids = set([id_i for id_i, i in enumerate(docs) if keyword in i])\n",
    "    print(f'number of unique documents with \\'{keyword}\\': {len(keyword_ids)}')\n",
    "    \n",
    "    temp_model = ldamallet.malletmodel2ldamodel(optimized_model)\n",
    "    keywords_topics = get_term_topics(temp_model, filtered_dictionary, keyword)\n",
    "    \n",
    "    if keywords_topics:\n",
    "        for topic_id, topic_prob in keywords_topics:\n",
    "            print(f'topic_id: {topic_id}')\n",
    "            print(f'topic_prob: {topic_prob}')\n",
    "            print('topic:', optimized_model.print_topic(topic_id))\n",
    "\n",
    "            _ = predict_df['Dominant_Topic_1'] == topic_id\n",
    "            for i in range(n_topics):\n",
    "                _ = _ | (predict_df[f'Dominant_Topic_{i+1}'] == topic_id)\n",
    "    \n",
    "            print()\n",
    "            print(f\"Number of unique documents classified under topic: {len(set(predict_df[_].index))}\")\n",
    "        \n",
    "            n_positive = len(keyword_ids)\n",
    "            n_negative = len(predict_df) - len(keyword_ids)\n",
    "            \n",
    "            true_positive = set(predict_df[_].index).intersection(keyword_ids)\n",
    "            false_negative = keyword_ids - set(predict_df[_].index)\n",
    "            false_positive = set(predict_df[_].index) - keyword_ids\n",
    "            \n",
    "            true_positive_rate = round(len(true_positive) / n_positive, 4)\n",
    "            false_negative_rate = round(len(false_negative) / n_positive, 4)\n",
    "            false_positive_rate = round(len(false_positive) / n_negative, 4)\n",
    "            true_negative_rate = round((n_negative - len(false_positive)) / n_negative, 4)\n",
    "            \n",
    "            print(f\"True Positive: {len(true_positive)} / {n_positive} = {true_positive_rate}\")\n",
    "            print(f\"False Negative: {len(false_negative)} / {n_positive} = {false_negative_rate}\")\n",
    "            print(f\"False Positive: {len(false_positive)} / {n_negative} = {false_positive_rate}\")\n",
    "            print(f\"True Negative: {n_negative - len(false_positive)} / {n_negative} = {true_negative_rate}\")\n",
    "            print()\n",
    "    else:\n",
    "        print('No topics Found for keyword')"
   ]
  },
  {
   "cell_type": "markdown",
   "metadata": {
    "heading_collapsed": true
   },
   "source": [
    "### Unfiltered 30k grants"
   ]
  },
  {
   "cell_type": "code",
   "execution_count": 57,
   "metadata": {
    "hidden": true
   },
   "outputs": [
    {
     "name": "stdout",
     "output_type": "stream",
     "text": [
      "Looking at the top 5 topics that documents are classified under\n",
      "keyword: crispr\n",
      "number of unique documents with 'crispr': 258\n",
      "topic_id: 139\n",
      "topic_prob: 0.04623544156758605\n",
      "topic: 0.263*\"dna\" + 0.107*\"genome\" + 0.090*\"epigenetic\" + 0.046*\"crispr\" + 0.043*\"repair\" + 0.030*\"editing\" + 0.029*\"histone\" + 0.025*\"cas9\" + 0.023*\"genomic\" + 0.018*\"damage\"\n",
      "\n",
      "Number of unique documents classified under topic: 536\n",
      "True Positive: 107 / 258 = 0.4147\n",
      "False Negative: 151 / 258 = 0.5853\n",
      "False Positive: 429 / 29826 = 0.0144\n",
      "True Negative: 29397 / 29826 = 0.9856\n",
      "\n"
     ]
    }
   ],
   "source": [
    "display_topic_distribution_statistics(docs, predict_df, 'crispr', 5)"
   ]
  },
  {
   "cell_type": "code",
   "execution_count": 58,
   "metadata": {
    "hidden": true
   },
   "outputs": [
    {
     "name": "stdout",
     "output_type": "stream",
     "text": [
      "Looking at the top 3 topics that documents are classified under\n",
      "keyword: crispr\n",
      "number of unique documents with 'crispr': 258\n",
      "topic_id: 139\n",
      "topic_prob: 0.04623544156758605\n",
      "topic: 0.263*\"dna\" + 0.107*\"genome\" + 0.090*\"epigenetic\" + 0.046*\"crispr\" + 0.043*\"repair\" + 0.030*\"editing\" + 0.029*\"histone\" + 0.025*\"cas9\" + 0.023*\"genomic\" + 0.018*\"damage\"\n",
      "\n",
      "Number of unique documents classified under topic: 392\n",
      "True Positive: 75 / 258 = 0.2907\n",
      "False Negative: 183 / 258 = 0.7093\n",
      "False Positive: 317 / 29826 = 0.0106\n",
      "True Negative: 29509 / 29826 = 0.9894\n",
      "\n"
     ]
    }
   ],
   "source": [
    "display_topic_distribution_statistics(docs, predict_df, 'crispr', 3)"
   ]
  },
  {
   "cell_type": "code",
   "execution_count": 59,
   "metadata": {
    "hidden": true
   },
   "outputs": [
    {
     "name": "stdout",
     "output_type": "stream",
     "text": [
      "Looking at the top 2 topics that documents are classified under\n",
      "keyword: crispr\n",
      "number of unique documents with 'crispr': 258\n",
      "topic_id: 139\n",
      "topic_prob: 0.04623544156758605\n",
      "topic: 0.263*\"dna\" + 0.107*\"genome\" + 0.090*\"epigenetic\" + 0.046*\"crispr\" + 0.043*\"repair\" + 0.030*\"editing\" + 0.029*\"histone\" + 0.025*\"cas9\" + 0.023*\"genomic\" + 0.018*\"damage\"\n",
      "\n",
      "Number of unique documents classified under topic: 299\n",
      "True Positive: 60 / 258 = 0.2326\n",
      "False Negative: 198 / 258 = 0.7674\n",
      "False Positive: 239 / 29826 = 0.008\n",
      "True Negative: 29587 / 29826 = 0.992\n",
      "\n"
     ]
    }
   ],
   "source": [
    "display_topic_distribution_statistics(docs, predict_df, 'crispr', 2)"
   ]
  },
  {
   "cell_type": "code",
   "execution_count": 60,
   "metadata": {
    "hidden": true
   },
   "outputs": [
    {
     "name": "stdout",
     "output_type": "stream",
     "text": [
      "Looking at the top 5 topics that documents are classified under\n",
      "keyword: rna\n",
      "number of unique documents with 'rna': 610\n",
      "topic_id: 122\n",
      "topic_prob: 0.23486118551768878\n",
      "topic: 0.235*\"rna\" + 0.061*\"mrna\" + 0.061*\"sequence\" + 0.054*\"coding\" + 0.046*\"nmr\" + 0.023*\"sequencing\" + 0.020*\"splicing\" + 0.017*\"motif\" + 0.014*\"seq\" + 0.013*\"binding\"\n",
      "\n",
      "Number of unique documents classified under topic: 362\n",
      "True Positive: 237 / 610 = 0.3885\n",
      "False Negative: 373 / 610 = 0.6115\n",
      "False Positive: 125 / 29474 = 0.0042\n",
      "True Negative: 29349 / 29474 = 0.9958\n",
      "\n"
     ]
    }
   ],
   "source": [
    "display_topic_distribution_statistics(docs, predict_df, 'rna', 5)"
   ]
  },
  {
   "cell_type": "code",
   "execution_count": 61,
   "metadata": {
    "hidden": true
   },
   "outputs": [
    {
     "name": "stdout",
     "output_type": "stream",
     "text": [
      "Looking at the top 5 topics that documents are classified under\n",
      "keyword: mrna\n",
      "number of unique documents with 'mrna': 168\n",
      "topic_id: 122\n",
      "topic_prob: 0.06070102742422468\n",
      "topic: 0.235*\"rna\" + 0.061*\"mrna\" + 0.061*\"sequence\" + 0.054*\"coding\" + 0.046*\"nmr\" + 0.023*\"sequencing\" + 0.020*\"splicing\" + 0.017*\"motif\" + 0.014*\"seq\" + 0.013*\"binding\"\n",
      "\n",
      "Number of unique documents classified under topic: 362\n",
      "True Positive: 90 / 168 = 0.5357\n",
      "False Negative: 78 / 168 = 0.4643\n",
      "False Positive: 272 / 29916 = 0.0091\n",
      "True Negative: 29644 / 29916 = 0.9909\n",
      "\n"
     ]
    }
   ],
   "source": [
    "display_topic_distribution_statistics(docs, predict_df, 'mrna', 5)"
   ]
  },
  {
   "cell_type": "code",
   "execution_count": 62,
   "metadata": {
    "hidden": true
   },
   "outputs": [
    {
     "name": "stdout",
     "output_type": "stream",
     "text": [
      "Looking at the top 5 topics that documents are classified under\n",
      "keyword: aav\n",
      "number of unique documents with 'aav': 18\n",
      "No topics Found for keyword\n"
     ]
    }
   ],
   "source": [
    "display_topic_distribution_statistics(docs, predict_df, 'aav', 5)"
   ]
  },
  {
   "cell_type": "code",
   "execution_count": 66,
   "metadata": {
    "hidden": true
   },
   "outputs": [
    {
     "name": "stdout",
     "output_type": "stream",
     "text": [
      "Looking at the top 5 topics that documents are classified under\n",
      "keyword: alzheimer\n",
      "number of unique documents with 'alzheimer': 236\n",
      "topic_id: 13\n",
      "topic_prob: 0.025342347922701028\n",
      "topic: 0.152*\"disease\" + 0.129*\"biomarkers\" + 0.117*\"assay\" + 0.086*\"ad\" + 0.083*\"clinical\" + 0.064*\"biomarker\" + 0.045*\"validate\" + 0.037*\"validation\" + 0.025*\"alzheimer\" + 0.025*\"panel\"\n",
      "\n",
      "Number of unique documents classified under topic: 323\n",
      "True Positive: 89 / 236 = 0.3771\n",
      "False Negative: 147 / 236 = 0.6229\n",
      "False Positive: 234 / 29848 = 0.0078\n",
      "True Negative: 29614 / 29848 = 0.9922\n",
      "\n",
      "topic_id: 289\n",
      "topic_prob: 0.018681563217691884\n",
      "topic: 0.240*\"disease\" + 0.088*\"signaling\" + 0.055*\"pathology\" + 0.047*\"al\" + 0.046*\"neurodegenerative\" + 0.030*\"parkinson\" + 0.025*\"therapeutic\" + 0.024*\"aggregation\" + 0.020*\"neurodegeneration\" + 0.019*\"alzheimer\"\n",
      "\n",
      "Number of unique documents classified under topic: 396\n",
      "True Positive: 119 / 236 = 0.5042\n",
      "False Negative: 117 / 236 = 0.4958\n",
      "False Positive: 277 / 29848 = 0.0093\n",
      "True Negative: 29571 / 29848 = 0.9907\n",
      "\n"
     ]
    }
   ],
   "source": [
    "display_topic_distribution_statistics(docs, predict_df, 'alzheimer', 5)"
   ]
  },
  {
   "cell_type": "code",
   "execution_count": 65,
   "metadata": {
    "hidden": true
   },
   "outputs": [
    {
     "name": "stdout",
     "output_type": "stream",
     "text": [
      "Looking at the top 5 topics that documents are classified under\n",
      "keyword: cas9\n",
      "number of unique documents with 'cas9': 164\n",
      "topic_id: 139\n",
      "topic_prob: 0.024471102910912392\n",
      "topic: 0.263*\"dna\" + 0.107*\"genome\" + 0.090*\"epigenetic\" + 0.046*\"crispr\" + 0.043*\"repair\" + 0.030*\"editing\" + 0.029*\"histone\" + 0.025*\"cas9\" + 0.023*\"genomic\" + 0.018*\"damage\"\n",
      "\n",
      "Number of unique documents classified under topic: 536\n",
      "True Positive: 76 / 164 = 0.4634\n",
      "False Negative: 88 / 164 = 0.5366\n",
      "False Positive: 460 / 29920 = 0.0154\n",
      "True Negative: 29460 / 29920 = 0.9846\n",
      "\n"
     ]
    }
   ],
   "source": [
    "display_topic_distribution_statistics(docs, predict_df, 'cas9', 5)"
   ]
  },
  {
   "cell_type": "markdown",
   "metadata": {},
   "source": [
    "### Filtered 13K Grants"
   ]
  },
  {
   "cell_type": "code",
   "execution_count": 82,
   "metadata": {},
   "outputs": [],
   "source": [
    "filtered_predict_df = predict_df.iloc[filtered_doc_id].reset_index(drop=True)"
   ]
  },
  {
   "cell_type": "code",
   "execution_count": 84,
   "metadata": {},
   "outputs": [
    {
     "name": "stdout",
     "output_type": "stream",
     "text": [
      "Looking at the top 5 topics that documents are classified under\n",
      "keyword: crispr\n",
      "number of unique documents with 'crispr': 246\n",
      "topic_id: 139\n",
      "topic_prob: 0.04623544156758605\n",
      "topic: 0.263*\"dna\" + 0.107*\"genome\" + 0.090*\"epigenetic\" + 0.046*\"crispr\" + 0.043*\"repair\" + 0.030*\"editing\" + 0.029*\"histone\" + 0.025*\"cas9\" + 0.023*\"genomic\" + 0.018*\"damage\"\n",
      "\n",
      "Number of unique documents classified under topic: 487\n",
      "True Positive: 103 / 246 = 0.4187\n",
      "False Negative: 143 / 246 = 0.5813\n",
      "False Positive: 384 / 12840 = 0.0299\n",
      "True Negative: 12456 / 12840 = 0.9701\n",
      "\n"
     ]
    }
   ],
   "source": [
    "display_topic_distribution_statistics(filtered_docs, filtered_predict_df, 'crispr', 5)"
   ]
  },
  {
   "cell_type": "code",
   "execution_count": 85,
   "metadata": {},
   "outputs": [
    {
     "name": "stdout",
     "output_type": "stream",
     "text": [
      "Looking at the top 10 topics that documents are classified under\n",
      "keyword: crispr\n",
      "number of unique documents with 'crispr': 246\n",
      "topic_id: 139\n",
      "topic_prob: 0.04623544156758605\n",
      "topic: 0.263*\"dna\" + 0.107*\"genome\" + 0.090*\"epigenetic\" + 0.046*\"crispr\" + 0.043*\"repair\" + 0.030*\"editing\" + 0.029*\"histone\" + 0.025*\"cas9\" + 0.023*\"genomic\" + 0.018*\"damage\"\n",
      "\n",
      "Number of unique documents classified under topic: 701\n",
      "True Positive: 144 / 246 = 0.5854\n",
      "False Negative: 102 / 246 = 0.4146\n",
      "False Positive: 557 / 12840 = 0.0434\n",
      "True Negative: 12283 / 12840 = 0.9566\n",
      "\n"
     ]
    }
   ],
   "source": [
    "display_topic_distribution_statistics(filtered_docs, filtered_predict_df, 'crispr', 10)"
   ]
  },
  {
   "cell_type": "code",
   "execution_count": 86,
   "metadata": {},
   "outputs": [
    {
     "name": "stdout",
     "output_type": "stream",
     "text": [
      "Looking at the top 3 topics that documents are classified under\n",
      "keyword: crispr\n",
      "number of unique documents with 'crispr': 246\n",
      "topic_id: 139\n",
      "topic_prob: 0.04623544156758605\n",
      "topic: 0.263*\"dna\" + 0.107*\"genome\" + 0.090*\"epigenetic\" + 0.046*\"crispr\" + 0.043*\"repair\" + 0.030*\"editing\" + 0.029*\"histone\" + 0.025*\"cas9\" + 0.023*\"genomic\" + 0.018*\"damage\"\n",
      "\n",
      "Number of unique documents classified under topic: 362\n",
      "True Positive: 72 / 246 = 0.2927\n",
      "False Negative: 174 / 246 = 0.7073\n",
      "False Positive: 290 / 12840 = 0.0226\n",
      "True Negative: 12550 / 12840 = 0.9774\n",
      "\n"
     ]
    }
   ],
   "source": [
    "display_topic_distribution_statistics(filtered_docs, filtered_predict_df, 'crispr', 3)"
   ]
  },
  {
   "cell_type": "code",
   "execution_count": 87,
   "metadata": {},
   "outputs": [
    {
     "name": "stdout",
     "output_type": "stream",
     "text": [
      "Looking at the top 3 topics that documents are classified under\n",
      "keyword: cas9\n",
      "number of unique documents with 'cas9': 158\n",
      "topic_id: 139\n",
      "topic_prob: 0.024471102910912392\n",
      "topic: 0.263*\"dna\" + 0.107*\"genome\" + 0.090*\"epigenetic\" + 0.046*\"crispr\" + 0.043*\"repair\" + 0.030*\"editing\" + 0.029*\"histone\" + 0.025*\"cas9\" + 0.023*\"genomic\" + 0.018*\"damage\"\n",
      "\n",
      "Number of unique documents classified under topic: 362\n",
      "True Positive: 51 / 158 = 0.3228\n",
      "False Negative: 107 / 158 = 0.6772\n",
      "False Positive: 311 / 12928 = 0.0241\n",
      "True Negative: 12617 / 12928 = 0.9759\n",
      "\n"
     ]
    }
   ],
   "source": [
    "display_topic_distribution_statistics(filtered_docs, filtered_predict_df, 'cas9', 3)"
   ]
  },
  {
   "cell_type": "code",
   "execution_count": null,
   "metadata": {},
   "outputs": [],
   "source": []
  }
 ],
 "metadata": {
  "kernelspec": {
   "display_name": "Python 3",
   "language": "python",
   "name": "python3"
  },
  "language_info": {
   "codemirror_mode": {
    "name": "ipython",
    "version": 3
   },
   "file_extension": ".py",
   "mimetype": "text/x-python",
   "name": "python",
   "nbconvert_exporter": "python",
   "pygments_lexer": "ipython3",
   "version": "3.6.10"
  },
  "toc": {
   "base_numbering": 1,
   "nav_menu": {},
   "number_sections": true,
   "sideBar": true,
   "skip_h1_title": false,
   "title_cell": "Table of Contents",
   "title_sidebar": "Contents",
   "toc_cell": false,
   "toc_position": {
    "height": "calc(100% - 180px)",
    "left": "10px",
    "top": "150px",
    "width": "266.333px"
   },
   "toc_section_display": true,
   "toc_window_display": true
  }
 },
 "nbformat": 4,
 "nbformat_minor": 4
}
